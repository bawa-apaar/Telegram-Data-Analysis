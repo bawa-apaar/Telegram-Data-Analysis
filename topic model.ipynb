{
 "cells": [
  {
   "cell_type": "code",
   "execution_count": 4,
   "id": "2dbf5839",
   "metadata": {},
   "outputs": [],
   "source": [
    "from sentence_transformers import SentenceTransformer\n",
    "from bertopic import BERTopic\n",
    "import numpy as np\n",
    "import pandas as pd\n",
    "import io\n",
    "import seaborn as sns\n",
    "import math\n",
    "import pprint\n",
    "from umap import UMAP\n",
    "import hdbscan\n",
    "from sklearn.metrics.pairwise import cosine_similarity\n",
    "import gensim.corpora as corpora\n",
    "from gensim.models.coherencemodel import CoherenceModel\n",
    "import umap\n",
    "from hdbscan import HDBSCAN \n",
    "from googletrans import Translator\n",
    "from sentence_transformers import SentenceTransformer\n",
    "import pprint\n",
    "from googletrans import Translator\n",
    "translator = Translator()"
   ]
  },
  {
   "cell_type": "code",
   "execution_count": 11,
   "id": "b5920095",
   "metadata": {},
   "outputs": [
    {
     "name": "stderr",
     "output_type": "stream",
     "text": [
      "[nltk_data] Downloading package stopwords to C:\\Users\\admin-\n",
      "[nltk_data]     jalexander50\\AppData\\Roaming\\nltk_data...\n",
      "[nltk_data]   Package stopwords is already up-to-date!\n"
     ]
    }
   ],
   "source": [
    "from string import punctuation\n",
    "import nltk\n",
    "nltk.download('stopwords')\n",
    "from nltk import word_tokenize\n",
    "from nltk.corpus import stopwords\n",
    "import zstandard\n",
    "from bertopic.representation import MaximalMarginalRelevance\n",
    "import pathlib\n",
    "import os\n",
    "import ujson as json\n",
    "import pandas as pd\n",
    "from dateutil.relativedelta import relativedelta\n",
    "from nltk import ngrams\n",
    "import re\n",
    "import seaborn as sns\n",
    "from collections import Counter\n",
    "import matplotlib.pyplot as plt\n",
    "import numpy as np\n",
    "from pprint import pprint\n",
    "import gensim\n",
    "import gensim.corpora as corpora\n",
    "from gensim.utils import simple_preprocess\n",
    "from gensim.models import CoherenceModel\n",
    "import spacy \n",
    "import pyLDAvis\n",
    "import pyLDAvis.gensim_models\n",
    "import matplotlib.pyplot as plt\n",
    "%matplotlib inline\n",
    "from datetime import datetime, timedelta\n",
    "import calendar\n",
    "import stanza\n",
    "import spacy_stanza\n",
    "import warnings\n",
    "warnings.filterwarnings('ignore')"
   ]
  },
  {
   "cell_type": "markdown",
   "id": "1fd002e5",
   "metadata": {},
   "source": [
    "### Load the dataset"
   ]
  },
  {
   "cell_type": "code",
   "execution_count": null,
   "id": "048663a9",
   "metadata": {},
   "outputs": [],
   "source": [
    "df = pd.read_csv(\"cleaned_combined_telegram_data.csv\")\n",
    "df['post_date'] = pd.to_datetime(df['post_date'])\n",
    "\n",
    "df = df[df['processed_message'].notnull()]\n",
    "df.reset_index(drop=True, inplace=True)"
   ]
  },
  {
   "cell_type": "markdown",
   "id": "c886a314",
   "metadata": {},
   "source": [
    "### Using BERTopic Model (includes UMAP, HDBScan and c-tfidf) for the Topic Modeling "
   ]
  },
  {
   "cell_type": "code",
   "execution_count": 52,
   "id": "43a9ae2d",
   "metadata": {},
   "outputs": [],
   "source": [
    "def compute_coherence_values(start, limit, processed_message_cleaned):\n",
    "    coherence_values = []\n",
    "    \n",
    "    representation_model = MaximalMarginalRelevance(diversity=0.8)\n",
    "    umap_models = UMAP(n_neighbors=15, \n",
    "                  n_components=5, \n",
    "                  min_dist=0.0, \n",
    "                  metric='cosine', \n",
    "                  random_state=101)\n",
    "\n",
    "    sentence_model = SentenceTransformer(\"paraphrase-multilingual-mpnet-base-v2\")\n",
    "    \n",
    "\n",
    "    for n_topics in range(start, limit):\n",
    "        topic_model = BERTopic(umap_model=umap_models,  \n",
    "                               calculate_probabilities=False, \n",
    "                               embedding_model=sentence_model,\n",
    "                               nr_topics = n_topics)\n",
    "        \n",
    "        docs = processed_message_cleaned.tolist()\n",
    "        \n",
    "        topics, probabilities = topic_model.fit_transform(processed_message_cleaned)\n",
    "\n",
    "        # Preprocess Documents\n",
    "        documents = pd.DataFrame({\"Document\": docs,\n",
    "                                \"ID\": range(len(docs)),\n",
    "                                \"Topic\": topics})\n",
    "\n",
    "        documents_per_topic = documents.groupby(['Topic'], as_index=False).agg({'Document': ' '.join})\n",
    "        cleaned_docs = topic_model._preprocess_text(documents_per_topic.Document.values)\n",
    "\n",
    "        # Extract vectorizer and analyzer from BERTopic\n",
    "        vectorizer = topic_model.vectorizer_model\n",
    "        analyzer = vectorizer.build_analyzer()\n",
    "\n",
    "        # Extract features for Topic Coherence evaluation\n",
    "        words = vectorizer.get_feature_names_out()\n",
    "        tokens = [analyzer(doc) for doc in cleaned_docs]\n",
    "        dictionary = corpora.Dictionary(tokens)\n",
    "        corpus = [dictionary.doc2bow(token) for token in tokens]\n",
    "\n",
    "        topic_words = [[words for words, _ in topic_model.get_topic(topic)] \n",
    "                     for topic in range(len(set(topics))-1)]\n",
    "\n",
    "        coherence_model = CoherenceModel(topics=topic_words, texts=tokens, corpus=corpus,\n",
    "                                       dictionary=dictionary, coherence='c_v')\n",
    "        \n",
    "        print(f\"appending coherence {n_topics}\")\n",
    "        score = coherence_model.get_coherence()\n",
    "        coherence_values.append(score)\n",
    "\n",
    "        print(f\"topic {n_topics} scores calculated, coherence score: {score}\")\n",
    "\n",
    "    return coherence_values"
   ]
  },
  {
   "cell_type": "markdown",
   "id": "c05cdfdd",
   "metadata": {},
   "source": [
    "### February 24 to March 30 — Full Invasion"
   ]
  },
  {
   "cell_type": "code",
   "execution_count": 119,
   "id": "8d09f983",
   "metadata": {},
   "outputs": [],
   "source": [
    "df_1 = df[[\"processed_message\", \"post_date\"]]\n",
    "full_invasion = df_1[(df_1[\"post_date\"] >= datetime(2022, 2, 24)) & (df_1[\"post_date\"] <= datetime(2022, 3, 30))]\n",
    "full_invasion.reset_index(drop=True, inplace=True)"
   ]
  },
  {
   "cell_type": "code",
   "execution_count": 120,
   "id": "8f18f16b",
   "metadata": {
    "scrolled": true
   },
   "outputs": [
    {
     "name": "stdout",
     "output_type": "stream",
     "text": [
      "appending coherence 2\n",
      "topic 2 scores calculated, coherence score: 0.3611767716298175\n",
      "appending coherence 3\n",
      "topic 3 scores calculated, coherence score: 0.5882361230619575\n",
      "appending coherence 4\n",
      "topic 4 scores calculated, coherence score: 0.5930070092991939\n",
      "appending coherence 5\n",
      "topic 5 scores calculated, coherence score: 0.6219697780485891\n",
      "appending coherence 6\n",
      "topic 6 scores calculated, coherence score: 0.6414728064681974\n",
      "appending coherence 7\n",
      "topic 7 scores calculated, coherence score: 0.6192448603450414\n",
      "appending coherence 8\n",
      "topic 8 scores calculated, coherence score: 0.6214679322585123\n",
      "appending coherence 9\n",
      "topic 9 scores calculated, coherence score: 0.6231070276687299\n",
      "appending coherence 10\n",
      "topic 10 scores calculated, coherence score: 0.6184503417199404\n",
      "appending coherence 11\n",
      "topic 11 scores calculated, coherence score: 0.6081849483819356\n",
      "appending coherence 12\n",
      "topic 12 scores calculated, coherence score: 0.6120867626438338\n",
      "appending coherence 13\n",
      "topic 13 scores calculated, coherence score: 0.6243130381486738\n",
      "appending coherence 14\n",
      "topic 14 scores calculated, coherence score: 0.6051694202364124\n",
      "appending coherence 15\n",
      "topic 15 scores calculated, coherence score: 0.6038605886143547\n",
      "appending coherence 16\n",
      "topic 16 scores calculated, coherence score: 0.623641503316241\n",
      "appending coherence 17\n",
      "topic 17 scores calculated, coherence score: 0.6231142000961408\n",
      "appending coherence 18\n",
      "topic 18 scores calculated, coherence score: 0.6347324522137257\n",
      "appending coherence 19\n",
      "topic 19 scores calculated, coherence score: 0.6222204118433782\n",
      "appending coherence 20\n",
      "topic 20 scores calculated, coherence score: 0.643252900691662\n"
     ]
    }
   ],
   "source": [
    "coherence_values = compute_coherence_values(2, 21, full_invasion[\"processed_message\"])"
   ]
  },
  {
   "cell_type": "code",
   "execution_count": 121,
   "id": "b39ec9c8",
   "metadata": {
    "scrolled": false
   },
   "outputs": [
    {
     "data": {
      "image/png": "[encoded data removed]",
      "text/plain": [
       "<Figure size 800x600 with 1 Axes>"
      ]
     },
     "metadata": {},
     "output_type": "display_data"
    }
   ],
   "source": [
    "fig, ax = plt.subplots(figsize=(8, 6))\n",
    "limit=21; start=2; step=1;\n",
    "x = range(start, limit, step)\n",
    "sns.set(color_codes=True)\n",
    "sns.lineplot(x= x, y=coherence_values)\n",
    "plt.xlabel(\"Num Topics\")\n",
    "plt.ylabel(\"Coherence score\")\n",
    "x_list = range(math.floor(min(x)), math.ceil(max(x))+1)\n",
    "plt.xticks(x_list);"
   ]
  },
  {
   "cell_type": "code",
   "execution_count": 122,
   "id": "2b585404",
   "metadata": {},
   "outputs": [],
   "source": [
    "representation_model = MaximalMarginalRelevance(diversity=0.8)\n",
    "umap_models = UMAP(n_neighbors=15, \n",
    "              n_components=5, \n",
    "              min_dist=0.0, \n",
    "              metric='cosine', \n",
    "              random_state=101)\n",
    "\n",
    "sentence_model = SentenceTransformer(\"paraphrase-multilingual-mpnet-base-v2\")\n",
    "\n",
    "topic_model = BERTopic(umap_model=umap_models,  \n",
    "                       calculate_probabilities=False, \n",
    "                       embedding_model=sentence_model,\n",
    "                       nr_topics = 20)\n",
    "\n",
    "topics, probabilities = topic_model.fit_transform(full_invasion[\"processed_message\"])"
   ]
  },
  {
   "cell_type": "code",
   "execution_count": 124,
   "id": "686f842e",
   "metadata": {
    "scrolled": true
   },
   "outputs": [
    {
     "data": {
      "text/html": [
       "<div>\n",
       "<style scoped>\n",
       "    .dataframe tbody tr th:only-of-type {\n",
       "        vertical-align: middle;\n",
       "    }\n",
       "\n",
       "    .dataframe tbody tr th {\n",
       "        vertical-align: top;\n",
       "    }\n",
       "\n",
       "    .dataframe thead th {\n",
       "        text-align: right;\n",
       "    }\n",
       "</style>\n",
       "<table border=\"1\" class=\"dataframe\">\n",
       "  <thead>\n",
       "    <tr style=\"text-align: right;\">\n",
       "      <th></th>\n",
       "      <th>Topic</th>\n",
       "      <th>Count</th>\n",
       "      <th>Name</th>\n",
       "    </tr>\n",
       "  </thead>\n",
       "  <tbody>\n",
       "    <tr>\n",
       "      <th>0</th>\n",
       "      <td>-1</td>\n",
       "      <td>10436</td>\n",
       "      <td>-1_украина_россия_всу_военный</td>\n",
       "    </tr>\n",
       "    <tr>\n",
       "      <th>1</th>\n",
       "      <td>0</td>\n",
       "      <td>7709</td>\n",
       "      <td>0_украина_россия_российский_военный</td>\n",
       "    </tr>\n",
       "    <tr>\n",
       "      <th>2</th>\n",
       "      <td>1</td>\n",
       "      <td>597</td>\n",
       "      <td>1_газ_цена_рубль_европа</td>\n",
       "    </tr>\n",
       "    <tr>\n",
       "      <th>3</th>\n",
       "      <td>2</td>\n",
       "      <td>413</td>\n",
       "      <td>2_нацист_азов_нацистский_мариуполь</td>\n",
       "    </tr>\n",
       "    <tr>\n",
       "      <th>4</th>\n",
       "      <td>3</td>\n",
       "      <td>406</td>\n",
       "      <td>3_зеленский_зеленского_украина_президент</td>\n",
       "    </tr>\n",
       "    <tr>\n",
       "      <th>5</th>\n",
       "      <td>4</td>\n",
       "      <td>214</td>\n",
       "      <td>4_биологический_сша_лаборатория_украина</td>\n",
       "    </tr>\n",
       "    <tr>\n",
       "      <th>6</th>\n",
       "      <td>5</td>\n",
       "      <td>167</td>\n",
       "      <td>5_китай_китайский_кнр_сша</td>\n",
       "    </tr>\n",
       "    <tr>\n",
       "      <th>7</th>\n",
       "      <td>6</td>\n",
       "      <td>164</td>\n",
       "      <td>6_беженец_польша_венгрия_югославия</td>\n",
       "    </tr>\n",
       "    <tr>\n",
       "      <th>8</th>\n",
       "      <td>7</td>\n",
       "      <td>133</td>\n",
       "      <td>7_видео_youtube_канал_заблокировать</td>\n",
       "    </tr>\n",
       "    <tr>\n",
       "      <th>9</th>\n",
       "      <td>8</td>\n",
       "      <td>101</td>\n",
       "      <td>8_facebook_meta_instagram_соцсеть</td>\n",
       "    </tr>\n",
       "    <tr>\n",
       "      <th>10</th>\n",
       "      <td>9</td>\n",
       "      <td>59</td>\n",
       "      <td>9_аллах_иран_саудовский_иракский</td>\n",
       "    </tr>\n",
       "    <tr>\n",
       "      <th>11</th>\n",
       "      <td>10</td>\n",
       "      <td>54</td>\n",
       "      <td>10_турция_турецкий_эрдоган_россия</td>\n",
       "    </tr>\n",
       "    <tr>\n",
       "      <th>12</th>\n",
       "      <td>11</td>\n",
       "      <td>43</td>\n",
       "      <td>11_евросоюз_санкция_еврокомиссия_европа</td>\n",
       "    </tr>\n",
       "    <tr>\n",
       "      <th>13</th>\n",
       "      <td>12</td>\n",
       "      <td>42</td>\n",
       "      <td>12_референдум_республика_демократия_крым</td>\n",
       "    </tr>\n",
       "    <tr>\n",
       "      <th>14</th>\n",
       "      <td>13</td>\n",
       "      <td>41</td>\n",
       "      <td>13_дискриминация_русский_страна_культура</td>\n",
       "    </tr>\n",
       "    <tr>\n",
       "      <th>15</th>\n",
       "      <td>14</td>\n",
       "      <td>28</td>\n",
       "      <td>14_terms_couldnt_device_message</td>\n",
       "    </tr>\n",
       "    <tr>\n",
       "      <th>16</th>\n",
       "      <td>15</td>\n",
       "      <td>19</td>\n",
       "      <td>15_google_youtube_приложение_роскомнадзор</td>\n",
       "    </tr>\n",
       "    <tr>\n",
       "      <th>17</th>\n",
       "      <td>16</td>\n",
       "      <td>18</td>\n",
       "      <td>16_mcdonalds_ресторан_сеть_тимати</td>\n",
       "    </tr>\n",
       "    <tr>\n",
       "      <th>18</th>\n",
       "      <td>17</td>\n",
       "      <td>14</td>\n",
       "      <td>17_ботtvbot_зритель_прислать_ztv</td>\n",
       "    </tr>\n",
       "    <tr>\n",
       "      <th>19</th>\n",
       "      <td>18</td>\n",
       "      <td>13</td>\n",
       "      <td>18_грузия_грузин_грузинский_санкция</td>\n",
       "    </tr>\n",
       "  </tbody>\n",
       "</table>\n",
       "</div>"
      ],
      "text/plain": [
       "    Topic  Count                                       Name\n",
       "0      -1  10436              -1_украина_россия_всу_военный\n",
       "1       0   7709        0_украина_россия_российский_военный\n",
       "2       1    597                    1_газ_цена_рубль_европа\n",
       "3       2    413         2_нацист_азов_нацистский_мариуполь\n",
       "4       3    406   3_зеленский_зеленского_украина_президент\n",
       "5       4    214    4_биологический_сша_лаборатория_украина\n",
       "6       5    167                  5_китай_китайский_кнр_сша\n",
       "7       6    164         6_беженец_польша_венгрия_югославия\n",
       "8       7    133        7_видео_youtube_канал_заблокировать\n",
       "9       8    101          8_facebook_meta_instagram_соцсеть\n",
       "10      9     59           9_аллах_иран_саудовский_иракский\n",
       "11     10     54          10_турция_турецкий_эрдоган_россия\n",
       "12     11     43    11_евросоюз_санкция_еврокомиссия_европа\n",
       "13     12     42   12_референдум_республика_демократия_крым\n",
       "14     13     41   13_дискриминация_русский_страна_культура\n",
       "15     14     28            14_terms_couldnt_device_message\n",
       "16     15     19  15_google_youtube_приложение_роскомнадзор\n",
       "17     16     18          16_mcdonalds_ресторан_сеть_тимати\n",
       "18     17     14           17_ботtvbot_зритель_прислать_ztv\n",
       "19     18     13        18_грузия_грузин_грузинский_санкция"
      ]
     },
     "execution_count": 124,
     "metadata": {},
     "output_type": "execute_result"
    }
   ],
   "source": [
    "topic_model.get_topic_info()"
   ]
  },
  {
   "cell_type": "code",
   "execution_count": 125,
   "id": "1604020b",
   "metadata": {
    "scrolled": true
   },
   "outputs": [
    {
     "name": "stdout",
     "output_type": "stream",
     "text": [
      "===================Topic 0===================\n",
      "украина Ukraine 0.021632188910747197\n",
      "россия Russia 0.018330547739058133\n",
      "российский Russian 0.015865705381119605\n",
      "военный military 0.014714795601675245\n",
      "рф rf 0.013764725555234465\n",
      "всу vsu 0.013589067522001605\n",
      "город city 0.013115913303041548\n",
      "киев Kyiv 0.011337511913969084\n",
      "район area 0.01042046825036994\n",
      "днр dnr 0.00995435654557696\n",
      "\n",
      "===================Topic 1===================\n",
      "газ gas 0.06370909201151727\n",
      "цена price 0.039624927794839754\n",
      "рубль ruble 0.034868102630204505\n",
      "европа Europe 0.03366022795115606\n",
      "россия Russia 0.030956043446594025\n",
      "нефть oil 0.0278571606664948\n",
      "российский Russian 0.026609791515042846\n",
      "банк bank 0.024582424526027845\n",
      "валюта currency 0.02366930387472246\n",
      "поставка supply 0.02272818584032257\n",
      "\n",
      "===================Topic 2===================\n",
      "нацист Nazi 0.09920079406136541\n",
      "азов basics 0.035953286731020384\n",
      "нацистский Nazi 0.033057464646128264\n",
      "мариуполь Mariupol 0.025247891600809064\n",
      "украина Ukraine 0.021563464074936516\n",
      "город city 0.02150514185861165\n",
      "неонацист neo-nazi 0.02010303991654328\n",
      "германия Germany 0.020073595675083458\n",
      "нацизм Nazism 0.019674725377473258\n",
      "мирный peaceful 0.018406361945660605\n",
      "\n",
      "===================Topic 3===================\n",
      "зеленский Zelensky 0.1013093072985742\n",
      "зеленского Zelensky 0.06411075990291319\n",
      "украина Ukraine 0.03973903865583465\n",
      "президент the president 0.033616823797226886\n",
      "киев Kyiv 0.021274806289328464\n",
      "владимир vladimir 0.01920397982469227\n",
      "россия Russia 0.018851280588248445\n",
      "зеленскому Zelensky 0.01860285193243241\n",
      "страна a country 0.017396583770075823\n",
      "израиль Israel 0.01580084149228013\n",
      "\n",
      "===================Topic 4===================\n",
      "биологический biological 0.09137379428107217\n",
      "сша USA 0.08012263897813919\n",
      "лаборатория laboratory 0.07241975942113478\n",
      "украина Ukraine 0.05052808139677971\n",
      "биолабораторий biolaboratories 0.04404131674267641\n",
      "ранить hurt 0.03626092249496053\n",
      "документ document 0.035106686257418356\n",
      "исследование study 0.034631048001674714\n",
      "погибнуть perish 0.030920084245810442\n",
      "оружие weapon 0.030168848423636135\n",
      "\n",
      "===================Topic 5===================\n",
      "китай China 0.14021651648562297\n",
      "китайский Chinese 0.07492027936987809\n",
      "кнр China 0.050711424862571915\n",
      "сша USA 0.05069172755743222\n",
      "мид mid 0.045297050042302854\n",
      "отношение attitude 0.04261084537589188\n",
      "япония Japan 0.03629900924448228\n",
      "россия Russia 0.03487377689355579\n",
      "кризис a crisis 0.023794077146432804\n",
      "украина Ukraine 0.023382026707601065\n",
      "\n",
      "===================Topic 6===================\n",
      "беженец refugee 0.07186524181670094\n",
      "польша Poland 0.06161365758965426\n",
      "венгрия Hungary 0.046635084429553095\n",
      "югославия Yugoslavia 0.04264951777644633\n",
      "серб Serb 0.040813081622733935\n",
      "нато NATO 0.039958633607925204\n",
      "сербия Serbia 0.03620734680075569\n",
      "сербский Serbian 0.028773452514799267\n",
      "страна a country 0.027470814822299974\n",
      "польский Polish 0.025561373338255484\n",
      "\n",
      "===================Topic 7===================\n",
      "видео video 0.18406923057088473\n",
      "youtube youtube 0.17376520165845713\n",
      "канал channel 0.06437716360046421\n",
      "заблокировать block 0.04793690520005884\n",
      "блогер blogger 0.03493820358056004\n",
      "удалить delete 0.03267807634646415\n",
      "роскомнадзор Roskomnadzor 0.02866933492889167\n",
      "гостелерадиофонд State Television and Radio Fund 0.027717097084336915\n",
      "просмотр viewing 0.02345901424713244\n",
      "фото photo 0.022527692020017642\n",
      "\n",
      "===================Topic 8===================\n",
      "facebook Facebook 0.15648216874028195\n",
      "meta meta 0.11914160762847151\n",
      "instagram instagram 0.0955061729160601\n",
      "соцсеть social network 0.05493265089806697\n",
      "аккаунт account 0.04897442762253344\n",
      "насилие violence 0.04617935948732322\n",
      "пользователь user 0.04580556002746354\n",
      "блокировка blocking 0.04308687823754847\n",
      "разрешить allow 0.04282371399214759\n",
      "призыв call 0.04255719300579213\n",
      "\n",
      "===================Topic 9===================\n",
      "аллах Allah 0.06338917550067379\n",
      "иран Iran 0.05664366336191032\n",
      "саудовский Saudi 0.04345575819336028\n",
      "иракский Iraqi 0.038922956267656905\n",
      "ракета rocket 0.03801210657191751\n",
      "пророк prophet 0.03716197476285638\n",
      "иранский Iranian 0.03582062530096198\n",
      "эрбиле Erbil 0.03430262854145197\n",
      "сша USA 0.03285522547561095\n",
      "ирак Iraq 0.03239273428895219\n",
      "\n",
      "===================Topic 10===================\n",
      "турция Türkiye 0.28689960204742077\n",
      "турецкий Turkish 0.09493441790783763\n",
      "эрдоган erdogan 0.07501954641708006\n",
      "россия Russia 0.06449785967149886\n",
      "мид mid 0.06290335910619914\n",
      "глава chapter 0.044052260494036495\n",
      "сорос soros 0.04363595940952201\n",
      "санкция sanction 0.038926102612127686\n",
      "министр minister 0.03557129201964682\n",
      "чавушоглу cavusoglu 0.03357285318507956\n",
      "\n",
      "===================Topic 11===================\n",
      "евросоюз European Union 0.2156244037975065\n",
      "санкция sanction 0.09838465495372932\n",
      "еврокомиссия european commission 0.08339532373741997\n",
      "европа Europe 0.06680260624152509\n",
      "ес eu 0.06519151379483838\n",
      "актив assets 0.06483007470685158\n",
      "россия Russia 0.06421864815776943\n",
      "жозеп Josep 0.055596882491613306\n",
      "европейский European 0.052722296897616414\n",
      "германия Germany 0.05164103734110539\n",
      "\n",
      "===================Topic 12===================\n",
      "референдум referendum 0.2157189312847525\n",
      "республика republic 0.08259764653497369\n",
      "демократия democracy 0.07595209200315708\n",
      "крым Crimea 0.06243174108545154\n",
      "состав compound 0.057621759993353505\n",
      "вхождение entry 0.05286872916489175\n",
      "пасечник beekeeper 0.05163236201266758\n",
      "лнр lnr 0.049143669124886116\n",
      "народный folk 0.04860865200756067\n",
      "осетия Ossetia 0.04791021679531518\n",
      "\n",
      "===================Topic 13===================\n",
      "дискриминация discrimination 0.04081492564149033\n",
      "русский Russian 0.03710298840330269\n",
      "страна a country 0.036022335689847904\n",
      "культура culture 0.0301502395699799\n",
      "человек Human 0.029180760745285927\n",
      "россия Russia 0.0289780015654067\n",
      "русофобия Russophobia 0.025142410572437476\n",
      "право right 0.022006129151002408\n",
      "бердянск berdyansk 0.020712656475830798\n",
      "украина Ukraine 0.019834100057432035\n",
      "\n",
      "===================Topic 14===================\n",
      "terms terms 0.11485368877597171\n",
      "couldnt couldnt 0.11485368877597171\n",
      "device device 0.11485368877597171\n",
      "message message 0.11485368877597171\n",
      "violates violates 0.11485368877597171\n",
      "displayed displayed 0.11366694124256041\n",
      "be be 0.11256822437733326\n",
      "because because 0.11256822437733326\n",
      "service service 0.11256822437733326\n",
      "your your 0.11256822437733326\n",
      "\n",
      "===================Topic 15===================\n",
      "google google 0.3302458184394061\n",
      "youtube youtube 0.07277562549835585\n",
      "приложение application 0.06760570826654642\n",
      "роскомнадзор Roskomnadzor 0.06724016700747906\n",
      "стримы streams 0.06381636965642934\n",
      "канал channel 0.06341504335324849\n",
      "запускать run 0.05810719221789503\n",
      "головановтрансляция golovanovbroadcast 0.05238709231341492\n",
      "функционал functional 0.05238709231341492\n",
      "доступнаyoutube availableyoutube 0.05238709231341492\n",
      "\n",
      "===================Topic 16===================\n",
      "mcdonalds mcdonalds 0.25565490693319437\n",
      "ресторан restaurant 0.22133154694758617\n",
      "сеть net 0.11322628421152739\n",
      "тимати Timati 0.07689073226646383\n",
      "kfc kfc 0.07362114395805318\n",
      "быстрый fast 0.07270734551125635\n",
      "фастфуд fast food 0.07130141882987671\n",
      "питание nutrition 0.06946091691978916\n",
      "грант grant 0.05832674475544628\n",
      "рынок market 0.0580370445687471\n",
      "\n",
      "===================Topic 17===================\n",
      "ботtvbot bottvbot 0.3991264356518948\n",
      "зритель viewer 0.378391066180058\n",
      "прислать send 0.2768386052401818\n",
      "ztv ztv 0.2596924762299845\n",
      "фото photo 0.2385438728459858\n",
      "бот bot 0.21014408736408005\n",
      "материал material 0.20156632087952037\n",
      "видео video 0.19779388430081643\n",
      "tvbot tvbot 0.1776962585328073\n",
      "подписчик subscriber 0.15251946972358268\n",
      "\n",
      "===================Topic 18===================\n",
      "грузия Georgia 0.3273890737503729\n",
      "грузин Georgian 0.12015899972874361\n",
      "грузинский Georgian 0.09748780703884632\n",
      "санкция sanction 0.08037609217666267\n",
      "отзывать revoke 0.07723743492914474\n",
      "присоединиться join 0.07216887017084848\n",
      "посол ambassador 0.06103596207162687\n",
      "абхазия abkhazia 0.05532364240620286\n",
      "циликишвили tsilikishvili 0.047553370578760676\n",
      "ситуация situation 0.04411489318446526\n",
      "\n"
     ]
    }
   ],
   "source": [
    "n_topics = 20\n",
    "for n in range(n_topics-1):\n",
    "    print(f\"===================Topic {n}===================\")\n",
    "    for word in topic_model.get_topic(n):\n",
    "        # print(word[0])\n",
    "        try:\n",
    "            eng = translator.translate(word[0], src='ru', dest='en')\n",
    "            print(word[0], eng.text, word[1])\n",
    "        except:\n",
    "            pass\n",
    "    print()"
   ]
  },
  {
   "cell_type": "code",
   "execution_count": 126,
   "id": "a2bb80f9",
   "metadata": {},
   "outputs": [
    {
     "data": {
      "application/vnd.plotly.v1+json": {
       "config": {
        "plotlyServerURL": "https://plot.ly"
       },
       "data": [
        {
         "hoverinfo": "text",
         "hovertext": [
          "<b>Topic 0</b><br>Words: украина, российский, россия, всу, военный",
          "<b>Topic 0</b><br>Words: украина, россия, российский, рф, всу",
          "<b>Topic 0</b><br>Words: украина, российский, россия, военный, город",
          "<b>Topic 0</b><br>Words: украина, россия, российский, город, военный",
          "<b>Topic 0</b><br>Words: украина, россия, рф, российский, киев",
          "<b>Topic 0</b><br>Words: украина, россия, российский, военный, рф",
          "<b>Topic 0</b><br>Words: украина, россия, всу, военный, российский",
          "<b>Topic 0</b><br>Words: украина, россия, город, военный, всу",
          "<b>Topic 0</b><br>Words: украина, россия, российский, город, военный",
          "<b>Topic 0</b><br>Words: украина, россия, российский, военный, город",
          "<b>Topic 0</b><br>Words: украина, россия, военный, всу, рф",
          "<b>Topic 0</b><br>Words: украина, россия, военный, город, рф",
          "<b>Topic 0</b><br>Words: украина, россия, военный, российский, рф",
          "<b>Topic 0</b><br>Words: россия, украина, военный, российский, всу",
          "<b>Topic 0</b><br>Words: украина, россия, военный, российский, рф"
         ],
         "marker": {
          "color": "#E69F00"
         },
         "mode": "lines",
         "name": "0_украина_россия_российский_военный",
         "type": "scatter",
         "x": [
          "2022-02-23T23:11:02.400000",
          "2022-02-26T06:24:00",
          "2022-02-28T12:48:00",
          "2022-03-02T19:12:00",
          "2022-03-05T01:36:00",
          "2022-03-07T08:00:00",
          "2022-03-09T14:24:00",
          "2022-03-11T20:48:00",
          "2022-03-14T03:12:00",
          "2022-03-16T09:36:00",
          "2022-03-18T16:00:00",
          "2022-03-20T22:24:00",
          "2022-03-23T04:48:00",
          "2022-03-25T11:12:00",
          "2022-03-27T17:36:00"
         ],
         "y": [
          1123,
          644,
          533,
          732,
          451,
          385,
          404,
          588,
          408,
          390,
          341,
          514,
          349,
          335,
          512
         ]
        },
        {
         "hoverinfo": "text",
         "hovertext": [
          "<b>Topic 1</b><br>Words: газ, сбербанк, цена, банк, swift",
          "<b>Topic 1</b><br>Words: газ, банк, рубль, финансовый, страна",
          "<b>Topic 1</b><br>Words: газ, бизнес, мишустин, цена, правительство",
          "<b>Topic 1</b><br>Words: газ, компания, европа, экономический, россия",
          "<b>Topic 1</b><br>Words: газ, цена, европа, нефть, россия",
          "<b>Topic 1</b><br>Words: газ, цена, нефть, валюта, доллар",
          "<b>Topic 1</b><br>Words: газ, цена, банк, россия, экономика",
          "<b>Topic 1</b><br>Words: цена, валюта, газ, рубль, бензин",
          "<b>Topic 1</b><br>Words: экономика, рубль, газ, россия, новый",
          "<b>Topic 1</b><br>Words: цена, газ, россия, интеллектуальный, мировой",
          "<b>Topic 1</b><br>Words: импорт, процент, газ, млрд, миллиард",
          "<b>Topic 1</b><br>Words: газ, цена, рубль, европа, российский",
          "<b>Topic 1</b><br>Words: газ, рубль, валюта, россия, российский",
          "<b>Topic 1</b><br>Words: газ, цена, поставка, рубль, европа",
          "<b>Topic 1</b><br>Words: газ, рубль, европа, млрд, поставка"
         ],
         "marker": {
          "color": "#56B4E9"
         },
         "mode": "lines",
         "name": "1_газ_цена_рубль_европа",
         "type": "scatter",
         "x": [
          "2022-02-23T23:11:02.400000",
          "2022-02-26T06:24:00",
          "2022-02-28T12:48:00",
          "2022-03-02T19:12:00",
          "2022-03-05T01:36:00",
          "2022-03-07T08:00:00",
          "2022-03-09T14:24:00",
          "2022-03-11T20:48:00",
          "2022-03-14T03:12:00",
          "2022-03-16T09:36:00",
          "2022-03-18T16:00:00",
          "2022-03-20T22:24:00",
          "2022-03-23T04:48:00",
          "2022-03-25T11:12:00",
          "2022-03-27T17:36:00"
         ],
         "y": [
          46,
          39,
          38,
          46,
          53,
          58,
          44,
          34,
          20,
          15,
          12,
          50,
          31,
          25,
          86
         ]
        },
        {
         "hoverinfo": "text",
         "hovertext": [
          "<b>Topic 2</b><br>Words: нацист, украина, нацистский, антифашист, азов",
          "<b>Topic 2</b><br>Words: нацист, бундестаге, германия, нацистский, днр",
          "<b>Topic 2</b><br>Words: нацист, харьков, азов, город, антифашист",
          "<b>Topic 2</b><br>Words: нацист, нацистский, город, мариуполь, человек",
          "<b>Topic 2</b><br>Words: нацист, местный, азов, нацистский, нацики",
          "<b>Topic 2</b><br>Words: нацист, нацистский, азов, мариуполь, житель",
          "<b>Topic 2</b><br>Words: нацист, концлагерь, обнаружить, нацистский, старобельского",
          "<b>Topic 2</b><br>Words: нацист, азов, неонацист, берлин, нациков",
          "<b>Topic 2</b><br>Words: нацист, шольц, азов, сс, мариуполь",
          "<b>Topic 2</b><br>Words: нацист, азов, неонацистский, неонацист, md",
          "<b>Topic 2</b><br>Words: нацист, азов, немецкий, мариуполе, нацистский",
          "<b>Topic 2</b><br>Words: нацист, нацистский, азов, мариуполь, нацизм",
          "<b>Topic 2</b><br>Words: нацист, форма, мариуполь, азов, красоваться",
          "<b>Topic 2</b><br>Words: нацист, азов, германия, жир, мирный",
          "<b>Topic 2</b><br>Words: нацист, азов, нацистский, мариуполь, германия"
         ],
         "marker": {
          "color": "#009E73"
         },
         "mode": "lines",
         "name": "2_нацист_азов_нацистский_мариуполь",
         "type": "scatter",
         "x": [
          "2022-02-23T23:11:02.400000",
          "2022-02-26T06:24:00",
          "2022-02-28T12:48:00",
          "2022-03-02T19:12:00",
          "2022-03-05T01:36:00",
          "2022-03-07T08:00:00",
          "2022-03-09T14:24:00",
          "2022-03-11T20:48:00",
          "2022-03-14T03:12:00",
          "2022-03-16T09:36:00",
          "2022-03-18T16:00:00",
          "2022-03-20T22:24:00",
          "2022-03-23T04:48:00",
          "2022-03-25T11:12:00",
          "2022-03-27T17:36:00"
         ],
         "y": [
          28,
          19,
          35,
          47,
          24,
          20,
          25,
          25,
          27,
          17,
          21,
          36,
          16,
          23,
          50
         ]
        },
        {
         "hoverinfo": "text",
         "hovertext": [
          "<b>Topic 3</b><br>Words: зеленский, зеленского, украина, президент, киев",
          "<b>Topic 3</b><br>Words: зеленский, зеленского, украина, переговоры, гомеле",
          "<b>Topic 3</b><br>Words: зеленский, зеленского, ес, украина, условие",
          "<b>Topic 3</b><br>Words: зеленский, зеленского, украина, президент, нато",
          "<b>Topic 3</b><br>Words: зеленский, зеленского, президент, зеленским, украина",
          "<b>Topic 3</b><br>Words: зеленский, зеленского, киев, украина, президент",
          "<b>Topic 3</b><br>Words: зеленский, зеленского, зеленскому, украина, владимир",
          "<b>Topic 3</b><br>Words: зеленский, зеленского, инсайд, украина, президент",
          "<b>Topic 3</b><br>Words: зеленский, зеленского, украина, конгресс, президент",
          "<b>Topic 3</b><br>Words: зеленский, зеленского, конгресс, украина, зе",
          "<b>Topic 3</b><br>Words: зеленский, израиль, зеленского, украина, партия",
          "<b>Topic 3</b><br>Words: зеленский, зеленского, президент, украина, холокост",
          "<b>Topic 3</b><br>Words: партия, зеленский, оппозиционный, зеленского, украинызачистка",
          "<b>Topic 3</b><br>Words: австрия, зеленский, зеленского, парламент, отказать",
          "<b>Topic 3</b><br>Words: зеленского, зеленский, возможный, украина, офис"
         ],
         "marker": {
          "color": "#F0E442"
         },
         "mode": "lines",
         "name": "3_зеленский_зеленского_украина_президент",
         "type": "scatter",
         "x": [
          "2022-02-23T23:11:02.400000",
          "2022-02-26T06:24:00",
          "2022-02-28T12:48:00",
          "2022-03-02T19:12:00",
          "2022-03-05T01:36:00",
          "2022-03-07T08:00:00",
          "2022-03-09T14:24:00",
          "2022-03-11T20:48:00",
          "2022-03-14T03:12:00",
          "2022-03-16T09:36:00",
          "2022-03-18T16:00:00",
          "2022-03-20T22:24:00",
          "2022-03-23T04:48:00",
          "2022-03-25T11:12:00",
          "2022-03-27T17:36:00"
         ],
         "y": [
          85,
          36,
          25,
          53,
          27,
          32,
          13,
          35,
          24,
          10,
          23,
          22,
          2,
          7,
          12
         ]
        },
        {
         "hoverinfo": "text",
         "hovertext": [
          "<b>Topic 4</b><br>Words: биолабораториях, подписаться, удалить, мариуполь, посольство",
          "<b>Topic 4</b><br>Words: мариуполь, вид, биологический, сша, лаборатория",
          "<b>Topic 4</b><br>Words: мариуполь, блокированбасурин, басурин, кольцо, полностью",
          "<b>Topic 4</b><br>Words: биологический, пентагон, химикомедицинского, лавровrussian, кирово",
          "<b>Topic 4</b><br>Words: биологический, лаборатория, сша, украина, сибирский",
          "<b>Topic 4</b><br>Words: биологический, лаборатория, сша, биолабораторий, украина",
          "<b>Topic 4</b><br>Words: биологический, сша, лаборатория, украина, биолабораторий",
          "<b>Topic 4</b><br>Words: биологический, сша, лаборатория, украина, ранить",
          "<b>Topic 4</b><br>Words: биологический, лаборатория, сша, ранить, болезнь",
          "<b>Topic 4</b><br>Words: сша, биологический, лаборатория, летучий, мышь",
          "<b>Topic 4</b><br>Words: ранить, погибнуть, военнослужащий, посольство, сша",
          "<b>Topic 4</b><br>Words: биохимический, ранить, биологический, лаборатория, погибнуть",
          "<b>Topic 4</b><br>Words: сша, биологический, metabiota, биолабораторий, лаборатория",
          "<b>Topic 4</b><br>Words: сша, metabiota, биологический, украина, лаборатория",
          "<b>Topic 4</b><br>Words: сша, биологический, metabiota, лаборатория, украина"
         ],
         "marker": {
          "color": "#D55E00"
         },
         "mode": "lines",
         "name": "4_биологический_сша_лаборатория_украина",
         "type": "scatter",
         "x": [
          "2022-02-23T23:11:02.400000",
          "2022-02-26T06:24:00",
          "2022-02-28T12:48:00",
          "2022-03-02T19:12:00",
          "2022-03-05T01:36:00",
          "2022-03-07T08:00:00",
          "2022-03-09T14:24:00",
          "2022-03-11T20:48:00",
          "2022-03-14T03:12:00",
          "2022-03-16T09:36:00",
          "2022-03-18T16:00:00",
          "2022-03-20T22:24:00",
          "2022-03-23T04:48:00",
          "2022-03-25T11:12:00",
          "2022-03-27T17:36:00"
         ],
         "y": [
          4,
          2,
          4,
          6,
          19,
          24,
          49,
          16,
          10,
          34,
          7,
          7,
          13,
          8,
          11
         ]
        },
        {
         "hoverinfo": "text",
         "hovertext": [
          "<b>Topic 5</b><br>Words: китай, китайский, мид, кнр, россия",
          "<b>Topic 5</b><br>Words: китай, китайский, кнр, сша, мид",
          "<b>Topic 5</b><br>Words: китай, присоединяться, балицкий, вейбо, нестабильность",
          "<b>Topic 5</b><br>Words: китай, чонгара, глава, мид, китайский",
          "<b>Topic 5</b><br>Words: китай, мид, тайвань, объятие, конец",
          "<b>Topic 5</b><br>Words: китай, япония, санкция, китайский, отношение",
          "<b>Topic 5</b><br>Words: китай, китайский, фабриковать, кнр, сша",
          "<b>Topic 5</b><br>Words: китайский, китай, сша, кнр, мид",
          "<b>Topic 5</b><br>Words: китай, япония, победа, китайский, сентябрь",
          "<b>Topic 5</b><br>Words: китай, кнр, китайский, сша, мид",
          "<b>Topic 5</b><br>Words: китай, сша, пекин, отношение, китайский",
          "<b>Topic 5</b><br>Words: китай, китайский, япония, кнр, японец",
          "<b>Topic 5</b><br>Words: китай, китайский, сша, конфликт, кризис",
          "<b>Topic 5</b><br>Words: китай, китайский, карикатурист, европеван, онгеополитика",
          "<b>Topic 5</b><br>Words: китай, китайский, миропорядок, отношение, многополярный"
         ],
         "marker": {
          "color": "#0072B2"
         },
         "mode": "lines",
         "name": "5_китай_китайский_кнр_сша",
         "type": "scatter",
         "x": [
          "2022-02-23T23:11:02.400000",
          "2022-02-26T06:24:00",
          "2022-02-28T12:48:00",
          "2022-03-02T19:12:00",
          "2022-03-05T01:36:00",
          "2022-03-07T08:00:00",
          "2022-03-09T14:24:00",
          "2022-03-11T20:48:00",
          "2022-03-14T03:12:00",
          "2022-03-16T09:36:00",
          "2022-03-18T16:00:00",
          "2022-03-20T22:24:00",
          "2022-03-23T04:48:00",
          "2022-03-25T11:12:00",
          "2022-03-27T17:36:00"
         ],
         "y": [
          22,
          16,
          4,
          7,
          7,
          12,
          11,
          16,
          4,
          23,
          8,
          14,
          7,
          3,
          13
         ]
        },
        {
         "hoverinfo": "text",
         "hovertext": [
          "<b>Topic 6</b><br>Words: дипломат, польша, виза, консульство, россия",
          "<b>Topic 6</b><br>Words: венгрия, орбан, сборная, чехия, посольство",
          "<b>Topic 6</b><br>Words: посол, сша, выдворить, салливанавот, мид",
          "<b>Topic 6</b><br>Words: беженец, сербия, серб, болельщик, поддержка",
          "<b>Topic 6</b><br>Words: канцелярия, венгрия, польша, фейкньюс, нехта",
          "<b>Topic 6</b><br>Words: беженец, сербия, польша, обходиться, европа",
          "<b>Topic 6</b><br>Words: беженец, варшава, польский, венгрия, украинец",
          "<b>Topic 6</b><br>Words: беженец, сербия, польша, венгрия, нато",
          "<b>Topic 6</b><br>Words: венгрия, беженец, русин, польша, перепись",
          "<b>Topic 6</b><br>Words: беженец, югославия, сербский, нато, польша",
          "<b>Topic 6</b><br>Words: акция, fucknato, лейтмотивом, сербскорусской, новисада",
          "<b>Topic 6</b><br>Words: беженец, польша, венгрия, нато, югославия",
          "<b>Topic 6</b><br>Words: серб, польша, югославия, нато, бомбардировка",
          "<b>Topic 6</b><br>Words: польша, андреев, польше, посольство, калининградский",
          "<b>Topic 6</b><br>Words: югославия, сербский, греческий, беженец, коммунистический"
         ],
         "marker": {
          "color": "#CC79A7"
         },
         "mode": "lines",
         "name": "6_беженец_польша_венгрия_югославия",
         "type": "scatter",
         "x": [
          "2022-02-23T23:11:02.400000",
          "2022-02-26T06:24:00",
          "2022-02-28T12:48:00",
          "2022-03-02T19:12:00",
          "2022-03-05T01:36:00",
          "2022-03-07T08:00:00",
          "2022-03-09T14:24:00",
          "2022-03-11T20:48:00",
          "2022-03-14T03:12:00",
          "2022-03-16T09:36:00",
          "2022-03-18T16:00:00",
          "2022-03-20T22:24:00",
          "2022-03-23T04:48:00",
          "2022-03-25T11:12:00",
          "2022-03-27T17:36:00"
         ],
         "y": [
          17,
          10,
          5,
          16,
          8,
          7,
          8,
          13,
          7,
          11,
          3,
          25,
          18,
          8,
          8
         ]
        },
        {
         "hoverinfo": "text",
         "hovertext": [
          "<b>Topic 7</b><br>Words: видео, youtube, херсон, фотовидео, высоко",
          "<b>Topic 7</b><br>Words: видео, youtube, блогер, канал, заблокировать",
          "<b>Topic 7</b><br>Words: youtube, канал, нтв, приниматься, сообщить",
          "<b>Topic 7</b><br>Words: видео, youtube, просмотр, фото, часть",
          "<b>Topic 7</b><br>Words: youtube, видео, выйти, размещать, волновахеполный",
          "<b>Topic 7</b><br>Words: видео, youtube, презентация, apple, ужасающий",
          "<b>Topic 7</b><br>Words: youtube, видео, доход, канал, монетизация",
          "<b>Topic 7</b><br>Words: гостелерадиофонд, youtube, видео, заблокировать, канал",
          "<b>Topic 7</b><br>Words: видео, провезти, макеевкеподписаться, видеокогда, родным",
          "<b>Topic 7</b><br>Words: youtube, видео, конца, заблокировать, следующий",
          "<b>Topic 7</b><br>Words: перезалью, битое, глюк, сималенда, телевизор",
          "<b>Topic 7</b><br>Words: видео, поддержи, ikea, верхнеторецкого, трц",
          "<b>Topic 7</b><br>Words: youtube, гостелерадиофонд, видео, роскомнадзор, советский",
          "<b>Topic 7</b><br>Words: видео, youtube, удалить, канал, министерство",
          "<b>Topic 7</b><br>Words: видео, youtube, cancelme, художественный, канал"
         ],
         "marker": {
          "color": "#E69F00"
         },
         "mode": "lines",
         "name": "7_видео_youtube_канал_заблокировать",
         "type": "scatter",
         "x": [
          "2022-02-23T23:11:02.400000",
          "2022-02-26T06:24:00",
          "2022-02-28T12:48:00",
          "2022-03-02T19:12:00",
          "2022-03-05T01:36:00",
          "2022-03-07T08:00:00",
          "2022-03-09T14:24:00",
          "2022-03-11T20:48:00",
          "2022-03-14T03:12:00",
          "2022-03-16T09:36:00",
          "2022-03-18T16:00:00",
          "2022-03-20T22:24:00",
          "2022-03-23T04:48:00",
          "2022-03-25T11:12:00",
          "2022-03-27T17:36:00"
         ],
         "y": [
          21,
          11,
          2,
          12,
          11,
          11,
          12,
          6,
          3,
          10,
          3,
          8,
          5,
          6,
          12
         ]
        },
        {
         "hoverinfo": "text",
         "hovertext": [
          "<b>Topic 8</b><br>Words: facebook, meta, соцсеть, аккаунт, страница",
          "<b>Topic 8</b><br>Words: facebook, meta, риа, соцсеть, новость",
          "<b>Topic 8</b><br>Words: facebook, meta, instagram, заблокировать, твитер",
          "<b>Topic 8</b><br>Words: facebook, роскомнадзор, сеть, блокировка, русофобский",
          "<b>Topic 8</b><br>Words: facebook, аккаунт, телеграмеэто, горизонте, госорган",
          "<b>Topic 8</b><br>Words: подписка, аккаунт, информация, instagram, отображаться",
          "<b>Topic 8</b><br>Words: facebook, meta, instagram, насилие, разрешить",
          "<b>Topic 8</b><br>Words: instagram, facebook, соцсеть, meta, пользователь",
          "<b>Topic 8</b><br>Words: твиттер, facebook, аккаунт, твит, meta",
          "<b>Topic 8</b><br>Words: whatsapp, telegram, мессенджер, доля, мегафондоля",
          "<b>Topic 8</b><br>Words: meta, facebook, суд, instagram, whatsapp"
         ],
         "marker": {
          "color": "#56B4E9"
         },
         "mode": "lines",
         "name": "8_facebook_meta_instagram_соцсеть",
         "type": "scatter",
         "x": [
          "2022-02-23T23:11:02.400000",
          "2022-02-26T06:24:00",
          "2022-02-28T12:48:00",
          "2022-03-02T19:12:00",
          "2022-03-05T01:36:00",
          "2022-03-07T08:00:00",
          "2022-03-09T14:24:00",
          "2022-03-11T20:48:00",
          "2022-03-16T09:36:00",
          "2022-03-18T16:00:00",
          "2022-03-20T22:24:00"
         ],
         "y": [
          16,
          5,
          5,
          10,
          1,
          1,
          29,
          13,
          2,
          2,
          17
         ]
        },
        {
         "hoverinfo": "text",
         "hovertext": [
          "<b>Topic 9</b><br>Words: дамаск, ракета, уфигачила, саудиты, асире",
          "<b>Topic 9</b><br>Words: оружиеидет, киевеон, бучмы, гараж, израильтянин",
          "<b>Topic 9</b><br>Words: пониманияракка, манбидж, иракцы, харьковештурмовали, мосулигил",
          "<b>Topic 9</b><br>Words: израильский, эксперт, оперативный, обстановка, состояние",
          "<b>Topic 9</b><br>Words: дамаскусработали, уточняютсяtmervvoenkor, израильский, прогреметь, израиль",
          "<b>Topic 9</b><br>Words: дергачах, дергач, заверять, странно, выбить",
          "<b>Topic 9</b><br>Words: прошляпить, устраняться, эррияда, хуситов, заявляться",
          "<b>Topic 9</b><br>Words: иран, иракский, иранский, эрбиле, ирак",
          "<b>Topic 9</b><br>Words: аллах, arabic, the, священный, имам",
          "<b>Topic 9</b><br>Words: джидда, хуситы, aramco, йеменский, нефтяной",
          "<b>Topic 9</b><br>Words: сила, ислам, аллах, пророк, народ",
          "<b>Topic 9</b><br>Words: аллах, саудовский, имам, всевышний, пятничный",
          "<b>Topic 9</b><br>Words: йеменский, саудовский, аравия, хадера, ансар",
          "<b>Topic 9</b><br>Words: теракт, саудовский, израиле, израиль, бнейбрак"
         ],
         "marker": {
          "color": "#009E73"
         },
         "mode": "lines",
         "name": "9_аллах_иран_саудовский_иракский",
         "type": "scatter",
         "x": [
          "2022-02-23T23:11:02.400000",
          "2022-02-26T06:24:00",
          "2022-02-28T12:48:00",
          "2022-03-02T19:12:00",
          "2022-03-05T01:36:00",
          "2022-03-07T08:00:00",
          "2022-03-09T14:24:00",
          "2022-03-11T20:48:00",
          "2022-03-16T09:36:00",
          "2022-03-18T16:00:00",
          "2022-03-20T22:24:00",
          "2022-03-23T04:48:00",
          "2022-03-25T11:12:00",
          "2022-03-27T17:36:00"
         ],
         "y": [
          2,
          2,
          1,
          1,
          2,
          1,
          1,
          28,
          3,
          1,
          2,
          6,
          5,
          4
         ]
        },
        {
         "hoverinfo": "text",
         "hovertext": [
          "<b>Topic 10</b><br>Words: турция, эрдоган, турецкий, министр, экономика",
          "<b>Topic 10</b><br>Words: турция, турецкий, эрдоган, чавушоглу, кора",
          "<b>Topic 10</b><br>Words: турция, санкция, вводить, россия, планировать",
          "<b>Topic 10</b><br>Words: турция, эрдоган, повлиять, мид, нейтралитет",
          "<b>Topic 10</b><br>Words: турция, эрдоган, турецкий, россия, министр",
          "<b>Topic 10</b><br>Words: турция, мид, турецкий, россия, глава",
          "<b>Topic 10</b><br>Words: турция, сорос, глобализация, санкция, мид",
          "<b>Topic 10</b><br>Words: турция, турецкий, армения, ассоциация, симон",
          "<b>Topic 10</b><br>Words: турция, турецкий, сшаглава, лира, банкомат",
          "<b>Topic 10</b><br>Words: турция, торговля, турецкий, ниша, бренд",
          "<b>Topic 10</b><br>Words: партнера, турция, ситуативный, посредник, сатановский",
          "<b>Topic 10</b><br>Words: турция, переговоров, турецкий, госдеп, россия"
         ],
         "marker": {
          "color": "#F0E442"
         },
         "mode": "lines",
         "name": "10_турция_турецкий_эрдоган_россия",
         "type": "scatter",
         "x": [
          "2022-02-23T23:11:02.400000",
          "2022-02-26T06:24:00",
          "2022-02-28T12:48:00",
          "2022-03-02T19:12:00",
          "2022-03-05T01:36:00",
          "2022-03-09T14:24:00",
          "2022-03-11T20:48:00",
          "2022-03-14T03:12:00",
          "2022-03-20T22:24:00",
          "2022-03-23T04:48:00",
          "2022-03-25T11:12:00",
          "2022-03-27T17:36:00"
         ],
         "y": [
          4,
          3,
          2,
          4,
          6,
          10,
          7,
          4,
          2,
          2,
          1,
          9
         ]
        },
        {
         "hoverinfo": "text",
         "hovertext": [
          "<b>Topic 11</b><br>Words: евросоюз, swift, санкция, австрия, канцлер",
          "<b>Topic 11</b><br>Words: евросоюз, еврокомиссия, актив, санкция, россия",
          "<b>Topic 11</b><br>Words: францииrussian, европыглава, евросоюз, проксивойны, еврокомиссия",
          "<b>Topic 11</b><br>Words: asia, nikkei, санкция, чувствоваться, отчасти",
          "<b>Topic 11</b><br>Words: евросоюза, пожить, маскировать, самоубийство, солидарность",
          "<b>Topic 11</b><br>Words: пари, продержаться, хазин, евросоюз, михаил",
          "<b>Topic 11</b><br>Words: евросоюз, боррель, предел, финансовый, достигнуть",
          "<b>Topic 11</b><br>Words: еврозоюз, боррельперед, страна, слабо, евросоюз",
          "<b>Topic 11</b><br>Words: евросоюз, принятотолстой, европа, автономия, выходе",
          "<b>Topic 11</b><br>Words: сшалавров, отстаивать, независимость, прекратить, практически",
          "<b>Topic 11</b><br>Words: партнерлавров, внеблоковые, ненадёжность, альянсалавров, евросоюз",
          "<b>Topic 11</b><br>Words: це, утренний, европа, евросоюз, санкция",
          "<b>Topic 11</b><br>Words: европейский, демократий, желанийдиректор, симонов, куб",
          "<b>Topic 11</b><br>Words: наружу, выбираться, потихоньку, испания, франция"
         ],
         "marker": {
          "color": "#D55E00"
         },
         "mode": "lines",
         "name": "11_евросоюз_санкция_еврокомиссия_европа",
         "type": "scatter",
         "x": [
          "2022-02-23T23:11:02.400000",
          "2022-02-26T06:24:00",
          "2022-02-28T12:48:00",
          "2022-03-02T19:12:00",
          "2022-03-05T01:36:00",
          "2022-03-07T08:00:00",
          "2022-03-09T14:24:00",
          "2022-03-11T20:48:00",
          "2022-03-14T03:12:00",
          "2022-03-16T09:36:00",
          "2022-03-20T22:24:00",
          "2022-03-23T04:48:00",
          "2022-03-25T11:12:00",
          "2022-03-27T17:36:00"
         ],
         "y": [
          8,
          12,
          3,
          2,
          1,
          1,
          3,
          2,
          3,
          1,
          3,
          1,
          2,
          1
         ]
        },
        {
         "hoverinfo": "text",
         "hovertext": [
          "<b>Topic 12</b><br>Words: референдум, демократия, опасность, настоящий, слабаки",
          "<b>Topic 12</b><br>Words: референдум, конституция, фактно, украиныпохоже, проголосовать",
          "<b>Topic 12</b><br>Words: лживый, демократический, разрушать, миф, свободный",
          "<b>Topic 12</b><br>Words: слабаки, судан, вицепрезидент, тряпка, демократия",
          "<b>Topic 12</b><br>Words: архангельский, собрание, присоединяться, областной, депутат",
          "<b>Topic 12</b><br>Words: демократия, конгресс, надувать, трампистов, популизм",
          "<b>Topic 12</b><br>Words: явка, референдум, республика, абхазия, поздравить",
          "<b>Topic 12</b><br>Words: референдум, херсонский, создание, хнрtmervvoenkor, республикаглава",
          "<b>Topic 12</b><br>Words: референдум, крым, севастополь, состав, президент",
          "<b>Topic 12</b><br>Words: референдум, тогдашний, сср, социалистический, проголосовать",
          "<b>Topic 12</b><br>Words: референдум, керри, переоценивать, демократия, восторжествовать",
          "<b>Topic 12</b><br>Words: союзный, государство, референдум, мариуполь, часть",
          "<b>Topic 12</b><br>Words: референдум, пасечник, республика, лнр, глава",
          "<b>Topic 12</b><br>Words: референдум, осетия, вхождение, южный, состав"
         ],
         "marker": {
          "color": "#0072B2"
         },
         "mode": "lines",
         "name": "12_референдум_республика_демократия_крым",
         "type": "scatter",
         "x": [
          "2022-02-23T23:11:02.400000",
          "2022-02-26T06:24:00",
          "2022-02-28T12:48:00",
          "2022-03-02T19:12:00",
          "2022-03-05T01:36:00",
          "2022-03-07T08:00:00",
          "2022-03-09T14:24:00",
          "2022-03-11T20:48:00",
          "2022-03-14T03:12:00",
          "2022-03-16T09:36:00",
          "2022-03-18T16:00:00",
          "2022-03-23T04:48:00",
          "2022-03-25T11:12:00",
          "2022-03-27T17:36:00"
         ],
         "y": [
          6,
          3,
          1,
          2,
          1,
          2,
          2,
          1,
          3,
          2,
          3,
          1,
          7,
          8
         ]
        },
        {
         "hoverinfo": "text",
         "hovertext": [
          "<b>Topic 13</b><br>Words: русофобия, дискриминация, русский, bone, аудиториик",
          "<b>Topic 13</b><br>Words: бердянск, народ, ато, брод, спина",
          "<b>Topic 13</b><br>Words: страна, гергиев, человек, дирижёр, филармонический",
          "<b>Topic 13</b><br>Words: дискриминация, право, нарушение, свобода, русский",
          "<b>Topic 13</b><br>Words: соболь, госизменники, борец, коррупция, мать",
          "<b>Topic 13</b><br>Words: русский, чепуха, русофобия, стыдно, ненависть",
          "<b>Topic 13</b><br>Words: вагнер, русский, доброволец, привлечение, человечество",
          "<b>Topic 13</b><br>Words: юнеско, притеснение, культура, русский, язык",
          "<b>Topic 13</b><br>Words: дискриминация, милов, беглый, милова, страна",
          "<b>Topic 13</b><br>Words: русофобия, нацист, флаг, страна, россия",
          "<b>Topic 13</b><br>Words: вакханалия, антирусский, хамство, германия, противно",
          "<b>Topic 13</b><br>Words: гражданство, вклад, счёт, дискриминировать, тюрьмыещё",
          "<b>Topic 13</b><br>Words: яблоко, яблочник, человек, экстремист, россия"
         ],
         "marker": {
          "color": "#CC79A7"
         },
         "mode": "lines",
         "name": "13_дискриминация_русский_страна_культура",
         "type": "scatter",
         "x": [
          "2022-02-23T23:11:02.400000",
          "2022-02-26T06:24:00",
          "2022-02-28T12:48:00",
          "2022-03-02T19:12:00",
          "2022-03-05T01:36:00",
          "2022-03-09T14:24:00",
          "2022-03-11T20:48:00",
          "2022-03-14T03:12:00",
          "2022-03-16T09:36:00",
          "2022-03-20T22:24:00",
          "2022-03-23T04:48:00",
          "2022-03-25T11:12:00",
          "2022-03-27T17:36:00"
         ],
         "y": [
          3,
          3,
          4,
          5,
          1,
          4,
          3,
          1,
          4,
          7,
          3,
          1,
          2
         ]
        },
        {
         "hoverinfo": "text",
         "hovertext": [
          "<b>Topic 14</b><br>Words: потребительский, товар, коммуникационный, модем, электроника",
          "<b>Topic 14</b><br>Words: устройство, google, смартфон, ограничение, михайлов",
          "<b>Topic 14</b><br>Words: корея, южный, samsung, товар, санкция",
          "<b>Topic 14</b><br>Words: violates, terms, message, device, couldnt",
          "<b>Topic 14</b><br>Words: violates, terms, message, device, couldnt",
          "<b>Topic 14</b><br>Words: ketaриа, путешественник, авторизация, безвизовый, корея",
          "<b>Topic 14</b><br>Words: ким, предстартовый, северокорейский, детище, hwasongphoкак"
         ],
         "marker": {
          "color": "#E69F00"
         },
         "mode": "lines",
         "name": "14_terms_couldnt_device_message",
         "type": "scatter",
         "x": [
          "2022-02-26T06:24:00",
          "2022-02-28T12:48:00",
          "2022-03-02T19:12:00",
          "2022-03-05T01:36:00",
          "2022-03-11T20:48:00",
          "2022-03-20T22:24:00",
          "2022-03-23T04:48:00"
         ],
         "y": [
          1,
          1,
          12,
          6,
          6,
          1,
          1
         ]
        },
        {
         "hoverinfo": "text",
         "hovertext": [
          "<b>Topic 15</b><br>Words: google, приземление, зарегистрировать, кабинет, роскомнадзор",
          "<b>Topic 15</b><br>Words: google, приостанавливать, ads, нафтобаза, мапс",
          "<b>Topic 15</b><br>Words: google, купертино, венедиктовчекистская, связать, эфира",
          "<b>Topic 15</b><br>Words: google, стримы, запускать, доступнаyoutube, головановтрансляция",
          "<b>Topic 15</b><br>Words: google, функционал, видеохостинг, youtube, поиск",
          "<b>Topic 15</b><br>Words: google, приложение, госканалы, ютубу, видеосервис",
          "<b>Topic 15</b><br>Words: google, рекламный, роскомнадзор, распространение, youtube",
          "<b>Topic 15</b><br>Words: google, технологический, незамедлительно, роскомнадзор, воздействие",
          "<b>Topic 15</b><br>Words: googlenews, уклон, закономерный, деградация, google",
          "<b>Topic 15</b><br>Words: google, дно, пробить, реклама, набор"
         ],
         "marker": {
          "color": "#56B4E9"
         },
         "mode": "lines",
         "name": "15_google_youtube_приложение_роскомнадзо...",
         "type": "scatter",
         "x": [
          "2022-02-23T23:11:02.400000",
          "2022-02-26T06:24:00",
          "2022-02-28T12:48:00",
          "2022-03-02T19:12:00",
          "2022-03-07T08:00:00",
          "2022-03-09T14:24:00",
          "2022-03-16T09:36:00",
          "2022-03-18T16:00:00",
          "2022-03-20T22:24:00",
          "2022-03-23T04:48:00"
         ],
         "y": [
          1,
          5,
          2,
          4,
          1,
          2,
          1,
          1,
          1,
          1
         ]
        },
        {
         "hoverinfo": "text",
         "hovertext": [
          "<b>Topic 16</b><br>Words: украинезаявление, макдоналдс, ресторан, закрывать, mcdonalds",
          "<b>Topic 16</b><br>Words: metro, гипермаркет, прекращать, сеть, планировать",
          "<b>Topic 16</b><br>Words: пражский, отречение, ресторан, унижение, подвергать",
          "<b>Topic 16</b><br>Words: ресторан, mcdonalds, kfc, сеть, закрытие",
          "<b>Topic 16</b><br>Words: mcdonalds, месяцаисточник, ресторан, выплачивать, закрыться",
          "<b>Topic 16</b><br>Words: испаниясанкции, теремок, макарон, макдональдс, пачка",
          "<b>Topic 16</b><br>Words: грант, собянин, быстрый, выделить, питание",
          "<b>Topic 16</b><br>Words: mcdonalds, бердск, украинемакдоны, барнаул, компанияфранчайзи",
          "<b>Topic 16</b><br>Words: mcdonalds, тимати, сеть, масштаб, фастфуд",
          "<b>Topic 16</b><br>Words: рынокifors, research, фастфуд, москве, потребитель"
         ],
         "marker": {
          "color": "#009E73"
         },
         "mode": "lines",
         "name": "16_mcdonalds_ресторан_сеть_тимати",
         "type": "scatter",
         "x": [
          "2022-02-23T23:11:02.400000",
          "2022-03-02T19:12:00",
          "2022-03-05T01:36:00",
          "2022-03-07T08:00:00",
          "2022-03-09T14:24:00",
          "2022-03-11T20:48:00",
          "2022-03-14T03:12:00",
          "2022-03-16T09:36:00",
          "2022-03-20T22:24:00",
          "2022-03-27T17:36:00"
         ],
         "y": [
          1,
          1,
          1,
          7,
          2,
          2,
          1,
          1,
          1,
          1
         ]
        },
        {
         "hoverinfo": "text",
         "hovertext": [
          "<b>Topic 17</b><br>Words: ботtvbot, бот, зритель, ztv, прислать",
          "<b>Topic 17</b><br>Words: ботtvbot, зритель, прислать, материал, фото"
         ],
         "marker": {
          "color": "#F0E442"
         },
         "mode": "lines",
         "name": "17_ботtvbot_зритель_прислать_ztv",
         "type": "scatter",
         "x": [
          "2022-03-25T11:12:00",
          "2022-03-27T17:36:00"
         ],
         "y": [
          6,
          8
         ]
        },
        {
         "hoverinfo": "text",
         "hovertext": [
          "<b>Topic 18</b><br>Words: грузия, циликишвили, грузинский, грузин, вмешаться",
          "<b>Topic 18</b><br>Words: грузия, соображение, грузины, прагматик, прагматический",
          "<b>Topic 18</b><br>Words: грузия, отзывать, посол, грузин, киргизия",
          "<b>Topic 18</b><br>Words: грузин, грузия, папа, грузинский, заступлюсь",
          "<b>Topic 18</b><br>Words: грузия, опрос, gorbi, неприсоединение, суждение",
          "<b>Topic 18</b><br>Words: грузия, папуашвили, телеканале, шалва, какихнибудь",
          "<b>Topic 18</b><br>Words: грузия, абхазия, повышенный, учение, готовность"
         ],
         "marker": {
          "color": "#D55E00"
         },
         "mode": "lines",
         "name": "18_грузия_грузин_грузинский_санкция",
         "type": "scatter",
         "x": [
          "2022-02-23T23:11:02.400000",
          "2022-02-26T06:24:00",
          "2022-02-28T12:48:00",
          "2022-03-18T16:00:00",
          "2022-03-20T22:24:00",
          "2022-03-23T04:48:00",
          "2022-03-25T11:12:00"
         ],
         "y": [
          4,
          2,
          3,
          1,
          1,
          1,
          1
         ]
        }
       ],
       "layout": {
        "height": 450,
        "hoverlabel": {
         "bgcolor": "white",
         "font": {
          "family": "Rockwell",
          "size": 16
         }
        },
        "legend": {
         "title": {
          "text": "<b>Global Topic Representation"
         }
        },
        "template": {
         "data": {
          "bar": [
           {
            "error_x": {
             "color": "rgb(36,36,36)"
            },
            "error_y": {
             "color": "rgb(36,36,36)"
            },
            "marker": {
             "line": {
              "color": "white",
              "width": 0.5
             },
             "pattern": {
              "fillmode": "overlay",
              "size": 10,
              "solidity": 0.2
             }
            },
            "type": "bar"
           }
          ],
          "barpolar": [
           {
            "marker": {
             "line": {
              "color": "white",
              "width": 0.5
             },
             "pattern": {
              "fillmode": "overlay",
              "size": 10,
              "solidity": 0.2
             }
            },
            "type": "barpolar"
           }
          ],
          "carpet": [
           {
            "aaxis": {
             "endlinecolor": "rgb(36,36,36)",
             "gridcolor": "white",
             "linecolor": "white",
             "minorgridcolor": "white",
             "startlinecolor": "rgb(36,36,36)"
            },
            "baxis": {
             "endlinecolor": "rgb(36,36,36)",
             "gridcolor": "white",
             "linecolor": "white",
             "minorgridcolor": "white",
             "startlinecolor": "rgb(36,36,36)"
            },
            "type": "carpet"
           }
          ],
          "choropleth": [
           {
            "colorbar": {
             "outlinewidth": 1,
             "tickcolor": "rgb(36,36,36)",
             "ticks": "outside"
            },
            "type": "choropleth"
           }
          ],
          "contour": [
           {
            "colorbar": {
             "outlinewidth": 1,
             "tickcolor": "rgb(36,36,36)",
             "ticks": "outside"
            },
            "colorscale": [
             [
              0,
              "#440154"
             ],
             [
              0.1111111111111111,
              "#482878"
             ],
             [
              0.2222222222222222,
              "#3e4989"
             ],
             [
              0.3333333333333333,
              "#31688e"
             ],
             [
              0.4444444444444444,
              "#26828e"
             ],
             [
              0.5555555555555556,
              "#1f9e89"
             ],
             [
              0.6666666666666666,
              "#35b779"
             ],
             [
              0.7777777777777778,
              "#6ece58"
             ],
             [
              0.8888888888888888,
              "#b5de2b"
             ],
             [
              1,
              "#fde725"
             ]
            ],
            "type": "contour"
           }
          ],
          "contourcarpet": [
           {
            "colorbar": {
             "outlinewidth": 1,
             "tickcolor": "rgb(36,36,36)",
             "ticks": "outside"
            },
            "type": "contourcarpet"
           }
          ],
          "heatmap": [
           {
            "colorbar": {
             "outlinewidth": 1,
             "tickcolor": "rgb(36,36,36)",
             "ticks": "outside"
            },
            "colorscale": [
             [
              0,
              "#440154"
             ],
             [
              0.1111111111111111,
              "#482878"
             ],
             [
              0.2222222222222222,
              "#3e4989"
             ],
             [
              0.3333333333333333,
              "#31688e"
             ],
             [
              0.4444444444444444,
              "#26828e"
             ],
             [
              0.5555555555555556,
              "#1f9e89"
             ],
             [
              0.6666666666666666,
              "#35b779"
             ],
             [
              0.7777777777777778,
              "#6ece58"
             ],
             [
              0.8888888888888888,
              "#b5de2b"
             ],
             [
              1,
              "#fde725"
             ]
            ],
            "type": "heatmap"
           }
          ],
          "heatmapgl": [
           {
            "colorbar": {
             "outlinewidth": 1,
             "tickcolor": "rgb(36,36,36)",
             "ticks": "outside"
            },
            "colorscale": [
             [
              0,
              "#440154"
             ],
             [
              0.1111111111111111,
              "#482878"
             ],
             [
              0.2222222222222222,
              "#3e4989"
             ],
             [
              0.3333333333333333,
              "#31688e"
             ],
             [
              0.4444444444444444,
              "#26828e"
             ],
             [
              0.5555555555555556,
              "#1f9e89"
             ],
             [
              0.6666666666666666,
              "#35b779"
             ],
             [
              0.7777777777777778,
              "#6ece58"
             ],
             [
              0.8888888888888888,
              "#b5de2b"
             ],
             [
              1,
              "#fde725"
             ]
            ],
            "type": "heatmapgl"
           }
          ],
          "histogram": [
           {
            "marker": {
             "line": {
              "color": "white",
              "width": 0.6
             }
            },
            "type": "histogram"
           }
          ],
          "histogram2d": [
           {
            "colorbar": {
             "outlinewidth": 1,
             "tickcolor": "rgb(36,36,36)",
             "ticks": "outside"
            },
            "colorscale": [
             [
              0,
              "#440154"
             ],
             [
              0.1111111111111111,
              "#482878"
             ],
             [
              0.2222222222222222,
              "#3e4989"
             ],
             [
              0.3333333333333333,
              "#31688e"
             ],
             [
              0.4444444444444444,
              "#26828e"
             ],
             [
              0.5555555555555556,
              "#1f9e89"
             ],
             [
              0.6666666666666666,
              "#35b779"
             ],
             [
              0.7777777777777778,
              "#6ece58"
             ],
             [
              0.8888888888888888,
              "#b5de2b"
             ],
             [
              1,
              "#fde725"
             ]
            ],
            "type": "histogram2d"
           }
          ],
          "histogram2dcontour": [
           {
            "colorbar": {
             "outlinewidth": 1,
             "tickcolor": "rgb(36,36,36)",
             "ticks": "outside"
            },
            "colorscale": [
             [
              0,
              "#440154"
             ],
             [
              0.1111111111111111,
              "#482878"
             ],
             [
              0.2222222222222222,
              "#3e4989"
             ],
             [
              0.3333333333333333,
              "#31688e"
             ],
             [
              0.4444444444444444,
              "#26828e"
             ],
             [
              0.5555555555555556,
              "#1f9e89"
             ],
             [
              0.6666666666666666,
              "#35b779"
             ],
             [
              0.7777777777777778,
              "#6ece58"
             ],
             [
              0.8888888888888888,
              "#b5de2b"
             ],
             [
              1,
              "#fde725"
             ]
            ],
            "type": "histogram2dcontour"
           }
          ],
          "mesh3d": [
           {
            "colorbar": {
             "outlinewidth": 1,
             "tickcolor": "rgb(36,36,36)",
             "ticks": "outside"
            },
            "type": "mesh3d"
           }
          ],
          "parcoords": [
           {
            "line": {
             "colorbar": {
              "outlinewidth": 1,
              "tickcolor": "rgb(36,36,36)",
              "ticks": "outside"
             }
            },
            "type": "parcoords"
           }
          ],
          "pie": [
           {
            "automargin": true,
            "type": "pie"
           }
          ],
          "scatter": [
           {
            "fillpattern": {
             "fillmode": "overlay",
             "size": 10,
             "solidity": 0.2
            },
            "type": "scatter"
           }
          ],
          "scatter3d": [
           {
            "line": {
             "colorbar": {
              "outlinewidth": 1,
              "tickcolor": "rgb(36,36,36)",
              "ticks": "outside"
             }
            },
            "marker": {
             "colorbar": {
              "outlinewidth": 1,
              "tickcolor": "rgb(36,36,36)",
              "ticks": "outside"
             }
            },
            "type": "scatter3d"
           }
          ],
          "scattercarpet": [
           {
            "marker": {
             "colorbar": {
              "outlinewidth": 1,
              "tickcolor": "rgb(36,36,36)",
              "ticks": "outside"
             }
            },
            "type": "scattercarpet"
           }
          ],
          "scattergeo": [
           {
            "marker": {
             "colorbar": {
              "outlinewidth": 1,
              "tickcolor": "rgb(36,36,36)",
              "ticks": "outside"
             }
            },
            "type": "scattergeo"
           }
          ],
          "scattergl": [
           {
            "marker": {
             "colorbar": {
              "outlinewidth": 1,
              "tickcolor": "rgb(36,36,36)",
              "ticks": "outside"
             }
            },
            "type": "scattergl"
           }
          ],
          "scattermapbox": [
           {
            "marker": {
             "colorbar": {
              "outlinewidth": 1,
              "tickcolor": "rgb(36,36,36)",
              "ticks": "outside"
             }
            },
            "type": "scattermapbox"
           }
          ],
          "scatterpolar": [
           {
            "marker": {
             "colorbar": {
              "outlinewidth": 1,
              "tickcolor": "rgb(36,36,36)",
              "ticks": "outside"
             }
            },
            "type": "scatterpolar"
           }
          ],
          "scatterpolargl": [
           {
            "marker": {
             "colorbar": {
              "outlinewidth": 1,
              "tickcolor": "rgb(36,36,36)",
              "ticks": "outside"
             }
            },
            "type": "scatterpolargl"
           }
          ],
          "scatterternary": [
           {
            "marker": {
             "colorbar": {
              "outlinewidth": 1,
              "tickcolor": "rgb(36,36,36)",
              "ticks": "outside"
             }
            },
            "type": "scatterternary"
           }
          ],
          "surface": [
           {
            "colorbar": {
             "outlinewidth": 1,
             "tickcolor": "rgb(36,36,36)",
             "ticks": "outside"
            },
            "colorscale": [
             [
              0,
              "#440154"
             ],
             [
              0.1111111111111111,
              "#482878"
             ],
             [
              0.2222222222222222,
              "#3e4989"
             ],
             [
              0.3333333333333333,
              "#31688e"
             ],
             [
              0.4444444444444444,
              "#26828e"
             ],
             [
              0.5555555555555556,
              "#1f9e89"
             ],
             [
              0.6666666666666666,
              "#35b779"
             ],
             [
              0.7777777777777778,
              "#6ece58"
             ],
             [
              0.8888888888888888,
              "#b5de2b"
             ],
             [
              1,
              "#fde725"
             ]
            ],
            "type": "surface"
           }
          ],
          "table": [
           {
            "cells": {
             "fill": {
              "color": "rgb(237,237,237)"
             },
             "line": {
              "color": "white"
             }
            },
            "header": {
             "fill": {
              "color": "rgb(217,217,217)"
             },
             "line": {
              "color": "white"
             }
            },
            "type": "table"
           }
          ]
         },
         "layout": {
          "annotationdefaults": {
           "arrowhead": 0,
           "arrowwidth": 1
          },
          "autotypenumbers": "strict",
          "coloraxis": {
           "colorbar": {
            "outlinewidth": 1,
            "tickcolor": "rgb(36,36,36)",
            "ticks": "outside"
           }
          },
          "colorscale": {
           "diverging": [
            [
             0,
             "rgb(103,0,31)"
            ],
            [
             0.1,
             "rgb(178,24,43)"
            ],
            [
             0.2,
             "rgb(214,96,77)"
            ],
            [
             0.3,
             "rgb(244,165,130)"
            ],
            [
             0.4,
             "rgb(253,219,199)"
            ],
            [
             0.5,
             "rgb(247,247,247)"
            ],
            [
             0.6,
             "rgb(209,229,240)"
            ],
            [
             0.7,
             "rgb(146,197,222)"
            ],
            [
             0.8,
             "rgb(67,147,195)"
            ],
            [
             0.9,
             "rgb(33,102,172)"
            ],
            [
             1,
             "rgb(5,48,97)"
            ]
           ],
           "sequential": [
            [
             0,
             "#440154"
            ],
            [
             0.1111111111111111,
             "#482878"
            ],
            [
             0.2222222222222222,
             "#3e4989"
            ],
            [
             0.3333333333333333,
             "#31688e"
            ],
            [
             0.4444444444444444,
             "#26828e"
            ],
            [
             0.5555555555555556,
             "#1f9e89"
            ],
            [
             0.6666666666666666,
             "#35b779"
            ],
            [
             0.7777777777777778,
             "#6ece58"
            ],
            [
             0.8888888888888888,
             "#b5de2b"
            ],
            [
             1,
             "#fde725"
            ]
           ],
           "sequentialminus": [
            [
             0,
             "#440154"
            ],
            [
             0.1111111111111111,
             "#482878"
            ],
            [
             0.2222222222222222,
             "#3e4989"
            ],
            [
             0.3333333333333333,
             "#31688e"
            ],
            [
             0.4444444444444444,
             "#26828e"
            ],
            [
             0.5555555555555556,
             "#1f9e89"
            ],
            [
             0.6666666666666666,
             "#35b779"
            ],
            [
             0.7777777777777778,
             "#6ece58"
            ],
            [
             0.8888888888888888,
             "#b5de2b"
            ],
            [
             1,
             "#fde725"
            ]
           ]
          },
          "colorway": [
           "#1F77B4",
           "#FF7F0E",
           "#2CA02C",
           "#D62728",
           "#9467BD",
           "#8C564B",
           "#E377C2",
           "#7F7F7F",
           "#BCBD22",
           "#17BECF"
          ],
          "font": {
           "color": "rgb(36,36,36)"
          },
          "geo": {
           "bgcolor": "white",
           "lakecolor": "white",
           "landcolor": "white",
           "showlakes": true,
           "showland": true,
           "subunitcolor": "white"
          },
          "hoverlabel": {
           "align": "left"
          },
          "hovermode": "closest",
          "mapbox": {
           "style": "light"
          },
          "paper_bgcolor": "white",
          "plot_bgcolor": "white",
          "polar": {
           "angularaxis": {
            "gridcolor": "rgb(232,232,232)",
            "linecolor": "rgb(36,36,36)",
            "showgrid": false,
            "showline": true,
            "ticks": "outside"
           },
           "bgcolor": "white",
           "radialaxis": {
            "gridcolor": "rgb(232,232,232)",
            "linecolor": "rgb(36,36,36)",
            "showgrid": false,
            "showline": true,
            "ticks": "outside"
           }
          },
          "scene": {
           "xaxis": {
            "backgroundcolor": "white",
            "gridcolor": "rgb(232,232,232)",
            "gridwidth": 2,
            "linecolor": "rgb(36,36,36)",
            "showbackground": true,
            "showgrid": false,
            "showline": true,
            "ticks": "outside",
            "zeroline": false,
            "zerolinecolor": "rgb(36,36,36)"
           },
           "yaxis": {
            "backgroundcolor": "white",
            "gridcolor": "rgb(232,232,232)",
            "gridwidth": 2,
            "linecolor": "rgb(36,36,36)",
            "showbackground": true,
            "showgrid": false,
            "showline": true,
            "ticks": "outside",
            "zeroline": false,
            "zerolinecolor": "rgb(36,36,36)"
           },
           "zaxis": {
            "backgroundcolor": "white",
            "gridcolor": "rgb(232,232,232)",
            "gridwidth": 2,
            "linecolor": "rgb(36,36,36)",
            "showbackground": true,
            "showgrid": false,
            "showline": true,
            "ticks": "outside",
            "zeroline": false,
            "zerolinecolor": "rgb(36,36,36)"
           }
          },
          "shapedefaults": {
           "fillcolor": "black",
           "line": {
            "width": 0
           },
           "opacity": 0.3
          },
          "ternary": {
           "aaxis": {
            "gridcolor": "rgb(232,232,232)",
            "linecolor": "rgb(36,36,36)",
            "showgrid": false,
            "showline": true,
            "ticks": "outside"
           },
           "baxis": {
            "gridcolor": "rgb(232,232,232)",
            "linecolor": "rgb(36,36,36)",
            "showgrid": false,
            "showline": true,
            "ticks": "outside"
           },
           "bgcolor": "white",
           "caxis": {
            "gridcolor": "rgb(232,232,232)",
            "linecolor": "rgb(36,36,36)",
            "showgrid": false,
            "showline": true,
            "ticks": "outside"
           }
          },
          "title": {
           "x": 0.05
          },
          "xaxis": {
           "automargin": true,
           "gridcolor": "rgb(232,232,232)",
           "linecolor": "rgb(36,36,36)",
           "showgrid": false,
           "showline": true,
           "ticks": "outside",
           "title": {
            "standoff": 15
           },
           "zeroline": false,
           "zerolinecolor": "rgb(36,36,36)"
          },
          "yaxis": {
           "automargin": true,
           "gridcolor": "rgb(232,232,232)",
           "linecolor": "rgb(36,36,36)",
           "showgrid": false,
           "showline": true,
           "ticks": "outside",
           "title": {
            "standoff": 15
           },
           "zeroline": false,
           "zerolinecolor": "rgb(36,36,36)"
          }
         }
        },
        "title": {
         "font": {
          "color": "Black",
          "size": 22
         },
         "text": "<b>Topics over Time</b>",
         "x": 0.4,
         "xanchor": "center",
         "y": 0.95,
         "yanchor": "top"
        },
        "width": 1250,
        "xaxis": {
         "showgrid": true
        },
        "yaxis": {
         "showgrid": true,
         "title": {
          "text": "Frequency"
         }
        }
       }
      },
      "text/html": [
       "<div>                            <div id=\"345adcee-6779-4672-8078-f2c5d40f5960\" class=\"plotly-graph-div\" style=\"height:450px; width:1250px;\"></div>            <script type=\"text/javascript\">                require([\"plotly\"], function(Plotly) {                    window.PLOTLYENV=window.PLOTLYENV || {};                                    if (document.getElementById(\"345adcee-6779-4672-8078-f2c5d40f5960\")) {                    Plotly.newPlot(                        \"345adcee-6779-4672-8078-f2c5d40f5960\",                        [{\"hoverinfo\":\"text\",\"hovertext\":[\"<b>Topic 0</b><br>Words: \\u0443\\u043a\\u0440\\u0430\\u0438\\u043d\\u0430, \\u0440\\u043e\\u0441\\u0441\\u0438\\u0439\\u0441\\u043a\\u0438\\u0439, \\u0440\\u043e\\u0441\\u0441\\u0438\\u044f, \\u0432\\u0441\\u0443, \\u0432\\u043e\\u0435\\u043d\\u043d\\u044b\\u0439\",\"<b>Topic 0</b><br>Words: \\u0443\\u043a\\u0440\\u0430\\u0438\\u043d\\u0430, \\u0440\\u043e\\u0441\\u0441\\u0438\\u044f, \\u0440\\u043e\\u0441\\u0441\\u0438\\u0439\\u0441\\u043a\\u0438\\u0439, \\u0440\\u0444, \\u0432\\u0441\\u0443\",\"<b>Topic 0</b><br>Words: \\u0443\\u043a\\u0440\\u0430\\u0438\\u043d\\u0430, \\u0440\\u043e\\u0441\\u0441\\u0438\\u0439\\u0441\\u043a\\u0438\\u0439, \\u0440\\u043e\\u0441\\u0441\\u0438\\u044f, \\u0432\\u043e\\u0435\\u043d\\u043d\\u044b\\u0439, \\u0433\\u043e\\u0440\\u043e\\u0434\",\"<b>Topic 0</b><br>Words: \\u0443\\u043a\\u0440\\u0430\\u0438\\u043d\\u0430, \\u0440\\u043e\\u0441\\u0441\\u0438\\u044f, \\u0440\\u043e\\u0441\\u0441\\u0438\\u0439\\u0441\\u043a\\u0438\\u0439, \\u0433\\u043e\\u0440\\u043e\\u0434, \\u0432\\u043e\\u0435\\u043d\\u043d\\u044b\\u0439\",\"<b>Topic 0</b><br>Words: \\u0443\\u043a\\u0440\\u0430\\u0438\\u043d\\u0430, \\u0440\\u043e\\u0441\\u0441\\u0438\\u044f, \\u0440\\u0444, \\u0440\\u043e\\u0441\\u0441\\u0438\\u0439\\u0441\\u043a\\u0438\\u0439, \\u043a\\u0438\\u0435\\u0432\",\"<b>Topic 0</b><br>Words: \\u0443\\u043a\\u0440\\u0430\\u0438\\u043d\\u0430, \\u0440\\u043e\\u0441\\u0441\\u0438\\u044f, \\u0440\\u043e\\u0441\\u0441\\u0438\\u0439\\u0441\\u043a\\u0438\\u0439, \\u0432\\u043e\\u0435\\u043d\\u043d\\u044b\\u0439, \\u0440\\u0444\",\"<b>Topic 0</b><br>Words: \\u0443\\u043a\\u0440\\u0430\\u0438\\u043d\\u0430, \\u0440\\u043e\\u0441\\u0441\\u0438\\u044f, \\u0432\\u0441\\u0443, \\u0432\\u043e\\u0435\\u043d\\u043d\\u044b\\u0439, \\u0440\\u043e\\u0441\\u0441\\u0438\\u0439\\u0441\\u043a\\u0438\\u0439\",\"<b>Topic 0</b><br>Words: \\u0443\\u043a\\u0440\\u0430\\u0438\\u043d\\u0430, \\u0440\\u043e\\u0441\\u0441\\u0438\\u044f, \\u0433\\u043e\\u0440\\u043e\\u0434, \\u0432\\u043e\\u0435\\u043d\\u043d\\u044b\\u0439, \\u0432\\u0441\\u0443\",\"<b>Topic 0</b><br>Words: \\u0443\\u043a\\u0440\\u0430\\u0438\\u043d\\u0430, \\u0440\\u043e\\u0441\\u0441\\u0438\\u044f, \\u0440\\u043e\\u0441\\u0441\\u0438\\u0439\\u0441\\u043a\\u0438\\u0439, \\u0433\\u043e\\u0440\\u043e\\u0434, \\u0432\\u043e\\u0435\\u043d\\u043d\\u044b\\u0439\",\"<b>Topic 0</b><br>Words: \\u0443\\u043a\\u0440\\u0430\\u0438\\u043d\\u0430, \\u0440\\u043e\\u0441\\u0441\\u0438\\u044f, \\u0440\\u043e\\u0441\\u0441\\u0438\\u0439\\u0441\\u043a\\u0438\\u0439, \\u0432\\u043e\\u0435\\u043d\\u043d\\u044b\\u0439, \\u0433\\u043e\\u0440\\u043e\\u0434\",\"<b>Topic 0</b><br>Words: \\u0443\\u043a\\u0440\\u0430\\u0438\\u043d\\u0430, \\u0440\\u043e\\u0441\\u0441\\u0438\\u044f, \\u0432\\u043e\\u0435\\u043d\\u043d\\u044b\\u0439, \\u0432\\u0441\\u0443, \\u0440\\u0444\",\"<b>Topic 0</b><br>Words: \\u0443\\u043a\\u0440\\u0430\\u0438\\u043d\\u0430, \\u0440\\u043e\\u0441\\u0441\\u0438\\u044f, \\u0432\\u043e\\u0435\\u043d\\u043d\\u044b\\u0439, \\u0433\\u043e\\u0440\\u043e\\u0434, \\u0440\\u0444\",\"<b>Topic 0</b><br>Words: \\u0443\\u043a\\u0440\\u0430\\u0438\\u043d\\u0430, \\u0440\\u043e\\u0441\\u0441\\u0438\\u044f, \\u0432\\u043e\\u0435\\u043d\\u043d\\u044b\\u0439, \\u0440\\u043e\\u0441\\u0441\\u0438\\u0439\\u0441\\u043a\\u0438\\u0439, \\u0440\\u0444\",\"<b>Topic 0</b><br>Words: \\u0440\\u043e\\u0441\\u0441\\u0438\\u044f, \\u0443\\u043a\\u0440\\u0430\\u0438\\u043d\\u0430, \\u0432\\u043e\\u0435\\u043d\\u043d\\u044b\\u0439, \\u0440\\u043e\\u0441\\u0441\\u0438\\u0439\\u0441\\u043a\\u0438\\u0439, \\u0432\\u0441\\u0443\",\"<b>Topic 0</b><br>Words: \\u0443\\u043a\\u0440\\u0430\\u0438\\u043d\\u0430, \\u0440\\u043e\\u0441\\u0441\\u0438\\u044f, \\u0432\\u043e\\u0435\\u043d\\u043d\\u044b\\u0439, \\u0440\\u043e\\u0441\\u0441\\u0438\\u0439\\u0441\\u043a\\u0438\\u0439, \\u0440\\u0444\"],\"marker\":{\"color\":\"#E69F00\"},\"mode\":\"lines\",\"name\":\"0_\\u0443\\u043a\\u0440\\u0430\\u0438\\u043d\\u0430_\\u0440\\u043e\\u0441\\u0441\\u0438\\u044f_\\u0440\\u043e\\u0441\\u0441\\u0438\\u0439\\u0441\\u043a\\u0438\\u0439_\\u0432\\u043e\\u0435\\u043d\\u043d\\u044b\\u0439\",\"x\":[\"2022-02-23T23:11:02.400000\",\"2022-02-26T06:24:00\",\"2022-02-28T12:48:00\",\"2022-03-02T19:12:00\",\"2022-03-05T01:36:00\",\"2022-03-07T08:00:00\",\"2022-03-09T14:24:00\",\"2022-03-11T20:48:00\",\"2022-03-14T03:12:00\",\"2022-03-16T09:36:00\",\"2022-03-18T16:00:00\",\"2022-03-20T22:24:00\",\"2022-03-23T04:48:00\",\"2022-03-25T11:12:00\",\"2022-03-27T17:36:00\"],\"y\":[1123,644,533,732,451,385,404,588,408,390,341,514,349,335,512],\"type\":\"scatter\"},{\"hoverinfo\":\"text\",\"hovertext\":[\"<b>Topic 1</b><br>Words: \\u0433\\u0430\\u0437, \\u0441\\u0431\\u0435\\u0440\\u0431\\u0430\\u043d\\u043a, \\u0446\\u0435\\u043d\\u0430, \\u0431\\u0430\\u043d\\u043a, swift\",\"<b>Topic 1</b><br>Words: \\u0433\\u0430\\u0437, \\u0431\\u0430\\u043d\\u043a, \\u0440\\u0443\\u0431\\u043b\\u044c, \\u0444\\u0438\\u043d\\u0430\\u043d\\u0441\\u043e\\u0432\\u044b\\u0439, \\u0441\\u0442\\u0440\\u0430\\u043d\\u0430\",\"<b>Topic 1</b><br>Words: \\u0433\\u0430\\u0437, \\u0431\\u0438\\u0437\\u043d\\u0435\\u0441, \\u043c\\u0438\\u0448\\u0443\\u0441\\u0442\\u0438\\u043d, \\u0446\\u0435\\u043d\\u0430, \\u043f\\u0440\\u0430\\u0432\\u0438\\u0442\\u0435\\u043b\\u044c\\u0441\\u0442\\u0432\\u043e\",\"<b>Topic 1</b><br>Words: \\u0433\\u0430\\u0437, \\u043a\\u043e\\u043c\\u043f\\u0430\\u043d\\u0438\\u044f, \\u0435\\u0432\\u0440\\u043e\\u043f\\u0430, \\u044d\\u043a\\u043e\\u043d\\u043e\\u043c\\u0438\\u0447\\u0435\\u0441\\u043a\\u0438\\u0439, \\u0440\\u043e\\u0441\\u0441\\u0438\\u044f\",\"<b>Topic 1</b><br>Words: \\u0433\\u0430\\u0437, \\u0446\\u0435\\u043d\\u0430, \\u0435\\u0432\\u0440\\u043e\\u043f\\u0430, \\u043d\\u0435\\u0444\\u0442\\u044c, \\u0440\\u043e\\u0441\\u0441\\u0438\\u044f\",\"<b>Topic 1</b><br>Words: \\u0433\\u0430\\u0437, \\u0446\\u0435\\u043d\\u0430, \\u043d\\u0435\\u0444\\u0442\\u044c, \\u0432\\u0430\\u043b\\u044e\\u0442\\u0430, \\u0434\\u043e\\u043b\\u043b\\u0430\\u0440\",\"<b>Topic 1</b><br>Words: \\u0433\\u0430\\u0437, \\u0446\\u0435\\u043d\\u0430, \\u0431\\u0430\\u043d\\u043a, \\u0440\\u043e\\u0441\\u0441\\u0438\\u044f, \\u044d\\u043a\\u043e\\u043d\\u043e\\u043c\\u0438\\u043a\\u0430\",\"<b>Topic 1</b><br>Words: \\u0446\\u0435\\u043d\\u0430, \\u0432\\u0430\\u043b\\u044e\\u0442\\u0430, \\u0433\\u0430\\u0437, \\u0440\\u0443\\u0431\\u043b\\u044c, \\u0431\\u0435\\u043d\\u0437\\u0438\\u043d\",\"<b>Topic 1</b><br>Words: \\u044d\\u043a\\u043e\\u043d\\u043e\\u043c\\u0438\\u043a\\u0430, \\u0440\\u0443\\u0431\\u043b\\u044c, \\u0433\\u0430\\u0437, \\u0440\\u043e\\u0441\\u0441\\u0438\\u044f, \\u043d\\u043e\\u0432\\u044b\\u0439\",\"<b>Topic 1</b><br>Words: \\u0446\\u0435\\u043d\\u0430, \\u0433\\u0430\\u0437, \\u0440\\u043e\\u0441\\u0441\\u0438\\u044f, \\u0438\\u043d\\u0442\\u0435\\u043b\\u043b\\u0435\\u043a\\u0442\\u0443\\u0430\\u043b\\u044c\\u043d\\u044b\\u0439, \\u043c\\u0438\\u0440\\u043e\\u0432\\u043e\\u0439\",\"<b>Topic 1</b><br>Words: \\u0438\\u043c\\u043f\\u043e\\u0440\\u0442, \\u043f\\u0440\\u043e\\u0446\\u0435\\u043d\\u0442, \\u0433\\u0430\\u0437, \\u043c\\u043b\\u0440\\u0434, \\u043c\\u0438\\u043b\\u043b\\u0438\\u0430\\u0440\\u0434\",\"<b>Topic 1</b><br>Words: \\u0433\\u0430\\u0437, \\u0446\\u0435\\u043d\\u0430, \\u0440\\u0443\\u0431\\u043b\\u044c, \\u0435\\u0432\\u0440\\u043e\\u043f\\u0430, \\u0440\\u043e\\u0441\\u0441\\u0438\\u0439\\u0441\\u043a\\u0438\\u0439\",\"<b>Topic 1</b><br>Words: \\u0433\\u0430\\u0437, \\u0440\\u0443\\u0431\\u043b\\u044c, \\u0432\\u0430\\u043b\\u044e\\u0442\\u0430, \\u0440\\u043e\\u0441\\u0441\\u0438\\u044f, \\u0440\\u043e\\u0441\\u0441\\u0438\\u0439\\u0441\\u043a\\u0438\\u0439\",\"<b>Topic 1</b><br>Words: \\u0433\\u0430\\u0437, \\u0446\\u0435\\u043d\\u0430, \\u043f\\u043e\\u0441\\u0442\\u0430\\u0432\\u043a\\u0430, \\u0440\\u0443\\u0431\\u043b\\u044c, \\u0435\\u0432\\u0440\\u043e\\u043f\\u0430\",\"<b>Topic 1</b><br>Words: \\u0433\\u0430\\u0437, \\u0440\\u0443\\u0431\\u043b\\u044c, \\u0435\\u0432\\u0440\\u043e\\u043f\\u0430, \\u043c\\u043b\\u0440\\u0434, \\u043f\\u043e\\u0441\\u0442\\u0430\\u0432\\u043a\\u0430\"],\"marker\":{\"color\":\"#56B4E9\"},\"mode\":\"lines\",\"name\":\"1_\\u0433\\u0430\\u0437_\\u0446\\u0435\\u043d\\u0430_\\u0440\\u0443\\u0431\\u043b\\u044c_\\u0435\\u0432\\u0440\\u043e\\u043f\\u0430\",\"x\":[\"2022-02-23T23:11:02.400000\",\"2022-02-26T06:24:00\",\"2022-02-28T12:48:00\",\"2022-03-02T19:12:00\",\"2022-03-05T01:36:00\",\"2022-03-07T08:00:00\",\"2022-03-09T14:24:00\",\"2022-03-11T20:48:00\",\"2022-03-14T03:12:00\",\"2022-03-16T09:36:00\",\"2022-03-18T16:00:00\",\"2022-03-20T22:24:00\",\"2022-03-23T04:48:00\",\"2022-03-25T11:12:00\",\"2022-03-27T17:36:00\"],\"y\":[46,39,38,46,53,58,44,34,20,15,12,50,31,25,86],\"type\":\"scatter\"},{\"hoverinfo\":\"text\",\"hovertext\":[\"<b>Topic 2</b><br>Words: \\u043d\\u0430\\u0446\\u0438\\u0441\\u0442, \\u0443\\u043a\\u0440\\u0430\\u0438\\u043d\\u0430, \\u043d\\u0430\\u0446\\u0438\\u0441\\u0442\\u0441\\u043a\\u0438\\u0439, \\u0430\\u043d\\u0442\\u0438\\u0444\\u0430\\u0448\\u0438\\u0441\\u0442, \\u0430\\u0437\\u043e\\u0432\",\"<b>Topic 2</b><br>Words: \\u043d\\u0430\\u0446\\u0438\\u0441\\u0442, \\u0431\\u0443\\u043d\\u0434\\u0435\\u0441\\u0442\\u0430\\u0433\\u0435, \\u0433\\u0435\\u0440\\u043c\\u0430\\u043d\\u0438\\u044f, \\u043d\\u0430\\u0446\\u0438\\u0441\\u0442\\u0441\\u043a\\u0438\\u0439, \\u0434\\u043d\\u0440\",\"<b>Topic 2</b><br>Words: \\u043d\\u0430\\u0446\\u0438\\u0441\\u0442, \\u0445\\u0430\\u0440\\u044c\\u043a\\u043e\\u0432, \\u0430\\u0437\\u043e\\u0432, \\u0433\\u043e\\u0440\\u043e\\u0434, \\u0430\\u043d\\u0442\\u0438\\u0444\\u0430\\u0448\\u0438\\u0441\\u0442\",\"<b>Topic 2</b><br>Words: \\u043d\\u0430\\u0446\\u0438\\u0441\\u0442, \\u043d\\u0430\\u0446\\u0438\\u0441\\u0442\\u0441\\u043a\\u0438\\u0439, \\u0433\\u043e\\u0440\\u043e\\u0434, \\u043c\\u0430\\u0440\\u0438\\u0443\\u043f\\u043e\\u043b\\u044c, \\u0447\\u0435\\u043b\\u043e\\u0432\\u0435\\u043a\",\"<b>Topic 2</b><br>Words: \\u043d\\u0430\\u0446\\u0438\\u0441\\u0442, \\u043c\\u0435\\u0441\\u0442\\u043d\\u044b\\u0439, \\u0430\\u0437\\u043e\\u0432, \\u043d\\u0430\\u0446\\u0438\\u0441\\u0442\\u0441\\u043a\\u0438\\u0439, \\u043d\\u0430\\u0446\\u0438\\u043a\\u0438\",\"<b>Topic 2</b><br>Words: \\u043d\\u0430\\u0446\\u0438\\u0441\\u0442, \\u043d\\u0430\\u0446\\u0438\\u0441\\u0442\\u0441\\u043a\\u0438\\u0439, \\u0430\\u0437\\u043e\\u0432, \\u043c\\u0430\\u0440\\u0438\\u0443\\u043f\\u043e\\u043b\\u044c, \\u0436\\u0438\\u0442\\u0435\\u043b\\u044c\",\"<b>Topic 2</b><br>Words: \\u043d\\u0430\\u0446\\u0438\\u0441\\u0442, \\u043a\\u043e\\u043d\\u0446\\u043b\\u0430\\u0433\\u0435\\u0440\\u044c, \\u043e\\u0431\\u043d\\u0430\\u0440\\u0443\\u0436\\u0438\\u0442\\u044c, \\u043d\\u0430\\u0446\\u0438\\u0441\\u0442\\u0441\\u043a\\u0438\\u0439, \\u0441\\u0442\\u0430\\u0440\\u043e\\u0431\\u0435\\u043b\\u044c\\u0441\\u043a\\u043e\\u0433\\u043e\",\"<b>Topic 2</b><br>Words: \\u043d\\u0430\\u0446\\u0438\\u0441\\u0442, \\u0430\\u0437\\u043e\\u0432, \\u043d\\u0435\\u043e\\u043d\\u0430\\u0446\\u0438\\u0441\\u0442, \\u0431\\u0435\\u0440\\u043b\\u0438\\u043d, \\u043d\\u0430\\u0446\\u0438\\u043a\\u043e\\u0432\",\"<b>Topic 2</b><br>Words: \\u043d\\u0430\\u0446\\u0438\\u0441\\u0442, \\u0448\\u043e\\u043b\\u044c\\u0446, \\u0430\\u0437\\u043e\\u0432, \\u0441\\u0441, \\u043c\\u0430\\u0440\\u0438\\u0443\\u043f\\u043e\\u043b\\u044c\",\"<b>Topic 2</b><br>Words: \\u043d\\u0430\\u0446\\u0438\\u0441\\u0442, \\u0430\\u0437\\u043e\\u0432, \\u043d\\u0435\\u043e\\u043d\\u0430\\u0446\\u0438\\u0441\\u0442\\u0441\\u043a\\u0438\\u0439, \\u043d\\u0435\\u043e\\u043d\\u0430\\u0446\\u0438\\u0441\\u0442, md\",\"<b>Topic 2</b><br>Words: \\u043d\\u0430\\u0446\\u0438\\u0441\\u0442, \\u0430\\u0437\\u043e\\u0432, \\u043d\\u0435\\u043c\\u0435\\u0446\\u043a\\u0438\\u0439, \\u043c\\u0430\\u0440\\u0438\\u0443\\u043f\\u043e\\u043b\\u0435, \\u043d\\u0430\\u0446\\u0438\\u0441\\u0442\\u0441\\u043a\\u0438\\u0439\",\"<b>Topic 2</b><br>Words: \\u043d\\u0430\\u0446\\u0438\\u0441\\u0442, \\u043d\\u0430\\u0446\\u0438\\u0441\\u0442\\u0441\\u043a\\u0438\\u0439, \\u0430\\u0437\\u043e\\u0432, \\u043c\\u0430\\u0440\\u0438\\u0443\\u043f\\u043e\\u043b\\u044c, \\u043d\\u0430\\u0446\\u0438\\u0437\\u043c\",\"<b>Topic 2</b><br>Words: \\u043d\\u0430\\u0446\\u0438\\u0441\\u0442, \\u0444\\u043e\\u0440\\u043c\\u0430, \\u043c\\u0430\\u0440\\u0438\\u0443\\u043f\\u043e\\u043b\\u044c, \\u0430\\u0437\\u043e\\u0432, \\u043a\\u0440\\u0430\\u0441\\u043e\\u0432\\u0430\\u0442\\u044c\\u0441\\u044f\",\"<b>Topic 2</b><br>Words: \\u043d\\u0430\\u0446\\u0438\\u0441\\u0442, \\u0430\\u0437\\u043e\\u0432, \\u0433\\u0435\\u0440\\u043c\\u0430\\u043d\\u0438\\u044f, \\u0436\\u0438\\u0440, \\u043c\\u0438\\u0440\\u043d\\u044b\\u0439\",\"<b>Topic 2</b><br>Words: \\u043d\\u0430\\u0446\\u0438\\u0441\\u0442, \\u0430\\u0437\\u043e\\u0432, \\u043d\\u0430\\u0446\\u0438\\u0441\\u0442\\u0441\\u043a\\u0438\\u0439, \\u043c\\u0430\\u0440\\u0438\\u0443\\u043f\\u043e\\u043b\\u044c, \\u0433\\u0435\\u0440\\u043c\\u0430\\u043d\\u0438\\u044f\"],\"marker\":{\"color\":\"#009E73\"},\"mode\":\"lines\",\"name\":\"2_\\u043d\\u0430\\u0446\\u0438\\u0441\\u0442_\\u0430\\u0437\\u043e\\u0432_\\u043d\\u0430\\u0446\\u0438\\u0441\\u0442\\u0441\\u043a\\u0438\\u0439_\\u043c\\u0430\\u0440\\u0438\\u0443\\u043f\\u043e\\u043b\\u044c\",\"x\":[\"2022-02-23T23:11:02.400000\",\"2022-02-26T06:24:00\",\"2022-02-28T12:48:00\",\"2022-03-02T19:12:00\",\"2022-03-05T01:36:00\",\"2022-03-07T08:00:00\",\"2022-03-09T14:24:00\",\"2022-03-11T20:48:00\",\"2022-03-14T03:12:00\",\"2022-03-16T09:36:00\",\"2022-03-18T16:00:00\",\"2022-03-20T22:24:00\",\"2022-03-23T04:48:00\",\"2022-03-25T11:12:00\",\"2022-03-27T17:36:00\"],\"y\":[28,19,35,47,24,20,25,25,27,17,21,36,16,23,50],\"type\":\"scatter\"},{\"hoverinfo\":\"text\",\"hovertext\":[\"<b>Topic 3</b><br>Words: \\u0437\\u0435\\u043b\\u0435\\u043d\\u0441\\u043a\\u0438\\u0439, \\u0437\\u0435\\u043b\\u0435\\u043d\\u0441\\u043a\\u043e\\u0433\\u043e, \\u0443\\u043a\\u0440\\u0430\\u0438\\u043d\\u0430, \\u043f\\u0440\\u0435\\u0437\\u0438\\u0434\\u0435\\u043d\\u0442, \\u043a\\u0438\\u0435\\u0432\",\"<b>Topic 3</b><br>Words: \\u0437\\u0435\\u043b\\u0435\\u043d\\u0441\\u043a\\u0438\\u0439, \\u0437\\u0435\\u043b\\u0435\\u043d\\u0441\\u043a\\u043e\\u0433\\u043e, \\u0443\\u043a\\u0440\\u0430\\u0438\\u043d\\u0430, \\u043f\\u0435\\u0440\\u0435\\u0433\\u043e\\u0432\\u043e\\u0440\\u044b, \\u0433\\u043e\\u043c\\u0435\\u043b\\u0435\",\"<b>Topic 3</b><br>Words: \\u0437\\u0435\\u043b\\u0435\\u043d\\u0441\\u043a\\u0438\\u0439, \\u0437\\u0435\\u043b\\u0435\\u043d\\u0441\\u043a\\u043e\\u0433\\u043e, \\u0435\\u0441, \\u0443\\u043a\\u0440\\u0430\\u0438\\u043d\\u0430, \\u0443\\u0441\\u043b\\u043e\\u0432\\u0438\\u0435\",\"<b>Topic 3</b><br>Words: \\u0437\\u0435\\u043b\\u0435\\u043d\\u0441\\u043a\\u0438\\u0439, \\u0437\\u0435\\u043b\\u0435\\u043d\\u0441\\u043a\\u043e\\u0433\\u043e, \\u0443\\u043a\\u0440\\u0430\\u0438\\u043d\\u0430, \\u043f\\u0440\\u0435\\u0437\\u0438\\u0434\\u0435\\u043d\\u0442, \\u043d\\u0430\\u0442\\u043e\",\"<b>Topic 3</b><br>Words: \\u0437\\u0435\\u043b\\u0435\\u043d\\u0441\\u043a\\u0438\\u0439, \\u0437\\u0435\\u043b\\u0435\\u043d\\u0441\\u043a\\u043e\\u0433\\u043e, \\u043f\\u0440\\u0435\\u0437\\u0438\\u0434\\u0435\\u043d\\u0442, \\u0437\\u0435\\u043b\\u0435\\u043d\\u0441\\u043a\\u0438\\u043c, \\u0443\\u043a\\u0440\\u0430\\u0438\\u043d\\u0430\",\"<b>Topic 3</b><br>Words: \\u0437\\u0435\\u043b\\u0435\\u043d\\u0441\\u043a\\u0438\\u0439, \\u0437\\u0435\\u043b\\u0435\\u043d\\u0441\\u043a\\u043e\\u0433\\u043e, \\u043a\\u0438\\u0435\\u0432, \\u0443\\u043a\\u0440\\u0430\\u0438\\u043d\\u0430, \\u043f\\u0440\\u0435\\u0437\\u0438\\u0434\\u0435\\u043d\\u0442\",\"<b>Topic 3</b><br>Words: \\u0437\\u0435\\u043b\\u0435\\u043d\\u0441\\u043a\\u0438\\u0439, \\u0437\\u0435\\u043b\\u0435\\u043d\\u0441\\u043a\\u043e\\u0433\\u043e, \\u0437\\u0435\\u043b\\u0435\\u043d\\u0441\\u043a\\u043e\\u043c\\u0443, \\u0443\\u043a\\u0440\\u0430\\u0438\\u043d\\u0430, \\u0432\\u043b\\u0430\\u0434\\u0438\\u043c\\u0438\\u0440\",\"<b>Topic 3</b><br>Words: \\u0437\\u0435\\u043b\\u0435\\u043d\\u0441\\u043a\\u0438\\u0439, \\u0437\\u0435\\u043b\\u0435\\u043d\\u0441\\u043a\\u043e\\u0433\\u043e, \\u0438\\u043d\\u0441\\u0430\\u0439\\u0434, \\u0443\\u043a\\u0440\\u0430\\u0438\\u043d\\u0430, \\u043f\\u0440\\u0435\\u0437\\u0438\\u0434\\u0435\\u043d\\u0442\",\"<b>Topic 3</b><br>Words: \\u0437\\u0435\\u043b\\u0435\\u043d\\u0441\\u043a\\u0438\\u0439, \\u0437\\u0435\\u043b\\u0435\\u043d\\u0441\\u043a\\u043e\\u0433\\u043e, \\u0443\\u043a\\u0440\\u0430\\u0438\\u043d\\u0430, \\u043a\\u043e\\u043d\\u0433\\u0440\\u0435\\u0441\\u0441, \\u043f\\u0440\\u0435\\u0437\\u0438\\u0434\\u0435\\u043d\\u0442\",\"<b>Topic 3</b><br>Words: \\u0437\\u0435\\u043b\\u0435\\u043d\\u0441\\u043a\\u0438\\u0439, \\u0437\\u0435\\u043b\\u0435\\u043d\\u0441\\u043a\\u043e\\u0433\\u043e, \\u043a\\u043e\\u043d\\u0433\\u0440\\u0435\\u0441\\u0441, \\u0443\\u043a\\u0440\\u0430\\u0438\\u043d\\u0430, \\u0437\\u0435\",\"<b>Topic 3</b><br>Words: \\u0437\\u0435\\u043b\\u0435\\u043d\\u0441\\u043a\\u0438\\u0439, \\u0438\\u0437\\u0440\\u0430\\u0438\\u043b\\u044c, \\u0437\\u0435\\u043b\\u0435\\u043d\\u0441\\u043a\\u043e\\u0433\\u043e, \\u0443\\u043a\\u0440\\u0430\\u0438\\u043d\\u0430, \\u043f\\u0430\\u0440\\u0442\\u0438\\u044f\",\"<b>Topic 3</b><br>Words: \\u0437\\u0435\\u043b\\u0435\\u043d\\u0441\\u043a\\u0438\\u0439, \\u0437\\u0435\\u043b\\u0435\\u043d\\u0441\\u043a\\u043e\\u0433\\u043e, \\u043f\\u0440\\u0435\\u0437\\u0438\\u0434\\u0435\\u043d\\u0442, \\u0443\\u043a\\u0440\\u0430\\u0438\\u043d\\u0430, \\u0445\\u043e\\u043b\\u043e\\u043a\\u043e\\u0441\\u0442\",\"<b>Topic 3</b><br>Words: \\u043f\\u0430\\u0440\\u0442\\u0438\\u044f, \\u0437\\u0435\\u043b\\u0435\\u043d\\u0441\\u043a\\u0438\\u0439, \\u043e\\u043f\\u043f\\u043e\\u0437\\u0438\\u0446\\u0438\\u043e\\u043d\\u043d\\u044b\\u0439, \\u0437\\u0435\\u043b\\u0435\\u043d\\u0441\\u043a\\u043e\\u0433\\u043e, \\u0443\\u043a\\u0440\\u0430\\u0438\\u043d\\u044b\\u0437\\u0430\\u0447\\u0438\\u0441\\u0442\\u043a\\u0430\",\"<b>Topic 3</b><br>Words: \\u0430\\u0432\\u0441\\u0442\\u0440\\u0438\\u044f, \\u0437\\u0435\\u043b\\u0435\\u043d\\u0441\\u043a\\u0438\\u0439, \\u0437\\u0435\\u043b\\u0435\\u043d\\u0441\\u043a\\u043e\\u0433\\u043e, \\u043f\\u0430\\u0440\\u043b\\u0430\\u043c\\u0435\\u043d\\u0442, \\u043e\\u0442\\u043a\\u0430\\u0437\\u0430\\u0442\\u044c\",\"<b>Topic 3</b><br>Words: \\u0437\\u0435\\u043b\\u0435\\u043d\\u0441\\u043a\\u043e\\u0433\\u043e, \\u0437\\u0435\\u043b\\u0435\\u043d\\u0441\\u043a\\u0438\\u0439, \\u0432\\u043e\\u0437\\u043c\\u043e\\u0436\\u043d\\u044b\\u0439, \\u0443\\u043a\\u0440\\u0430\\u0438\\u043d\\u0430, \\u043e\\u0444\\u0438\\u0441\"],\"marker\":{\"color\":\"#F0E442\"},\"mode\":\"lines\",\"name\":\"3_\\u0437\\u0435\\u043b\\u0435\\u043d\\u0441\\u043a\\u0438\\u0439_\\u0437\\u0435\\u043b\\u0435\\u043d\\u0441\\u043a\\u043e\\u0433\\u043e_\\u0443\\u043a\\u0440\\u0430\\u0438\\u043d\\u0430_\\u043f\\u0440\\u0435\\u0437\\u0438\\u0434\\u0435\\u043d\\u0442\",\"x\":[\"2022-02-23T23:11:02.400000\",\"2022-02-26T06:24:00\",\"2022-02-28T12:48:00\",\"2022-03-02T19:12:00\",\"2022-03-05T01:36:00\",\"2022-03-07T08:00:00\",\"2022-03-09T14:24:00\",\"2022-03-11T20:48:00\",\"2022-03-14T03:12:00\",\"2022-03-16T09:36:00\",\"2022-03-18T16:00:00\",\"2022-03-20T22:24:00\",\"2022-03-23T04:48:00\",\"2022-03-25T11:12:00\",\"2022-03-27T17:36:00\"],\"y\":[85,36,25,53,27,32,13,35,24,10,23,22,2,7,12],\"type\":\"scatter\"},{\"hoverinfo\":\"text\",\"hovertext\":[\"<b>Topic 4</b><br>Words: \\u0431\\u0438\\u043e\\u043b\\u0430\\u0431\\u043e\\u0440\\u0430\\u0442\\u043e\\u0440\\u0438\\u044f\\u0445, \\u043f\\u043e\\u0434\\u043f\\u0438\\u0441\\u0430\\u0442\\u044c\\u0441\\u044f, \\u0443\\u0434\\u0430\\u043b\\u0438\\u0442\\u044c, \\u043c\\u0430\\u0440\\u0438\\u0443\\u043f\\u043e\\u043b\\u044c, \\u043f\\u043e\\u0441\\u043e\\u043b\\u044c\\u0441\\u0442\\u0432\\u043e\",\"<b>Topic 4</b><br>Words: \\u043c\\u0430\\u0440\\u0438\\u0443\\u043f\\u043e\\u043b\\u044c, \\u0432\\u0438\\u0434, \\u0431\\u0438\\u043e\\u043b\\u043e\\u0433\\u0438\\u0447\\u0435\\u0441\\u043a\\u0438\\u0439, \\u0441\\u0448\\u0430, \\u043b\\u0430\\u0431\\u043e\\u0440\\u0430\\u0442\\u043e\\u0440\\u0438\\u044f\",\"<b>Topic 4</b><br>Words: \\u043c\\u0430\\u0440\\u0438\\u0443\\u043f\\u043e\\u043b\\u044c, \\u0431\\u043b\\u043e\\u043a\\u0438\\u0440\\u043e\\u0432\\u0430\\u043d\\u0431\\u0430\\u0441\\u0443\\u0440\\u0438\\u043d, \\u0431\\u0430\\u0441\\u0443\\u0440\\u0438\\u043d, \\u043a\\u043e\\u043b\\u044c\\u0446\\u043e, \\u043f\\u043e\\u043b\\u043d\\u043e\\u0441\\u0442\\u044c\\u044e\",\"<b>Topic 4</b><br>Words: \\u0431\\u0438\\u043e\\u043b\\u043e\\u0433\\u0438\\u0447\\u0435\\u0441\\u043a\\u0438\\u0439, \\u043f\\u0435\\u043d\\u0442\\u0430\\u0433\\u043e\\u043d, \\u0445\\u0438\\u043c\\u0438\\u043a\\u043e\\u043c\\u0435\\u0434\\u0438\\u0446\\u0438\\u043d\\u0441\\u043a\\u043e\\u0433\\u043e, \\u043b\\u0430\\u0432\\u0440\\u043e\\u0432russian, \\u043a\\u0438\\u0440\\u043e\\u0432\\u043e\",\"<b>Topic 4</b><br>Words: \\u0431\\u0438\\u043e\\u043b\\u043e\\u0433\\u0438\\u0447\\u0435\\u0441\\u043a\\u0438\\u0439, \\u043b\\u0430\\u0431\\u043e\\u0440\\u0430\\u0442\\u043e\\u0440\\u0438\\u044f, \\u0441\\u0448\\u0430, \\u0443\\u043a\\u0440\\u0430\\u0438\\u043d\\u0430, \\u0441\\u0438\\u0431\\u0438\\u0440\\u0441\\u043a\\u0438\\u0439\",\"<b>Topic 4</b><br>Words: \\u0431\\u0438\\u043e\\u043b\\u043e\\u0433\\u0438\\u0447\\u0435\\u0441\\u043a\\u0438\\u0439, \\u043b\\u0430\\u0431\\u043e\\u0440\\u0430\\u0442\\u043e\\u0440\\u0438\\u044f, \\u0441\\u0448\\u0430, \\u0431\\u0438\\u043e\\u043b\\u0430\\u0431\\u043e\\u0440\\u0430\\u0442\\u043e\\u0440\\u0438\\u0439, \\u0443\\u043a\\u0440\\u0430\\u0438\\u043d\\u0430\",\"<b>Topic 4</b><br>Words: \\u0431\\u0438\\u043e\\u043b\\u043e\\u0433\\u0438\\u0447\\u0435\\u0441\\u043a\\u0438\\u0439, \\u0441\\u0448\\u0430, \\u043b\\u0430\\u0431\\u043e\\u0440\\u0430\\u0442\\u043e\\u0440\\u0438\\u044f, \\u0443\\u043a\\u0440\\u0430\\u0438\\u043d\\u0430, \\u0431\\u0438\\u043e\\u043b\\u0430\\u0431\\u043e\\u0440\\u0430\\u0442\\u043e\\u0440\\u0438\\u0439\",\"<b>Topic 4</b><br>Words: \\u0431\\u0438\\u043e\\u043b\\u043e\\u0433\\u0438\\u0447\\u0435\\u0441\\u043a\\u0438\\u0439, \\u0441\\u0448\\u0430, \\u043b\\u0430\\u0431\\u043e\\u0440\\u0430\\u0442\\u043e\\u0440\\u0438\\u044f, \\u0443\\u043a\\u0440\\u0430\\u0438\\u043d\\u0430, \\u0440\\u0430\\u043d\\u0438\\u0442\\u044c\",\"<b>Topic 4</b><br>Words: \\u0431\\u0438\\u043e\\u043b\\u043e\\u0433\\u0438\\u0447\\u0435\\u0441\\u043a\\u0438\\u0439, \\u043b\\u0430\\u0431\\u043e\\u0440\\u0430\\u0442\\u043e\\u0440\\u0438\\u044f, \\u0441\\u0448\\u0430, \\u0440\\u0430\\u043d\\u0438\\u0442\\u044c, \\u0431\\u043e\\u043b\\u0435\\u0437\\u043d\\u044c\",\"<b>Topic 4</b><br>Words: \\u0441\\u0448\\u0430, \\u0431\\u0438\\u043e\\u043b\\u043e\\u0433\\u0438\\u0447\\u0435\\u0441\\u043a\\u0438\\u0439, \\u043b\\u0430\\u0431\\u043e\\u0440\\u0430\\u0442\\u043e\\u0440\\u0438\\u044f, \\u043b\\u0435\\u0442\\u0443\\u0447\\u0438\\u0439, \\u043c\\u044b\\u0448\\u044c\",\"<b>Topic 4</b><br>Words: \\u0440\\u0430\\u043d\\u0438\\u0442\\u044c, \\u043f\\u043e\\u0433\\u0438\\u0431\\u043d\\u0443\\u0442\\u044c, \\u0432\\u043e\\u0435\\u043d\\u043d\\u043e\\u0441\\u043b\\u0443\\u0436\\u0430\\u0449\\u0438\\u0439, \\u043f\\u043e\\u0441\\u043e\\u043b\\u044c\\u0441\\u0442\\u0432\\u043e, \\u0441\\u0448\\u0430\",\"<b>Topic 4</b><br>Words: \\u0431\\u0438\\u043e\\u0445\\u0438\\u043c\\u0438\\u0447\\u0435\\u0441\\u043a\\u0438\\u0439, \\u0440\\u0430\\u043d\\u0438\\u0442\\u044c, \\u0431\\u0438\\u043e\\u043b\\u043e\\u0433\\u0438\\u0447\\u0435\\u0441\\u043a\\u0438\\u0439, \\u043b\\u0430\\u0431\\u043e\\u0440\\u0430\\u0442\\u043e\\u0440\\u0438\\u044f, \\u043f\\u043e\\u0433\\u0438\\u0431\\u043d\\u0443\\u0442\\u044c\",\"<b>Topic 4</b><br>Words: \\u0441\\u0448\\u0430, \\u0431\\u0438\\u043e\\u043b\\u043e\\u0433\\u0438\\u0447\\u0435\\u0441\\u043a\\u0438\\u0439, metabiota, \\u0431\\u0438\\u043e\\u043b\\u0430\\u0431\\u043e\\u0440\\u0430\\u0442\\u043e\\u0440\\u0438\\u0439, \\u043b\\u0430\\u0431\\u043e\\u0440\\u0430\\u0442\\u043e\\u0440\\u0438\\u044f\",\"<b>Topic 4</b><br>Words: \\u0441\\u0448\\u0430, metabiota, \\u0431\\u0438\\u043e\\u043b\\u043e\\u0433\\u0438\\u0447\\u0435\\u0441\\u043a\\u0438\\u0439, \\u0443\\u043a\\u0440\\u0430\\u0438\\u043d\\u0430, \\u043b\\u0430\\u0431\\u043e\\u0440\\u0430\\u0442\\u043e\\u0440\\u0438\\u044f\",\"<b>Topic 4</b><br>Words: \\u0441\\u0448\\u0430, \\u0431\\u0438\\u043e\\u043b\\u043e\\u0433\\u0438\\u0447\\u0435\\u0441\\u043a\\u0438\\u0439, metabiota, \\u043b\\u0430\\u0431\\u043e\\u0440\\u0430\\u0442\\u043e\\u0440\\u0438\\u044f, \\u0443\\u043a\\u0440\\u0430\\u0438\\u043d\\u0430\"],\"marker\":{\"color\":\"#D55E00\"},\"mode\":\"lines\",\"name\":\"4_\\u0431\\u0438\\u043e\\u043b\\u043e\\u0433\\u0438\\u0447\\u0435\\u0441\\u043a\\u0438\\u0439_\\u0441\\u0448\\u0430_\\u043b\\u0430\\u0431\\u043e\\u0440\\u0430\\u0442\\u043e\\u0440\\u0438\\u044f_\\u0443\\u043a\\u0440\\u0430\\u0438\\u043d\\u0430\",\"x\":[\"2022-02-23T23:11:02.400000\",\"2022-02-26T06:24:00\",\"2022-02-28T12:48:00\",\"2022-03-02T19:12:00\",\"2022-03-05T01:36:00\",\"2022-03-07T08:00:00\",\"2022-03-09T14:24:00\",\"2022-03-11T20:48:00\",\"2022-03-14T03:12:00\",\"2022-03-16T09:36:00\",\"2022-03-18T16:00:00\",\"2022-03-20T22:24:00\",\"2022-03-23T04:48:00\",\"2022-03-25T11:12:00\",\"2022-03-27T17:36:00\"],\"y\":[4,2,4,6,19,24,49,16,10,34,7,7,13,8,11],\"type\":\"scatter\"},{\"hoverinfo\":\"text\",\"hovertext\":[\"<b>Topic 5</b><br>Words: \\u043a\\u0438\\u0442\\u0430\\u0439, \\u043a\\u0438\\u0442\\u0430\\u0439\\u0441\\u043a\\u0438\\u0439, \\u043c\\u0438\\u0434, \\u043a\\u043d\\u0440, \\u0440\\u043e\\u0441\\u0441\\u0438\\u044f\",\"<b>Topic 5</b><br>Words: \\u043a\\u0438\\u0442\\u0430\\u0439, \\u043a\\u0438\\u0442\\u0430\\u0439\\u0441\\u043a\\u0438\\u0439, \\u043a\\u043d\\u0440, \\u0441\\u0448\\u0430, \\u043c\\u0438\\u0434\",\"<b>Topic 5</b><br>Words: \\u043a\\u0438\\u0442\\u0430\\u0439, \\u043f\\u0440\\u0438\\u0441\\u043e\\u0435\\u0434\\u0438\\u043d\\u044f\\u0442\\u044c\\u0441\\u044f, \\u0431\\u0430\\u043b\\u0438\\u0446\\u043a\\u0438\\u0439, \\u0432\\u0435\\u0439\\u0431\\u043e, \\u043d\\u0435\\u0441\\u0442\\u0430\\u0431\\u0438\\u043b\\u044c\\u043d\\u043e\\u0441\\u0442\\u044c\",\"<b>Topic 5</b><br>Words: \\u043a\\u0438\\u0442\\u0430\\u0439, \\u0447\\u043e\\u043d\\u0433\\u0430\\u0440\\u0430, \\u0433\\u043b\\u0430\\u0432\\u0430, \\u043c\\u0438\\u0434, \\u043a\\u0438\\u0442\\u0430\\u0439\\u0441\\u043a\\u0438\\u0439\",\"<b>Topic 5</b><br>Words: \\u043a\\u0438\\u0442\\u0430\\u0439, \\u043c\\u0438\\u0434, \\u0442\\u0430\\u0439\\u0432\\u0430\\u043d\\u044c, \\u043e\\u0431\\u044a\\u044f\\u0442\\u0438\\u0435, \\u043a\\u043e\\u043d\\u0435\\u0446\",\"<b>Topic 5</b><br>Words: \\u043a\\u0438\\u0442\\u0430\\u0439, \\u044f\\u043f\\u043e\\u043d\\u0438\\u044f, \\u0441\\u0430\\u043d\\u043a\\u0446\\u0438\\u044f, \\u043a\\u0438\\u0442\\u0430\\u0439\\u0441\\u043a\\u0438\\u0439, \\u043e\\u0442\\u043d\\u043e\\u0448\\u0435\\u043d\\u0438\\u0435\",\"<b>Topic 5</b><br>Words: \\u043a\\u0438\\u0442\\u0430\\u0439, \\u043a\\u0438\\u0442\\u0430\\u0439\\u0441\\u043a\\u0438\\u0439, \\u0444\\u0430\\u0431\\u0440\\u0438\\u043a\\u043e\\u0432\\u0430\\u0442\\u044c, \\u043a\\u043d\\u0440, \\u0441\\u0448\\u0430\",\"<b>Topic 5</b><br>Words: \\u043a\\u0438\\u0442\\u0430\\u0439\\u0441\\u043a\\u0438\\u0439, \\u043a\\u0438\\u0442\\u0430\\u0439, \\u0441\\u0448\\u0430, \\u043a\\u043d\\u0440, \\u043c\\u0438\\u0434\",\"<b>Topic 5</b><br>Words: \\u043a\\u0438\\u0442\\u0430\\u0439, \\u044f\\u043f\\u043e\\u043d\\u0438\\u044f, \\u043f\\u043e\\u0431\\u0435\\u0434\\u0430, \\u043a\\u0438\\u0442\\u0430\\u0439\\u0441\\u043a\\u0438\\u0439, \\u0441\\u0435\\u043d\\u0442\\u044f\\u0431\\u0440\\u044c\",\"<b>Topic 5</b><br>Words: \\u043a\\u0438\\u0442\\u0430\\u0439, \\u043a\\u043d\\u0440, \\u043a\\u0438\\u0442\\u0430\\u0439\\u0441\\u043a\\u0438\\u0439, \\u0441\\u0448\\u0430, \\u043c\\u0438\\u0434\",\"<b>Topic 5</b><br>Words: \\u043a\\u0438\\u0442\\u0430\\u0439, \\u0441\\u0448\\u0430, \\u043f\\u0435\\u043a\\u0438\\u043d, \\u043e\\u0442\\u043d\\u043e\\u0448\\u0435\\u043d\\u0438\\u0435, \\u043a\\u0438\\u0442\\u0430\\u0439\\u0441\\u043a\\u0438\\u0439\",\"<b>Topic 5</b><br>Words: \\u043a\\u0438\\u0442\\u0430\\u0439, \\u043a\\u0438\\u0442\\u0430\\u0439\\u0441\\u043a\\u0438\\u0439, \\u044f\\u043f\\u043e\\u043d\\u0438\\u044f, \\u043a\\u043d\\u0440, \\u044f\\u043f\\u043e\\u043d\\u0435\\u0446\",\"<b>Topic 5</b><br>Words: \\u043a\\u0438\\u0442\\u0430\\u0439, \\u043a\\u0438\\u0442\\u0430\\u0439\\u0441\\u043a\\u0438\\u0439, \\u0441\\u0448\\u0430, \\u043a\\u043e\\u043d\\u0444\\u043b\\u0438\\u043a\\u0442, \\u043a\\u0440\\u0438\\u0437\\u0438\\u0441\",\"<b>Topic 5</b><br>Words: \\u043a\\u0438\\u0442\\u0430\\u0439, \\u043a\\u0438\\u0442\\u0430\\u0439\\u0441\\u043a\\u0438\\u0439, \\u043a\\u0430\\u0440\\u0438\\u043a\\u0430\\u0442\\u0443\\u0440\\u0438\\u0441\\u0442, \\u0435\\u0432\\u0440\\u043e\\u043f\\u0435\\u0432\\u0430\\u043d, \\u043e\\u043d\\u0433\\u0435\\u043e\\u043f\\u043e\\u043b\\u0438\\u0442\\u0438\\u043a\\u0430\",\"<b>Topic 5</b><br>Words: \\u043a\\u0438\\u0442\\u0430\\u0439, \\u043a\\u0438\\u0442\\u0430\\u0439\\u0441\\u043a\\u0438\\u0439, \\u043c\\u0438\\u0440\\u043e\\u043f\\u043e\\u0440\\u044f\\u0434\\u043e\\u043a, \\u043e\\u0442\\u043d\\u043e\\u0448\\u0435\\u043d\\u0438\\u0435, \\u043c\\u043d\\u043e\\u0433\\u043e\\u043f\\u043e\\u043b\\u044f\\u0440\\u043d\\u044b\\u0439\"],\"marker\":{\"color\":\"#0072B2\"},\"mode\":\"lines\",\"name\":\"5_\\u043a\\u0438\\u0442\\u0430\\u0439_\\u043a\\u0438\\u0442\\u0430\\u0439\\u0441\\u043a\\u0438\\u0439_\\u043a\\u043d\\u0440_\\u0441\\u0448\\u0430\",\"x\":[\"2022-02-23T23:11:02.400000\",\"2022-02-26T06:24:00\",\"2022-02-28T12:48:00\",\"2022-03-02T19:12:00\",\"2022-03-05T01:36:00\",\"2022-03-07T08:00:00\",\"2022-03-09T14:24:00\",\"2022-03-11T20:48:00\",\"2022-03-14T03:12:00\",\"2022-03-16T09:36:00\",\"2022-03-18T16:00:00\",\"2022-03-20T22:24:00\",\"2022-03-23T04:48:00\",\"2022-03-25T11:12:00\",\"2022-03-27T17:36:00\"],\"y\":[22,16,4,7,7,12,11,16,4,23,8,14,7,3,13],\"type\":\"scatter\"},{\"hoverinfo\":\"text\",\"hovertext\":[\"<b>Topic 6</b><br>Words: \\u0434\\u0438\\u043f\\u043b\\u043e\\u043c\\u0430\\u0442, \\u043f\\u043e\\u043b\\u044c\\u0448\\u0430, \\u0432\\u0438\\u0437\\u0430, \\u043a\\u043e\\u043d\\u0441\\u0443\\u043b\\u044c\\u0441\\u0442\\u0432\\u043e, \\u0440\\u043e\\u0441\\u0441\\u0438\\u044f\",\"<b>Topic 6</b><br>Words: \\u0432\\u0435\\u043d\\u0433\\u0440\\u0438\\u044f, \\u043e\\u0440\\u0431\\u0430\\u043d, \\u0441\\u0431\\u043e\\u0440\\u043d\\u0430\\u044f, \\u0447\\u0435\\u0445\\u0438\\u044f, \\u043f\\u043e\\u0441\\u043e\\u043b\\u044c\\u0441\\u0442\\u0432\\u043e\",\"<b>Topic 6</b><br>Words: \\u043f\\u043e\\u0441\\u043e\\u043b, \\u0441\\u0448\\u0430, \\u0432\\u044b\\u0434\\u0432\\u043e\\u0440\\u0438\\u0442\\u044c, \\u0441\\u0430\\u043b\\u043b\\u0438\\u0432\\u0430\\u043d\\u0430\\u0432\\u043e\\u0442, \\u043c\\u0438\\u0434\",\"<b>Topic 6</b><br>Words: \\u0431\\u0435\\u0436\\u0435\\u043d\\u0435\\u0446, \\u0441\\u0435\\u0440\\u0431\\u0438\\u044f, \\u0441\\u0435\\u0440\\u0431, \\u0431\\u043e\\u043b\\u0435\\u043b\\u044c\\u0449\\u0438\\u043a, \\u043f\\u043e\\u0434\\u0434\\u0435\\u0440\\u0436\\u043a\\u0430\",\"<b>Topic 6</b><br>Words: \\u043a\\u0430\\u043d\\u0446\\u0435\\u043b\\u044f\\u0440\\u0438\\u044f, \\u0432\\u0435\\u043d\\u0433\\u0440\\u0438\\u044f, \\u043f\\u043e\\u043b\\u044c\\u0448\\u0430, \\u0444\\u0435\\u0439\\u043a\\u043d\\u044c\\u044e\\u0441, \\u043d\\u0435\\u0445\\u0442\\u0430\",\"<b>Topic 6</b><br>Words: \\u0431\\u0435\\u0436\\u0435\\u043d\\u0435\\u0446, \\u0441\\u0435\\u0440\\u0431\\u0438\\u044f, \\u043f\\u043e\\u043b\\u044c\\u0448\\u0430, \\u043e\\u0431\\u0445\\u043e\\u0434\\u0438\\u0442\\u044c\\u0441\\u044f, \\u0435\\u0432\\u0440\\u043e\\u043f\\u0430\",\"<b>Topic 6</b><br>Words: \\u0431\\u0435\\u0436\\u0435\\u043d\\u0435\\u0446, \\u0432\\u0430\\u0440\\u0448\\u0430\\u0432\\u0430, \\u043f\\u043e\\u043b\\u044c\\u0441\\u043a\\u0438\\u0439, \\u0432\\u0435\\u043d\\u0433\\u0440\\u0438\\u044f, \\u0443\\u043a\\u0440\\u0430\\u0438\\u043d\\u0435\\u0446\",\"<b>Topic 6</b><br>Words: \\u0431\\u0435\\u0436\\u0435\\u043d\\u0435\\u0446, \\u0441\\u0435\\u0440\\u0431\\u0438\\u044f, \\u043f\\u043e\\u043b\\u044c\\u0448\\u0430, \\u0432\\u0435\\u043d\\u0433\\u0440\\u0438\\u044f, \\u043d\\u0430\\u0442\\u043e\",\"<b>Topic 6</b><br>Words: \\u0432\\u0435\\u043d\\u0433\\u0440\\u0438\\u044f, \\u0431\\u0435\\u0436\\u0435\\u043d\\u0435\\u0446, \\u0440\\u0443\\u0441\\u0438\\u043d, \\u043f\\u043e\\u043b\\u044c\\u0448\\u0430, \\u043f\\u0435\\u0440\\u0435\\u043f\\u0438\\u0441\\u044c\",\"<b>Topic 6</b><br>Words: \\u0431\\u0435\\u0436\\u0435\\u043d\\u0435\\u0446, \\u044e\\u0433\\u043e\\u0441\\u043b\\u0430\\u0432\\u0438\\u044f, \\u0441\\u0435\\u0440\\u0431\\u0441\\u043a\\u0438\\u0439, \\u043d\\u0430\\u0442\\u043e, \\u043f\\u043e\\u043b\\u044c\\u0448\\u0430\",\"<b>Topic 6</b><br>Words: \\u0430\\u043a\\u0446\\u0438\\u044f, fucknato, \\u043b\\u0435\\u0439\\u0442\\u043c\\u043e\\u0442\\u0438\\u0432\\u043e\\u043c, \\u0441\\u0435\\u0440\\u0431\\u0441\\u043a\\u043e\\u0440\\u0443\\u0441\\u0441\\u043a\\u043e\\u0439, \\u043d\\u043e\\u0432\\u0438\\u0441\\u0430\\u0434\\u0430\",\"<b>Topic 6</b><br>Words: \\u0431\\u0435\\u0436\\u0435\\u043d\\u0435\\u0446, \\u043f\\u043e\\u043b\\u044c\\u0448\\u0430, \\u0432\\u0435\\u043d\\u0433\\u0440\\u0438\\u044f, \\u043d\\u0430\\u0442\\u043e, \\u044e\\u0433\\u043e\\u0441\\u043b\\u0430\\u0432\\u0438\\u044f\",\"<b>Topic 6</b><br>Words: \\u0441\\u0435\\u0440\\u0431, \\u043f\\u043e\\u043b\\u044c\\u0448\\u0430, \\u044e\\u0433\\u043e\\u0441\\u043b\\u0430\\u0432\\u0438\\u044f, \\u043d\\u0430\\u0442\\u043e, \\u0431\\u043e\\u043c\\u0431\\u0430\\u0440\\u0434\\u0438\\u0440\\u043e\\u0432\\u043a\\u0430\",\"<b>Topic 6</b><br>Words: \\u043f\\u043e\\u043b\\u044c\\u0448\\u0430, \\u0430\\u043d\\u0434\\u0440\\u0435\\u0435\\u0432, \\u043f\\u043e\\u043b\\u044c\\u0448\\u0435, \\u043f\\u043e\\u0441\\u043e\\u043b\\u044c\\u0441\\u0442\\u0432\\u043e, \\u043a\\u0430\\u043b\\u0438\\u043d\\u0438\\u043d\\u0433\\u0440\\u0430\\u0434\\u0441\\u043a\\u0438\\u0439\",\"<b>Topic 6</b><br>Words: \\u044e\\u0433\\u043e\\u0441\\u043b\\u0430\\u0432\\u0438\\u044f, \\u0441\\u0435\\u0440\\u0431\\u0441\\u043a\\u0438\\u0439, \\u0433\\u0440\\u0435\\u0447\\u0435\\u0441\\u043a\\u0438\\u0439, \\u0431\\u0435\\u0436\\u0435\\u043d\\u0435\\u0446, \\u043a\\u043e\\u043c\\u043c\\u0443\\u043d\\u0438\\u0441\\u0442\\u0438\\u0447\\u0435\\u0441\\u043a\\u0438\\u0439\"],\"marker\":{\"color\":\"#CC79A7\"},\"mode\":\"lines\",\"name\":\"6_\\u0431\\u0435\\u0436\\u0435\\u043d\\u0435\\u0446_\\u043f\\u043e\\u043b\\u044c\\u0448\\u0430_\\u0432\\u0435\\u043d\\u0433\\u0440\\u0438\\u044f_\\u044e\\u0433\\u043e\\u0441\\u043b\\u0430\\u0432\\u0438\\u044f\",\"x\":[\"2022-02-23T23:11:02.400000\",\"2022-02-26T06:24:00\",\"2022-02-28T12:48:00\",\"2022-03-02T19:12:00\",\"2022-03-05T01:36:00\",\"2022-03-07T08:00:00\",\"2022-03-09T14:24:00\",\"2022-03-11T20:48:00\",\"2022-03-14T03:12:00\",\"2022-03-16T09:36:00\",\"2022-03-18T16:00:00\",\"2022-03-20T22:24:00\",\"2022-03-23T04:48:00\",\"2022-03-25T11:12:00\",\"2022-03-27T17:36:00\"],\"y\":[17,10,5,16,8,7,8,13,7,11,3,25,18,8,8],\"type\":\"scatter\"},{\"hoverinfo\":\"text\",\"hovertext\":[\"<b>Topic 7</b><br>Words: \\u0432\\u0438\\u0434\\u0435\\u043e, youtube, \\u0445\\u0435\\u0440\\u0441\\u043e\\u043d, \\u0444\\u043e\\u0442\\u043e\\u0432\\u0438\\u0434\\u0435\\u043e, \\u0432\\u044b\\u0441\\u043e\\u043a\\u043e\",\"<b>Topic 7</b><br>Words: \\u0432\\u0438\\u0434\\u0435\\u043e, youtube, \\u0431\\u043b\\u043e\\u0433\\u0435\\u0440, \\u043a\\u0430\\u043d\\u0430\\u043b, \\u0437\\u0430\\u0431\\u043b\\u043e\\u043a\\u0438\\u0440\\u043e\\u0432\\u0430\\u0442\\u044c\",\"<b>Topic 7</b><br>Words: youtube, \\u043a\\u0430\\u043d\\u0430\\u043b, \\u043d\\u0442\\u0432, \\u043f\\u0440\\u0438\\u043d\\u0438\\u043c\\u0430\\u0442\\u044c\\u0441\\u044f, \\u0441\\u043e\\u043e\\u0431\\u0449\\u0438\\u0442\\u044c\",\"<b>Topic 7</b><br>Words: \\u0432\\u0438\\u0434\\u0435\\u043e, youtube, \\u043f\\u0440\\u043e\\u0441\\u043c\\u043e\\u0442\\u0440, \\u0444\\u043e\\u0442\\u043e, \\u0447\\u0430\\u0441\\u0442\\u044c\",\"<b>Topic 7</b><br>Words: youtube, \\u0432\\u0438\\u0434\\u0435\\u043e, \\u0432\\u044b\\u0439\\u0442\\u0438, \\u0440\\u0430\\u0437\\u043c\\u0435\\u0449\\u0430\\u0442\\u044c, \\u0432\\u043e\\u043b\\u043d\\u043e\\u0432\\u0430\\u0445\\u0435\\u043f\\u043e\\u043b\\u043d\\u044b\\u0439\",\"<b>Topic 7</b><br>Words: \\u0432\\u0438\\u0434\\u0435\\u043e, youtube, \\u043f\\u0440\\u0435\\u0437\\u0435\\u043d\\u0442\\u0430\\u0446\\u0438\\u044f, apple, \\u0443\\u0436\\u0430\\u0441\\u0430\\u044e\\u0449\\u0438\\u0439\",\"<b>Topic 7</b><br>Words: youtube, \\u0432\\u0438\\u0434\\u0435\\u043e, \\u0434\\u043e\\u0445\\u043e\\u0434, \\u043a\\u0430\\u043d\\u0430\\u043b, \\u043c\\u043e\\u043d\\u0435\\u0442\\u0438\\u0437\\u0430\\u0446\\u0438\\u044f\",\"<b>Topic 7</b><br>Words: \\u0433\\u043e\\u0441\\u0442\\u0435\\u043b\\u0435\\u0440\\u0430\\u0434\\u0438\\u043e\\u0444\\u043e\\u043d\\u0434, youtube, \\u0432\\u0438\\u0434\\u0435\\u043e, \\u0437\\u0430\\u0431\\u043b\\u043e\\u043a\\u0438\\u0440\\u043e\\u0432\\u0430\\u0442\\u044c, \\u043a\\u0430\\u043d\\u0430\\u043b\",\"<b>Topic 7</b><br>Words: \\u0432\\u0438\\u0434\\u0435\\u043e, \\u043f\\u0440\\u043e\\u0432\\u0435\\u0437\\u0442\\u0438, \\u043c\\u0430\\u043a\\u0435\\u0435\\u0432\\u043a\\u0435\\u043f\\u043e\\u0434\\u043f\\u0438\\u0441\\u0430\\u0442\\u044c\\u0441\\u044f, \\u0432\\u0438\\u0434\\u0435\\u043e\\u043a\\u043e\\u0433\\u0434\\u0430, \\u0440\\u043e\\u0434\\u043d\\u044b\\u043c\",\"<b>Topic 7</b><br>Words: youtube, \\u0432\\u0438\\u0434\\u0435\\u043e, \\u043a\\u043e\\u043d\\u0446\\u0430, \\u0437\\u0430\\u0431\\u043b\\u043e\\u043a\\u0438\\u0440\\u043e\\u0432\\u0430\\u0442\\u044c, \\u0441\\u043b\\u0435\\u0434\\u0443\\u044e\\u0449\\u0438\\u0439\",\"<b>Topic 7</b><br>Words: \\u043f\\u0435\\u0440\\u0435\\u0437\\u0430\\u043b\\u044c\\u044e, \\u0431\\u0438\\u0442\\u043e\\u0435, \\u0433\\u043b\\u044e\\u043a, \\u0441\\u0438\\u043c\\u0430\\u043b\\u0435\\u043d\\u0434\\u0430, \\u0442\\u0435\\u043b\\u0435\\u0432\\u0438\\u0437\\u043e\\u0440\",\"<b>Topic 7</b><br>Words: \\u0432\\u0438\\u0434\\u0435\\u043e, \\u043f\\u043e\\u0434\\u0434\\u0435\\u0440\\u0436\\u0438, ikea, \\u0432\\u0435\\u0440\\u0445\\u043d\\u0435\\u0442\\u043e\\u0440\\u0435\\u0446\\u043a\\u043e\\u0433\\u043e, \\u0442\\u0440\\u0446\",\"<b>Topic 7</b><br>Words: youtube, \\u0433\\u043e\\u0441\\u0442\\u0435\\u043b\\u0435\\u0440\\u0430\\u0434\\u0438\\u043e\\u0444\\u043e\\u043d\\u0434, \\u0432\\u0438\\u0434\\u0435\\u043e, \\u0440\\u043e\\u0441\\u043a\\u043e\\u043c\\u043d\\u0430\\u0434\\u0437\\u043e\\u0440, \\u0441\\u043e\\u0432\\u0435\\u0442\\u0441\\u043a\\u0438\\u0439\",\"<b>Topic 7</b><br>Words: \\u0432\\u0438\\u0434\\u0435\\u043e, youtube, \\u0443\\u0434\\u0430\\u043b\\u0438\\u0442\\u044c, \\u043a\\u0430\\u043d\\u0430\\u043b, \\u043c\\u0438\\u043d\\u0438\\u0441\\u0442\\u0435\\u0440\\u0441\\u0442\\u0432\\u043e\",\"<b>Topic 7</b><br>Words: \\u0432\\u0438\\u0434\\u0435\\u043e, youtube, cancelme, \\u0445\\u0443\\u0434\\u043e\\u0436\\u0435\\u0441\\u0442\\u0432\\u0435\\u043d\\u043d\\u044b\\u0439, \\u043a\\u0430\\u043d\\u0430\\u043b\"],\"marker\":{\"color\":\"#E69F00\"},\"mode\":\"lines\",\"name\":\"7_\\u0432\\u0438\\u0434\\u0435\\u043e_youtube_\\u043a\\u0430\\u043d\\u0430\\u043b_\\u0437\\u0430\\u0431\\u043b\\u043e\\u043a\\u0438\\u0440\\u043e\\u0432\\u0430\\u0442\\u044c\",\"x\":[\"2022-02-23T23:11:02.400000\",\"2022-02-26T06:24:00\",\"2022-02-28T12:48:00\",\"2022-03-02T19:12:00\",\"2022-03-05T01:36:00\",\"2022-03-07T08:00:00\",\"2022-03-09T14:24:00\",\"2022-03-11T20:48:00\",\"2022-03-14T03:12:00\",\"2022-03-16T09:36:00\",\"2022-03-18T16:00:00\",\"2022-03-20T22:24:00\",\"2022-03-23T04:48:00\",\"2022-03-25T11:12:00\",\"2022-03-27T17:36:00\"],\"y\":[21,11,2,12,11,11,12,6,3,10,3,8,5,6,12],\"type\":\"scatter\"},{\"hoverinfo\":\"text\",\"hovertext\":[\"<b>Topic 8</b><br>Words: facebook, meta, \\u0441\\u043e\\u0446\\u0441\\u0435\\u0442\\u044c, \\u0430\\u043a\\u043a\\u0430\\u0443\\u043d\\u0442, \\u0441\\u0442\\u0440\\u0430\\u043d\\u0438\\u0446\\u0430\",\"<b>Topic 8</b><br>Words: facebook, meta, \\u0440\\u0438\\u0430, \\u0441\\u043e\\u0446\\u0441\\u0435\\u0442\\u044c, \\u043d\\u043e\\u0432\\u043e\\u0441\\u0442\\u044c\",\"<b>Topic 8</b><br>Words: facebook, meta, instagram, \\u0437\\u0430\\u0431\\u043b\\u043e\\u043a\\u0438\\u0440\\u043e\\u0432\\u0430\\u0442\\u044c, \\u0442\\u0432\\u0438\\u0442\\u0435\\u0440\",\"<b>Topic 8</b><br>Words: facebook, \\u0440\\u043e\\u0441\\u043a\\u043e\\u043c\\u043d\\u0430\\u0434\\u0437\\u043e\\u0440, \\u0441\\u0435\\u0442\\u044c, \\u0431\\u043b\\u043e\\u043a\\u0438\\u0440\\u043e\\u0432\\u043a\\u0430, \\u0440\\u0443\\u0441\\u043e\\u0444\\u043e\\u0431\\u0441\\u043a\\u0438\\u0439\",\"<b>Topic 8</b><br>Words: facebook, \\u0430\\u043a\\u043a\\u0430\\u0443\\u043d\\u0442, \\u0442\\u0435\\u043b\\u0435\\u0433\\u0440\\u0430\\u043c\\u0435\\u044d\\u0442\\u043e, \\u0433\\u043e\\u0440\\u0438\\u0437\\u043e\\u043d\\u0442\\u0435, \\u0433\\u043e\\u0441\\u043e\\u0440\\u0433\\u0430\\u043d\",\"<b>Topic 8</b><br>Words: \\u043f\\u043e\\u0434\\u043f\\u0438\\u0441\\u043a\\u0430, \\u0430\\u043a\\u043a\\u0430\\u0443\\u043d\\u0442, \\u0438\\u043d\\u0444\\u043e\\u0440\\u043c\\u0430\\u0446\\u0438\\u044f, instagram, \\u043e\\u0442\\u043e\\u0431\\u0440\\u0430\\u0436\\u0430\\u0442\\u044c\\u0441\\u044f\",\"<b>Topic 8</b><br>Words: facebook, meta, instagram, \\u043d\\u0430\\u0441\\u0438\\u043b\\u0438\\u0435, \\u0440\\u0430\\u0437\\u0440\\u0435\\u0448\\u0438\\u0442\\u044c\",\"<b>Topic 8</b><br>Words: instagram, facebook, \\u0441\\u043e\\u0446\\u0441\\u0435\\u0442\\u044c, meta, \\u043f\\u043e\\u043b\\u044c\\u0437\\u043e\\u0432\\u0430\\u0442\\u0435\\u043b\\u044c\",\"<b>Topic 8</b><br>Words: \\u0442\\u0432\\u0438\\u0442\\u0442\\u0435\\u0440, facebook, \\u0430\\u043a\\u043a\\u0430\\u0443\\u043d\\u0442, \\u0442\\u0432\\u0438\\u0442, meta\",\"<b>Topic 8</b><br>Words: whatsapp, telegram, \\u043c\\u0435\\u0441\\u0441\\u0435\\u043d\\u0434\\u0436\\u0435\\u0440, \\u0434\\u043e\\u043b\\u044f, \\u043c\\u0435\\u0433\\u0430\\u0444\\u043e\\u043d\\u0434\\u043e\\u043b\\u044f\",\"<b>Topic 8</b><br>Words: meta, facebook, \\u0441\\u0443\\u0434, instagram, whatsapp\"],\"marker\":{\"color\":\"#56B4E9\"},\"mode\":\"lines\",\"name\":\"8_facebook_meta_instagram_\\u0441\\u043e\\u0446\\u0441\\u0435\\u0442\\u044c\",\"x\":[\"2022-02-23T23:11:02.400000\",\"2022-02-26T06:24:00\",\"2022-02-28T12:48:00\",\"2022-03-02T19:12:00\",\"2022-03-05T01:36:00\",\"2022-03-07T08:00:00\",\"2022-03-09T14:24:00\",\"2022-03-11T20:48:00\",\"2022-03-16T09:36:00\",\"2022-03-18T16:00:00\",\"2022-03-20T22:24:00\"],\"y\":[16,5,5,10,1,1,29,13,2,2,17],\"type\":\"scatter\"},{\"hoverinfo\":\"text\",\"hovertext\":[\"<b>Topic 9</b><br>Words: \\u0434\\u0430\\u043c\\u0430\\u0441\\u043a, \\u0440\\u0430\\u043a\\u0435\\u0442\\u0430, \\u0443\\u0444\\u0438\\u0433\\u0430\\u0447\\u0438\\u043b\\u0430, \\u0441\\u0430\\u0443\\u0434\\u0438\\u0442\\u044b, \\u0430\\u0441\\u0438\\u0440\\u0435\",\"<b>Topic 9</b><br>Words: \\u043e\\u0440\\u0443\\u0436\\u0438\\u0435\\u0438\\u0434\\u0435\\u0442, \\u043a\\u0438\\u0435\\u0432\\u0435\\u043e\\u043d, \\u0431\\u0443\\u0447\\u043c\\u044b, \\u0433\\u0430\\u0440\\u0430\\u0436, \\u0438\\u0437\\u0440\\u0430\\u0438\\u043b\\u044c\\u0442\\u044f\\u043d\\u0438\\u043d\",\"<b>Topic 9</b><br>Words: \\u043f\\u043e\\u043d\\u0438\\u043c\\u0430\\u043d\\u0438\\u044f\\u0440\\u0430\\u043a\\u043a\\u0430, \\u043c\\u0430\\u043d\\u0431\\u0438\\u0434\\u0436, \\u0438\\u0440\\u0430\\u043a\\u0446\\u044b, \\u0445\\u0430\\u0440\\u044c\\u043a\\u043e\\u0432\\u0435\\u0448\\u0442\\u0443\\u0440\\u043c\\u043e\\u0432\\u0430\\u043b\\u0438, \\u043c\\u043e\\u0441\\u0443\\u043b\\u0438\\u0433\\u0438\\u043b\",\"<b>Topic 9</b><br>Words: \\u0438\\u0437\\u0440\\u0430\\u0438\\u043b\\u044c\\u0441\\u043a\\u0438\\u0439, \\u044d\\u043a\\u0441\\u043f\\u0435\\u0440\\u0442, \\u043e\\u043f\\u0435\\u0440\\u0430\\u0442\\u0438\\u0432\\u043d\\u044b\\u0439, \\u043e\\u0431\\u0441\\u0442\\u0430\\u043d\\u043e\\u0432\\u043a\\u0430, \\u0441\\u043e\\u0441\\u0442\\u043e\\u044f\\u043d\\u0438\\u0435\",\"<b>Topic 9</b><br>Words: \\u0434\\u0430\\u043c\\u0430\\u0441\\u043a\\u0443\\u0441\\u0440\\u0430\\u0431\\u043e\\u0442\\u0430\\u043b\\u0438, \\u0443\\u0442\\u043e\\u0447\\u043d\\u044f\\u044e\\u0442\\u0441\\u044ftmervvoenkor, \\u0438\\u0437\\u0440\\u0430\\u0438\\u043b\\u044c\\u0441\\u043a\\u0438\\u0439, \\u043f\\u0440\\u043e\\u0433\\u0440\\u0435\\u043c\\u0435\\u0442\\u044c, \\u0438\\u0437\\u0440\\u0430\\u0438\\u043b\\u044c\",\"<b>Topic 9</b><br>Words: \\u0434\\u0435\\u0440\\u0433\\u0430\\u0447\\u0430\\u0445, \\u0434\\u0435\\u0440\\u0433\\u0430\\u0447, \\u0437\\u0430\\u0432\\u0435\\u0440\\u044f\\u0442\\u044c, \\u0441\\u0442\\u0440\\u0430\\u043d\\u043d\\u043e, \\u0432\\u044b\\u0431\\u0438\\u0442\\u044c\",\"<b>Topic 9</b><br>Words: \\u043f\\u0440\\u043e\\u0448\\u043b\\u044f\\u043f\\u0438\\u0442\\u044c, \\u0443\\u0441\\u0442\\u0440\\u0430\\u043d\\u044f\\u0442\\u044c\\u0441\\u044f, \\u044d\\u0440\\u0440\\u0438\\u044f\\u0434\\u0430, \\u0445\\u0443\\u0441\\u0438\\u0442\\u043e\\u0432, \\u0437\\u0430\\u044f\\u0432\\u043b\\u044f\\u0442\\u044c\\u0441\\u044f\",\"<b>Topic 9</b><br>Words: \\u0438\\u0440\\u0430\\u043d, \\u0438\\u0440\\u0430\\u043a\\u0441\\u043a\\u0438\\u0439, \\u0438\\u0440\\u0430\\u043d\\u0441\\u043a\\u0438\\u0439, \\u044d\\u0440\\u0431\\u0438\\u043b\\u0435, \\u0438\\u0440\\u0430\\u043a\",\"<b>Topic 9</b><br>Words: \\u0430\\u043b\\u043b\\u0430\\u0445, arabic, the, \\u0441\\u0432\\u044f\\u0449\\u0435\\u043d\\u043d\\u044b\\u0439, \\u0438\\u043c\\u0430\\u043c\",\"<b>Topic 9</b><br>Words: \\u0434\\u0436\\u0438\\u0434\\u0434\\u0430, \\u0445\\u0443\\u0441\\u0438\\u0442\\u044b, aramco, \\u0439\\u0435\\u043c\\u0435\\u043d\\u0441\\u043a\\u0438\\u0439, \\u043d\\u0435\\u0444\\u0442\\u044f\\u043d\\u043e\\u0439\",\"<b>Topic 9</b><br>Words: \\u0441\\u0438\\u043b\\u0430, \\u0438\\u0441\\u043b\\u0430\\u043c, \\u0430\\u043b\\u043b\\u0430\\u0445, \\u043f\\u0440\\u043e\\u0440\\u043e\\u043a, \\u043d\\u0430\\u0440\\u043e\\u0434\",\"<b>Topic 9</b><br>Words: \\u0430\\u043b\\u043b\\u0430\\u0445, \\u0441\\u0430\\u0443\\u0434\\u043e\\u0432\\u0441\\u043a\\u0438\\u0439, \\u0438\\u043c\\u0430\\u043c, \\u0432\\u0441\\u0435\\u0432\\u044b\\u0448\\u043d\\u0438\\u0439, \\u043f\\u044f\\u0442\\u043d\\u0438\\u0447\\u043d\\u044b\\u0439\",\"<b>Topic 9</b><br>Words: \\u0439\\u0435\\u043c\\u0435\\u043d\\u0441\\u043a\\u0438\\u0439, \\u0441\\u0430\\u0443\\u0434\\u043e\\u0432\\u0441\\u043a\\u0438\\u0439, \\u0430\\u0440\\u0430\\u0432\\u0438\\u044f, \\u0445\\u0430\\u0434\\u0435\\u0440\\u0430, \\u0430\\u043d\\u0441\\u0430\\u0440\",\"<b>Topic 9</b><br>Words: \\u0442\\u0435\\u0440\\u0430\\u043a\\u0442, \\u0441\\u0430\\u0443\\u0434\\u043e\\u0432\\u0441\\u043a\\u0438\\u0439, \\u0438\\u0437\\u0440\\u0430\\u0438\\u043b\\u0435, \\u0438\\u0437\\u0440\\u0430\\u0438\\u043b\\u044c, \\u0431\\u043d\\u0435\\u0439\\u0431\\u0440\\u0430\\u043a\"],\"marker\":{\"color\":\"#009E73\"},\"mode\":\"lines\",\"name\":\"9_\\u0430\\u043b\\u043b\\u0430\\u0445_\\u0438\\u0440\\u0430\\u043d_\\u0441\\u0430\\u0443\\u0434\\u043e\\u0432\\u0441\\u043a\\u0438\\u0439_\\u0438\\u0440\\u0430\\u043a\\u0441\\u043a\\u0438\\u0439\",\"x\":[\"2022-02-23T23:11:02.400000\",\"2022-02-26T06:24:00\",\"2022-02-28T12:48:00\",\"2022-03-02T19:12:00\",\"2022-03-05T01:36:00\",\"2022-03-07T08:00:00\",\"2022-03-09T14:24:00\",\"2022-03-11T20:48:00\",\"2022-03-16T09:36:00\",\"2022-03-18T16:00:00\",\"2022-03-20T22:24:00\",\"2022-03-23T04:48:00\",\"2022-03-25T11:12:00\",\"2022-03-27T17:36:00\"],\"y\":[2,2,1,1,2,1,1,28,3,1,2,6,5,4],\"type\":\"scatter\"},{\"hoverinfo\":\"text\",\"hovertext\":[\"<b>Topic 10</b><br>Words: \\u0442\\u0443\\u0440\\u0446\\u0438\\u044f, \\u044d\\u0440\\u0434\\u043e\\u0433\\u0430\\u043d, \\u0442\\u0443\\u0440\\u0435\\u0446\\u043a\\u0438\\u0439, \\u043c\\u0438\\u043d\\u0438\\u0441\\u0442\\u0440, \\u044d\\u043a\\u043e\\u043d\\u043e\\u043c\\u0438\\u043a\\u0430\",\"<b>Topic 10</b><br>Words: \\u0442\\u0443\\u0440\\u0446\\u0438\\u044f, \\u0442\\u0443\\u0440\\u0435\\u0446\\u043a\\u0438\\u0439, \\u044d\\u0440\\u0434\\u043e\\u0433\\u0430\\u043d, \\u0447\\u0430\\u0432\\u0443\\u0448\\u043e\\u0433\\u043b\\u0443, \\u043a\\u043e\\u0440\\u0430\",\"<b>Topic 10</b><br>Words: \\u0442\\u0443\\u0440\\u0446\\u0438\\u044f, \\u0441\\u0430\\u043d\\u043a\\u0446\\u0438\\u044f, \\u0432\\u0432\\u043e\\u0434\\u0438\\u0442\\u044c, \\u0440\\u043e\\u0441\\u0441\\u0438\\u044f, \\u043f\\u043b\\u0430\\u043d\\u0438\\u0440\\u043e\\u0432\\u0430\\u0442\\u044c\",\"<b>Topic 10</b><br>Words: \\u0442\\u0443\\u0440\\u0446\\u0438\\u044f, \\u044d\\u0440\\u0434\\u043e\\u0433\\u0430\\u043d, \\u043f\\u043e\\u0432\\u043b\\u0438\\u044f\\u0442\\u044c, \\u043c\\u0438\\u0434, \\u043d\\u0435\\u0439\\u0442\\u0440\\u0430\\u043b\\u0438\\u0442\\u0435\\u0442\",\"<b>Topic 10</b><br>Words: \\u0442\\u0443\\u0440\\u0446\\u0438\\u044f, \\u044d\\u0440\\u0434\\u043e\\u0433\\u0430\\u043d, \\u0442\\u0443\\u0440\\u0435\\u0446\\u043a\\u0438\\u0439, \\u0440\\u043e\\u0441\\u0441\\u0438\\u044f, \\u043c\\u0438\\u043d\\u0438\\u0441\\u0442\\u0440\",\"<b>Topic 10</b><br>Words: \\u0442\\u0443\\u0440\\u0446\\u0438\\u044f, \\u043c\\u0438\\u0434, \\u0442\\u0443\\u0440\\u0435\\u0446\\u043a\\u0438\\u0439, \\u0440\\u043e\\u0441\\u0441\\u0438\\u044f, \\u0433\\u043b\\u0430\\u0432\\u0430\",\"<b>Topic 10</b><br>Words: \\u0442\\u0443\\u0440\\u0446\\u0438\\u044f, \\u0441\\u043e\\u0440\\u043e\\u0441, \\u0433\\u043b\\u043e\\u0431\\u0430\\u043b\\u0438\\u0437\\u0430\\u0446\\u0438\\u044f, \\u0441\\u0430\\u043d\\u043a\\u0446\\u0438\\u044f, \\u043c\\u0438\\u0434\",\"<b>Topic 10</b><br>Words: \\u0442\\u0443\\u0440\\u0446\\u0438\\u044f, \\u0442\\u0443\\u0440\\u0435\\u0446\\u043a\\u0438\\u0439, \\u0430\\u0440\\u043c\\u0435\\u043d\\u0438\\u044f, \\u0430\\u0441\\u0441\\u043e\\u0446\\u0438\\u0430\\u0446\\u0438\\u044f, \\u0441\\u0438\\u043c\\u043e\\u043d\",\"<b>Topic 10</b><br>Words: \\u0442\\u0443\\u0440\\u0446\\u0438\\u044f, \\u0442\\u0443\\u0440\\u0435\\u0446\\u043a\\u0438\\u0439, \\u0441\\u0448\\u0430\\u0433\\u043b\\u0430\\u0432\\u0430, \\u043b\\u0438\\u0440\\u0430, \\u0431\\u0430\\u043d\\u043a\\u043e\\u043c\\u0430\\u0442\",\"<b>Topic 10</b><br>Words: \\u0442\\u0443\\u0440\\u0446\\u0438\\u044f, \\u0442\\u043e\\u0440\\u0433\\u043e\\u0432\\u043b\\u044f, \\u0442\\u0443\\u0440\\u0435\\u0446\\u043a\\u0438\\u0439, \\u043d\\u0438\\u0448\\u0430, \\u0431\\u0440\\u0435\\u043d\\u0434\",\"<b>Topic 10</b><br>Words: \\u043f\\u0430\\u0440\\u0442\\u043d\\u0435\\u0440\\u0430, \\u0442\\u0443\\u0440\\u0446\\u0438\\u044f, \\u0441\\u0438\\u0442\\u0443\\u0430\\u0442\\u0438\\u0432\\u043d\\u044b\\u0439, \\u043f\\u043e\\u0441\\u0440\\u0435\\u0434\\u043d\\u0438\\u043a, \\u0441\\u0430\\u0442\\u0430\\u043d\\u043e\\u0432\\u0441\\u043a\\u0438\\u0439\",\"<b>Topic 10</b><br>Words: \\u0442\\u0443\\u0440\\u0446\\u0438\\u044f, \\u043f\\u0435\\u0440\\u0435\\u0433\\u043e\\u0432\\u043e\\u0440\\u043e\\u0432, \\u0442\\u0443\\u0440\\u0435\\u0446\\u043a\\u0438\\u0439, \\u0433\\u043e\\u0441\\u0434\\u0435\\u043f, \\u0440\\u043e\\u0441\\u0441\\u0438\\u044f\"],\"marker\":{\"color\":\"#F0E442\"},\"mode\":\"lines\",\"name\":\"10_\\u0442\\u0443\\u0440\\u0446\\u0438\\u044f_\\u0442\\u0443\\u0440\\u0435\\u0446\\u043a\\u0438\\u0439_\\u044d\\u0440\\u0434\\u043e\\u0433\\u0430\\u043d_\\u0440\\u043e\\u0441\\u0441\\u0438\\u044f\",\"x\":[\"2022-02-23T23:11:02.400000\",\"2022-02-26T06:24:00\",\"2022-02-28T12:48:00\",\"2022-03-02T19:12:00\",\"2022-03-05T01:36:00\",\"2022-03-09T14:24:00\",\"2022-03-11T20:48:00\",\"2022-03-14T03:12:00\",\"2022-03-20T22:24:00\",\"2022-03-23T04:48:00\",\"2022-03-25T11:12:00\",\"2022-03-27T17:36:00\"],\"y\":[4,3,2,4,6,10,7,4,2,2,1,9],\"type\":\"scatter\"},{\"hoverinfo\":\"text\",\"hovertext\":[\"<b>Topic 11</b><br>Words: \\u0435\\u0432\\u0440\\u043e\\u0441\\u043e\\u044e\\u0437, swift, \\u0441\\u0430\\u043d\\u043a\\u0446\\u0438\\u044f, \\u0430\\u0432\\u0441\\u0442\\u0440\\u0438\\u044f, \\u043a\\u0430\\u043d\\u0446\\u043b\\u0435\\u0440\",\"<b>Topic 11</b><br>Words: \\u0435\\u0432\\u0440\\u043e\\u0441\\u043e\\u044e\\u0437, \\u0435\\u0432\\u0440\\u043e\\u043a\\u043e\\u043c\\u0438\\u0441\\u0441\\u0438\\u044f, \\u0430\\u043a\\u0442\\u0438\\u0432, \\u0441\\u0430\\u043d\\u043a\\u0446\\u0438\\u044f, \\u0440\\u043e\\u0441\\u0441\\u0438\\u044f\",\"<b>Topic 11</b><br>Words: \\u0444\\u0440\\u0430\\u043d\\u0446\\u0438\\u0438russian, \\u0435\\u0432\\u0440\\u043e\\u043f\\u044b\\u0433\\u043b\\u0430\\u0432\\u0430, \\u0435\\u0432\\u0440\\u043e\\u0441\\u043e\\u044e\\u0437, \\u043f\\u0440\\u043e\\u043a\\u0441\\u0438\\u0432\\u043e\\u0439\\u043d\\u044b, \\u0435\\u0432\\u0440\\u043e\\u043a\\u043e\\u043c\\u0438\\u0441\\u0441\\u0438\\u044f\",\"<b>Topic 11</b><br>Words: asia, nikkei, \\u0441\\u0430\\u043d\\u043a\\u0446\\u0438\\u044f, \\u0447\\u0443\\u0432\\u0441\\u0442\\u0432\\u043e\\u0432\\u0430\\u0442\\u044c\\u0441\\u044f, \\u043e\\u0442\\u0447\\u0430\\u0441\\u0442\\u0438\",\"<b>Topic 11</b><br>Words: \\u0435\\u0432\\u0440\\u043e\\u0441\\u043e\\u044e\\u0437\\u0430, \\u043f\\u043e\\u0436\\u0438\\u0442\\u044c, \\u043c\\u0430\\u0441\\u043a\\u0438\\u0440\\u043e\\u0432\\u0430\\u0442\\u044c, \\u0441\\u0430\\u043c\\u043e\\u0443\\u0431\\u0438\\u0439\\u0441\\u0442\\u0432\\u043e, \\u0441\\u043e\\u043b\\u0438\\u0434\\u0430\\u0440\\u043d\\u043e\\u0441\\u0442\\u044c\",\"<b>Topic 11</b><br>Words: \\u043f\\u0430\\u0440\\u0438, \\u043f\\u0440\\u043e\\u0434\\u0435\\u0440\\u0436\\u0430\\u0442\\u044c\\u0441\\u044f, \\u0445\\u0430\\u0437\\u0438\\u043d, \\u0435\\u0432\\u0440\\u043e\\u0441\\u043e\\u044e\\u0437, \\u043c\\u0438\\u0445\\u0430\\u0438\\u043b\",\"<b>Topic 11</b><br>Words: \\u0435\\u0432\\u0440\\u043e\\u0441\\u043e\\u044e\\u0437, \\u0431\\u043e\\u0440\\u0440\\u0435\\u043b\\u044c, \\u043f\\u0440\\u0435\\u0434\\u0435\\u043b, \\u0444\\u0438\\u043d\\u0430\\u043d\\u0441\\u043e\\u0432\\u044b\\u0439, \\u0434\\u043e\\u0441\\u0442\\u0438\\u0433\\u043d\\u0443\\u0442\\u044c\",\"<b>Topic 11</b><br>Words: \\u0435\\u0432\\u0440\\u043e\\u0437\\u043e\\u044e\\u0437, \\u0431\\u043e\\u0440\\u0440\\u0435\\u043b\\u044c\\u043f\\u0435\\u0440\\u0435\\u0434, \\u0441\\u0442\\u0440\\u0430\\u043d\\u0430, \\u0441\\u043b\\u0430\\u0431\\u043e, \\u0435\\u0432\\u0440\\u043e\\u0441\\u043e\\u044e\\u0437\",\"<b>Topic 11</b><br>Words: \\u0435\\u0432\\u0440\\u043e\\u0441\\u043e\\u044e\\u0437, \\u043f\\u0440\\u0438\\u043d\\u044f\\u0442\\u043e\\u0442\\u043e\\u043b\\u0441\\u0442\\u043e\\u0439, \\u0435\\u0432\\u0440\\u043e\\u043f\\u0430, \\u0430\\u0432\\u0442\\u043e\\u043d\\u043e\\u043c\\u0438\\u044f, \\u0432\\u044b\\u0445\\u043e\\u0434\\u0435\",\"<b>Topic 11</b><br>Words: \\u0441\\u0448\\u0430\\u043b\\u0430\\u0432\\u0440\\u043e\\u0432, \\u043e\\u0442\\u0441\\u0442\\u0430\\u0438\\u0432\\u0430\\u0442\\u044c, \\u043d\\u0435\\u0437\\u0430\\u0432\\u0438\\u0441\\u0438\\u043c\\u043e\\u0441\\u0442\\u044c, \\u043f\\u0440\\u0435\\u043a\\u0440\\u0430\\u0442\\u0438\\u0442\\u044c, \\u043f\\u0440\\u0430\\u043a\\u0442\\u0438\\u0447\\u0435\\u0441\\u043a\\u0438\",\"<b>Topic 11</b><br>Words: \\u043f\\u0430\\u0440\\u0442\\u043d\\u0435\\u0440\\u043b\\u0430\\u0432\\u0440\\u043e\\u0432, \\u0432\\u043d\\u0435\\u0431\\u043b\\u043e\\u043a\\u043e\\u0432\\u044b\\u0435, \\u043d\\u0435\\u043d\\u0430\\u0434\\u0451\\u0436\\u043d\\u043e\\u0441\\u0442\\u044c, \\u0430\\u043b\\u044c\\u044f\\u043d\\u0441\\u0430\\u043b\\u0430\\u0432\\u0440\\u043e\\u0432, \\u0435\\u0432\\u0440\\u043e\\u0441\\u043e\\u044e\\u0437\",\"<b>Topic 11</b><br>Words: \\u0446\\u0435, \\u0443\\u0442\\u0440\\u0435\\u043d\\u043d\\u0438\\u0439, \\u0435\\u0432\\u0440\\u043e\\u043f\\u0430, \\u0435\\u0432\\u0440\\u043e\\u0441\\u043e\\u044e\\u0437, \\u0441\\u0430\\u043d\\u043a\\u0446\\u0438\\u044f\",\"<b>Topic 11</b><br>Words: \\u0435\\u0432\\u0440\\u043e\\u043f\\u0435\\u0439\\u0441\\u043a\\u0438\\u0439, \\u0434\\u0435\\u043c\\u043e\\u043a\\u0440\\u0430\\u0442\\u0438\\u0439, \\u0436\\u0435\\u043b\\u0430\\u043d\\u0438\\u0439\\u0434\\u0438\\u0440\\u0435\\u043a\\u0442\\u043e\\u0440, \\u0441\\u0438\\u043c\\u043e\\u043d\\u043e\\u0432, \\u043a\\u0443\\u0431\",\"<b>Topic 11</b><br>Words: \\u043d\\u0430\\u0440\\u0443\\u0436\\u0443, \\u0432\\u044b\\u0431\\u0438\\u0440\\u0430\\u0442\\u044c\\u0441\\u044f, \\u043f\\u043e\\u0442\\u0438\\u0445\\u043e\\u043d\\u044c\\u043a\\u0443, \\u0438\\u0441\\u043f\\u0430\\u043d\\u0438\\u044f, \\u0444\\u0440\\u0430\\u043d\\u0446\\u0438\\u044f\"],\"marker\":{\"color\":\"#D55E00\"},\"mode\":\"lines\",\"name\":\"11_\\u0435\\u0432\\u0440\\u043e\\u0441\\u043e\\u044e\\u0437_\\u0441\\u0430\\u043d\\u043a\\u0446\\u0438\\u044f_\\u0435\\u0432\\u0440\\u043e\\u043a\\u043e\\u043c\\u0438\\u0441\\u0441\\u0438\\u044f_\\u0435\\u0432\\u0440\\u043e\\u043f\\u0430\",\"x\":[\"2022-02-23T23:11:02.400000\",\"2022-02-26T06:24:00\",\"2022-02-28T12:48:00\",\"2022-03-02T19:12:00\",\"2022-03-05T01:36:00\",\"2022-03-07T08:00:00\",\"2022-03-09T14:24:00\",\"2022-03-11T20:48:00\",\"2022-03-14T03:12:00\",\"2022-03-16T09:36:00\",\"2022-03-20T22:24:00\",\"2022-03-23T04:48:00\",\"2022-03-25T11:12:00\",\"2022-03-27T17:36:00\"],\"y\":[8,12,3,2,1,1,3,2,3,1,3,1,2,1],\"type\":\"scatter\"},{\"hoverinfo\":\"text\",\"hovertext\":[\"<b>Topic 12</b><br>Words: \\u0440\\u0435\\u0444\\u0435\\u0440\\u0435\\u043d\\u0434\\u0443\\u043c, \\u0434\\u0435\\u043c\\u043e\\u043a\\u0440\\u0430\\u0442\\u0438\\u044f, \\u043e\\u043f\\u0430\\u0441\\u043d\\u043e\\u0441\\u0442\\u044c, \\u043d\\u0430\\u0441\\u0442\\u043e\\u044f\\u0449\\u0438\\u0439, \\u0441\\u043b\\u0430\\u0431\\u0430\\u043a\\u0438\",\"<b>Topic 12</b><br>Words: \\u0440\\u0435\\u0444\\u0435\\u0440\\u0435\\u043d\\u0434\\u0443\\u043c, \\u043a\\u043e\\u043d\\u0441\\u0442\\u0438\\u0442\\u0443\\u0446\\u0438\\u044f, \\u0444\\u0430\\u043a\\u0442\\u043d\\u043e, \\u0443\\u043a\\u0440\\u0430\\u0438\\u043d\\u044b\\u043f\\u043e\\u0445\\u043e\\u0436\\u0435, \\u043f\\u0440\\u043e\\u0433\\u043e\\u043b\\u043e\\u0441\\u043e\\u0432\\u0430\\u0442\\u044c\",\"<b>Topic 12</b><br>Words: \\u043b\\u0436\\u0438\\u0432\\u044b\\u0439, \\u0434\\u0435\\u043c\\u043e\\u043a\\u0440\\u0430\\u0442\\u0438\\u0447\\u0435\\u0441\\u043a\\u0438\\u0439, \\u0440\\u0430\\u0437\\u0440\\u0443\\u0448\\u0430\\u0442\\u044c, \\u043c\\u0438\\u0444, \\u0441\\u0432\\u043e\\u0431\\u043e\\u0434\\u043d\\u044b\\u0439\",\"<b>Topic 12</b><br>Words: \\u0441\\u043b\\u0430\\u0431\\u0430\\u043a\\u0438, \\u0441\\u0443\\u0434\\u0430\\u043d, \\u0432\\u0438\\u0446\\u0435\\u043f\\u0440\\u0435\\u0437\\u0438\\u0434\\u0435\\u043d\\u0442, \\u0442\\u0440\\u044f\\u043f\\u043a\\u0430, \\u0434\\u0435\\u043c\\u043e\\u043a\\u0440\\u0430\\u0442\\u0438\\u044f\",\"<b>Topic 12</b><br>Words: \\u0430\\u0440\\u0445\\u0430\\u043d\\u0433\\u0435\\u043b\\u044c\\u0441\\u043a\\u0438\\u0439, \\u0441\\u043e\\u0431\\u0440\\u0430\\u043d\\u0438\\u0435, \\u043f\\u0440\\u0438\\u0441\\u043e\\u0435\\u0434\\u0438\\u043d\\u044f\\u0442\\u044c\\u0441\\u044f, \\u043e\\u0431\\u043b\\u0430\\u0441\\u0442\\u043d\\u043e\\u0439, \\u0434\\u0435\\u043f\\u0443\\u0442\\u0430\\u0442\",\"<b>Topic 12</b><br>Words: \\u0434\\u0435\\u043c\\u043e\\u043a\\u0440\\u0430\\u0442\\u0438\\u044f, \\u043a\\u043e\\u043d\\u0433\\u0440\\u0435\\u0441\\u0441, \\u043d\\u0430\\u0434\\u0443\\u0432\\u0430\\u0442\\u044c, \\u0442\\u0440\\u0430\\u043c\\u043f\\u0438\\u0441\\u0442\\u043e\\u0432, \\u043f\\u043e\\u043f\\u0443\\u043b\\u0438\\u0437\\u043c\",\"<b>Topic 12</b><br>Words: \\u044f\\u0432\\u043a\\u0430, \\u0440\\u0435\\u0444\\u0435\\u0440\\u0435\\u043d\\u0434\\u0443\\u043c, \\u0440\\u0435\\u0441\\u043f\\u0443\\u0431\\u043b\\u0438\\u043a\\u0430, \\u0430\\u0431\\u0445\\u0430\\u0437\\u0438\\u044f, \\u043f\\u043e\\u0437\\u0434\\u0440\\u0430\\u0432\\u0438\\u0442\\u044c\",\"<b>Topic 12</b><br>Words: \\u0440\\u0435\\u0444\\u0435\\u0440\\u0435\\u043d\\u0434\\u0443\\u043c, \\u0445\\u0435\\u0440\\u0441\\u043e\\u043d\\u0441\\u043a\\u0438\\u0439, \\u0441\\u043e\\u0437\\u0434\\u0430\\u043d\\u0438\\u0435, \\u0445\\u043d\\u0440tmervvoenkor, \\u0440\\u0435\\u0441\\u043f\\u0443\\u0431\\u043b\\u0438\\u043a\\u0430\\u0433\\u043b\\u0430\\u0432\\u0430\",\"<b>Topic 12</b><br>Words: \\u0440\\u0435\\u0444\\u0435\\u0440\\u0435\\u043d\\u0434\\u0443\\u043c, \\u043a\\u0440\\u044b\\u043c, \\u0441\\u0435\\u0432\\u0430\\u0441\\u0442\\u043e\\u043f\\u043e\\u043b\\u044c, \\u0441\\u043e\\u0441\\u0442\\u0430\\u0432, \\u043f\\u0440\\u0435\\u0437\\u0438\\u0434\\u0435\\u043d\\u0442\",\"<b>Topic 12</b><br>Words: \\u0440\\u0435\\u0444\\u0435\\u0440\\u0435\\u043d\\u0434\\u0443\\u043c, \\u0442\\u043e\\u0433\\u0434\\u0430\\u0448\\u043d\\u0438\\u0439, \\u0441\\u0441\\u0440, \\u0441\\u043e\\u0446\\u0438\\u0430\\u043b\\u0438\\u0441\\u0442\\u0438\\u0447\\u0435\\u0441\\u043a\\u0438\\u0439, \\u043f\\u0440\\u043e\\u0433\\u043e\\u043b\\u043e\\u0441\\u043e\\u0432\\u0430\\u0442\\u044c\",\"<b>Topic 12</b><br>Words: \\u0440\\u0435\\u0444\\u0435\\u0440\\u0435\\u043d\\u0434\\u0443\\u043c, \\u043a\\u0435\\u0440\\u0440\\u0438, \\u043f\\u0435\\u0440\\u0435\\u043e\\u0446\\u0435\\u043d\\u0438\\u0432\\u0430\\u0442\\u044c, \\u0434\\u0435\\u043c\\u043e\\u043a\\u0440\\u0430\\u0442\\u0438\\u044f, \\u0432\\u043e\\u0441\\u0442\\u043e\\u0440\\u0436\\u0435\\u0441\\u0442\\u0432\\u043e\\u0432\\u0430\\u0442\\u044c\",\"<b>Topic 12</b><br>Words: \\u0441\\u043e\\u044e\\u0437\\u043d\\u044b\\u0439, \\u0433\\u043e\\u0441\\u0443\\u0434\\u0430\\u0440\\u0441\\u0442\\u0432\\u043e, \\u0440\\u0435\\u0444\\u0435\\u0440\\u0435\\u043d\\u0434\\u0443\\u043c, \\u043c\\u0430\\u0440\\u0438\\u0443\\u043f\\u043e\\u043b\\u044c, \\u0447\\u0430\\u0441\\u0442\\u044c\",\"<b>Topic 12</b><br>Words: \\u0440\\u0435\\u0444\\u0435\\u0440\\u0435\\u043d\\u0434\\u0443\\u043c, \\u043f\\u0430\\u0441\\u0435\\u0447\\u043d\\u0438\\u043a, \\u0440\\u0435\\u0441\\u043f\\u0443\\u0431\\u043b\\u0438\\u043a\\u0430, \\u043b\\u043d\\u0440, \\u0433\\u043b\\u0430\\u0432\\u0430\",\"<b>Topic 12</b><br>Words: \\u0440\\u0435\\u0444\\u0435\\u0440\\u0435\\u043d\\u0434\\u0443\\u043c, \\u043e\\u0441\\u0435\\u0442\\u0438\\u044f, \\u0432\\u0445\\u043e\\u0436\\u0434\\u0435\\u043d\\u0438\\u0435, \\u044e\\u0436\\u043d\\u044b\\u0439, \\u0441\\u043e\\u0441\\u0442\\u0430\\u0432\"],\"marker\":{\"color\":\"#0072B2\"},\"mode\":\"lines\",\"name\":\"12_\\u0440\\u0435\\u0444\\u0435\\u0440\\u0435\\u043d\\u0434\\u0443\\u043c_\\u0440\\u0435\\u0441\\u043f\\u0443\\u0431\\u043b\\u0438\\u043a\\u0430_\\u0434\\u0435\\u043c\\u043e\\u043a\\u0440\\u0430\\u0442\\u0438\\u044f_\\u043a\\u0440\\u044b\\u043c\",\"x\":[\"2022-02-23T23:11:02.400000\",\"2022-02-26T06:24:00\",\"2022-02-28T12:48:00\",\"2022-03-02T19:12:00\",\"2022-03-05T01:36:00\",\"2022-03-07T08:00:00\",\"2022-03-09T14:24:00\",\"2022-03-11T20:48:00\",\"2022-03-14T03:12:00\",\"2022-03-16T09:36:00\",\"2022-03-18T16:00:00\",\"2022-03-23T04:48:00\",\"2022-03-25T11:12:00\",\"2022-03-27T17:36:00\"],\"y\":[6,3,1,2,1,2,2,1,3,2,3,1,7,8],\"type\":\"scatter\"},{\"hoverinfo\":\"text\",\"hovertext\":[\"<b>Topic 13</b><br>Words: \\u0440\\u0443\\u0441\\u043e\\u0444\\u043e\\u0431\\u0438\\u044f, \\u0434\\u0438\\u0441\\u043a\\u0440\\u0438\\u043c\\u0438\\u043d\\u0430\\u0446\\u0438\\u044f, \\u0440\\u0443\\u0441\\u0441\\u043a\\u0438\\u0439, bone, \\u0430\\u0443\\u0434\\u0438\\u0442\\u043e\\u0440\\u0438\\u0438\\u043a\",\"<b>Topic 13</b><br>Words: \\u0431\\u0435\\u0440\\u0434\\u044f\\u043d\\u0441\\u043a, \\u043d\\u0430\\u0440\\u043e\\u0434, \\u0430\\u0442\\u043e, \\u0431\\u0440\\u043e\\u0434, \\u0441\\u043f\\u0438\\u043d\\u0430\",\"<b>Topic 13</b><br>Words: \\u0441\\u0442\\u0440\\u0430\\u043d\\u0430, \\u0433\\u0435\\u0440\\u0433\\u0438\\u0435\\u0432, \\u0447\\u0435\\u043b\\u043e\\u0432\\u0435\\u043a, \\u0434\\u0438\\u0440\\u0438\\u0436\\u0451\\u0440, \\u0444\\u0438\\u043b\\u0430\\u0440\\u043c\\u043e\\u043d\\u0438\\u0447\\u0435\\u0441\\u043a\\u0438\\u0439\",\"<b>Topic 13</b><br>Words: \\u0434\\u0438\\u0441\\u043a\\u0440\\u0438\\u043c\\u0438\\u043d\\u0430\\u0446\\u0438\\u044f, \\u043f\\u0440\\u0430\\u0432\\u043e, \\u043d\\u0430\\u0440\\u0443\\u0448\\u0435\\u043d\\u0438\\u0435, \\u0441\\u0432\\u043e\\u0431\\u043e\\u0434\\u0430, \\u0440\\u0443\\u0441\\u0441\\u043a\\u0438\\u0439\",\"<b>Topic 13</b><br>Words: \\u0441\\u043e\\u0431\\u043e\\u043b\\u044c, \\u0433\\u043e\\u0441\\u0438\\u0437\\u043c\\u0435\\u043d\\u043d\\u0438\\u043a\\u0438, \\u0431\\u043e\\u0440\\u0435\\u0446, \\u043a\\u043e\\u0440\\u0440\\u0443\\u043f\\u0446\\u0438\\u044f, \\u043c\\u0430\\u0442\\u044c\",\"<b>Topic 13</b><br>Words: \\u0440\\u0443\\u0441\\u0441\\u043a\\u0438\\u0439, \\u0447\\u0435\\u043f\\u0443\\u0445\\u0430, \\u0440\\u0443\\u0441\\u043e\\u0444\\u043e\\u0431\\u0438\\u044f, \\u0441\\u0442\\u044b\\u0434\\u043d\\u043e, \\u043d\\u0435\\u043d\\u0430\\u0432\\u0438\\u0441\\u0442\\u044c\",\"<b>Topic 13</b><br>Words: \\u0432\\u0430\\u0433\\u043d\\u0435\\u0440, \\u0440\\u0443\\u0441\\u0441\\u043a\\u0438\\u0439, \\u0434\\u043e\\u0431\\u0440\\u043e\\u0432\\u043e\\u043b\\u0435\\u0446, \\u043f\\u0440\\u0438\\u0432\\u043b\\u0435\\u0447\\u0435\\u043d\\u0438\\u0435, \\u0447\\u0435\\u043b\\u043e\\u0432\\u0435\\u0447\\u0435\\u0441\\u0442\\u0432\\u043e\",\"<b>Topic 13</b><br>Words: \\u044e\\u043d\\u0435\\u0441\\u043a\\u043e, \\u043f\\u0440\\u0438\\u0442\\u0435\\u0441\\u043d\\u0435\\u043d\\u0438\\u0435, \\u043a\\u0443\\u043b\\u044c\\u0442\\u0443\\u0440\\u0430, \\u0440\\u0443\\u0441\\u0441\\u043a\\u0438\\u0439, \\u044f\\u0437\\u044b\\u043a\",\"<b>Topic 13</b><br>Words: \\u0434\\u0438\\u0441\\u043a\\u0440\\u0438\\u043c\\u0438\\u043d\\u0430\\u0446\\u0438\\u044f, \\u043c\\u0438\\u043b\\u043e\\u0432, \\u0431\\u0435\\u0433\\u043b\\u044b\\u0439, \\u043c\\u0438\\u043b\\u043e\\u0432\\u0430, \\u0441\\u0442\\u0440\\u0430\\u043d\\u0430\",\"<b>Topic 13</b><br>Words: \\u0440\\u0443\\u0441\\u043e\\u0444\\u043e\\u0431\\u0438\\u044f, \\u043d\\u0430\\u0446\\u0438\\u0441\\u0442, \\u0444\\u043b\\u0430\\u0433, \\u0441\\u0442\\u0440\\u0430\\u043d\\u0430, \\u0440\\u043e\\u0441\\u0441\\u0438\\u044f\",\"<b>Topic 13</b><br>Words: \\u0432\\u0430\\u043a\\u0445\\u0430\\u043d\\u0430\\u043b\\u0438\\u044f, \\u0430\\u043d\\u0442\\u0438\\u0440\\u0443\\u0441\\u0441\\u043a\\u0438\\u0439, \\u0445\\u0430\\u043c\\u0441\\u0442\\u0432\\u043e, \\u0433\\u0435\\u0440\\u043c\\u0430\\u043d\\u0438\\u044f, \\u043f\\u0440\\u043e\\u0442\\u0438\\u0432\\u043d\\u043e\",\"<b>Topic 13</b><br>Words: \\u0433\\u0440\\u0430\\u0436\\u0434\\u0430\\u043d\\u0441\\u0442\\u0432\\u043e, \\u0432\\u043a\\u043b\\u0430\\u0434, \\u0441\\u0447\\u0451\\u0442, \\u0434\\u0438\\u0441\\u043a\\u0440\\u0438\\u043c\\u0438\\u043d\\u0438\\u0440\\u043e\\u0432\\u0430\\u0442\\u044c, \\u0442\\u044e\\u0440\\u044c\\u043c\\u044b\\u0435\\u0449\\u0451\",\"<b>Topic 13</b><br>Words: \\u044f\\u0431\\u043b\\u043e\\u043a\\u043e, \\u044f\\u0431\\u043b\\u043e\\u0447\\u043d\\u0438\\u043a, \\u0447\\u0435\\u043b\\u043e\\u0432\\u0435\\u043a, \\u044d\\u043a\\u0441\\u0442\\u0440\\u0435\\u043c\\u0438\\u0441\\u0442, \\u0440\\u043e\\u0441\\u0441\\u0438\\u044f\"],\"marker\":{\"color\":\"#CC79A7\"},\"mode\":\"lines\",\"name\":\"13_\\u0434\\u0438\\u0441\\u043a\\u0440\\u0438\\u043c\\u0438\\u043d\\u0430\\u0446\\u0438\\u044f_\\u0440\\u0443\\u0441\\u0441\\u043a\\u0438\\u0439_\\u0441\\u0442\\u0440\\u0430\\u043d\\u0430_\\u043a\\u0443\\u043b\\u044c\\u0442\\u0443\\u0440\\u0430\",\"x\":[\"2022-02-23T23:11:02.400000\",\"2022-02-26T06:24:00\",\"2022-02-28T12:48:00\",\"2022-03-02T19:12:00\",\"2022-03-05T01:36:00\",\"2022-03-09T14:24:00\",\"2022-03-11T20:48:00\",\"2022-03-14T03:12:00\",\"2022-03-16T09:36:00\",\"2022-03-20T22:24:00\",\"2022-03-23T04:48:00\",\"2022-03-25T11:12:00\",\"2022-03-27T17:36:00\"],\"y\":[3,3,4,5,1,4,3,1,4,7,3,1,2],\"type\":\"scatter\"},{\"hoverinfo\":\"text\",\"hovertext\":[\"<b>Topic 14</b><br>Words: \\u043f\\u043e\\u0442\\u0440\\u0435\\u0431\\u0438\\u0442\\u0435\\u043b\\u044c\\u0441\\u043a\\u0438\\u0439, \\u0442\\u043e\\u0432\\u0430\\u0440, \\u043a\\u043e\\u043c\\u043c\\u0443\\u043d\\u0438\\u043a\\u0430\\u0446\\u0438\\u043e\\u043d\\u043d\\u044b\\u0439, \\u043c\\u043e\\u0434\\u0435\\u043c, \\u044d\\u043b\\u0435\\u043a\\u0442\\u0440\\u043e\\u043d\\u0438\\u043a\\u0430\",\"<b>Topic 14</b><br>Words: \\u0443\\u0441\\u0442\\u0440\\u043e\\u0439\\u0441\\u0442\\u0432\\u043e, google, \\u0441\\u043c\\u0430\\u0440\\u0442\\u0444\\u043e\\u043d, \\u043e\\u0433\\u0440\\u0430\\u043d\\u0438\\u0447\\u0435\\u043d\\u0438\\u0435, \\u043c\\u0438\\u0445\\u0430\\u0439\\u043b\\u043e\\u0432\",\"<b>Topic 14</b><br>Words: \\u043a\\u043e\\u0440\\u0435\\u044f, \\u044e\\u0436\\u043d\\u044b\\u0439, samsung, \\u0442\\u043e\\u0432\\u0430\\u0440, \\u0441\\u0430\\u043d\\u043a\\u0446\\u0438\\u044f\",\"<b>Topic 14</b><br>Words: violates, terms, message, device, couldnt\",\"<b>Topic 14</b><br>Words: violates, terms, message, device, couldnt\",\"<b>Topic 14</b><br>Words: keta\\u0440\\u0438\\u0430, \\u043f\\u0443\\u0442\\u0435\\u0448\\u0435\\u0441\\u0442\\u0432\\u0435\\u043d\\u043d\\u0438\\u043a, \\u0430\\u0432\\u0442\\u043e\\u0440\\u0438\\u0437\\u0430\\u0446\\u0438\\u044f, \\u0431\\u0435\\u0437\\u0432\\u0438\\u0437\\u043e\\u0432\\u044b\\u0439, \\u043a\\u043e\\u0440\\u0435\\u044f\",\"<b>Topic 14</b><br>Words: \\u043a\\u0438\\u043c, \\u043f\\u0440\\u0435\\u0434\\u0441\\u0442\\u0430\\u0440\\u0442\\u043e\\u0432\\u044b\\u0439, \\u0441\\u0435\\u0432\\u0435\\u0440\\u043e\\u043a\\u043e\\u0440\\u0435\\u0439\\u0441\\u043a\\u0438\\u0439, \\u0434\\u0435\\u0442\\u0438\\u0449\\u0435, hwasongpho\\u043a\\u0430\\u043a\"],\"marker\":{\"color\":\"#E69F00\"},\"mode\":\"lines\",\"name\":\"14_terms_couldnt_device_message\",\"x\":[\"2022-02-26T06:24:00\",\"2022-02-28T12:48:00\",\"2022-03-02T19:12:00\",\"2022-03-05T01:36:00\",\"2022-03-11T20:48:00\",\"2022-03-20T22:24:00\",\"2022-03-23T04:48:00\"],\"y\":[1,1,12,6,6,1,1],\"type\":\"scatter\"},{\"hoverinfo\":\"text\",\"hovertext\":[\"<b>Topic 15</b><br>Words: google, \\u043f\\u0440\\u0438\\u0437\\u0435\\u043c\\u043b\\u0435\\u043d\\u0438\\u0435, \\u0437\\u0430\\u0440\\u0435\\u0433\\u0438\\u0441\\u0442\\u0440\\u0438\\u0440\\u043e\\u0432\\u0430\\u0442\\u044c, \\u043a\\u0430\\u0431\\u0438\\u043d\\u0435\\u0442, \\u0440\\u043e\\u0441\\u043a\\u043e\\u043c\\u043d\\u0430\\u0434\\u0437\\u043e\\u0440\",\"<b>Topic 15</b><br>Words: google, \\u043f\\u0440\\u0438\\u043e\\u0441\\u0442\\u0430\\u043d\\u0430\\u0432\\u043b\\u0438\\u0432\\u0430\\u0442\\u044c, ads, \\u043d\\u0430\\u0444\\u0442\\u043e\\u0431\\u0430\\u0437\\u0430, \\u043c\\u0430\\u043f\\u0441\",\"<b>Topic 15</b><br>Words: google, \\u043a\\u0443\\u043f\\u0435\\u0440\\u0442\\u0438\\u043d\\u043e, \\u0432\\u0435\\u043d\\u0435\\u0434\\u0438\\u043a\\u0442\\u043e\\u0432\\u0447\\u0435\\u043a\\u0438\\u0441\\u0442\\u0441\\u043a\\u0430\\u044f, \\u0441\\u0432\\u044f\\u0437\\u0430\\u0442\\u044c, \\u044d\\u0444\\u0438\\u0440\\u0430\",\"<b>Topic 15</b><br>Words: google, \\u0441\\u0442\\u0440\\u0438\\u043c\\u044b, \\u0437\\u0430\\u043f\\u0443\\u0441\\u043a\\u0430\\u0442\\u044c, \\u0434\\u043e\\u0441\\u0442\\u0443\\u043f\\u043d\\u0430youtube, \\u0433\\u043e\\u043b\\u043e\\u0432\\u0430\\u043d\\u043e\\u0432\\u0442\\u0440\\u0430\\u043d\\u0441\\u043b\\u044f\\u0446\\u0438\\u044f\",\"<b>Topic 15</b><br>Words: google, \\u0444\\u0443\\u043d\\u043a\\u0446\\u0438\\u043e\\u043d\\u0430\\u043b, \\u0432\\u0438\\u0434\\u0435\\u043e\\u0445\\u043e\\u0441\\u0442\\u0438\\u043d\\u0433, youtube, \\u043f\\u043e\\u0438\\u0441\\u043a\",\"<b>Topic 15</b><br>Words: google, \\u043f\\u0440\\u0438\\u043b\\u043e\\u0436\\u0435\\u043d\\u0438\\u0435, \\u0433\\u043e\\u0441\\u043a\\u0430\\u043d\\u0430\\u043b\\u044b, \\u044e\\u0442\\u0443\\u0431\\u0443, \\u0432\\u0438\\u0434\\u0435\\u043e\\u0441\\u0435\\u0440\\u0432\\u0438\\u0441\",\"<b>Topic 15</b><br>Words: google, \\u0440\\u0435\\u043a\\u043b\\u0430\\u043c\\u043d\\u044b\\u0439, \\u0440\\u043e\\u0441\\u043a\\u043e\\u043c\\u043d\\u0430\\u0434\\u0437\\u043e\\u0440, \\u0440\\u0430\\u0441\\u043f\\u0440\\u043e\\u0441\\u0442\\u0440\\u0430\\u043d\\u0435\\u043d\\u0438\\u0435, youtube\",\"<b>Topic 15</b><br>Words: google, \\u0442\\u0435\\u0445\\u043d\\u043e\\u043b\\u043e\\u0433\\u0438\\u0447\\u0435\\u0441\\u043a\\u0438\\u0439, \\u043d\\u0435\\u0437\\u0430\\u043c\\u0435\\u0434\\u043b\\u0438\\u0442\\u0435\\u043b\\u044c\\u043d\\u043e, \\u0440\\u043e\\u0441\\u043a\\u043e\\u043c\\u043d\\u0430\\u0434\\u0437\\u043e\\u0440, \\u0432\\u043e\\u0437\\u0434\\u0435\\u0439\\u0441\\u0442\\u0432\\u0438\\u0435\",\"<b>Topic 15</b><br>Words: googlenews, \\u0443\\u043a\\u043b\\u043e\\u043d, \\u0437\\u0430\\u043a\\u043e\\u043d\\u043e\\u043c\\u0435\\u0440\\u043d\\u044b\\u0439, \\u0434\\u0435\\u0433\\u0440\\u0430\\u0434\\u0430\\u0446\\u0438\\u044f, google\",\"<b>Topic 15</b><br>Words: google, \\u0434\\u043d\\u043e, \\u043f\\u0440\\u043e\\u0431\\u0438\\u0442\\u044c, \\u0440\\u0435\\u043a\\u043b\\u0430\\u043c\\u0430, \\u043d\\u0430\\u0431\\u043e\\u0440\"],\"marker\":{\"color\":\"#56B4E9\"},\"mode\":\"lines\",\"name\":\"15_google_youtube_\\u043f\\u0440\\u0438\\u043b\\u043e\\u0436\\u0435\\u043d\\u0438\\u0435_\\u0440\\u043e\\u0441\\u043a\\u043e\\u043c\\u043d\\u0430\\u0434\\u0437\\u043e...\",\"x\":[\"2022-02-23T23:11:02.400000\",\"2022-02-26T06:24:00\",\"2022-02-28T12:48:00\",\"2022-03-02T19:12:00\",\"2022-03-07T08:00:00\",\"2022-03-09T14:24:00\",\"2022-03-16T09:36:00\",\"2022-03-18T16:00:00\",\"2022-03-20T22:24:00\",\"2022-03-23T04:48:00\"],\"y\":[1,5,2,4,1,2,1,1,1,1],\"type\":\"scatter\"},{\"hoverinfo\":\"text\",\"hovertext\":[\"<b>Topic 16</b><br>Words: \\u0443\\u043a\\u0440\\u0430\\u0438\\u043d\\u0435\\u0437\\u0430\\u044f\\u0432\\u043b\\u0435\\u043d\\u0438\\u0435, \\u043c\\u0430\\u043a\\u0434\\u043e\\u043d\\u0430\\u043b\\u0434\\u0441, \\u0440\\u0435\\u0441\\u0442\\u043e\\u0440\\u0430\\u043d, \\u0437\\u0430\\u043a\\u0440\\u044b\\u0432\\u0430\\u0442\\u044c, mcdonalds\",\"<b>Topic 16</b><br>Words: metro, \\u0433\\u0438\\u043f\\u0435\\u0440\\u043c\\u0430\\u0440\\u043a\\u0435\\u0442, \\u043f\\u0440\\u0435\\u043a\\u0440\\u0430\\u0449\\u0430\\u0442\\u044c, \\u0441\\u0435\\u0442\\u044c, \\u043f\\u043b\\u0430\\u043d\\u0438\\u0440\\u043e\\u0432\\u0430\\u0442\\u044c\",\"<b>Topic 16</b><br>Words: \\u043f\\u0440\\u0430\\u0436\\u0441\\u043a\\u0438\\u0439, \\u043e\\u0442\\u0440\\u0435\\u0447\\u0435\\u043d\\u0438\\u0435, \\u0440\\u0435\\u0441\\u0442\\u043e\\u0440\\u0430\\u043d, \\u0443\\u043d\\u0438\\u0436\\u0435\\u043d\\u0438\\u0435, \\u043f\\u043e\\u0434\\u0432\\u0435\\u0440\\u0433\\u0430\\u0442\\u044c\",\"<b>Topic 16</b><br>Words: \\u0440\\u0435\\u0441\\u0442\\u043e\\u0440\\u0430\\u043d, mcdonalds, kfc, \\u0441\\u0435\\u0442\\u044c, \\u0437\\u0430\\u043a\\u0440\\u044b\\u0442\\u0438\\u0435\",\"<b>Topic 16</b><br>Words: mcdonalds, \\u043c\\u0435\\u0441\\u044f\\u0446\\u0430\\u0438\\u0441\\u0442\\u043e\\u0447\\u043d\\u0438\\u043a, \\u0440\\u0435\\u0441\\u0442\\u043e\\u0440\\u0430\\u043d, \\u0432\\u044b\\u043f\\u043b\\u0430\\u0447\\u0438\\u0432\\u0430\\u0442\\u044c, \\u0437\\u0430\\u043a\\u0440\\u044b\\u0442\\u044c\\u0441\\u044f\",\"<b>Topic 16</b><br>Words: \\u0438\\u0441\\u043f\\u0430\\u043d\\u0438\\u044f\\u0441\\u0430\\u043d\\u043a\\u0446\\u0438\\u0438, \\u0442\\u0435\\u0440\\u0435\\u043c\\u043e\\u043a, \\u043c\\u0430\\u043a\\u0430\\u0440\\u043e\\u043d, \\u043c\\u0430\\u043a\\u0434\\u043e\\u043d\\u0430\\u043b\\u044c\\u0434\\u0441, \\u043f\\u0430\\u0447\\u043a\\u0430\",\"<b>Topic 16</b><br>Words: \\u0433\\u0440\\u0430\\u043d\\u0442, \\u0441\\u043e\\u0431\\u044f\\u043d\\u0438\\u043d, \\u0431\\u044b\\u0441\\u0442\\u0440\\u044b\\u0439, \\u0432\\u044b\\u0434\\u0435\\u043b\\u0438\\u0442\\u044c, \\u043f\\u0438\\u0442\\u0430\\u043d\\u0438\\u0435\",\"<b>Topic 16</b><br>Words: mcdonalds, \\u0431\\u0435\\u0440\\u0434\\u0441\\u043a, \\u0443\\u043a\\u0440\\u0430\\u0438\\u043d\\u0435\\u043c\\u0430\\u043a\\u0434\\u043e\\u043d\\u044b, \\u0431\\u0430\\u0440\\u043d\\u0430\\u0443\\u043b, \\u043a\\u043e\\u043c\\u043f\\u0430\\u043d\\u0438\\u044f\\u0444\\u0440\\u0430\\u043d\\u0447\\u0430\\u0439\\u0437\\u0438\",\"<b>Topic 16</b><br>Words: mcdonalds, \\u0442\\u0438\\u043c\\u0430\\u0442\\u0438, \\u0441\\u0435\\u0442\\u044c, \\u043c\\u0430\\u0441\\u0448\\u0442\\u0430\\u0431, \\u0444\\u0430\\u0441\\u0442\\u0444\\u0443\\u0434\",\"<b>Topic 16</b><br>Words: \\u0440\\u044b\\u043d\\u043e\\u043aifors, research, \\u0444\\u0430\\u0441\\u0442\\u0444\\u0443\\u0434, \\u043c\\u043e\\u0441\\u043a\\u0432\\u0435, \\u043f\\u043e\\u0442\\u0440\\u0435\\u0431\\u0438\\u0442\\u0435\\u043b\\u044c\"],\"marker\":{\"color\":\"#009E73\"},\"mode\":\"lines\",\"name\":\"16_mcdonalds_\\u0440\\u0435\\u0441\\u0442\\u043e\\u0440\\u0430\\u043d_\\u0441\\u0435\\u0442\\u044c_\\u0442\\u0438\\u043c\\u0430\\u0442\\u0438\",\"x\":[\"2022-02-23T23:11:02.400000\",\"2022-03-02T19:12:00\",\"2022-03-05T01:36:00\",\"2022-03-07T08:00:00\",\"2022-03-09T14:24:00\",\"2022-03-11T20:48:00\",\"2022-03-14T03:12:00\",\"2022-03-16T09:36:00\",\"2022-03-20T22:24:00\",\"2022-03-27T17:36:00\"],\"y\":[1,1,1,7,2,2,1,1,1,1],\"type\":\"scatter\"},{\"hoverinfo\":\"text\",\"hovertext\":[\"<b>Topic 17</b><br>Words: \\u0431\\u043e\\u0442tvbot, \\u0431\\u043e\\u0442, \\u0437\\u0440\\u0438\\u0442\\u0435\\u043b\\u044c, ztv, \\u043f\\u0440\\u0438\\u0441\\u043b\\u0430\\u0442\\u044c\",\"<b>Topic 17</b><br>Words: \\u0431\\u043e\\u0442tvbot, \\u0437\\u0440\\u0438\\u0442\\u0435\\u043b\\u044c, \\u043f\\u0440\\u0438\\u0441\\u043b\\u0430\\u0442\\u044c, \\u043c\\u0430\\u0442\\u0435\\u0440\\u0438\\u0430\\u043b, \\u0444\\u043e\\u0442\\u043e\"],\"marker\":{\"color\":\"#F0E442\"},\"mode\":\"lines\",\"name\":\"17_\\u0431\\u043e\\u0442tvbot_\\u0437\\u0440\\u0438\\u0442\\u0435\\u043b\\u044c_\\u043f\\u0440\\u0438\\u0441\\u043b\\u0430\\u0442\\u044c_ztv\",\"x\":[\"2022-03-25T11:12:00\",\"2022-03-27T17:36:00\"],\"y\":[6,8],\"type\":\"scatter\"},{\"hoverinfo\":\"text\",\"hovertext\":[\"<b>Topic 18</b><br>Words: \\u0433\\u0440\\u0443\\u0437\\u0438\\u044f, \\u0446\\u0438\\u043b\\u0438\\u043a\\u0438\\u0448\\u0432\\u0438\\u043b\\u0438, \\u0433\\u0440\\u0443\\u0437\\u0438\\u043d\\u0441\\u043a\\u0438\\u0439, \\u0433\\u0440\\u0443\\u0437\\u0438\\u043d, \\u0432\\u043c\\u0435\\u0448\\u0430\\u0442\\u044c\\u0441\\u044f\",\"<b>Topic 18</b><br>Words: \\u0433\\u0440\\u0443\\u0437\\u0438\\u044f, \\u0441\\u043e\\u043e\\u0431\\u0440\\u0430\\u0436\\u0435\\u043d\\u0438\\u0435, \\u0433\\u0440\\u0443\\u0437\\u0438\\u043d\\u044b, \\u043f\\u0440\\u0430\\u0433\\u043c\\u0430\\u0442\\u0438\\u043a, \\u043f\\u0440\\u0430\\u0433\\u043c\\u0430\\u0442\\u0438\\u0447\\u0435\\u0441\\u043a\\u0438\\u0439\",\"<b>Topic 18</b><br>Words: \\u0433\\u0440\\u0443\\u0437\\u0438\\u044f, \\u043e\\u0442\\u0437\\u044b\\u0432\\u0430\\u0442\\u044c, \\u043f\\u043e\\u0441\\u043e\\u043b, \\u0433\\u0440\\u0443\\u0437\\u0438\\u043d, \\u043a\\u0438\\u0440\\u0433\\u0438\\u0437\\u0438\\u044f\",\"<b>Topic 18</b><br>Words: \\u0433\\u0440\\u0443\\u0437\\u0438\\u043d, \\u0433\\u0440\\u0443\\u0437\\u0438\\u044f, \\u043f\\u0430\\u043f\\u0430, \\u0433\\u0440\\u0443\\u0437\\u0438\\u043d\\u0441\\u043a\\u0438\\u0439, \\u0437\\u0430\\u0441\\u0442\\u0443\\u043f\\u043b\\u044e\\u0441\\u044c\",\"<b>Topic 18</b><br>Words: \\u0433\\u0440\\u0443\\u0437\\u0438\\u044f, \\u043e\\u043f\\u0440\\u043e\\u0441, gorbi, \\u043d\\u0435\\u043f\\u0440\\u0438\\u0441\\u043e\\u0435\\u0434\\u0438\\u043d\\u0435\\u043d\\u0438\\u0435, \\u0441\\u0443\\u0436\\u0434\\u0435\\u043d\\u0438\\u0435\",\"<b>Topic 18</b><br>Words: \\u0433\\u0440\\u0443\\u0437\\u0438\\u044f, \\u043f\\u0430\\u043f\\u0443\\u0430\\u0448\\u0432\\u0438\\u043b\\u0438, \\u0442\\u0435\\u043b\\u0435\\u043a\\u0430\\u043d\\u0430\\u043b\\u0435, \\u0448\\u0430\\u043b\\u0432\\u0430, \\u043a\\u0430\\u043a\\u0438\\u0445\\u043d\\u0438\\u0431\\u0443\\u0434\\u044c\",\"<b>Topic 18</b><br>Words: \\u0433\\u0440\\u0443\\u0437\\u0438\\u044f, \\u0430\\u0431\\u0445\\u0430\\u0437\\u0438\\u044f, \\u043f\\u043e\\u0432\\u044b\\u0448\\u0435\\u043d\\u043d\\u044b\\u0439, \\u0443\\u0447\\u0435\\u043d\\u0438\\u0435, \\u0433\\u043e\\u0442\\u043e\\u0432\\u043d\\u043e\\u0441\\u0442\\u044c\"],\"marker\":{\"color\":\"#D55E00\"},\"mode\":\"lines\",\"name\":\"18_\\u0433\\u0440\\u0443\\u0437\\u0438\\u044f_\\u0433\\u0440\\u0443\\u0437\\u0438\\u043d_\\u0433\\u0440\\u0443\\u0437\\u0438\\u043d\\u0441\\u043a\\u0438\\u0439_\\u0441\\u0430\\u043d\\u043a\\u0446\\u0438\\u044f\",\"x\":[\"2022-02-23T23:11:02.400000\",\"2022-02-26T06:24:00\",\"2022-02-28T12:48:00\",\"2022-03-18T16:00:00\",\"2022-03-20T22:24:00\",\"2022-03-23T04:48:00\",\"2022-03-25T11:12:00\"],\"y\":[4,2,3,1,1,1,1],\"type\":\"scatter\"}],                        {\"template\":{\"data\":{\"barpolar\":[{\"marker\":{\"line\":{\"color\":\"white\",\"width\":0.5},\"pattern\":{\"fillmode\":\"overlay\",\"size\":10,\"solidity\":0.2}},\"type\":\"barpolar\"}],\"bar\":[{\"error_x\":{\"color\":\"rgb(36,36,36)\"},\"error_y\":{\"color\":\"rgb(36,36,36)\"},\"marker\":{\"line\":{\"color\":\"white\",\"width\":0.5},\"pattern\":{\"fillmode\":\"overlay\",\"size\":10,\"solidity\":0.2}},\"type\":\"bar\"}],\"carpet\":[{\"aaxis\":{\"endlinecolor\":\"rgb(36,36,36)\",\"gridcolor\":\"white\",\"linecolor\":\"white\",\"minorgridcolor\":\"white\",\"startlinecolor\":\"rgb(36,36,36)\"},\"baxis\":{\"endlinecolor\":\"rgb(36,36,36)\",\"gridcolor\":\"white\",\"linecolor\":\"white\",\"minorgridcolor\":\"white\",\"startlinecolor\":\"rgb(36,36,36)\"},\"type\":\"carpet\"}],\"choropleth\":[{\"colorbar\":{\"outlinewidth\":1,\"tickcolor\":\"rgb(36,36,36)\",\"ticks\":\"outside\"},\"type\":\"choropleth\"}],\"contourcarpet\":[{\"colorbar\":{\"outlinewidth\":1,\"tickcolor\":\"rgb(36,36,36)\",\"ticks\":\"outside\"},\"type\":\"contourcarpet\"}],\"contour\":[{\"colorbar\":{\"outlinewidth\":1,\"tickcolor\":\"rgb(36,36,36)\",\"ticks\":\"outside\"},\"colorscale\":[[0.0,\"#440154\"],[0.1111111111111111,\"#482878\"],[0.2222222222222222,\"#3e4989\"],[0.3333333333333333,\"#31688e\"],[0.4444444444444444,\"#26828e\"],[0.5555555555555556,\"#1f9e89\"],[0.6666666666666666,\"#35b779\"],[0.7777777777777778,\"#6ece58\"],[0.8888888888888888,\"#b5de2b\"],[1.0,\"#fde725\"]],\"type\":\"contour\"}],\"heatmapgl\":[{\"colorbar\":{\"outlinewidth\":1,\"tickcolor\":\"rgb(36,36,36)\",\"ticks\":\"outside\"},\"colorscale\":[[0.0,\"#440154\"],[0.1111111111111111,\"#482878\"],[0.2222222222222222,\"#3e4989\"],[0.3333333333333333,\"#31688e\"],[0.4444444444444444,\"#26828e\"],[0.5555555555555556,\"#1f9e89\"],[0.6666666666666666,\"#35b779\"],[0.7777777777777778,\"#6ece58\"],[0.8888888888888888,\"#b5de2b\"],[1.0,\"#fde725\"]],\"type\":\"heatmapgl\"}],\"heatmap\":[{\"colorbar\":{\"outlinewidth\":1,\"tickcolor\":\"rgb(36,36,36)\",\"ticks\":\"outside\"},\"colorscale\":[[0.0,\"#440154\"],[0.1111111111111111,\"#482878\"],[0.2222222222222222,\"#3e4989\"],[0.3333333333333333,\"#31688e\"],[0.4444444444444444,\"#26828e\"],[0.5555555555555556,\"#1f9e89\"],[0.6666666666666666,\"#35b779\"],[0.7777777777777778,\"#6ece58\"],[0.8888888888888888,\"#b5de2b\"],[1.0,\"#fde725\"]],\"type\":\"heatmap\"}],\"histogram2dcontour\":[{\"colorbar\":{\"outlinewidth\":1,\"tickcolor\":\"rgb(36,36,36)\",\"ticks\":\"outside\"},\"colorscale\":[[0.0,\"#440154\"],[0.1111111111111111,\"#482878\"],[0.2222222222222222,\"#3e4989\"],[0.3333333333333333,\"#31688e\"],[0.4444444444444444,\"#26828e\"],[0.5555555555555556,\"#1f9e89\"],[0.6666666666666666,\"#35b779\"],[0.7777777777777778,\"#6ece58\"],[0.8888888888888888,\"#b5de2b\"],[1.0,\"#fde725\"]],\"type\":\"histogram2dcontour\"}],\"histogram2d\":[{\"colorbar\":{\"outlinewidth\":1,\"tickcolor\":\"rgb(36,36,36)\",\"ticks\":\"outside\"},\"colorscale\":[[0.0,\"#440154\"],[0.1111111111111111,\"#482878\"],[0.2222222222222222,\"#3e4989\"],[0.3333333333333333,\"#31688e\"],[0.4444444444444444,\"#26828e\"],[0.5555555555555556,\"#1f9e89\"],[0.6666666666666666,\"#35b779\"],[0.7777777777777778,\"#6ece58\"],[0.8888888888888888,\"#b5de2b\"],[1.0,\"#fde725\"]],\"type\":\"histogram2d\"}],\"histogram\":[{\"marker\":{\"line\":{\"color\":\"white\",\"width\":0.6}},\"type\":\"histogram\"}],\"mesh3d\":[{\"colorbar\":{\"outlinewidth\":1,\"tickcolor\":\"rgb(36,36,36)\",\"ticks\":\"outside\"},\"type\":\"mesh3d\"}],\"parcoords\":[{\"line\":{\"colorbar\":{\"outlinewidth\":1,\"tickcolor\":\"rgb(36,36,36)\",\"ticks\":\"outside\"}},\"type\":\"parcoords\"}],\"pie\":[{\"automargin\":true,\"type\":\"pie\"}],\"scatter3d\":[{\"line\":{\"colorbar\":{\"outlinewidth\":1,\"tickcolor\":\"rgb(36,36,36)\",\"ticks\":\"outside\"}},\"marker\":{\"colorbar\":{\"outlinewidth\":1,\"tickcolor\":\"rgb(36,36,36)\",\"ticks\":\"outside\"}},\"type\":\"scatter3d\"}],\"scattercarpet\":[{\"marker\":{\"colorbar\":{\"outlinewidth\":1,\"tickcolor\":\"rgb(36,36,36)\",\"ticks\":\"outside\"}},\"type\":\"scattercarpet\"}],\"scattergeo\":[{\"marker\":{\"colorbar\":{\"outlinewidth\":1,\"tickcolor\":\"rgb(36,36,36)\",\"ticks\":\"outside\"}},\"type\":\"scattergeo\"}],\"scattergl\":[{\"marker\":{\"colorbar\":{\"outlinewidth\":1,\"tickcolor\":\"rgb(36,36,36)\",\"ticks\":\"outside\"}},\"type\":\"scattergl\"}],\"scattermapbox\":[{\"marker\":{\"colorbar\":{\"outlinewidth\":1,\"tickcolor\":\"rgb(36,36,36)\",\"ticks\":\"outside\"}},\"type\":\"scattermapbox\"}],\"scatterpolargl\":[{\"marker\":{\"colorbar\":{\"outlinewidth\":1,\"tickcolor\":\"rgb(36,36,36)\",\"ticks\":\"outside\"}},\"type\":\"scatterpolargl\"}],\"scatterpolar\":[{\"marker\":{\"colorbar\":{\"outlinewidth\":1,\"tickcolor\":\"rgb(36,36,36)\",\"ticks\":\"outside\"}},\"type\":\"scatterpolar\"}],\"scatter\":[{\"fillpattern\":{\"fillmode\":\"overlay\",\"size\":10,\"solidity\":0.2},\"type\":\"scatter\"}],\"scatterternary\":[{\"marker\":{\"colorbar\":{\"outlinewidth\":1,\"tickcolor\":\"rgb(36,36,36)\",\"ticks\":\"outside\"}},\"type\":\"scatterternary\"}],\"surface\":[{\"colorbar\":{\"outlinewidth\":1,\"tickcolor\":\"rgb(36,36,36)\",\"ticks\":\"outside\"},\"colorscale\":[[0.0,\"#440154\"],[0.1111111111111111,\"#482878\"],[0.2222222222222222,\"#3e4989\"],[0.3333333333333333,\"#31688e\"],[0.4444444444444444,\"#26828e\"],[0.5555555555555556,\"#1f9e89\"],[0.6666666666666666,\"#35b779\"],[0.7777777777777778,\"#6ece58\"],[0.8888888888888888,\"#b5de2b\"],[1.0,\"#fde725\"]],\"type\":\"surface\"}],\"table\":[{\"cells\":{\"fill\":{\"color\":\"rgb(237,237,237)\"},\"line\":{\"color\":\"white\"}},\"header\":{\"fill\":{\"color\":\"rgb(217,217,217)\"},\"line\":{\"color\":\"white\"}},\"type\":\"table\"}]},\"layout\":{\"annotationdefaults\":{\"arrowhead\":0,\"arrowwidth\":1},\"autotypenumbers\":\"strict\",\"coloraxis\":{\"colorbar\":{\"outlinewidth\":1,\"tickcolor\":\"rgb(36,36,36)\",\"ticks\":\"outside\"}},\"colorscale\":{\"diverging\":[[0.0,\"rgb(103,0,31)\"],[0.1,\"rgb(178,24,43)\"],[0.2,\"rgb(214,96,77)\"],[0.3,\"rgb(244,165,130)\"],[0.4,\"rgb(253,219,199)\"],[0.5,\"rgb(247,247,247)\"],[0.6,\"rgb(209,229,240)\"],[0.7,\"rgb(146,197,222)\"],[0.8,\"rgb(67,147,195)\"],[0.9,\"rgb(33,102,172)\"],[1.0,\"rgb(5,48,97)\"]],\"sequential\":[[0.0,\"#440154\"],[0.1111111111111111,\"#482878\"],[0.2222222222222222,\"#3e4989\"],[0.3333333333333333,\"#31688e\"],[0.4444444444444444,\"#26828e\"],[0.5555555555555556,\"#1f9e89\"],[0.6666666666666666,\"#35b779\"],[0.7777777777777778,\"#6ece58\"],[0.8888888888888888,\"#b5de2b\"],[1.0,\"#fde725\"]],\"sequentialminus\":[[0.0,\"#440154\"],[0.1111111111111111,\"#482878\"],[0.2222222222222222,\"#3e4989\"],[0.3333333333333333,\"#31688e\"],[0.4444444444444444,\"#26828e\"],[0.5555555555555556,\"#1f9e89\"],[0.6666666666666666,\"#35b779\"],[0.7777777777777778,\"#6ece58\"],[0.8888888888888888,\"#b5de2b\"],[1.0,\"#fde725\"]]},\"colorway\":[\"#1F77B4\",\"#FF7F0E\",\"#2CA02C\",\"#D62728\",\"#9467BD\",\"#8C564B\",\"#E377C2\",\"#7F7F7F\",\"#BCBD22\",\"#17BECF\"],\"font\":{\"color\":\"rgb(36,36,36)\"},\"geo\":{\"bgcolor\":\"white\",\"lakecolor\":\"white\",\"landcolor\":\"white\",\"showlakes\":true,\"showland\":true,\"subunitcolor\":\"white\"},\"hoverlabel\":{\"align\":\"left\"},\"hovermode\":\"closest\",\"mapbox\":{\"style\":\"light\"},\"paper_bgcolor\":\"white\",\"plot_bgcolor\":\"white\",\"polar\":{\"angularaxis\":{\"gridcolor\":\"rgb(232,232,232)\",\"linecolor\":\"rgb(36,36,36)\",\"showgrid\":false,\"showline\":true,\"ticks\":\"outside\"},\"bgcolor\":\"white\",\"radialaxis\":{\"gridcolor\":\"rgb(232,232,232)\",\"linecolor\":\"rgb(36,36,36)\",\"showgrid\":false,\"showline\":true,\"ticks\":\"outside\"}},\"scene\":{\"xaxis\":{\"backgroundcolor\":\"white\",\"gridcolor\":\"rgb(232,232,232)\",\"gridwidth\":2,\"linecolor\":\"rgb(36,36,36)\",\"showbackground\":true,\"showgrid\":false,\"showline\":true,\"ticks\":\"outside\",\"zeroline\":false,\"zerolinecolor\":\"rgb(36,36,36)\"},\"yaxis\":{\"backgroundcolor\":\"white\",\"gridcolor\":\"rgb(232,232,232)\",\"gridwidth\":2,\"linecolor\":\"rgb(36,36,36)\",\"showbackground\":true,\"showgrid\":false,\"showline\":true,\"ticks\":\"outside\",\"zeroline\":false,\"zerolinecolor\":\"rgb(36,36,36)\"},\"zaxis\":{\"backgroundcolor\":\"white\",\"gridcolor\":\"rgb(232,232,232)\",\"gridwidth\":2,\"linecolor\":\"rgb(36,36,36)\",\"showbackground\":true,\"showgrid\":false,\"showline\":true,\"ticks\":\"outside\",\"zeroline\":false,\"zerolinecolor\":\"rgb(36,36,36)\"}},\"shapedefaults\":{\"fillcolor\":\"black\",\"line\":{\"width\":0},\"opacity\":0.3},\"ternary\":{\"aaxis\":{\"gridcolor\":\"rgb(232,232,232)\",\"linecolor\":\"rgb(36,36,36)\",\"showgrid\":false,\"showline\":true,\"ticks\":\"outside\"},\"baxis\":{\"gridcolor\":\"rgb(232,232,232)\",\"linecolor\":\"rgb(36,36,36)\",\"showgrid\":false,\"showline\":true,\"ticks\":\"outside\"},\"bgcolor\":\"white\",\"caxis\":{\"gridcolor\":\"rgb(232,232,232)\",\"linecolor\":\"rgb(36,36,36)\",\"showgrid\":false,\"showline\":true,\"ticks\":\"outside\"}},\"title\":{\"x\":0.05},\"xaxis\":{\"automargin\":true,\"gridcolor\":\"rgb(232,232,232)\",\"linecolor\":\"rgb(36,36,36)\",\"showgrid\":false,\"showline\":true,\"ticks\":\"outside\",\"title\":{\"standoff\":15},\"zeroline\":false,\"zerolinecolor\":\"rgb(36,36,36)\"},\"yaxis\":{\"automargin\":true,\"gridcolor\":\"rgb(232,232,232)\",\"linecolor\":\"rgb(36,36,36)\",\"showgrid\":false,\"showline\":true,\"ticks\":\"outside\",\"title\":{\"standoff\":15},\"zeroline\":false,\"zerolinecolor\":\"rgb(36,36,36)\"}}},\"xaxis\":{\"showgrid\":true},\"yaxis\":{\"showgrid\":true,\"title\":{\"text\":\"Frequency\"}},\"title\":{\"font\":{\"size\":22,\"color\":\"Black\"},\"text\":\"<b>Topics over Time</b>\",\"y\":0.95,\"x\":0.4,\"xanchor\":\"center\",\"yanchor\":\"top\"},\"hoverlabel\":{\"font\":{\"size\":16,\"family\":\"Rockwell\"},\"bgcolor\":\"white\"},\"width\":1250,\"height\":450,\"legend\":{\"title\":{\"text\":\"<b>Global Topic Representation\"}}},                        {\"responsive\": true}                    ).then(function(){\n",
       "                            \n",
       "var gd = document.getElementById('345adcee-6779-4672-8078-f2c5d40f5960');\n",
       "var x = new MutationObserver(function (mutations, observer) {{\n",
       "        var display = window.getComputedStyle(gd).display;\n",
       "        if (!display || display === 'none') {{\n",
       "            console.log([gd, 'removed!']);\n",
       "            Plotly.purge(gd);\n",
       "            observer.disconnect();\n",
       "        }}\n",
       "}});\n",
       "\n",
       "// Listen for the removal of the full notebook cells\n",
       "var notebookContainer = gd.closest('#notebook-container');\n",
       "if (notebookContainer) {{\n",
       "    x.observe(notebookContainer, {childList: true});\n",
       "}}\n",
       "\n",
       "// Listen for the clearing of the current output cell\n",
       "var outputEl = gd.closest('.output');\n",
       "if (outputEl) {{\n",
       "    x.observe(outputEl, {childList: true});\n",
       "}}\n",
       "\n",
       "                        })                };                });            </script>        </div>"
      ]
     },
     "metadata": {},
     "output_type": "display_data"
    }
   ],
   "source": [
    "topics_over_time = topic_model.topics_over_time(full_invasion[\"processed_message\"], \n",
    "                                                full_invasion[\"post_date\"], \n",
    "                                                global_tuning=True,\n",
    "                                                evolution_tuning=True,\n",
    "                                                nr_bins=15)\n",
    "\n",
    "topic_model.visualize_topics_over_time(topics_over_time, top_n_topics=20)"
   ]
  },
  {
   "cell_type": "markdown",
   "id": "14e5f238",
   "metadata": {},
   "source": [
    "### April 1 to May 11 — Western Boost\n"
   ]
  },
  {
   "cell_type": "code",
   "execution_count": 127,
   "id": "1672f896",
   "metadata": {},
   "outputs": [],
   "source": [
    "df_1 = df[[\"processed_message\", \"post_date\"]]\n",
    "western_boost = df_1[(df_1[\"post_date\"] >= datetime(2022, 4, 1)) & (df_1[\"post_date\"] <= datetime(2022, 5, 15))]\n",
    "western_boost.reset_index(drop=True, inplace=True)"
   ]
  },
  {
   "cell_type": "code",
   "execution_count": 128,
   "id": "cbcfd010",
   "metadata": {
    "scrolled": true
   },
   "outputs": [
    {
     "name": "stdout",
     "output_type": "stream",
     "text": [
      "appending coherence 2\n",
      "topic 2 scores calculated, coherence score: 0.41073551514102535\n",
      "appending coherence 3\n",
      "topic 3 scores calculated, coherence score: 0.5314804805709511\n",
      "appending coherence 4\n",
      "topic 4 scores calculated, coherence score: 0.6011337523110339\n",
      "appending coherence 5\n",
      "topic 5 scores calculated, coherence score: 0.6143378114108025\n",
      "appending coherence 6\n",
      "topic 6 scores calculated, coherence score: 0.6214089860247825\n",
      "appending coherence 7\n",
      "topic 7 scores calculated, coherence score: 0.6010263096896408\n",
      "appending coherence 8\n",
      "topic 8 scores calculated, coherence score: 0.6115341056146378\n",
      "appending coherence 9\n",
      "topic 9 scores calculated, coherence score: 0.6090203861075497\n",
      "appending coherence 10\n",
      "topic 10 scores calculated, coherence score: 0.6138525943665247\n",
      "appending coherence 11\n",
      "topic 11 scores calculated, coherence score: 0.6216334425713556\n",
      "appending coherence 12\n",
      "topic 12 scores calculated, coherence score: 0.6437838930808332\n",
      "appending coherence 13\n",
      "topic 13 scores calculated, coherence score: 0.6507309179897148\n",
      "appending coherence 14\n",
      "topic 14 scores calculated, coherence score: 0.6511864203170308\n",
      "appending coherence 15\n",
      "topic 15 scores calculated, coherence score: 0.6505273858682117\n",
      "appending coherence 16\n",
      "topic 16 scores calculated, coherence score: 0.6587407982449209\n",
      "appending coherence 17\n",
      "topic 17 scores calculated, coherence score: 0.6592786787549239\n",
      "appending coherence 18\n",
      "topic 18 scores calculated, coherence score: 0.6704061173379985\n",
      "appending coherence 19\n",
      "topic 19 scores calculated, coherence score: 0.6689002680789613\n",
      "appending coherence 20\n",
      "topic 20 scores calculated, coherence score: 0.6651617284057739\n"
     ]
    }
   ],
   "source": [
    "coherence_values = compute_coherence_values(2, 21, western_boost[\"processed_message\"])"
   ]
  },
  {
   "cell_type": "code",
   "execution_count": 129,
   "id": "0382d538",
   "metadata": {},
   "outputs": [],
   "source": [
    "representation_model = MaximalMarginalRelevance(diversity=0.8)\n",
    "umap_models = UMAP(n_neighbors=15, \n",
    "              n_components=5, \n",
    "              min_dist=0.0, \n",
    "              metric='cosine', \n",
    "              random_state=101)\n",
    "\n",
    "sentence_model = SentenceTransformer(\"paraphrase-multilingual-mpnet-base-v2\")\n",
    "\n",
    "topic_model = BERTopic(umap_model=umap_models,  \n",
    "                       calculate_probabilities=False, \n",
    "                       embedding_model=sentence_model,\n",
    "                       nr_topics = 20)\n",
    "\n",
    "topics, probabilities = topic_model.fit_transform(western_boost[\"processed_message\"])"
   ]
  },
  {
   "cell_type": "code",
   "execution_count": 130,
   "id": "1014cb89",
   "metadata": {
    "scrolled": true
   },
   "outputs": [
    {
     "data": {
      "text/html": [
       "<div>\n",
       "<style scoped>\n",
       "    .dataframe tbody tr th:only-of-type {\n",
       "        vertical-align: middle;\n",
       "    }\n",
       "\n",
       "    .dataframe tbody tr th {\n",
       "        vertical-align: top;\n",
       "    }\n",
       "\n",
       "    .dataframe thead th {\n",
       "        text-align: right;\n",
       "    }\n",
       "</style>\n",
       "<table border=\"1\" class=\"dataframe\">\n",
       "  <thead>\n",
       "    <tr style=\"text-align: right;\">\n",
       "      <th></th>\n",
       "      <th>Topic</th>\n",
       "      <th>Count</th>\n",
       "      <th>Name</th>\n",
       "    </tr>\n",
       "  </thead>\n",
       "  <tbody>\n",
       "    <tr>\n",
       "      <th>0</th>\n",
       "      <td>-1</td>\n",
       "      <td>8123</td>\n",
       "      <td>-1_украина_всу_россия_военный</td>\n",
       "    </tr>\n",
       "    <tr>\n",
       "      <th>1</th>\n",
       "      <td>0</td>\n",
       "      <td>5704</td>\n",
       "      <td>0_украина_военный_россия_район</td>\n",
       "    </tr>\n",
       "    <tr>\n",
       "      <th>2</th>\n",
       "      <td>1</td>\n",
       "      <td>339</td>\n",
       "      <td>1_газ_нефть_российский_цена</td>\n",
       "    </tr>\n",
       "    <tr>\n",
       "      <th>3</th>\n",
       "      <td>2</td>\n",
       "      <td>325</td>\n",
       "      <td>2_нацист_германия_нацизм_украина</td>\n",
       "    </tr>\n",
       "    <tr>\n",
       "      <th>4</th>\n",
       "      <td>3</td>\n",
       "      <td>254</td>\n",
       "      <td>3_инфляция_рост_санкция_экономика</td>\n",
       "    </tr>\n",
       "    <tr>\n",
       "      <th>5</th>\n",
       "      <td>4</td>\n",
       "      <td>97</td>\n",
       "      <td>4_минобороны_russia_россия_украина</td>\n",
       "    </tr>\n",
       "    <tr>\n",
       "      <th>6</th>\n",
       "      <td>5</td>\n",
       "      <td>96</td>\n",
       "      <td>5_финляндия_швеция_нато_вступление</td>\n",
       "    </tr>\n",
       "    <tr>\n",
       "      <th>7</th>\n",
       "      <td>6</td>\n",
       "      <td>74</td>\n",
       "      <td>6_медведчука_медведчук_обменять_обмен</td>\n",
       "    </tr>\n",
       "    <tr>\n",
       "      <th>8</th>\n",
       "      <td>7</td>\n",
       "      <td>71</td>\n",
       "      <td>7_китай_сша_китайский_тайвань</td>\n",
       "    </tr>\n",
       "    <tr>\n",
       "      <th>9</th>\n",
       "      <td>8</td>\n",
       "      <td>70</td>\n",
       "      <td>8_коронавирус_заболеть_выявить_сутки</td>\n",
       "    </tr>\n",
       "    <tr>\n",
       "      <th>10</th>\n",
       "      <td>9</td>\n",
       "      <td>45</td>\n",
       "      <td>9_папа_римский_христос_церковь</td>\n",
       "    </tr>\n",
       "    <tr>\n",
       "      <th>11</th>\n",
       "      <td>10</td>\n",
       "      <td>44</td>\n",
       "      <td>10_дипломат_посол_высылать_посольство</td>\n",
       "    </tr>\n",
       "    <tr>\n",
       "      <th>12</th>\n",
       "      <td>11</td>\n",
       "      <td>36</td>\n",
       "      <td>11_аллах_рамадан_всевышний_мусульманин</td>\n",
       "    </tr>\n",
       "    <tr>\n",
       "      <th>13</th>\n",
       "      <td>12</td>\n",
       "      <td>35</td>\n",
       "      <td>12_сербия_вучич_выбор_болгария</td>\n",
       "    </tr>\n",
       "    <tr>\n",
       "      <th>14</th>\n",
       "      <td>13</td>\n",
       "      <td>33</td>\n",
       "      <td>13_бабушка_флаг_бабуля_победа</td>\n",
       "    </tr>\n",
       "    <tr>\n",
       "      <th>15</th>\n",
       "      <td>14</td>\n",
       "      <td>32</td>\n",
       "      <td>14_школа_обучение_инструктор_украинских</td>\n",
       "    </tr>\n",
       "    <tr>\n",
       "      <th>16</th>\n",
       "      <td>15</td>\n",
       "      <td>32</td>\n",
       "      <td>15_ядерный_уран_оружие_сша</td>\n",
       "    </tr>\n",
       "    <tr>\n",
       "      <th>17</th>\n",
       "      <td>16</td>\n",
       "      <td>31</td>\n",
       "      <td>16_биологический_химический_лаборатория_украина</td>\n",
       "    </tr>\n",
       "    <tr>\n",
       "      <th>18</th>\n",
       "      <td>17</td>\n",
       "      <td>27</td>\n",
       "      <td>17_google_youtube_приложение_контент</td>\n",
       "    </tr>\n",
       "    <tr>\n",
       "      <th>19</th>\n",
       "      <td>18</td>\n",
       "      <td>14</td>\n",
       "      <td>18_италия_итальянский_чат_итальянец</td>\n",
       "    </tr>\n",
       "    <tr>\n",
       "      <th>20</th>\n",
       "      <td>19</td>\n",
       "      <td>14</td>\n",
       "      <td>19_zдонбасс_ztv_грозный_читатель</td>\n",
       "    </tr>\n",
       "  </tbody>\n",
       "</table>\n",
       "</div>"
      ],
      "text/plain": [
       "    Topic  Count                                             Name\n",
       "0      -1   8123                    -1_украина_всу_россия_военный\n",
       "1       0   5704                   0_украина_военный_россия_район\n",
       "2       1    339                      1_газ_нефть_российский_цена\n",
       "3       2    325                 2_нацист_германия_нацизм_украина\n",
       "4       3    254                3_инфляция_рост_санкция_экономика\n",
       "5       4     97               4_минобороны_russia_россия_украина\n",
       "6       5     96               5_финляндия_швеция_нато_вступление\n",
       "7       6     74            6_медведчука_медведчук_обменять_обмен\n",
       "8       7     71                    7_китай_сша_китайский_тайвань\n",
       "9       8     70             8_коронавирус_заболеть_выявить_сутки\n",
       "10      9     45                   9_папа_римский_христос_церковь\n",
       "11     10     44            10_дипломат_посол_высылать_посольство\n",
       "12     11     36           11_аллах_рамадан_всевышний_мусульманин\n",
       "13     12     35                   12_сербия_вучич_выбор_болгария\n",
       "14     13     33                    13_бабушка_флаг_бабуля_победа\n",
       "15     14     32          14_школа_обучение_инструктор_украинских\n",
       "16     15     32                       15_ядерный_уран_оружие_сша\n",
       "17     16     31  16_биологический_химический_лаборатория_украина\n",
       "18     17     27             17_google_youtube_приложение_контент\n",
       "19     18     14              18_италия_итальянский_чат_итальянец\n",
       "20     19     14                 19_zдонбасс_ztv_грозный_читатель"
      ]
     },
     "execution_count": 130,
     "metadata": {},
     "output_type": "execute_result"
    }
   ],
   "source": [
    "topic_model.get_topic_info()"
   ]
  },
  {
   "cell_type": "code",
   "execution_count": 131,
   "id": "b7ecf293",
   "metadata": {
    "scrolled": true
   },
   "outputs": [
    {
     "name": "stdout",
     "output_type": "stream",
     "text": [
      "===================Topic 0===================\n",
      "украина Ukraine 0.01960179238290467\n",
      "военный military 0.018556454227805785\n",
      "россия Russia 0.017129472981615615\n",
      "район area 0.014935906209042693\n",
      "российский Russian 0.013627500940716356\n",
      "всу vsu 0.013395031028916583\n",
      "пункт paragraph 0.012038676827253535\n",
      "область region 0.011096321708252664\n",
      "уничтожить destroy 0.010928201279768363\n",
      "сила force 0.010441763496873842\n",
      "\n",
      "===================Topic 1===================\n",
      "газ gas 0.12491103070166341\n",
      "нефть oil 0.06262178927932747\n",
      "российский Russian 0.04783260771417915\n",
      "цена price 0.04332641641030063\n",
      "поставка supply 0.042777218498334615\n",
      "ес eu 0.035691111229523675\n",
      "рубль ruble 0.033020395377687396\n",
      "германия Germany 0.03221689623293514\n",
      "санкция sanction 0.030786782936384136\n",
      "евро Euro 0.029422489714719616\n",
      "\n",
      "===================Topic 2===================\n",
      "нацист Nazi 0.059830831527521694\n",
      "германия Germany 0.042840072162303615\n",
      "нацизм Nazism 0.031976902441648816\n",
      "украина Ukraine 0.03076621769511892\n",
      "азов basics 0.026785275122680915\n",
      "нацистский Nazi 0.020471559839060547\n",
      "немецкий German 0.01788054862397119\n",
      "неонацист neo-nazi 0.017539150416042374\n",
      "война war 0.016911778743846247\n",
      "канцлер chancellor 0.01584949301357715\n",
      "\n",
      "===================Topic 3===================\n",
      "инфляция inflation 0.058125316301747276\n",
      "рост height 0.050331735222430146\n",
      "санкция sanction 0.042897045295152994\n",
      "экономика economy 0.04192541430845262\n",
      "цена price 0.03910183694699384\n",
      "рубль ruble 0.036189425489195085\n",
      "доллар dollar 0.03476409704235819\n",
      "сша USA 0.03356976133763002\n",
      "россия Russia 0.030003766657054218\n",
      "млрд billion 0.028444788498021827\n",
      "\n",
      "===================Topic 4===================\n",
      "минобороны Ministry of Defense 0.3045957238209299\n",
      "russia Russia 0.26054325922546456\n",
      "россия Russia 0.1444985956855216\n",
      "украина Ukraine 0.1113181386058178\n",
      "брифинг briefing 0.10650091363099351\n",
      "читать read 0.09963626994905676\n",
      "белорусский Belorussian 0.0603786948797973\n",
      "героиz heroesz 0.039180509378540916\n",
      "гчитать read 0.024426803566052962\n",
      "гражданин citizen 0.020398206405862117\n",
      "\n",
      "===================Topic 5===================\n",
      "финляндия Finland 0.20418424305177307\n",
      "швеция Sweden 0.14206710781717966\n",
      "нато NATO 0.13561211906741247\n",
      "вступление introduction 0.10472827578621892\n",
      "финский Finnish 0.0626444917350125\n",
      "альянс alliance 0.05060417340896633\n",
      "заявка application 0.04891472545465069\n",
      "членство membership 0.03914618211302363\n",
      "страна a country 0.039127828552214125\n",
      "граница border 0.035658166909135425\n",
      "\n",
      "===================Topic 6===================\n",
      "медведчука Medvedchuk 0.17368047761671887\n",
      "медведчук Medvedchuk 0.06151723544855277\n",
      "обменять exchange 0.059955927992333305\n",
      "обмен exchange 0.04909932770816251\n",
      "медведев medvedev 0.04517460019425961\n",
      "виктор Victor 0.04482146923380549\n",
      "зеленского Zelensky 0.03423264210426105\n",
      "поменять change 0.031102237486181815\n",
      "гражданин citizen 0.029301886149429603\n",
      "медведчуком Medvedchuk 0.028814981175634802\n",
      "\n",
      "===================Topic 7===================\n",
      "китай China 0.17341809626326918\n",
      "сша USA 0.07654589414637059\n",
      "китайский Chinese 0.07229445940619608\n",
      "тайвань Taiwan 0.05372643922238755\n",
      "китаец Chinese 0.04290299068656277\n",
      "россия Russia 0.03360132110214939\n",
      "кнр China 0.026161397183619234\n",
      "отношение attitude 0.025767579440096444\n",
      "вызов call 0.025060280365167827\n",
      "страна a country 0.024277511547989638\n",
      "\n",
      "===================Topic 8===================\n",
      "коронавирус coronavirus 0.15223455887781523\n",
      "заболеть get sick 0.142505577090223\n",
      "выявить reveal 0.13016321789940474\n",
      "сутки day 0.11050180858732676\n",
      "раненый wounded 0.10155963350195461\n",
      "москва Moscow 0.08867608854922944\n",
      "новый new 0.06890459897833527\n",
      "госпиталь hospital 0.05890304590139703\n",
      "врач doctor 0.04865890577169416\n",
      "медицинский medical 0.04323219055174498\n",
      "\n",
      "===================Topic 9===================\n",
      "папа dad 0.10605077757026711\n",
      "римский Roman 0.07889036044084222\n",
      "христос Christ 0.054792940059942154\n",
      "церковь church 0.04666234213091752\n",
      "храм temple 0.04294498399632523\n",
      "инквизитор inquisitor 0.039733305139309276\n",
      "православный Orthodox 0.03806560831633439\n",
      "пасха Easter 0.03677703133032722\n",
      "ватикан Vatican 0.03300740273558953\n",
      "пасхальный Easter 0.032034580261536834\n",
      "\n",
      "===================Topic 10===================\n",
      "дипломат diplomat 0.18357122535494885\n",
      "посол ambassador 0.16134292068878367\n",
      "высылать expel 0.12050425040044287\n",
      "посольство embassy 0.1053922645017629\n",
      "польский Polish 0.07331605120479809\n",
      "польша Poland 0.0648298648363293\n",
      "австрия Austria 0.06405695045695003\n",
      "москва Moscow 0.06224379292397835\n",
      "российский Russian 0.061369651662418326\n",
      "россия Russia 0.06025103198964955\n",
      "\n",
      "===================Topic 11===================\n",
      "аллах Allah 0.1007840090952106\n",
      "рамадан Ramadan 0.07588079263435206\n",
      "всевышний supreme 0.0714158761372718\n",
      "мусульманин Muslim 0.0682688692864235\n",
      "праздник holiday 0.05303943444438582\n",
      "месяц month 0.05035442800615778\n",
      "ид id 0.05008689755626745\n",
      "альфитр alfitr 0.04590832317616631\n",
      "совершить commit 0.04161465013991082\n",
      "брат Brother 0.04032973035145327\n",
      "\n",
      "===================Topic 12===================\n",
      "сербия Serbia 0.12043024373907014\n",
      "вучич Vucic 0.07768901003691944\n",
      "выбор choice 0.07336149836059469\n",
      "болгария Bulgaria 0.07118268059897342\n",
      "белград Belgrade 0.06096280624437778\n",
      "поставка supply 0.05790380135660353\n",
      "греция Greece 0.05401019411200561\n",
      "коалиция coalition 0.04675262995706769\n",
      "президент the president 0.03423426383482064\n",
      "украина Ukraine 0.0333405277712985\n",
      "\n",
      "===================Topic 13===================\n",
      "бабушка grandmother 0.16366465159172927\n",
      "флаг flag 0.08793812379550381\n",
      "бабуля granny 0.06540799223504236\n",
      "победа victory 0.06345890301671703\n",
      "красный red 0.06266290704821985\n",
      "знамя banner 0.05878777096508534\n",
      "слёз tears 0.03561144151123518\n",
      "сосед neighbour 0.03558425432288242\n",
      "старушка old woman 0.03484662886346017\n",
      "подачка sop 0.03363991700584826\n",
      "\n",
      "===================Topic 14===================\n",
      "школа school 0.0881797446724683\n",
      "обучение education 0.059266387925927734\n",
      "инструктор Instructor 0.04738032648243925\n",
      "украинских Ukrainian 0.04318360964669184\n",
      "украина Ukraine 0.040314042740257114\n",
      "русский Russian 0.035371064007035574\n",
      "военный military 0.03370716704536125\n",
      "история story 0.03196692883636284\n",
      "учиться study 0.02799608619081313\n",
      "подготовка Preparation 0.027949715960834554\n",
      "\n",
      "===================Topic 15===================\n",
      "ядерный nuclear 0.22342001114794474\n",
      "уран Uranus 0.09047089905728492\n",
      "оружие weapon 0.07223052551404745\n",
      "сша USA 0.06957402699244945\n",
      "кндр DPRK 0.06297688322658679\n",
      "корея Korea 0.060848752983554084\n",
      "россия Russia 0.043728992018760425\n",
      "ким kim 0.04028807317219671\n",
      "применение application 0.03685582282731709\n",
      "чен chen 0.03608542781485747\n",
      "\n",
      "===================Topic 16===================\n",
      "биологический biological 0.09026175113463834\n",
      "химический chemical 0.04963387399530245\n",
      "лаборатория laboratory 0.045891590671558985\n",
      "украина Ukraine 0.03614124618630407\n",
      "сша USA 0.03374548614603835\n",
      "программа program 0.0317607311129142\n",
      "оружие weapon 0.03114130441324201\n",
      "американский American 0.029339720031297558\n",
      "опасный dangerous 0.026673188480542495\n",
      "россия Russia 0.025923174909325046\n",
      "\n",
      "===================Topic 17===================\n",
      "google google 0.1378261831952663\n",
      "youtube youtube 0.1289278138710181\n",
      "приложение application 0.109213327721821\n",
      "контент content 0.08249412850091865\n",
      "видеохостинг video hosting 0.0701200676574676\n",
      "пользователь user 0.045682173094354586\n",
      "play play 0.0453831323085137\n",
      "сбера savings 0.0396946039639428\n",
      "российский Russian 0.03952697418548474\n",
      "просмотр viewing 0.0390872637486721\n",
      "\n",
      "===================Topic 18===================\n",
      "италия Italy 0.22286944372019218\n",
      "итальянский Italian 0.14306075397687795\n",
      "чат chat 0.08944854938314144\n",
      "итальянец Italian 0.0760355155988519\n",
      "автор author 0.05792034544314891\n",
      "премьерминистр Prime Minister 0.05533708193997518\n",
      "центробанк central bank 0.05452287083625943\n",
      "интервью interview 0.053505973702681515\n",
      "драги dredge 0.051504369719874744\n",
      "марио mario 0.051504369719874744\n",
      "\n"
     ]
    }
   ],
   "source": [
    "n_topics = 20\n",
    "for n in range(n_topics-1):\n",
    "    print(f\"===================Topic {n}===================\")\n",
    "    for word in topic_model.get_topic(n):\n",
    "        # print(word[0])\n",
    "        try:\n",
    "            eng = translator.translate(word[0], src='ru', dest='en')\n",
    "            print(word[0], eng.text, word[1])\n",
    "        except:\n",
    "            pass\n",
    "    print()"
   ]
  },
  {
   "cell_type": "markdown",
   "id": "29336340",
   "metadata": {},
   "source": [
    "### June 1 to July 31  — Stalemate\n"
   ]
  },
  {
   "cell_type": "code",
   "execution_count": 132,
   "id": "b97da503",
   "metadata": {},
   "outputs": [],
   "source": [
    "stalemate = df_1[(df_1[\"post_date\"] >= datetime(2022, 6, 1)) & (df_1[\"post_date\"] <= datetime(2022, 7, 31))]\n",
    "stalemate.reset_index(drop=True, inplace=True)"
   ]
  },
  {
   "cell_type": "code",
   "execution_count": 134,
   "id": "e4d841e8",
   "metadata": {
    "scrolled": true
   },
   "outputs": [
    {
     "name": "stdout",
     "output_type": "stream",
     "text": [
      "appending coherence 2\n",
      "topic 2 scores calculated, coherence score: 0.476082520539152\n",
      "appending coherence 3\n",
      "topic 3 scores calculated, coherence score: 0.7211420020197433\n",
      "appending coherence 4\n",
      "topic 4 scores calculated, coherence score: 0.6528814218137314\n",
      "appending coherence 5\n",
      "topic 5 scores calculated, coherence score: 0.7237632665313308\n",
      "appending coherence 6\n",
      "topic 6 scores calculated, coherence score: 0.7742248424832509\n",
      "appending coherence 7\n",
      "topic 7 scores calculated, coherence score: 0.7798467158489669\n",
      "appending coherence 8\n",
      "topic 8 scores calculated, coherence score: 0.7578206768253487\n",
      "appending coherence 9\n",
      "topic 9 scores calculated, coherence score: 0.7571880418647767\n",
      "appending coherence 10\n",
      "topic 10 scores calculated, coherence score: 0.7610497048705007\n",
      "appending coherence 11\n",
      "topic 11 scores calculated, coherence score: 0.7493768682239393\n",
      "appending coherence 12\n",
      "topic 12 scores calculated, coherence score: 0.7442243678365172\n",
      "appending coherence 13\n",
      "topic 13 scores calculated, coherence score: 0.7359081165475246\n",
      "appending coherence 14\n",
      "topic 14 scores calculated, coherence score: 0.727826134294542\n",
      "appending coherence 15\n",
      "topic 15 scores calculated, coherence score: 0.7172122015721164\n",
      "appending coherence 16\n",
      "topic 16 scores calculated, coherence score: 0.722127303482107\n",
      "appending coherence 17\n",
      "topic 17 scores calculated, coherence score: 0.7058326676555162\n",
      "appending coherence 18\n",
      "topic 18 scores calculated, coherence score: 0.7227715347775178\n",
      "appending coherence 19\n",
      "topic 19 scores calculated, coherence score: 0.7252247287865753\n"
     ]
    }
   ],
   "source": [
    "coherence_values = compute_coherence_values(2, 20, stalemate[\"processed_message\"])"
   ]
  },
  {
   "cell_type": "markdown",
   "id": "cfde1703",
   "metadata": {},
   "source": [
    "### October 8 to December — Russia’s Escalation\n"
   ]
  },
  {
   "cell_type": "code",
   "execution_count": 93,
   "id": "cab12736",
   "metadata": {},
   "outputs": [],
   "source": [
    "russia_esc = df_1[(df_1[\"post_date\"] >= datetime(2022, 10, 8)) & (df_1[\"post_date\"] <= datetime(2022, 12, 31))]\n",
    "russia_esc.reset_index(drop=True, inplace=True)"
   ]
  },
  {
   "cell_type": "code",
   "execution_count": 100,
   "id": "65dd4892",
   "metadata": {
    "scrolled": true
   },
   "outputs": [
    {
     "name": "stdout",
     "output_type": "stream",
     "text": [
      "appending coherence 2\n",
      "topic 2 scores calculated, coherence score: 0.4723311576975295\n",
      "appending coherence 3\n",
      "topic 3 scores calculated, coherence score: 0.5788873079454011\n",
      "appending coherence 4\n",
      "topic 4 scores calculated, coherence score: 0.5840534423819771\n",
      "appending coherence 5\n",
      "topic 5 scores calculated, coherence score: 0.644517942547779\n",
      "appending coherence 6\n",
      "topic 6 scores calculated, coherence score: 0.6641186503356138\n",
      "appending coherence 7\n",
      "topic 7 scores calculated, coherence score: 0.6615526819734802\n",
      "appending coherence 8\n",
      "topic 8 scores calculated, coherence score: 0.6857275004508766\n",
      "appending coherence 9\n",
      "topic 9 scores calculated, coherence score: 0.66408708511045\n",
      "appending coherence 10\n",
      "topic 10 scores calculated, coherence score: 0.6621660572184154\n",
      "appending coherence 11\n",
      "topic 11 scores calculated, coherence score: 0.6864160164705979\n",
      "appending coherence 12\n",
      "topic 12 scores calculated, coherence score: 0.7069582172060831\n",
      "appending coherence 13\n",
      "topic 13 scores calculated, coherence score: 0.7161221431107941\n",
      "appending coherence 14\n",
      "topic 14 scores calculated, coherence score: 0.7243166448835805\n",
      "appending coherence 15\n",
      "topic 15 scores calculated, coherence score: 0.727627286681834\n"
     ]
    }
   ],
   "source": [
    "coherence_values = compute_coherence_values(2, 16, russia_esc[\"processed_message\"])"
   ]
  },
  {
   "cell_type": "code",
   "execution_count": 101,
   "id": "f7cdc59f",
   "metadata": {},
   "outputs": [
    {
     "data": {
      "image/png": "[encoded data removed]",
      "text/plain": [
       "<Figure size 600x400 with 1 Axes>"
      ]
     },
     "metadata": {},
     "output_type": "display_data"
    }
   ],
   "source": [
    "fig, ax = plt.subplots(figsize=(6, 4))\n",
    "limit=16; start=2; step=1;\n",
    "x = range(start, limit, step)\n",
    "sns.set(color_codes=True)\n",
    "sns.lineplot(x= x, y=coherence_values)\n",
    "plt.xlabel(\"Num Topics\")\n",
    "plt.ylabel(\"Coherence score\")\n",
    "x_list = range(math.floor(min(x)), math.ceil(max(x))+1)\n",
    "plt.xticks(x_list);"
   ]
  },
  {
   "cell_type": "code",
   "execution_count": 102,
   "id": "110ecf02",
   "metadata": {},
   "outputs": [],
   "source": [
    "representation_model = MaximalMarginalRelevance(diversity=0.8)\n",
    "umap_models = UMAP(n_neighbors=15, \n",
    "              n_components=5, \n",
    "              min_dist=0.0, \n",
    "              metric='cosine', \n",
    "              random_state=101)\n",
    "\n",
    "sentence_model = SentenceTransformer(\"paraphrase-multilingual-mpnet-base-v2\")\n",
    "\n",
    "topic_model = BERTopic(umap_model=umap_models,  \n",
    "                       calculate_probabilities=False, \n",
    "                       embedding_model=sentence_model,\n",
    "                       nr_topics = 15)\n",
    "\n",
    "topics, probabilities = topic_model.fit_transform(russia_esc[\"processed_message\"])"
   ]
  },
  {
   "cell_type": "code",
   "execution_count": 104,
   "id": "0c846887",
   "metadata": {
    "scrolled": true
   },
   "outputs": [
    {
     "data": {
      "text/html": [
       "<div>\n",
       "<style scoped>\n",
       "    .dataframe tbody tr th:only-of-type {\n",
       "        vertical-align: middle;\n",
       "    }\n",
       "\n",
       "    .dataframe tbody tr th {\n",
       "        vertical-align: top;\n",
       "    }\n",
       "\n",
       "    .dataframe thead th {\n",
       "        text-align: right;\n",
       "    }\n",
       "</style>\n",
       "<table border=\"1\" class=\"dataframe\">\n",
       "  <thead>\n",
       "    <tr style=\"text-align: right;\">\n",
       "      <th></th>\n",
       "      <th>Topic</th>\n",
       "      <th>Count</th>\n",
       "      <th>Name</th>\n",
       "    </tr>\n",
       "  </thead>\n",
       "  <tbody>\n",
       "    <tr>\n",
       "      <th>0</th>\n",
       "      <td>-1</td>\n",
       "      <td>10425</td>\n",
       "      <td>-1_россия_украина_всу_военный</td>\n",
       "    </tr>\n",
       "    <tr>\n",
       "      <th>1</th>\n",
       "      <td>0</td>\n",
       "      <td>8561</td>\n",
       "      <td>0_украина_россия_район_всу</td>\n",
       "    </tr>\n",
       "    <tr>\n",
       "      <th>2</th>\n",
       "      <td>1</td>\n",
       "      <td>310</td>\n",
       "      <td>1_турция_иран_армения_турецкий</td>\n",
       "    </tr>\n",
       "    <tr>\n",
       "      <th>3</th>\n",
       "      <td>2</td>\n",
       "      <td>281</td>\n",
       "      <td>2_цена_инфляция_нефть_рост</td>\n",
       "    </tr>\n",
       "    <tr>\n",
       "      <th>4</th>\n",
       "      <td>3</td>\n",
       "      <td>268</td>\n",
       "      <td>3_польша_белоруссия_ракета_польский</td>\n",
       "    </tr>\n",
       "    <tr>\n",
       "      <th>5</th>\n",
       "      <td>4</td>\n",
       "      <td>175</td>\n",
       "      <td>4_китай_китайский_си_тайвань</td>\n",
       "    </tr>\n",
       "    <tr>\n",
       "      <th>6</th>\n",
       "      <td>5</td>\n",
       "      <td>135</td>\n",
       "      <td>5_молдавия_сербия_косово_серб</td>\n",
       "    </tr>\n",
       "    <tr>\n",
       "      <th>7</th>\n",
       "      <td>6</td>\n",
       "      <td>85</td>\n",
       "      <td>6_европарламент_европа_европейский_евросоюз</td>\n",
       "    </tr>\n",
       "    <tr>\n",
       "      <th>8</th>\n",
       "      <td>7</td>\n",
       "      <td>83</td>\n",
       "      <td>7_православный_церковь_папа_упц</td>\n",
       "    </tr>\n",
       "    <tr>\n",
       "      <th>9</th>\n",
       "      <td>8</td>\n",
       "      <td>59</td>\n",
       "      <td>8_лайф_погода_зима_ледяной</td>\n",
       "    </tr>\n",
       "    <tr>\n",
       "      <th>10</th>\n",
       "      <td>9</td>\n",
       "      <td>19</td>\n",
       "      <td>9_грипп_вирус_коронавирус_заболеть</td>\n",
       "    </tr>\n",
       "    <tr>\n",
       "      <th>11</th>\n",
       "      <td>10</td>\n",
       "      <td>16</td>\n",
       "      <td>10_паспорт_гражданство_российский_федерация</td>\n",
       "    </tr>\n",
       "    <tr>\n",
       "      <th>12</th>\n",
       "      <td>11</td>\n",
       "      <td>13</td>\n",
       "      <td>11_корея_южный_кндр_истребитель</td>\n",
       "    </tr>\n",
       "    <tr>\n",
       "      <th>13</th>\n",
       "      <td>12</td>\n",
       "      <td>13</td>\n",
       "      <td>12_медведев_медведь_медведчук_производство</td>\n",
       "    </tr>\n",
       "    <tr>\n",
       "      <th>14</th>\n",
       "      <td>13</td>\n",
       "      <td>12</td>\n",
       "      <td>13_банк_bank_псб_филиал</td>\n",
       "    </tr>\n",
       "  </tbody>\n",
       "</table>\n",
       "</div>"
      ],
      "text/plain": [
       "    Topic  Count                                         Name\n",
       "0      -1  10425                -1_россия_украина_всу_военный\n",
       "1       0   8561                   0_украина_россия_район_всу\n",
       "2       1    310               1_турция_иран_армения_турецкий\n",
       "3       2    281                   2_цена_инфляция_нефть_рост\n",
       "4       3    268          3_польша_белоруссия_ракета_польский\n",
       "5       4    175                 4_китай_китайский_си_тайвань\n",
       "6       5    135                5_молдавия_сербия_косово_серб\n",
       "7       6     85  6_европарламент_европа_европейский_евросоюз\n",
       "8       7     83              7_православный_церковь_папа_упц\n",
       "9       8     59                   8_лайф_погода_зима_ледяной\n",
       "10      9     19           9_грипп_вирус_коронавирус_заболеть\n",
       "11     10     16  10_паспорт_гражданство_российский_федерация\n",
       "12     11     13              11_корея_южный_кндр_истребитель\n",
       "13     12     13   12_медведев_медведь_медведчук_производство\n",
       "14     13     12                      13_банк_bank_псб_филиал"
      ]
     },
     "execution_count": 104,
     "metadata": {},
     "output_type": "execute_result"
    }
   ],
   "source": [
    "topic_model.get_topic_info()"
   ]
  },
  {
   "cell_type": "code",
   "execution_count": 103,
   "id": "05e27f66",
   "metadata": {},
   "outputs": [
    {
     "name": "stdout",
     "output_type": "stream",
     "text": [
      "===================Topic 0===================\n",
      "украина Ukraine 0.018178475863693557\n",
      "россия Russia 0.015633031143121777\n",
      "район area 0.015170110052245618\n",
      "всу vsu 0.015018733589100497\n",
      "российский Russian 0.014258907459546303\n",
      "направление direction 0.013934376157870583\n",
      "область region 0.013393790734469677\n",
      "удар hit 0.01266628090576077\n",
      "военный military 0.011849436750307404\n",
      "войско army 0.011273779018651385\n",
      "\n",
      "===================Topic 1===================\n",
      "турция Türkiye 0.08929077842808102\n",
      "иран Iran 0.05474799625353606\n",
      "армения Armenia 0.03723708511928809\n",
      "турецкий Turkish 0.034063652663073915\n",
      "эрдоган erdogan 0.034058337462375576\n",
      "россия Russia 0.02992585769969423\n",
      "израиль Israel 0.029516394642161842\n",
      "азербайджан Azerbaijan 0.028640900112975813\n",
      "сирия Syria 0.02441905915512177\n",
      "иранский Iranian 0.019507426128149725\n",
      "\n",
      "===================Topic 2===================\n",
      "цена price 0.08798016796324251\n",
      "инфляция inflation 0.07571614793082145\n",
      "нефть oil 0.06512089673005636\n",
      "рост height 0.06257489764398046\n",
      "потолок ceiling 0.04563759256790832\n",
      "россия Russia 0.036893162157558244\n",
      "страна a country 0.032374594344601354\n",
      "российский Russian 0.031387246059263824\n",
      "экономика economy 0.029520186476541404\n",
      "санкция sanction 0.027483682906475997\n",
      "\n",
      "===================Topic 3===================\n",
      "польша Poland 0.12420708522556143\n",
      "белоруссия Belarus 0.07699290184509071\n",
      "ракета rocket 0.059434950029667796\n",
      "польский Polish 0.05856902919375186\n",
      "поляк Pole 0.033075315294808096\n",
      "упасть fell 0.02896814570401469\n",
      "территория territory 0.028531466176177862\n",
      "нато NATO 0.02545719696487759\n",
      "белорусский Belorussian 0.024482277381638152\n",
      "украина Ukraine 0.024206085481364503\n",
      "\n",
      "===================Topic 4===================\n",
      "китай China 0.13601052549884704\n",
      "китайский Chinese 0.07109234839128592\n",
      "си si 0.0701673909913865\n",
      "тайвань Taiwan 0.05946517326401701\n",
      "кнр China 0.03972846025861322\n",
      "сша USA 0.03866584104655054\n",
      "цзиньпин jinping 0.03335160755252406\n",
      "china China 0.028085722070687262\n",
      "кпк pda 0.025643485368888372\n",
      "отношение attitude 0.025081350855935054\n",
      "\n",
      "===================Topic 5===================\n",
      "молдавия Moldova 0.0824565965763541\n",
      "сербия Serbia 0.07310328554761511\n",
      "косово Kosovo 0.06976602840881549\n",
      "серб Serb 0.04999130540381953\n",
      "сербский Serbian 0.032059133810600896\n",
      "санду sandu 0.03118583966572505\n",
      "молдавский Moldavian 0.028208325342149287\n",
      "баррикада barricade 0.028155010747667904\n",
      "румыния Romania 0.02610135815158103\n",
      "страна a country 0.025140908403169574\n",
      "\n",
      "===================Topic 6===================\n",
      "европарламент European Parliament 0.06442197431962024\n",
      "европа Europe 0.05420671784578027\n",
      "европейский European 0.053818291731054374\n",
      "евросоюз European Union 0.05042504613651306\n",
      "ес eu 0.043948153947077725\n",
      "резолюция resolution 0.029516120554475538\n",
      "сад garden 0.029350454601719412\n",
      "сша USA 0.027981253141708573\n",
      "россия Russia 0.024318427097443623\n",
      "спонсор sponsor 0.02376470447050027\n",
      "\n",
      "===================Topic 7===================\n",
      "православный Orthodox 0.07654514646977909\n",
      "церковь church 0.06950465431962699\n",
      "папа dad 0.06228706115951822\n",
      "упц oops 0.050826084000621496\n",
      "римский Roman 0.04735153633847052\n",
      "украина Ukraine 0.04122868841254404\n",
      "канонический canonical 0.033598098470214666\n",
      "обыск search 0.033202866474444516\n",
      "религиозный religious 0.032853007809343235\n",
      "храм temple 0.032221558537282986\n",
      "\n",
      "===================Topic 8===================\n",
      "лайф life 0.22421299850424165\n",
      "погода weather 0.22247656254432252\n",
      "зима winter 0.10429095382059012\n",
      "ледяной ice 0.10319726419792419\n",
      "осадок sediment 0.09224825784964932\n",
      "температура temperature 0.08329816306607576\n",
      "снегопад snowfall 0.07957983998980683\n",
      "дождь rain 0.0793421817306796\n",
      "градус degree 0.07429816533405811\n",
      "москва Moscow 0.07112140635227851\n",
      "\n",
      "===================Topic 9===================\n",
      "грипп flu 0.21501259735191044\n",
      "вирус virus 0.1121956159515689\n",
      "коронавирус coronavirus 0.07839949407861956\n",
      "заболеть get sick 0.063907548501092\n",
      "пандемия pandemic 0.05879962055896466\n",
      "роспотребнадзор Rospotrebnadzor 0.055746510895890125\n",
      "свиной pork 0.055746510895890125\n",
      "профилактика prevention 0.0514895529391594\n",
      "корь measles 0.04658947880744266\n",
      "тамифлю Tamiflu 0.04658947880744266\n",
      "\n",
      "===================Topic 10===================\n",
      "паспорт passport 0.25299660840406146\n",
      "гражданство citizenship 0.20799066552836268\n",
      "российский Russian 0.13869471689116053\n",
      "федерация federation 0.10416589967400951\n",
      "гражданин citizen 0.0939966461437851\n",
      "заявление statement 0.08134534994997324\n",
      "подать submit 0.06438941474045519\n",
      "россия Russia 0.056324138140583714\n",
      "тиньков tinkov 0.05095744205772128\n",
      "житель inhabitant 0.05062411941023716\n",
      "\n",
      "===================Topic 11===================\n",
      "корея Korea 0.32915670795905616\n",
      "южный southern 0.19282464135786667\n",
      "кндр DPRK 0.1407286483363801\n",
      "истребитель fighter 0.08040027408994817\n",
      "испытать experience 0.0789816685395994\n",
      "разбиться crash 0.07793887268617655\n",
      "северокорейские North Korean 0.06715556417013176\n",
      "северокорейским North Korean 0.06715556417013176\n",
      "южнокорейский South Korean 0.06715556417013176\n",
      "твердотопливный solid fuel 0.06715556417013176\n",
      "\n",
      "===================Topic 12===================\n",
      "медведев medvedev 0.4162060138243179\n",
      "медведь bear 0.2808125454101361\n",
      "медведчук Medvedchuk 0.16014134322784376\n",
      "производство production 0.11609662416225981\n",
      "март March 0.10236307973346927\n",
      "аве ave 0.08907537769458555\n",
      "ялтевопрос yaltequestion 0.08907537769458555\n",
      "всуосторожно extra cautiously 0.08339399976864721\n",
      "своисточник its source 0.08339399976864721\n",
      "зависать hang out 0.08007067161392188\n",
      "\n",
      "===================Topic 13===================\n",
      "банк bank 0.30235291969760614\n",
      "bank bank 0.11269450835538355\n",
      "псб psb 0.08120907419740785\n",
      "филиал branch 0.07047620937336031\n",
      "офис office 0.06508060163118122\n",
      "рупиях rupees 0.06426724958485835\n",
      "обслуживание service 0.0641447045218413\n",
      "счёт check 0.057276372842546094\n",
      "индия India 0.05657823069153778\n",
      "расчёт calculation 0.05614687217372317\n",
      "\n"
     ]
    }
   ],
   "source": [
    "n_topics = 15\n",
    "for n in range(n_topics-1):\n",
    "    print(f\"===================Topic {n}===================\")\n",
    "    for word in topic_model.get_topic(n):\n",
    "        # print(word[0])\n",
    "        try:\n",
    "            eng = translator.translate(word[0], src='ru', dest='en')\n",
    "            print(word[0], eng.text, word[1])\n",
    "        except:\n",
    "            pass\n",
    "    print()"
   ]
  },
  {
   "cell_type": "code",
   "execution_count": 105,
   "id": "c5be5a2b",
   "metadata": {},
   "outputs": [
    {
     "data": {
      "application/vnd.plotly.v1+json": {
       "config": {
        "plotlyServerURL": "https://plot.ly"
       },
       "data": [
        {
         "hoverinfo": "text",
         "hovertext": [
          "<b>Topic 0</b><br>Words: мост, украина, крымский, удар, россия",
          "<b>Topic 0</b><br>Words: украина, область, россия, всу, военный",
          "<b>Topic 0</b><br>Words: украина, всу, область, россия, район",
          "<b>Topic 0</b><br>Words: россия, украина, всу, район, направление",
          "<b>Topic 0</b><br>Words: украина, россия, всу, российский, район",
          "<b>Topic 0</b><br>Words: направление, всу, украина, район, противник",
          "<b>Topic 0</b><br>Words: украина, направление, всу, россия, российский",
          "<b>Topic 0</b><br>Words: украина, российский, россия, всу, район",
          "<b>Topic 0</b><br>Words: украина, россия, всу, российский, район",
          "<b>Topic 0</b><br>Words: украина, всу, район, направление, российский",
          "<b>Topic 0</b><br>Words: украина, россия, российский, область, район",
          "<b>Topic 0</b><br>Words: украина, район, всу, российский, россия",
          "<b>Topic 0</b><br>Words: украина, район, направление, российский, удар",
          "<b>Topic 0</b><br>Words: район, украина, россия, военный, всу",
          "<b>Topic 0</b><br>Words: украина, россия, район, область, всу"
         ],
         "marker": {
          "color": "#E69F00"
         },
         "mode": "lines",
         "name": "0_украина_россия_район_всу",
         "type": "scatter",
         "x": [
          "2022-10-07T21:59:02.400000",
          "2022-10-13T14:24:00",
          "2022-10-19T04:48:00",
          "2022-10-24T19:12:00",
          "2022-10-30T09:36:00",
          "2022-11-05T00:00:00",
          "2022-11-10T14:24:00",
          "2022-11-16T04:48:00",
          "2022-11-21T19:12:00",
          "2022-11-27T09:36:00",
          "2022-12-03T00:00:00",
          "2022-12-08T14:24:00",
          "2022-12-14T04:48:00",
          "2022-12-19T19:12:00",
          "2022-12-25T09:36:00"
         ],
         "y": [
          1006,
          723,
          527,
          602,
          622,
          517,
          560,
          463,
          505,
          468,
          508,
          458,
          415,
          569,
          618
         ]
        },
        {
         "hoverinfo": "text",
         "hovertext": [
          "<b>Topic 1</b><br>Words: турция, эрдоган, турецкий, пророк, аллах",
          "<b>Topic 1</b><br>Words: иран, турция, израиль, россия, иранский",
          "<b>Topic 1</b><br>Words: турция, армения, израиль, иран, телефонный",
          "<b>Topic 1</b><br>Words: турция, армения, израиль, иран, эрдоган",
          "<b>Topic 1</b><br>Words: турция, армения, азербайджан, иран, россия",
          "<b>Topic 1</b><br>Words: турция, иран, армения, россия, газ",
          "<b>Topic 1</b><br>Words: турция, теракт, стамбул, иран, эрдоган",
          "<b>Topic 1</b><br>Words: турция, иран, турецкий, эрдоган, израиль",
          "<b>Topic 1</b><br>Words: турция, сирия, турецкий, одкб, иран",
          "<b>Topic 1</b><br>Words: турция, казахстан, иран, эрдоган, россия",
          "<b>Topic 1</b><br>Words: турция, анкара, турецкий, чтото, беспокоить",
          "<b>Topic 1</b><br>Words: иран, турция, россия, туркменистан, эрдоган",
          "<b>Topic 1</b><br>Words: турция, иран, эрдоган, сирия, ядерный",
          "<b>Topic 1</b><br>Words: азербайджан, армения, турция, мид, карабах",
          "<b>Topic 1</b><br>Words: турция, армения, иран, сирия, вопрос"
         ],
         "marker": {
          "color": "#56B4E9"
         },
         "mode": "lines",
         "name": "1_турция_иран_армения_турецкий",
         "type": "scatter",
         "x": [
          "2022-10-07T21:59:02.400000",
          "2022-10-13T14:24:00",
          "2022-10-19T04:48:00",
          "2022-10-24T19:12:00",
          "2022-10-30T09:36:00",
          "2022-11-05T00:00:00",
          "2022-11-10T14:24:00",
          "2022-11-16T04:48:00",
          "2022-11-21T19:12:00",
          "2022-11-27T09:36:00",
          "2022-12-03T00:00:00",
          "2022-12-08T14:24:00",
          "2022-12-14T04:48:00",
          "2022-12-19T19:12:00",
          "2022-12-25T09:36:00"
         ],
         "y": [
          20,
          54,
          10,
          22,
          33,
          17,
          25,
          20,
          26,
          21,
          5,
          14,
          11,
          10,
          22
         ]
        },
        {
         "hoverinfo": "text",
         "hovertext": [
          "<b>Topic 2</b><br>Words: инфляция, цена, рост, нефть, сентябре",
          "<b>Topic 2</b><br>Words: рост, рецессия, инфляция, цена, экономика",
          "<b>Topic 2</b><br>Words: инфляция, цена, рост, промышленный, рубини",
          "<b>Topic 2</b><br>Words: цена, инфляция, рост, электромобиль, россия",
          "<b>Topic 2</b><br>Words: инфляция, нефть, цена, рост, индия",
          "<b>Topic 2</b><br>Words: рост, инфляция, цена, сша, россия",
          "<b>Topic 2</b><br>Words: инфляция, рост, цена, рекордный, нефть",
          "<b>Topic 2</b><br>Words: инфляция, цена, рост, страна, нефть",
          "<b>Topic 2</b><br>Words: цена, нефть, инфляция, рост, потолок",
          "<b>Topic 2</b><br>Words: цена, инфляция, нефть, потолок, актив",
          "<b>Topic 2</b><br>Words: нефть, потолок, цена, российский, россия",
          "<b>Topic 2</b><br>Words: цена, нефть, инфляция, рост, потолок",
          "<b>Topic 2</b><br>Words: цена, инфляция, нефть, рост, санкция",
          "<b>Topic 2</b><br>Words: цена, нефть, инфляция, рост, рубль",
          "<b>Topic 2</b><br>Words: цена, рубль, нефть, потолок, рост"
         ],
         "marker": {
          "color": "#009E73"
         },
         "mode": "lines",
         "name": "2_цена_инфляция_нефть_рост",
         "type": "scatter",
         "x": [
          "2022-10-07T21:59:02.400000",
          "2022-10-13T14:24:00",
          "2022-10-19T04:48:00",
          "2022-10-24T19:12:00",
          "2022-10-30T09:36:00",
          "2022-11-05T00:00:00",
          "2022-11-10T14:24:00",
          "2022-11-16T04:48:00",
          "2022-11-21T19:12:00",
          "2022-11-27T09:36:00",
          "2022-12-03T00:00:00",
          "2022-12-08T14:24:00",
          "2022-12-14T04:48:00",
          "2022-12-19T19:12:00",
          "2022-12-25T09:36:00"
         ],
         "y": [
          18,
          13,
          10,
          15,
          16,
          6,
          11,
          12,
          22,
          38,
          25,
          17,
          14,
          27,
          37
         ]
        },
        {
         "hoverinfo": "text",
         "hovertext": [
          "<b>Topic 3</b><br>Words: белоруссия, польша, беларусь, группировка, лукашенко",
          "<b>Topic 3</b><br>Words: белоруссия, польша, белорусский, беларусь, польский",
          "<b>Topic 3</b><br>Words: белоруссия, беларусь, сбу, кгб, белорус",
          "<b>Topic 3</b><br>Words: польша, польский, белоруссия, поляк, украина",
          "<b>Topic 3</b><br>Words: польша, польский, поляк, пособие, белоруссия",
          "<b>Topic 3</b><br>Words: польша, поляк, учитевгений, копытом, войнепольский",
          "<b>Topic 3</b><br>Words: польша, ракета, польский, упасть, нато",
          "<b>Topic 3</b><br>Words: польша, ракета, польский, упасть, белоруссия",
          "<b>Topic 3</b><br>Words: польша, белоруссия, польский, ракета, беларусь",
          "<b>Topic 3</b><br>Words: польша, белоруссия, польский, белорусский, посадить",
          "<b>Topic 3</b><br>Words: белоруссия, польша, населённый, зачистка, метр",
          "<b>Topic 3</b><br>Words: польша, белоруссия, внезапный, проверка, белорусский",
          "<b>Topic 3</b><br>Words: белоруссия, польша, польский, поляк, беларусь",
          "<b>Topic 3</b><br>Words: польша, белоруссия, польский, штази, ракета",
          "<b>Topic 3</b><br>Words: белоруссия, польша, польский, поляк, госевска"
         ],
         "marker": {
          "color": "#F0E442"
         },
         "mode": "lines",
         "name": "3_польша_белоруссия_ракета_польский",
         "type": "scatter",
         "x": [
          "2022-10-07T21:59:02.400000",
          "2022-10-13T14:24:00",
          "2022-10-19T04:48:00",
          "2022-10-24T19:12:00",
          "2022-10-30T09:36:00",
          "2022-11-05T00:00:00",
          "2022-11-10T14:24:00",
          "2022-11-16T04:48:00",
          "2022-11-21T19:12:00",
          "2022-11-27T09:36:00",
          "2022-12-03T00:00:00",
          "2022-12-08T14:24:00",
          "2022-12-14T04:48:00",
          "2022-12-19T19:12:00",
          "2022-12-25T09:36:00"
         ],
         "y": [
          21,
          18,
          5,
          9,
          9,
          3,
          90,
          26,
          8,
          18,
          4,
          6,
          25,
          14,
          12
         ]
        },
        {
         "hoverinfo": "text",
         "hovertext": [
          "<b>Topic 4</b><br>Words: переломить, предостерёг, взаимозависимость, несправедливодмитрий, неразумно",
          "<b>Topic 4</b><br>Words: китай, тайвань, китайский, си, сша",
          "<b>Topic 4</b><br>Words: китай, си, кпк, китайский, тайвань",
          "<b>Topic 4</b><br>Words: ху, китай, китайский, тайвань, цзиньтао",
          "<b>Topic 4</b><br>Words: китай, китайский, china, тайвань, airshow",
          "<b>Topic 4</b><br>Words: китай, китайский, china, тайвань, airshow",
          "<b>Topic 4</b><br>Words: китай, си, кнр, китайский, тайвань",
          "<b>Topic 4</b><br>Words: китай, китаец, кнр, цзэдун, посол",
          "<b>Topic 4</b><br>Words: китай, койкоместсми, кайши, чан, foxconn",
          "<b>Topic 4</b><br>Words: китай, китайский, тайвань, протест, кнр",
          "<b>Topic 4</b><br>Words: китай, протест, ситуативный, си, китайский",
          "<b>Topic 4</b><br>Words: китай, китайский, пекин, двусторонний, конфликт",
          "<b>Topic 4</b><br>Words: китай, япония, сша, тайвань, рф",
          "<b>Topic 4</b><br>Words: китай, си, китайский, медведев, цзиньпин",
          "<b>Topic 4</b><br>Words: китай, си, сша, тайвань, китайский"
         ],
         "marker": {
          "color": "#D55E00"
         },
         "mode": "lines",
         "name": "4_китай_китайский_си_тайвань",
         "type": "scatter",
         "x": [
          "2022-10-07T21:59:02.400000",
          "2022-10-13T14:24:00",
          "2022-10-19T04:48:00",
          "2022-10-24T19:12:00",
          "2022-10-30T09:36:00",
          "2022-11-05T00:00:00",
          "2022-11-10T14:24:00",
          "2022-11-16T04:48:00",
          "2022-11-21T19:12:00",
          "2022-11-27T09:36:00",
          "2022-12-03T00:00:00",
          "2022-12-08T14:24:00",
          "2022-12-14T04:48:00",
          "2022-12-19T19:12:00",
          "2022-12-25T09:36:00"
         ],
         "y": [
          1,
          10,
          20,
          18,
          16,
          21,
          18,
          2,
          4,
          12,
          3,
          5,
          4,
          24,
          17
         ]
        },
        {
         "hoverinfo": "text",
         "hovertext": [
          "<b>Topic 5</b><br>Words: time, серб, бомбить, повиновение, молдавия",
          "<b>Topic 5</b><br>Words: молдавия, молдаванин, санду, майя, политик",
          "<b>Topic 5</b><br>Words: италия, сербия, молдавия, вакцина, косово",
          "<b>Topic 5</b><br>Words: сербия, молдавия, сербский, румыния, италия",
          "<b>Topic 5</b><br>Words: сербия, молдавия, санду, серб, молдован",
          "<b>Topic 5</b><br>Words: молдавия, гросу, рассуждать, задача, посольство",
          "<b>Topic 5</b><br>Words: молдавия, приднестровье, руководитель, леев, работник",
          "<b>Topic 5</b><br>Words: приштину, сообщество, электроэнергия, принеслоситуация, apăcanal",
          "<b>Topic 5</b><br>Words: сербия, косово, молдавия, разбить, попросить",
          "<b>Topic 5</b><br>Words: молдавия, сербия, санду, электричество, электроэнергия",
          "<b>Topic 5</b><br>Words: молдавия, серб, албанский, косов, вторгнуться",
          "<b>Topic 5</b><br>Words: косово, сербия, серб, молдавия, сербский",
          "<b>Topic 5</b><br>Words: косово, серб, сербия, kfor, сербский",
          "<b>Topic 5</b><br>Words: молдавия, молдавский, румыния, сербия, румынский",
          "<b>Topic 5</b><br>Words: сербия, косово, серб, баррикада, молдавия"
         ],
         "marker": {
          "color": "#0072B2"
         },
         "mode": "lines",
         "name": "5_молдавия_сербия_косово_серб",
         "type": "scatter",
         "x": [
          "2022-10-07T21:59:02.400000",
          "2022-10-13T14:24:00",
          "2022-10-19T04:48:00",
          "2022-10-24T19:12:00",
          "2022-10-30T09:36:00",
          "2022-11-05T00:00:00",
          "2022-11-10T14:24:00",
          "2022-11-16T04:48:00",
          "2022-11-21T19:12:00",
          "2022-11-27T09:36:00",
          "2022-12-03T00:00:00",
          "2022-12-08T14:24:00",
          "2022-12-14T04:48:00",
          "2022-12-19T19:12:00",
          "2022-12-25T09:36:00"
         ],
         "y": [
          3,
          5,
          7,
          8,
          6,
          3,
          4,
          2,
          6,
          12,
          2,
          34,
          7,
          13,
          23
         ]
        },
        {
         "hoverinfo": "text",
         "hovertext": [
          "<b>Topic 6</b><br>Words: сад, евросоюз, ес, эштон, джунгли",
          "<b>Topic 6</b><br>Words: евросоюз, европейский, ес, фонд, эстония",
          "<b>Topic 6</b><br>Words: европа, европейский, сад, частный, евросоюз",
          "<b>Topic 6</b><br>Words: террористический, европа, птичка, вассал, резолюция",
          "<b>Topic 6</b><br>Words: ес, сумма, европа, россия, чехия",
          "<b>Topic 6</b><br>Words: евро, евросоюз, еврокомиссия, европейский, челик",
          "<b>Topic 6</b><br>Words: потемки, чехия, душа, парламент, густыелавров",
          "<b>Topic 6</b><br>Words: европарламент, дельфин, боррель, европейский, иероним",
          "<b>Topic 6</b><br>Words: европарламент, спонсор, терроризм, резолюция, государство",
          "<b>Topic 6</b><br>Words: европарламент, европейский, европа, резолюция, сша",
          "<b>Topic 6</b><br>Words: ес, финансовый, джунгли, европа, европарламент",
          "<b>Topic 6</b><br>Words: европарламент, кайли, европа, евросоюз, коррупция",
          "<b>Topic 6</b><br>Words: кайли, европарламент, евросоюз, европейский, европа",
          "<b>Topic 6</b><br>Words: европейский, ес, евросоюз, американский, субсидия",
          "<b>Topic 6</b><br>Words: европарламент, меньшинство, евросоюз, национальный, брюссель"
         ],
         "marker": {
          "color": "#CC79A7"
         },
         "mode": "lines",
         "name": "6_европарламент_европа_европейский_еврос...",
         "type": "scatter",
         "x": [
          "2022-10-07T21:59:02.400000",
          "2022-10-13T14:24:00",
          "2022-10-19T04:48:00",
          "2022-10-24T19:12:00",
          "2022-10-30T09:36:00",
          "2022-11-05T00:00:00",
          "2022-11-10T14:24:00",
          "2022-11-16T04:48:00",
          "2022-11-21T19:12:00",
          "2022-11-27T09:36:00",
          "2022-12-03T00:00:00",
          "2022-12-08T14:24:00",
          "2022-12-14T04:48:00",
          "2022-12-19T19:12:00",
          "2022-12-25T09:36:00"
         ],
         "y": [
          4,
          9,
          7,
          7,
          4,
          8,
          2,
          3,
          9,
          7,
          5,
          6,
          7,
          3,
          4
         ]
        },
        {
         "hoverinfo": "text",
         "hovertext": [
          "<b>Topic 7</b><br>Words: православный, митрополит, упц, архетип, патриархат",
          "<b>Topic 7</b><br>Words: украинец, кресло, бояться, папа, зеленский",
          "<b>Topic 7</b><br>Words: реннер, пастор, рик, протестантский, клятва",
          "<b>Topic 7</b><br>Words: любить, сатанизм, родина, оскорблять, однополый",
          "<b>Topic 7</b><br>Words: русский, папа, жестокость, оксана, римский",
          "<b>Topic 7</b><br>Words: православный, ненавидеть, людейподпишитесь, алестович, признаёте",
          "<b>Topic 7</b><br>Words: листовка, призываться, геббельсаtmervvoenkor, тиражамив, ионафана",
          "<b>Topic 7</b><br>Words: православный, христианский, церковь, религиозный, канонический",
          "<b>Topic 7</b><br>Words: папа, православный, римский, церковь, упц",
          "<b>Topic 7</b><br>Words: папа, упц, римский, церковь, суета",
          "<b>Topic 7</b><br>Words: церковь, православный, упц, храм, канонический",
          "<b>Topic 7</b><br>Words: римский, убивать, папа, церковь, католический",
          "<b>Topic 7</b><br>Words: церковь, православный, упц, католический, сбу",
          "<b>Topic 7</b><br>Words: церковь, лавра, православный, религиозный, храм"
         ],
         "marker": {
          "color": "#E69F00"
         },
         "mode": "lines",
         "name": "7_православный_церковь_папа_упц",
         "type": "scatter",
         "x": [
          "2022-10-07T21:59:02.400000",
          "2022-10-13T14:24:00",
          "2022-10-19T04:48:00",
          "2022-10-24T19:12:00",
          "2022-11-05T00:00:00",
          "2022-11-10T14:24:00",
          "2022-11-16T04:48:00",
          "2022-11-21T19:12:00",
          "2022-11-27T09:36:00",
          "2022-12-03T00:00:00",
          "2022-12-08T14:24:00",
          "2022-12-14T04:48:00",
          "2022-12-19T19:12:00",
          "2022-12-25T09:36:00"
         ],
         "y": [
          4,
          2,
          1,
          4,
          3,
          1,
          1,
          7,
          24,
          6,
          11,
          6,
          6,
          7
         ]
        },
        {
         "hoverinfo": "text",
         "hovertext": [
          "<b>Topic 8</b><br>Words: лайф, погода, зима, осень, леггинсами",
          "<b>Topic 8</b><br>Words: дождливый, лайф, погода, тепло, зима",
          "<b>Topic 8</b><br>Words: зима, лайф, погода, морозыи, небесай",
          "<b>Topic 8</b><br>Words: аномальный, лайф, похолодание, погода, смениться",
          "<b>Topic 8</b><br>Words: лайф, погода, снег, метеоусловия, гололедица",
          "<b>Topic 8</b><br>Words: лайф, погода, зима, осадок, тёплый",
          "<b>Topic 8</b><br>Words: метеорологический, лайф, снегопад, надвигаться, погода",
          "<b>Topic 8</b><br>Words: каток, ледовый, лайф, естественный, погода",
          "<b>Topic 8</b><br>Words: погода, лайф, морозы, находитсяважно, затапливать",
          "<b>Topic 8</b><br>Words: лайф, погода, зима, прогноз, одежда",
          "<b>Topic 8</b><br>Words: лайф, погода, осадок, мм, ледяной",
          "<b>Topic 8</b><br>Words: погода, лайф, ледяной, температура, тропический",
          "<b>Topic 8</b><br>Words: снегопадлы, лайф, повториться, суббота, погода",
          "<b>Topic 8</b><br>Words: лайф, ледяной, погода, дождь, мороз",
          "<b>Topic 8</b><br>Words: погода, лайф, осадок, градус, температура"
         ],
         "marker": {
          "color": "#56B4E9"
         },
         "mode": "lines",
         "name": "8_лайф_погода_зима_ледяной",
         "type": "scatter",
         "x": [
          "2022-10-07T21:59:02.400000",
          "2022-10-13T14:24:00",
          "2022-10-19T04:48:00",
          "2022-10-24T19:12:00",
          "2022-10-30T09:36:00",
          "2022-11-05T00:00:00",
          "2022-11-10T14:24:00",
          "2022-11-16T04:48:00",
          "2022-11-21T19:12:00",
          "2022-11-27T09:36:00",
          "2022-12-03T00:00:00",
          "2022-12-08T14:24:00",
          "2022-12-14T04:48:00",
          "2022-12-19T19:12:00",
          "2022-12-25T09:36:00"
         ],
         "y": [
          6,
          1,
          3,
          1,
          3,
          6,
          1,
          2,
          2,
          2,
          3,
          6,
          1,
          11,
          11
         ]
        },
        {
         "hoverinfo": "text",
         "hovertext": [
          "<b>Topic 9</b><br>Words: исследование, вирус, пандемия, лаборатория, штамм",
          "<b>Topic 9</b><br>Words: человекоон, вирусот, коронавирусасша, covidпод, искусственноучёные",
          "<b>Topic 9</b><br>Words: вирусолог, эксперт, переквалифицироваться, коронавирус, экстренно",
          "<b>Topic 9</b><br>Words: сравнение, ноябрь, летальный, выздоровление, выписать",
          "<b>Topic 9</b><br>Words: коронавирус, исследованиемпромежуточный, тестировалиминобороны, пандемия, сенат",
          "<b>Topic 9</b><br>Words: противовирусный, кератите, конъюнктивит, интерферона, доклинический",
          "<b>Topic 9</b><br>Words: грипп, вирус, заболеть, свиной, тамифлю",
          "<b>Topic 9</b><br>Words: грипп, дезинфекционный, организацийобеспечить, кратность, рекордпутин",
          "<b>Topic 9</b><br>Words: грипп, вирус, заболеваемость, орви, роспотребнадзор",
          "<b>Topic 9</b><br>Words: коронавирус, грипп, инфекция, медучреждение, распространение"
         ],
         "marker": {
          "color": "#009E73"
         },
         "mode": "lines",
         "name": "9_грипп_вирус_коронавирус_заболеть",
         "type": "scatter",
         "x": [
          "2022-10-13T14:24:00",
          "2022-10-24T19:12:00",
          "2022-10-30T09:36:00",
          "2022-11-05T00:00:00",
          "2022-11-21T19:12:00",
          "2022-12-03T00:00:00",
          "2022-12-08T14:24:00",
          "2022-12-14T04:48:00",
          "2022-12-19T19:12:00",
          "2022-12-25T09:36:00"
         ],
         "y": [
          1,
          1,
          1,
          1,
          2,
          1,
          6,
          2,
          2,
          2
         ]
        },
        {
         "hoverinfo": "text",
         "hovertext": [
          "<b>Topic 10</b><br>Words: паспортамисми, безвизовый, служебный, приостановить, въезд",
          "<b>Topic 10</b><br>Words: паспорт, гражданство, заявление, российский, отметка",
          "<b>Topic 10</b><br>Words: паспорт, получитьэтот, упростить, соловьев, подать",
          "<b>Topic 10</b><br>Words: исход, паспорт, иврите, эмигрант, физический",
          "<b>Topic 10</b><br>Words: гражданство, тиньков, дождаться, паспорт, российский",
          "<b>Topic 10</b><br>Words: федерация, гражданство, российский, совершение, создавать",
          "<b>Topic 10</b><br>Words: гражданство, соотечественник, беларусимвд, казаковаподписаться, российский",
          "<b>Topic 10</b><br>Words: паспорт, сноуден, эдвард, минюст, присяга",
          "<b>Topic 10</b><br>Words: юрлица, предусматривать, объявление, сервис, владелец",
          "<b>Topic 10</b><br>Words: паспорт, гражданство, украиныдокумент, заявление, путинаtmervvoenkor"
         ],
         "marker": {
          "color": "#F0E442"
         },
         "mode": "lines",
         "name": "10_паспорт_гражданство_российский_федера...",
         "type": "scatter",
         "x": [
          "2022-10-07T21:59:02.400000",
          "2022-10-13T14:24:00",
          "2022-10-19T04:48:00",
          "2022-10-24T19:12:00",
          "2022-10-30T09:36:00",
          "2022-11-10T14:24:00",
          "2022-11-21T19:12:00",
          "2022-11-27T09:36:00",
          "2022-12-19T19:12:00",
          "2022-12-25T09:36:00"
         ],
         "y": [
          1,
          2,
          1,
          1,
          4,
          1,
          1,
          2,
          1,
          2
         ]
        },
        {
         "hoverinfo": "text",
         "hovertext": [
          "<b>Topic 11</b><br>Words: корея, южный, запуск, учение, ауг",
          "<b>Topic 11</b><br>Words: корея, южный, испытаниезамглавы, кндр, седьмой",
          "<b>Topic 11</b><br>Words: корея, самолетоврёнхап, северокорейского, северокорейских, приведение",
          "<b>Topic 11</b><br>Words: северокорейские, мбр, испытание, видный, пуск",
          "<b>Topic 11</b><br>Words: корея, hwasong, сшаhwasong, отрыв, york",
          "<b>Topic 11</b><br>Words: корея, кндр, испытать, испытание, новый",
          "<b>Topic 11</b><br>Words: корея, южный, кндр, разбиться, южнокорейский"
         ],
         "marker": {
          "color": "#D55E00"
         },
         "mode": "lines",
         "name": "11_корея_южный_кндр_истребитель",
         "type": "scatter",
         "x": [
          "2022-10-07T21:59:02.400000",
          "2022-10-24T19:12:00",
          "2022-10-30T09:36:00",
          "2022-11-05T00:00:00",
          "2022-12-08T14:24:00",
          "2022-12-14T04:48:00",
          "2022-12-25T09:36:00"
         ],
         "y": [
          1,
          1,
          2,
          1,
          1,
          1,
          6
         ]
        },
        {
         "hoverinfo": "text",
         "hovertext": [
          "<b>Topic 12</b><br>Words: медведев, розыск, террорист, преступление, объявить",
          "<b>Topic 12</b><br>Words: медведев, предприятие, производство, бпла, медведь",
          "<b>Topic 12</b><br>Words: медведев, своисточник, илону, медвежий, маска",
          "<b>Topic 12</b><br>Words: медведь, проекция, судный, стрелка, медведев",
          "<b>Topic 12</b><br>Words: медведь, аве, джокер, залужного, взломать",
          "<b>Topic 12</b><br>Words: медведев, сдержанно, зампред, высказаться, совбез",
          "<b>Topic 12</b><br>Words: медведчук, медведев, март, ялтевопрос, зависать",
          "<b>Topic 12</b><br>Words: медведев, физический, наращивать, принцип, производство",
          "<b>Topic 12</b><br>Words: медведев, медведь, всуосторожно, кадр, червонопоповки"
         ],
         "marker": {
          "color": "#0072B2"
         },
         "mode": "lines",
         "name": "12_медведев_медведь_медведчук_производст...",
         "type": "scatter",
         "x": [
          "2022-10-07T21:59:02.400000",
          "2022-10-13T14:24:00",
          "2022-10-19T04:48:00",
          "2022-10-24T19:12:00",
          "2022-10-30T09:36:00",
          "2022-11-05T00:00:00",
          "2022-11-21T19:12:00",
          "2022-12-08T14:24:00",
          "2022-12-25T09:36:00"
         ],
         "y": [
          2,
          1,
          2,
          1,
          1,
          1,
          2,
          1,
          2
         ]
        }
       ],
       "layout": {
        "height": 450,
        "hoverlabel": {
         "bgcolor": "white",
         "font": {
          "family": "Rockwell",
          "size": 16
         }
        },
        "legend": {
         "title": {
          "text": "<b>Global Topic Representation"
         }
        },
        "template": {
         "data": {
          "bar": [
           {
            "error_x": {
             "color": "rgb(36,36,36)"
            },
            "error_y": {
             "color": "rgb(36,36,36)"
            },
            "marker": {
             "line": {
              "color": "white",
              "width": 0.5
             },
             "pattern": {
              "fillmode": "overlay",
              "size": 10,
              "solidity": 0.2
             }
            },
            "type": "bar"
           }
          ],
          "barpolar": [
           {
            "marker": {
             "line": {
              "color": "white",
              "width": 0.5
             },
             "pattern": {
              "fillmode": "overlay",
              "size": 10,
              "solidity": 0.2
             }
            },
            "type": "barpolar"
           }
          ],
          "carpet": [
           {
            "aaxis": {
             "endlinecolor": "rgb(36,36,36)",
             "gridcolor": "white",
             "linecolor": "white",
             "minorgridcolor": "white",
             "startlinecolor": "rgb(36,36,36)"
            },
            "baxis": {
             "endlinecolor": "rgb(36,36,36)",
             "gridcolor": "white",
             "linecolor": "white",
             "minorgridcolor": "white",
             "startlinecolor": "rgb(36,36,36)"
            },
            "type": "carpet"
           }
          ],
          "choropleth": [
           {
            "colorbar": {
             "outlinewidth": 1,
             "tickcolor": "rgb(36,36,36)",
             "ticks": "outside"
            },
            "type": "choropleth"
           }
          ],
          "contour": [
           {
            "colorbar": {
             "outlinewidth": 1,
             "tickcolor": "rgb(36,36,36)",
             "ticks": "outside"
            },
            "colorscale": [
             [
              0,
              "#440154"
             ],
             [
              0.1111111111111111,
              "#482878"
             ],
             [
              0.2222222222222222,
              "#3e4989"
             ],
             [
              0.3333333333333333,
              "#31688e"
             ],
             [
              0.4444444444444444,
              "#26828e"
             ],
             [
              0.5555555555555556,
              "#1f9e89"
             ],
             [
              0.6666666666666666,
              "#35b779"
             ],
             [
              0.7777777777777778,
              "#6ece58"
             ],
             [
              0.8888888888888888,
              "#b5de2b"
             ],
             [
              1,
              "#fde725"
             ]
            ],
            "type": "contour"
           }
          ],
          "contourcarpet": [
           {
            "colorbar": {
             "outlinewidth": 1,
             "tickcolor": "rgb(36,36,36)",
             "ticks": "outside"
            },
            "type": "contourcarpet"
           }
          ],
          "heatmap": [
           {
            "colorbar": {
             "outlinewidth": 1,
             "tickcolor": "rgb(36,36,36)",
             "ticks": "outside"
            },
            "colorscale": [
             [
              0,
              "#440154"
             ],
             [
              0.1111111111111111,
              "#482878"
             ],
             [
              0.2222222222222222,
              "#3e4989"
             ],
             [
              0.3333333333333333,
              "#31688e"
             ],
             [
              0.4444444444444444,
              "#26828e"
             ],
             [
              0.5555555555555556,
              "#1f9e89"
             ],
             [
              0.6666666666666666,
              "#35b779"
             ],
             [
              0.7777777777777778,
              "#6ece58"
             ],
             [
              0.8888888888888888,
              "#b5de2b"
             ],
             [
              1,
              "#fde725"
             ]
            ],
            "type": "heatmap"
           }
          ],
          "heatmapgl": [
           {
            "colorbar": {
             "outlinewidth": 1,
             "tickcolor": "rgb(36,36,36)",
             "ticks": "outside"
            },
            "colorscale": [
             [
              0,
              "#440154"
             ],
             [
              0.1111111111111111,
              "#482878"
             ],
             [
              0.2222222222222222,
              "#3e4989"
             ],
             [
              0.3333333333333333,
              "#31688e"
             ],
             [
              0.4444444444444444,
              "#26828e"
             ],
             [
              0.5555555555555556,
              "#1f9e89"
             ],
             [
              0.6666666666666666,
              "#35b779"
             ],
             [
              0.7777777777777778,
              "#6ece58"
             ],
             [
              0.8888888888888888,
              "#b5de2b"
             ],
             [
              1,
              "#fde725"
             ]
            ],
            "type": "heatmapgl"
           }
          ],
          "histogram": [
           {
            "marker": {
             "line": {
              "color": "white",
              "width": 0.6
             }
            },
            "type": "histogram"
           }
          ],
          "histogram2d": [
           {
            "colorbar": {
             "outlinewidth": 1,
             "tickcolor": "rgb(36,36,36)",
             "ticks": "outside"
            },
            "colorscale": [
             [
              0,
              "#440154"
             ],
             [
              0.1111111111111111,
              "#482878"
             ],
             [
              0.2222222222222222,
              "#3e4989"
             ],
             [
              0.3333333333333333,
              "#31688e"
             ],
             [
              0.4444444444444444,
              "#26828e"
             ],
             [
              0.5555555555555556,
              "#1f9e89"
             ],
             [
              0.6666666666666666,
              "#35b779"
             ],
             [
              0.7777777777777778,
              "#6ece58"
             ],
             [
              0.8888888888888888,
              "#b5de2b"
             ],
             [
              1,
              "#fde725"
             ]
            ],
            "type": "histogram2d"
           }
          ],
          "histogram2dcontour": [
           {
            "colorbar": {
             "outlinewidth": 1,
             "tickcolor": "rgb(36,36,36)",
             "ticks": "outside"
            },
            "colorscale": [
             [
              0,
              "#440154"
             ],
             [
              0.1111111111111111,
              "#482878"
             ],
             [
              0.2222222222222222,
              "#3e4989"
             ],
             [
              0.3333333333333333,
              "#31688e"
             ],
             [
              0.4444444444444444,
              "#26828e"
             ],
             [
              0.5555555555555556,
              "#1f9e89"
             ],
             [
              0.6666666666666666,
              "#35b779"
             ],
             [
              0.7777777777777778,
              "#6ece58"
             ],
             [
              0.8888888888888888,
              "#b5de2b"
             ],
             [
              1,
              "#fde725"
             ]
            ],
            "type": "histogram2dcontour"
           }
          ],
          "mesh3d": [
           {
            "colorbar": {
             "outlinewidth": 1,
             "tickcolor": "rgb(36,36,36)",
             "ticks": "outside"
            },
            "type": "mesh3d"
           }
          ],
          "parcoords": [
           {
            "line": {
             "colorbar": {
              "outlinewidth": 1,
              "tickcolor": "rgb(36,36,36)",
              "ticks": "outside"
             }
            },
            "type": "parcoords"
           }
          ],
          "pie": [
           {
            "automargin": true,
            "type": "pie"
           }
          ],
          "scatter": [
           {
            "fillpattern": {
             "fillmode": "overlay",
             "size": 10,
             "solidity": 0.2
            },
            "type": "scatter"
           }
          ],
          "scatter3d": [
           {
            "line": {
             "colorbar": {
              "outlinewidth": 1,
              "tickcolor": "rgb(36,36,36)",
              "ticks": "outside"
             }
            },
            "marker": {
             "colorbar": {
              "outlinewidth": 1,
              "tickcolor": "rgb(36,36,36)",
              "ticks": "outside"
             }
            },
            "type": "scatter3d"
           }
          ],
          "scattercarpet": [
           {
            "marker": {
             "colorbar": {
              "outlinewidth": 1,
              "tickcolor": "rgb(36,36,36)",
              "ticks": "outside"
             }
            },
            "type": "scattercarpet"
           }
          ],
          "scattergeo": [
           {
            "marker": {
             "colorbar": {
              "outlinewidth": 1,
              "tickcolor": "rgb(36,36,36)",
              "ticks": "outside"
             }
            },
            "type": "scattergeo"
           }
          ],
          "scattergl": [
           {
            "marker": {
             "colorbar": {
              "outlinewidth": 1,
              "tickcolor": "rgb(36,36,36)",
              "ticks": "outside"
             }
            },
            "type": "scattergl"
           }
          ],
          "scattermapbox": [
           {
            "marker": {
             "colorbar": {
              "outlinewidth": 1,
              "tickcolor": "rgb(36,36,36)",
              "ticks": "outside"
             }
            },
            "type": "scattermapbox"
           }
          ],
          "scatterpolar": [
           {
            "marker": {
             "colorbar": {
              "outlinewidth": 1,
              "tickcolor": "rgb(36,36,36)",
              "ticks": "outside"
             }
            },
            "type": "scatterpolar"
           }
          ],
          "scatterpolargl": [
           {
            "marker": {
             "colorbar": {
              "outlinewidth": 1,
              "tickcolor": "rgb(36,36,36)",
              "ticks": "outside"
             }
            },
            "type": "scatterpolargl"
           }
          ],
          "scatterternary": [
           {
            "marker": {
             "colorbar": {
              "outlinewidth": 1,
              "tickcolor": "rgb(36,36,36)",
              "ticks": "outside"
             }
            },
            "type": "scatterternary"
           }
          ],
          "surface": [
           {
            "colorbar": {
             "outlinewidth": 1,
             "tickcolor": "rgb(36,36,36)",
             "ticks": "outside"
            },
            "colorscale": [
             [
              0,
              "#440154"
             ],
             [
              0.1111111111111111,
              "#482878"
             ],
             [
              0.2222222222222222,
              "#3e4989"
             ],
             [
              0.3333333333333333,
              "#31688e"
             ],
             [
              0.4444444444444444,
              "#26828e"
             ],
             [
              0.5555555555555556,
              "#1f9e89"
             ],
             [
              0.6666666666666666,
              "#35b779"
             ],
             [
              0.7777777777777778,
              "#6ece58"
             ],
             [
              0.8888888888888888,
              "#b5de2b"
             ],
             [
              1,
              "#fde725"
             ]
            ],
            "type": "surface"
           }
          ],
          "table": [
           {
            "cells": {
             "fill": {
              "color": "rgb(237,237,237)"
             },
             "line": {
              "color": "white"
             }
            },
            "header": {
             "fill": {
              "color": "rgb(217,217,217)"
             },
             "line": {
              "color": "white"
             }
            },
            "type": "table"
           }
          ]
         },
         "layout": {
          "annotationdefaults": {
           "arrowhead": 0,
           "arrowwidth": 1
          },
          "autotypenumbers": "strict",
          "coloraxis": {
           "colorbar": {
            "outlinewidth": 1,
            "tickcolor": "rgb(36,36,36)",
            "ticks": "outside"
           }
          },
          "colorscale": {
           "diverging": [
            [
             0,
             "rgb(103,0,31)"
            ],
            [
             0.1,
             "rgb(178,24,43)"
            ],
            [
             0.2,
             "rgb(214,96,77)"
            ],
            [
             0.3,
             "rgb(244,165,130)"
            ],
            [
             0.4,
             "rgb(253,219,199)"
            ],
            [
             0.5,
             "rgb(247,247,247)"
            ],
            [
             0.6,
             "rgb(209,229,240)"
            ],
            [
             0.7,
             "rgb(146,197,222)"
            ],
            [
             0.8,
             "rgb(67,147,195)"
            ],
            [
             0.9,
             "rgb(33,102,172)"
            ],
            [
             1,
             "rgb(5,48,97)"
            ]
           ],
           "sequential": [
            [
             0,
             "#440154"
            ],
            [
             0.1111111111111111,
             "#482878"
            ],
            [
             0.2222222222222222,
             "#3e4989"
            ],
            [
             0.3333333333333333,
             "#31688e"
            ],
            [
             0.4444444444444444,
             "#26828e"
            ],
            [
             0.5555555555555556,
             "#1f9e89"
            ],
            [
             0.6666666666666666,
             "#35b779"
            ],
            [
             0.7777777777777778,
             "#6ece58"
            ],
            [
             0.8888888888888888,
             "#b5de2b"
            ],
            [
             1,
             "#fde725"
            ]
           ],
           "sequentialminus": [
            [
             0,
             "#440154"
            ],
            [
             0.1111111111111111,
             "#482878"
            ],
            [
             0.2222222222222222,
             "#3e4989"
            ],
            [
             0.3333333333333333,
             "#31688e"
            ],
            [
             0.4444444444444444,
             "#26828e"
            ],
            [
             0.5555555555555556,
             "#1f9e89"
            ],
            [
             0.6666666666666666,
             "#35b779"
            ],
            [
             0.7777777777777778,
             "#6ece58"
            ],
            [
             0.8888888888888888,
             "#b5de2b"
            ],
            [
             1,
             "#fde725"
            ]
           ]
          },
          "colorway": [
           "#1F77B4",
           "#FF7F0E",
           "#2CA02C",
           "#D62728",
           "#9467BD",
           "#8C564B",
           "#E377C2",
           "#7F7F7F",
           "#BCBD22",
           "#17BECF"
          ],
          "font": {
           "color": "rgb(36,36,36)"
          },
          "geo": {
           "bgcolor": "white",
           "lakecolor": "white",
           "landcolor": "white",
           "showlakes": true,
           "showland": true,
           "subunitcolor": "white"
          },
          "hoverlabel": {
           "align": "left"
          },
          "hovermode": "closest",
          "mapbox": {
           "style": "light"
          },
          "paper_bgcolor": "white",
          "plot_bgcolor": "white",
          "polar": {
           "angularaxis": {
            "gridcolor": "rgb(232,232,232)",
            "linecolor": "rgb(36,36,36)",
            "showgrid": false,
            "showline": true,
            "ticks": "outside"
           },
           "bgcolor": "white",
           "radialaxis": {
            "gridcolor": "rgb(232,232,232)",
            "linecolor": "rgb(36,36,36)",
            "showgrid": false,
            "showline": true,
            "ticks": "outside"
           }
          },
          "scene": {
           "xaxis": {
            "backgroundcolor": "white",
            "gridcolor": "rgb(232,232,232)",
            "gridwidth": 2,
            "linecolor": "rgb(36,36,36)",
            "showbackground": true,
            "showgrid": false,
            "showline": true,
            "ticks": "outside",
            "zeroline": false,
            "zerolinecolor": "rgb(36,36,36)"
           },
           "yaxis": {
            "backgroundcolor": "white",
            "gridcolor": "rgb(232,232,232)",
            "gridwidth": 2,
            "linecolor": "rgb(36,36,36)",
            "showbackground": true,
            "showgrid": false,
            "showline": true,
            "ticks": "outside",
            "zeroline": false,
            "zerolinecolor": "rgb(36,36,36)"
           },
           "zaxis": {
            "backgroundcolor": "white",
            "gridcolor": "rgb(232,232,232)",
            "gridwidth": 2,
            "linecolor": "rgb(36,36,36)",
            "showbackground": true,
            "showgrid": false,
            "showline": true,
            "ticks": "outside",
            "zeroline": false,
            "zerolinecolor": "rgb(36,36,36)"
           }
          },
          "shapedefaults": {
           "fillcolor": "black",
           "line": {
            "width": 0
           },
           "opacity": 0.3
          },
          "ternary": {
           "aaxis": {
            "gridcolor": "rgb(232,232,232)",
            "linecolor": "rgb(36,36,36)",
            "showgrid": false,
            "showline": true,
            "ticks": "outside"
           },
           "baxis": {
            "gridcolor": "rgb(232,232,232)",
            "linecolor": "rgb(36,36,36)",
            "showgrid": false,
            "showline": true,
            "ticks": "outside"
           },
           "bgcolor": "white",
           "caxis": {
            "gridcolor": "rgb(232,232,232)",
            "linecolor": "rgb(36,36,36)",
            "showgrid": false,
            "showline": true,
            "ticks": "outside"
           }
          },
          "title": {
           "x": 0.05
          },
          "xaxis": {
           "automargin": true,
           "gridcolor": "rgb(232,232,232)",
           "linecolor": "rgb(36,36,36)",
           "showgrid": false,
           "showline": true,
           "ticks": "outside",
           "title": {
            "standoff": 15
           },
           "zeroline": false,
           "zerolinecolor": "rgb(36,36,36)"
          },
          "yaxis": {
           "automargin": true,
           "gridcolor": "rgb(232,232,232)",
           "linecolor": "rgb(36,36,36)",
           "showgrid": false,
           "showline": true,
           "ticks": "outside",
           "title": {
            "standoff": 15
           },
           "zeroline": false,
           "zerolinecolor": "rgb(36,36,36)"
          }
         }
        },
        "title": {
         "font": {
          "color": "Black",
          "size": 22
         },
         "text": "<b>Topics over Time</b>",
         "x": 0.4,
         "xanchor": "center",
         "y": 0.95,
         "yanchor": "top"
        },
        "width": 1250,
        "xaxis": {
         "showgrid": true
        },
        "yaxis": {
         "showgrid": true,
         "title": {
          "text": "Frequency"
         }
        }
       }
      },
      "text/html": [
       "<div>                            <div id=\"ac6972ca-8385-4ffd-a508-e4f685c889f9\" class=\"plotly-graph-div\" style=\"height:450px; width:1250px;\"></div>            <script type=\"text/javascript\">                require([\"plotly\"], function(Plotly) {                    window.PLOTLYENV=window.PLOTLYENV || {};                                    if (document.getElementById(\"ac6972ca-8385-4ffd-a508-e4f685c889f9\")) {                    Plotly.newPlot(                        \"ac6972ca-8385-4ffd-a508-e4f685c889f9\",                        [{\"hoverinfo\":\"text\",\"hovertext\":[\"<b>Topic 0</b><br>Words: \\u043c\\u043e\\u0441\\u0442, \\u0443\\u043a\\u0440\\u0430\\u0438\\u043d\\u0430, \\u043a\\u0440\\u044b\\u043c\\u0441\\u043a\\u0438\\u0439, \\u0443\\u0434\\u0430\\u0440, \\u0440\\u043e\\u0441\\u0441\\u0438\\u044f\",\"<b>Topic 0</b><br>Words: \\u0443\\u043a\\u0440\\u0430\\u0438\\u043d\\u0430, \\u043e\\u0431\\u043b\\u0430\\u0441\\u0442\\u044c, \\u0440\\u043e\\u0441\\u0441\\u0438\\u044f, \\u0432\\u0441\\u0443, \\u0432\\u043e\\u0435\\u043d\\u043d\\u044b\\u0439\",\"<b>Topic 0</b><br>Words: \\u0443\\u043a\\u0440\\u0430\\u0438\\u043d\\u0430, \\u0432\\u0441\\u0443, \\u043e\\u0431\\u043b\\u0430\\u0441\\u0442\\u044c, \\u0440\\u043e\\u0441\\u0441\\u0438\\u044f, \\u0440\\u0430\\u0439\\u043e\\u043d\",\"<b>Topic 0</b><br>Words: \\u0440\\u043e\\u0441\\u0441\\u0438\\u044f, \\u0443\\u043a\\u0440\\u0430\\u0438\\u043d\\u0430, \\u0432\\u0441\\u0443, \\u0440\\u0430\\u0439\\u043e\\u043d, \\u043d\\u0430\\u043f\\u0440\\u0430\\u0432\\u043b\\u0435\\u043d\\u0438\\u0435\",\"<b>Topic 0</b><br>Words: \\u0443\\u043a\\u0440\\u0430\\u0438\\u043d\\u0430, \\u0440\\u043e\\u0441\\u0441\\u0438\\u044f, \\u0432\\u0441\\u0443, \\u0440\\u043e\\u0441\\u0441\\u0438\\u0439\\u0441\\u043a\\u0438\\u0439, \\u0440\\u0430\\u0439\\u043e\\u043d\",\"<b>Topic 0</b><br>Words: \\u043d\\u0430\\u043f\\u0440\\u0430\\u0432\\u043b\\u0435\\u043d\\u0438\\u0435, \\u0432\\u0441\\u0443, \\u0443\\u043a\\u0440\\u0430\\u0438\\u043d\\u0430, \\u0440\\u0430\\u0439\\u043e\\u043d, \\u043f\\u0440\\u043e\\u0442\\u0438\\u0432\\u043d\\u0438\\u043a\",\"<b>Topic 0</b><br>Words: \\u0443\\u043a\\u0440\\u0430\\u0438\\u043d\\u0430, \\u043d\\u0430\\u043f\\u0440\\u0430\\u0432\\u043b\\u0435\\u043d\\u0438\\u0435, \\u0432\\u0441\\u0443, \\u0440\\u043e\\u0441\\u0441\\u0438\\u044f, \\u0440\\u043e\\u0441\\u0441\\u0438\\u0439\\u0441\\u043a\\u0438\\u0439\",\"<b>Topic 0</b><br>Words: \\u0443\\u043a\\u0440\\u0430\\u0438\\u043d\\u0430, \\u0440\\u043e\\u0441\\u0441\\u0438\\u0439\\u0441\\u043a\\u0438\\u0439, \\u0440\\u043e\\u0441\\u0441\\u0438\\u044f, \\u0432\\u0441\\u0443, \\u0440\\u0430\\u0439\\u043e\\u043d\",\"<b>Topic 0</b><br>Words: \\u0443\\u043a\\u0440\\u0430\\u0438\\u043d\\u0430, \\u0440\\u043e\\u0441\\u0441\\u0438\\u044f, \\u0432\\u0441\\u0443, \\u0440\\u043e\\u0441\\u0441\\u0438\\u0439\\u0441\\u043a\\u0438\\u0439, \\u0440\\u0430\\u0439\\u043e\\u043d\",\"<b>Topic 0</b><br>Words: \\u0443\\u043a\\u0440\\u0430\\u0438\\u043d\\u0430, \\u0432\\u0441\\u0443, \\u0440\\u0430\\u0439\\u043e\\u043d, \\u043d\\u0430\\u043f\\u0440\\u0430\\u0432\\u043b\\u0435\\u043d\\u0438\\u0435, \\u0440\\u043e\\u0441\\u0441\\u0438\\u0439\\u0441\\u043a\\u0438\\u0439\",\"<b>Topic 0</b><br>Words: \\u0443\\u043a\\u0440\\u0430\\u0438\\u043d\\u0430, \\u0440\\u043e\\u0441\\u0441\\u0438\\u044f, \\u0440\\u043e\\u0441\\u0441\\u0438\\u0439\\u0441\\u043a\\u0438\\u0439, \\u043e\\u0431\\u043b\\u0430\\u0441\\u0442\\u044c, \\u0440\\u0430\\u0439\\u043e\\u043d\",\"<b>Topic 0</b><br>Words: \\u0443\\u043a\\u0440\\u0430\\u0438\\u043d\\u0430, \\u0440\\u0430\\u0439\\u043e\\u043d, \\u0432\\u0441\\u0443, \\u0440\\u043e\\u0441\\u0441\\u0438\\u0439\\u0441\\u043a\\u0438\\u0439, \\u0440\\u043e\\u0441\\u0441\\u0438\\u044f\",\"<b>Topic 0</b><br>Words: \\u0443\\u043a\\u0440\\u0430\\u0438\\u043d\\u0430, \\u0440\\u0430\\u0439\\u043e\\u043d, \\u043d\\u0430\\u043f\\u0440\\u0430\\u0432\\u043b\\u0435\\u043d\\u0438\\u0435, \\u0440\\u043e\\u0441\\u0441\\u0438\\u0439\\u0441\\u043a\\u0438\\u0439, \\u0443\\u0434\\u0430\\u0440\",\"<b>Topic 0</b><br>Words: \\u0440\\u0430\\u0439\\u043e\\u043d, \\u0443\\u043a\\u0440\\u0430\\u0438\\u043d\\u0430, \\u0440\\u043e\\u0441\\u0441\\u0438\\u044f, \\u0432\\u043e\\u0435\\u043d\\u043d\\u044b\\u0439, \\u0432\\u0441\\u0443\",\"<b>Topic 0</b><br>Words: \\u0443\\u043a\\u0440\\u0430\\u0438\\u043d\\u0430, \\u0440\\u043e\\u0441\\u0441\\u0438\\u044f, \\u0440\\u0430\\u0439\\u043e\\u043d, \\u043e\\u0431\\u043b\\u0430\\u0441\\u0442\\u044c, \\u0432\\u0441\\u0443\"],\"marker\":{\"color\":\"#E69F00\"},\"mode\":\"lines\",\"name\":\"0_\\u0443\\u043a\\u0440\\u0430\\u0438\\u043d\\u0430_\\u0440\\u043e\\u0441\\u0441\\u0438\\u044f_\\u0440\\u0430\\u0439\\u043e\\u043d_\\u0432\\u0441\\u0443\",\"x\":[\"2022-10-07T21:59:02.400000\",\"2022-10-13T14:24:00\",\"2022-10-19T04:48:00\",\"2022-10-24T19:12:00\",\"2022-10-30T09:36:00\",\"2022-11-05T00:00:00\",\"2022-11-10T14:24:00\",\"2022-11-16T04:48:00\",\"2022-11-21T19:12:00\",\"2022-11-27T09:36:00\",\"2022-12-03T00:00:00\",\"2022-12-08T14:24:00\",\"2022-12-14T04:48:00\",\"2022-12-19T19:12:00\",\"2022-12-25T09:36:00\"],\"y\":[1006,723,527,602,622,517,560,463,505,468,508,458,415,569,618],\"type\":\"scatter\"},{\"hoverinfo\":\"text\",\"hovertext\":[\"<b>Topic 1</b><br>Words: \\u0442\\u0443\\u0440\\u0446\\u0438\\u044f, \\u044d\\u0440\\u0434\\u043e\\u0433\\u0430\\u043d, \\u0442\\u0443\\u0440\\u0435\\u0446\\u043a\\u0438\\u0439, \\u043f\\u0440\\u043e\\u0440\\u043e\\u043a, \\u0430\\u043b\\u043b\\u0430\\u0445\",\"<b>Topic 1</b><br>Words: \\u0438\\u0440\\u0430\\u043d, \\u0442\\u0443\\u0440\\u0446\\u0438\\u044f, \\u0438\\u0437\\u0440\\u0430\\u0438\\u043b\\u044c, \\u0440\\u043e\\u0441\\u0441\\u0438\\u044f, \\u0438\\u0440\\u0430\\u043d\\u0441\\u043a\\u0438\\u0439\",\"<b>Topic 1</b><br>Words: \\u0442\\u0443\\u0440\\u0446\\u0438\\u044f, \\u0430\\u0440\\u043c\\u0435\\u043d\\u0438\\u044f, \\u0438\\u0437\\u0440\\u0430\\u0438\\u043b\\u044c, \\u0438\\u0440\\u0430\\u043d, \\u0442\\u0435\\u043b\\u0435\\u0444\\u043e\\u043d\\u043d\\u044b\\u0439\",\"<b>Topic 1</b><br>Words: \\u0442\\u0443\\u0440\\u0446\\u0438\\u044f, \\u0430\\u0440\\u043c\\u0435\\u043d\\u0438\\u044f, \\u0438\\u0437\\u0440\\u0430\\u0438\\u043b\\u044c, \\u0438\\u0440\\u0430\\u043d, \\u044d\\u0440\\u0434\\u043e\\u0433\\u0430\\u043d\",\"<b>Topic 1</b><br>Words: \\u0442\\u0443\\u0440\\u0446\\u0438\\u044f, \\u0430\\u0440\\u043c\\u0435\\u043d\\u0438\\u044f, \\u0430\\u0437\\u0435\\u0440\\u0431\\u0430\\u0439\\u0434\\u0436\\u0430\\u043d, \\u0438\\u0440\\u0430\\u043d, \\u0440\\u043e\\u0441\\u0441\\u0438\\u044f\",\"<b>Topic 1</b><br>Words: \\u0442\\u0443\\u0440\\u0446\\u0438\\u044f, \\u0438\\u0440\\u0430\\u043d, \\u0430\\u0440\\u043c\\u0435\\u043d\\u0438\\u044f, \\u0440\\u043e\\u0441\\u0441\\u0438\\u044f, \\u0433\\u0430\\u0437\",\"<b>Topic 1</b><br>Words: \\u0442\\u0443\\u0440\\u0446\\u0438\\u044f, \\u0442\\u0435\\u0440\\u0430\\u043a\\u0442, \\u0441\\u0442\\u0430\\u043c\\u0431\\u0443\\u043b, \\u0438\\u0440\\u0430\\u043d, \\u044d\\u0440\\u0434\\u043e\\u0433\\u0430\\u043d\",\"<b>Topic 1</b><br>Words: \\u0442\\u0443\\u0440\\u0446\\u0438\\u044f, \\u0438\\u0440\\u0430\\u043d, \\u0442\\u0443\\u0440\\u0435\\u0446\\u043a\\u0438\\u0439, \\u044d\\u0440\\u0434\\u043e\\u0433\\u0430\\u043d, \\u0438\\u0437\\u0440\\u0430\\u0438\\u043b\\u044c\",\"<b>Topic 1</b><br>Words: \\u0442\\u0443\\u0440\\u0446\\u0438\\u044f, \\u0441\\u0438\\u0440\\u0438\\u044f, \\u0442\\u0443\\u0440\\u0435\\u0446\\u043a\\u0438\\u0439, \\u043e\\u0434\\u043a\\u0431, \\u0438\\u0440\\u0430\\u043d\",\"<b>Topic 1</b><br>Words: \\u0442\\u0443\\u0440\\u0446\\u0438\\u044f, \\u043a\\u0430\\u0437\\u0430\\u0445\\u0441\\u0442\\u0430\\u043d, \\u0438\\u0440\\u0430\\u043d, \\u044d\\u0440\\u0434\\u043e\\u0433\\u0430\\u043d, \\u0440\\u043e\\u0441\\u0441\\u0438\\u044f\",\"<b>Topic 1</b><br>Words: \\u0442\\u0443\\u0440\\u0446\\u0438\\u044f, \\u0430\\u043d\\u043a\\u0430\\u0440\\u0430, \\u0442\\u0443\\u0440\\u0435\\u0446\\u043a\\u0438\\u0439, \\u0447\\u0442\\u043e\\u0442\\u043e, \\u0431\\u0435\\u0441\\u043f\\u043e\\u043a\\u043e\\u0438\\u0442\\u044c\",\"<b>Topic 1</b><br>Words: \\u0438\\u0440\\u0430\\u043d, \\u0442\\u0443\\u0440\\u0446\\u0438\\u044f, \\u0440\\u043e\\u0441\\u0441\\u0438\\u044f, \\u0442\\u0443\\u0440\\u043a\\u043c\\u0435\\u043d\\u0438\\u0441\\u0442\\u0430\\u043d, \\u044d\\u0440\\u0434\\u043e\\u0433\\u0430\\u043d\",\"<b>Topic 1</b><br>Words: \\u0442\\u0443\\u0440\\u0446\\u0438\\u044f, \\u0438\\u0440\\u0430\\u043d, \\u044d\\u0440\\u0434\\u043e\\u0433\\u0430\\u043d, \\u0441\\u0438\\u0440\\u0438\\u044f, \\u044f\\u0434\\u0435\\u0440\\u043d\\u044b\\u0439\",\"<b>Topic 1</b><br>Words: \\u0430\\u0437\\u0435\\u0440\\u0431\\u0430\\u0439\\u0434\\u0436\\u0430\\u043d, \\u0430\\u0440\\u043c\\u0435\\u043d\\u0438\\u044f, \\u0442\\u0443\\u0440\\u0446\\u0438\\u044f, \\u043c\\u0438\\u0434, \\u043a\\u0430\\u0440\\u0430\\u0431\\u0430\\u0445\",\"<b>Topic 1</b><br>Words: \\u0442\\u0443\\u0440\\u0446\\u0438\\u044f, \\u0430\\u0440\\u043c\\u0435\\u043d\\u0438\\u044f, \\u0438\\u0440\\u0430\\u043d, \\u0441\\u0438\\u0440\\u0438\\u044f, \\u0432\\u043e\\u043f\\u0440\\u043e\\u0441\"],\"marker\":{\"color\":\"#56B4E9\"},\"mode\":\"lines\",\"name\":\"1_\\u0442\\u0443\\u0440\\u0446\\u0438\\u044f_\\u0438\\u0440\\u0430\\u043d_\\u0430\\u0440\\u043c\\u0435\\u043d\\u0438\\u044f_\\u0442\\u0443\\u0440\\u0435\\u0446\\u043a\\u0438\\u0439\",\"x\":[\"2022-10-07T21:59:02.400000\",\"2022-10-13T14:24:00\",\"2022-10-19T04:48:00\",\"2022-10-24T19:12:00\",\"2022-10-30T09:36:00\",\"2022-11-05T00:00:00\",\"2022-11-10T14:24:00\",\"2022-11-16T04:48:00\",\"2022-11-21T19:12:00\",\"2022-11-27T09:36:00\",\"2022-12-03T00:00:00\",\"2022-12-08T14:24:00\",\"2022-12-14T04:48:00\",\"2022-12-19T19:12:00\",\"2022-12-25T09:36:00\"],\"y\":[20,54,10,22,33,17,25,20,26,21,5,14,11,10,22],\"type\":\"scatter\"},{\"hoverinfo\":\"text\",\"hovertext\":[\"<b>Topic 2</b><br>Words: \\u0438\\u043d\\u0444\\u043b\\u044f\\u0446\\u0438\\u044f, \\u0446\\u0435\\u043d\\u0430, \\u0440\\u043e\\u0441\\u0442, \\u043d\\u0435\\u0444\\u0442\\u044c, \\u0441\\u0435\\u043d\\u0442\\u044f\\u0431\\u0440\\u0435\",\"<b>Topic 2</b><br>Words: \\u0440\\u043e\\u0441\\u0442, \\u0440\\u0435\\u0446\\u0435\\u0441\\u0441\\u0438\\u044f, \\u0438\\u043d\\u0444\\u043b\\u044f\\u0446\\u0438\\u044f, \\u0446\\u0435\\u043d\\u0430, \\u044d\\u043a\\u043e\\u043d\\u043e\\u043c\\u0438\\u043a\\u0430\",\"<b>Topic 2</b><br>Words: \\u0438\\u043d\\u0444\\u043b\\u044f\\u0446\\u0438\\u044f, \\u0446\\u0435\\u043d\\u0430, \\u0440\\u043e\\u0441\\u0442, \\u043f\\u0440\\u043e\\u043c\\u044b\\u0448\\u043b\\u0435\\u043d\\u043d\\u044b\\u0439, \\u0440\\u0443\\u0431\\u0438\\u043d\\u0438\",\"<b>Topic 2</b><br>Words: \\u0446\\u0435\\u043d\\u0430, \\u0438\\u043d\\u0444\\u043b\\u044f\\u0446\\u0438\\u044f, \\u0440\\u043e\\u0441\\u0442, \\u044d\\u043b\\u0435\\u043a\\u0442\\u0440\\u043e\\u043c\\u043e\\u0431\\u0438\\u043b\\u044c, \\u0440\\u043e\\u0441\\u0441\\u0438\\u044f\",\"<b>Topic 2</b><br>Words: \\u0438\\u043d\\u0444\\u043b\\u044f\\u0446\\u0438\\u044f, \\u043d\\u0435\\u0444\\u0442\\u044c, \\u0446\\u0435\\u043d\\u0430, \\u0440\\u043e\\u0441\\u0442, \\u0438\\u043d\\u0434\\u0438\\u044f\",\"<b>Topic 2</b><br>Words: \\u0440\\u043e\\u0441\\u0442, \\u0438\\u043d\\u0444\\u043b\\u044f\\u0446\\u0438\\u044f, \\u0446\\u0435\\u043d\\u0430, \\u0441\\u0448\\u0430, \\u0440\\u043e\\u0441\\u0441\\u0438\\u044f\",\"<b>Topic 2</b><br>Words: \\u0438\\u043d\\u0444\\u043b\\u044f\\u0446\\u0438\\u044f, \\u0440\\u043e\\u0441\\u0442, \\u0446\\u0435\\u043d\\u0430, \\u0440\\u0435\\u043a\\u043e\\u0440\\u0434\\u043d\\u044b\\u0439, \\u043d\\u0435\\u0444\\u0442\\u044c\",\"<b>Topic 2</b><br>Words: \\u0438\\u043d\\u0444\\u043b\\u044f\\u0446\\u0438\\u044f, \\u0446\\u0435\\u043d\\u0430, \\u0440\\u043e\\u0441\\u0442, \\u0441\\u0442\\u0440\\u0430\\u043d\\u0430, \\u043d\\u0435\\u0444\\u0442\\u044c\",\"<b>Topic 2</b><br>Words: \\u0446\\u0435\\u043d\\u0430, \\u043d\\u0435\\u0444\\u0442\\u044c, \\u0438\\u043d\\u0444\\u043b\\u044f\\u0446\\u0438\\u044f, \\u0440\\u043e\\u0441\\u0442, \\u043f\\u043e\\u0442\\u043e\\u043b\\u043e\\u043a\",\"<b>Topic 2</b><br>Words: \\u0446\\u0435\\u043d\\u0430, \\u0438\\u043d\\u0444\\u043b\\u044f\\u0446\\u0438\\u044f, \\u043d\\u0435\\u0444\\u0442\\u044c, \\u043f\\u043e\\u0442\\u043e\\u043b\\u043e\\u043a, \\u0430\\u043a\\u0442\\u0438\\u0432\",\"<b>Topic 2</b><br>Words: \\u043d\\u0435\\u0444\\u0442\\u044c, \\u043f\\u043e\\u0442\\u043e\\u043b\\u043e\\u043a, \\u0446\\u0435\\u043d\\u0430, \\u0440\\u043e\\u0441\\u0441\\u0438\\u0439\\u0441\\u043a\\u0438\\u0439, \\u0440\\u043e\\u0441\\u0441\\u0438\\u044f\",\"<b>Topic 2</b><br>Words: \\u0446\\u0435\\u043d\\u0430, \\u043d\\u0435\\u0444\\u0442\\u044c, \\u0438\\u043d\\u0444\\u043b\\u044f\\u0446\\u0438\\u044f, \\u0440\\u043e\\u0441\\u0442, \\u043f\\u043e\\u0442\\u043e\\u043b\\u043e\\u043a\",\"<b>Topic 2</b><br>Words: \\u0446\\u0435\\u043d\\u0430, \\u0438\\u043d\\u0444\\u043b\\u044f\\u0446\\u0438\\u044f, \\u043d\\u0435\\u0444\\u0442\\u044c, \\u0440\\u043e\\u0441\\u0442, \\u0441\\u0430\\u043d\\u043a\\u0446\\u0438\\u044f\",\"<b>Topic 2</b><br>Words: \\u0446\\u0435\\u043d\\u0430, \\u043d\\u0435\\u0444\\u0442\\u044c, \\u0438\\u043d\\u0444\\u043b\\u044f\\u0446\\u0438\\u044f, \\u0440\\u043e\\u0441\\u0442, \\u0440\\u0443\\u0431\\u043b\\u044c\",\"<b>Topic 2</b><br>Words: \\u0446\\u0435\\u043d\\u0430, \\u0440\\u0443\\u0431\\u043b\\u044c, \\u043d\\u0435\\u0444\\u0442\\u044c, \\u043f\\u043e\\u0442\\u043e\\u043b\\u043e\\u043a, \\u0440\\u043e\\u0441\\u0442\"],\"marker\":{\"color\":\"#009E73\"},\"mode\":\"lines\",\"name\":\"2_\\u0446\\u0435\\u043d\\u0430_\\u0438\\u043d\\u0444\\u043b\\u044f\\u0446\\u0438\\u044f_\\u043d\\u0435\\u0444\\u0442\\u044c_\\u0440\\u043e\\u0441\\u0442\",\"x\":[\"2022-10-07T21:59:02.400000\",\"2022-10-13T14:24:00\",\"2022-10-19T04:48:00\",\"2022-10-24T19:12:00\",\"2022-10-30T09:36:00\",\"2022-11-05T00:00:00\",\"2022-11-10T14:24:00\",\"2022-11-16T04:48:00\",\"2022-11-21T19:12:00\",\"2022-11-27T09:36:00\",\"2022-12-03T00:00:00\",\"2022-12-08T14:24:00\",\"2022-12-14T04:48:00\",\"2022-12-19T19:12:00\",\"2022-12-25T09:36:00\"],\"y\":[18,13,10,15,16,6,11,12,22,38,25,17,14,27,37],\"type\":\"scatter\"},{\"hoverinfo\":\"text\",\"hovertext\":[\"<b>Topic 3</b><br>Words: \\u0431\\u0435\\u043b\\u043e\\u0440\\u0443\\u0441\\u0441\\u0438\\u044f, \\u043f\\u043e\\u043b\\u044c\\u0448\\u0430, \\u0431\\u0435\\u043b\\u0430\\u0440\\u0443\\u0441\\u044c, \\u0433\\u0440\\u0443\\u043f\\u043f\\u0438\\u0440\\u043e\\u0432\\u043a\\u0430, \\u043b\\u0443\\u043a\\u0430\\u0448\\u0435\\u043d\\u043a\\u043e\",\"<b>Topic 3</b><br>Words: \\u0431\\u0435\\u043b\\u043e\\u0440\\u0443\\u0441\\u0441\\u0438\\u044f, \\u043f\\u043e\\u043b\\u044c\\u0448\\u0430, \\u0431\\u0435\\u043b\\u043e\\u0440\\u0443\\u0441\\u0441\\u043a\\u0438\\u0439, \\u0431\\u0435\\u043b\\u0430\\u0440\\u0443\\u0441\\u044c, \\u043f\\u043e\\u043b\\u044c\\u0441\\u043a\\u0438\\u0439\",\"<b>Topic 3</b><br>Words: \\u0431\\u0435\\u043b\\u043e\\u0440\\u0443\\u0441\\u0441\\u0438\\u044f, \\u0431\\u0435\\u043b\\u0430\\u0440\\u0443\\u0441\\u044c, \\u0441\\u0431\\u0443, \\u043a\\u0433\\u0431, \\u0431\\u0435\\u043b\\u043e\\u0440\\u0443\\u0441\",\"<b>Topic 3</b><br>Words: \\u043f\\u043e\\u043b\\u044c\\u0448\\u0430, \\u043f\\u043e\\u043b\\u044c\\u0441\\u043a\\u0438\\u0439, \\u0431\\u0435\\u043b\\u043e\\u0440\\u0443\\u0441\\u0441\\u0438\\u044f, \\u043f\\u043e\\u043b\\u044f\\u043a, \\u0443\\u043a\\u0440\\u0430\\u0438\\u043d\\u0430\",\"<b>Topic 3</b><br>Words: \\u043f\\u043e\\u043b\\u044c\\u0448\\u0430, \\u043f\\u043e\\u043b\\u044c\\u0441\\u043a\\u0438\\u0439, \\u043f\\u043e\\u043b\\u044f\\u043a, \\u043f\\u043e\\u0441\\u043e\\u0431\\u0438\\u0435, \\u0431\\u0435\\u043b\\u043e\\u0440\\u0443\\u0441\\u0441\\u0438\\u044f\",\"<b>Topic 3</b><br>Words: \\u043f\\u043e\\u043b\\u044c\\u0448\\u0430, \\u043f\\u043e\\u043b\\u044f\\u043a, \\u0443\\u0447\\u0438\\u0442\\u0435\\u0432\\u0433\\u0435\\u043d\\u0438\\u0439, \\u043a\\u043e\\u043f\\u044b\\u0442\\u043e\\u043c, \\u0432\\u043e\\u0439\\u043d\\u0435\\u043f\\u043e\\u043b\\u044c\\u0441\\u043a\\u0438\\u0439\",\"<b>Topic 3</b><br>Words: \\u043f\\u043e\\u043b\\u044c\\u0448\\u0430, \\u0440\\u0430\\u043a\\u0435\\u0442\\u0430, \\u043f\\u043e\\u043b\\u044c\\u0441\\u043a\\u0438\\u0439, \\u0443\\u043f\\u0430\\u0441\\u0442\\u044c, \\u043d\\u0430\\u0442\\u043e\",\"<b>Topic 3</b><br>Words: \\u043f\\u043e\\u043b\\u044c\\u0448\\u0430, \\u0440\\u0430\\u043a\\u0435\\u0442\\u0430, \\u043f\\u043e\\u043b\\u044c\\u0441\\u043a\\u0438\\u0439, \\u0443\\u043f\\u0430\\u0441\\u0442\\u044c, \\u0431\\u0435\\u043b\\u043e\\u0440\\u0443\\u0441\\u0441\\u0438\\u044f\",\"<b>Topic 3</b><br>Words: \\u043f\\u043e\\u043b\\u044c\\u0448\\u0430, \\u0431\\u0435\\u043b\\u043e\\u0440\\u0443\\u0441\\u0441\\u0438\\u044f, \\u043f\\u043e\\u043b\\u044c\\u0441\\u043a\\u0438\\u0439, \\u0440\\u0430\\u043a\\u0435\\u0442\\u0430, \\u0431\\u0435\\u043b\\u0430\\u0440\\u0443\\u0441\\u044c\",\"<b>Topic 3</b><br>Words: \\u043f\\u043e\\u043b\\u044c\\u0448\\u0430, \\u0431\\u0435\\u043b\\u043e\\u0440\\u0443\\u0441\\u0441\\u0438\\u044f, \\u043f\\u043e\\u043b\\u044c\\u0441\\u043a\\u0438\\u0439, \\u0431\\u0435\\u043b\\u043e\\u0440\\u0443\\u0441\\u0441\\u043a\\u0438\\u0439, \\u043f\\u043e\\u0441\\u0430\\u0434\\u0438\\u0442\\u044c\",\"<b>Topic 3</b><br>Words: \\u0431\\u0435\\u043b\\u043e\\u0440\\u0443\\u0441\\u0441\\u0438\\u044f, \\u043f\\u043e\\u043b\\u044c\\u0448\\u0430, \\u043d\\u0430\\u0441\\u0435\\u043b\\u0451\\u043d\\u043d\\u044b\\u0439, \\u0437\\u0430\\u0447\\u0438\\u0441\\u0442\\u043a\\u0430, \\u043c\\u0435\\u0442\\u0440\",\"<b>Topic 3</b><br>Words: \\u043f\\u043e\\u043b\\u044c\\u0448\\u0430, \\u0431\\u0435\\u043b\\u043e\\u0440\\u0443\\u0441\\u0441\\u0438\\u044f, \\u0432\\u043d\\u0435\\u0437\\u0430\\u043f\\u043d\\u044b\\u0439, \\u043f\\u0440\\u043e\\u0432\\u0435\\u0440\\u043a\\u0430, \\u0431\\u0435\\u043b\\u043e\\u0440\\u0443\\u0441\\u0441\\u043a\\u0438\\u0439\",\"<b>Topic 3</b><br>Words: \\u0431\\u0435\\u043b\\u043e\\u0440\\u0443\\u0441\\u0441\\u0438\\u044f, \\u043f\\u043e\\u043b\\u044c\\u0448\\u0430, \\u043f\\u043e\\u043b\\u044c\\u0441\\u043a\\u0438\\u0439, \\u043f\\u043e\\u043b\\u044f\\u043a, \\u0431\\u0435\\u043b\\u0430\\u0440\\u0443\\u0441\\u044c\",\"<b>Topic 3</b><br>Words: \\u043f\\u043e\\u043b\\u044c\\u0448\\u0430, \\u0431\\u0435\\u043b\\u043e\\u0440\\u0443\\u0441\\u0441\\u0438\\u044f, \\u043f\\u043e\\u043b\\u044c\\u0441\\u043a\\u0438\\u0439, \\u0448\\u0442\\u0430\\u0437\\u0438, \\u0440\\u0430\\u043a\\u0435\\u0442\\u0430\",\"<b>Topic 3</b><br>Words: \\u0431\\u0435\\u043b\\u043e\\u0440\\u0443\\u0441\\u0441\\u0438\\u044f, \\u043f\\u043e\\u043b\\u044c\\u0448\\u0430, \\u043f\\u043e\\u043b\\u044c\\u0441\\u043a\\u0438\\u0439, \\u043f\\u043e\\u043b\\u044f\\u043a, \\u0433\\u043e\\u0441\\u0435\\u0432\\u0441\\u043a\\u0430\"],\"marker\":{\"color\":\"#F0E442\"},\"mode\":\"lines\",\"name\":\"3_\\u043f\\u043e\\u043b\\u044c\\u0448\\u0430_\\u0431\\u0435\\u043b\\u043e\\u0440\\u0443\\u0441\\u0441\\u0438\\u044f_\\u0440\\u0430\\u043a\\u0435\\u0442\\u0430_\\u043f\\u043e\\u043b\\u044c\\u0441\\u043a\\u0438\\u0439\",\"x\":[\"2022-10-07T21:59:02.400000\",\"2022-10-13T14:24:00\",\"2022-10-19T04:48:00\",\"2022-10-24T19:12:00\",\"2022-10-30T09:36:00\",\"2022-11-05T00:00:00\",\"2022-11-10T14:24:00\",\"2022-11-16T04:48:00\",\"2022-11-21T19:12:00\",\"2022-11-27T09:36:00\",\"2022-12-03T00:00:00\",\"2022-12-08T14:24:00\",\"2022-12-14T04:48:00\",\"2022-12-19T19:12:00\",\"2022-12-25T09:36:00\"],\"y\":[21,18,5,9,9,3,90,26,8,18,4,6,25,14,12],\"type\":\"scatter\"},{\"hoverinfo\":\"text\",\"hovertext\":[\"<b>Topic 4</b><br>Words: \\u043f\\u0435\\u0440\\u0435\\u043b\\u043e\\u043c\\u0438\\u0442\\u044c, \\u043f\\u0440\\u0435\\u0434\\u043e\\u0441\\u0442\\u0435\\u0440\\u0451\\u0433, \\u0432\\u0437\\u0430\\u0438\\u043c\\u043e\\u0437\\u0430\\u0432\\u0438\\u0441\\u0438\\u043c\\u043e\\u0441\\u0442\\u044c, \\u043d\\u0435\\u0441\\u043f\\u0440\\u0430\\u0432\\u0435\\u0434\\u043b\\u0438\\u0432\\u043e\\u0434\\u043c\\u0438\\u0442\\u0440\\u0438\\u0439, \\u043d\\u0435\\u0440\\u0430\\u0437\\u0443\\u043c\\u043d\\u043e\",\"<b>Topic 4</b><br>Words: \\u043a\\u0438\\u0442\\u0430\\u0439, \\u0442\\u0430\\u0439\\u0432\\u0430\\u043d\\u044c, \\u043a\\u0438\\u0442\\u0430\\u0439\\u0441\\u043a\\u0438\\u0439, \\u0441\\u0438, \\u0441\\u0448\\u0430\",\"<b>Topic 4</b><br>Words: \\u043a\\u0438\\u0442\\u0430\\u0439, \\u0441\\u0438, \\u043a\\u043f\\u043a, \\u043a\\u0438\\u0442\\u0430\\u0439\\u0441\\u043a\\u0438\\u0439, \\u0442\\u0430\\u0439\\u0432\\u0430\\u043d\\u044c\",\"<b>Topic 4</b><br>Words: \\u0445\\u0443, \\u043a\\u0438\\u0442\\u0430\\u0439, \\u043a\\u0438\\u0442\\u0430\\u0439\\u0441\\u043a\\u0438\\u0439, \\u0442\\u0430\\u0439\\u0432\\u0430\\u043d\\u044c, \\u0446\\u0437\\u0438\\u043d\\u044c\\u0442\\u0430\\u043e\",\"<b>Topic 4</b><br>Words: \\u043a\\u0438\\u0442\\u0430\\u0439, \\u043a\\u0438\\u0442\\u0430\\u0439\\u0441\\u043a\\u0438\\u0439, china, \\u0442\\u0430\\u0439\\u0432\\u0430\\u043d\\u044c, airshow\",\"<b>Topic 4</b><br>Words: \\u043a\\u0438\\u0442\\u0430\\u0439, \\u043a\\u0438\\u0442\\u0430\\u0439\\u0441\\u043a\\u0438\\u0439, china, \\u0442\\u0430\\u0439\\u0432\\u0430\\u043d\\u044c, airshow\",\"<b>Topic 4</b><br>Words: \\u043a\\u0438\\u0442\\u0430\\u0439, \\u0441\\u0438, \\u043a\\u043d\\u0440, \\u043a\\u0438\\u0442\\u0430\\u0439\\u0441\\u043a\\u0438\\u0439, \\u0442\\u0430\\u0439\\u0432\\u0430\\u043d\\u044c\",\"<b>Topic 4</b><br>Words: \\u043a\\u0438\\u0442\\u0430\\u0439, \\u043a\\u0438\\u0442\\u0430\\u0435\\u0446, \\u043a\\u043d\\u0440, \\u0446\\u0437\\u044d\\u0434\\u0443\\u043d, \\u043f\\u043e\\u0441\\u043e\\u043b\",\"<b>Topic 4</b><br>Words: \\u043a\\u0438\\u0442\\u0430\\u0439, \\u043a\\u043e\\u0439\\u043a\\u043e\\u043c\\u0435\\u0441\\u0442\\u0441\\u043c\\u0438, \\u043a\\u0430\\u0439\\u0448\\u0438, \\u0447\\u0430\\u043d, foxconn\",\"<b>Topic 4</b><br>Words: \\u043a\\u0438\\u0442\\u0430\\u0439, \\u043a\\u0438\\u0442\\u0430\\u0439\\u0441\\u043a\\u0438\\u0439, \\u0442\\u0430\\u0439\\u0432\\u0430\\u043d\\u044c, \\u043f\\u0440\\u043e\\u0442\\u0435\\u0441\\u0442, \\u043a\\u043d\\u0440\",\"<b>Topic 4</b><br>Words: \\u043a\\u0438\\u0442\\u0430\\u0439, \\u043f\\u0440\\u043e\\u0442\\u0435\\u0441\\u0442, \\u0441\\u0438\\u0442\\u0443\\u0430\\u0442\\u0438\\u0432\\u043d\\u044b\\u0439, \\u0441\\u0438, \\u043a\\u0438\\u0442\\u0430\\u0439\\u0441\\u043a\\u0438\\u0439\",\"<b>Topic 4</b><br>Words: \\u043a\\u0438\\u0442\\u0430\\u0439, \\u043a\\u0438\\u0442\\u0430\\u0439\\u0441\\u043a\\u0438\\u0439, \\u043f\\u0435\\u043a\\u0438\\u043d, \\u0434\\u0432\\u0443\\u0441\\u0442\\u043e\\u0440\\u043e\\u043d\\u043d\\u0438\\u0439, \\u043a\\u043e\\u043d\\u0444\\u043b\\u0438\\u043a\\u0442\",\"<b>Topic 4</b><br>Words: \\u043a\\u0438\\u0442\\u0430\\u0439, \\u044f\\u043f\\u043e\\u043d\\u0438\\u044f, \\u0441\\u0448\\u0430, \\u0442\\u0430\\u0439\\u0432\\u0430\\u043d\\u044c, \\u0440\\u0444\",\"<b>Topic 4</b><br>Words: \\u043a\\u0438\\u0442\\u0430\\u0439, \\u0441\\u0438, \\u043a\\u0438\\u0442\\u0430\\u0439\\u0441\\u043a\\u0438\\u0439, \\u043c\\u0435\\u0434\\u0432\\u0435\\u0434\\u0435\\u0432, \\u0446\\u0437\\u0438\\u043d\\u044c\\u043f\\u0438\\u043d\",\"<b>Topic 4</b><br>Words: \\u043a\\u0438\\u0442\\u0430\\u0439, \\u0441\\u0438, \\u0441\\u0448\\u0430, \\u0442\\u0430\\u0439\\u0432\\u0430\\u043d\\u044c, \\u043a\\u0438\\u0442\\u0430\\u0439\\u0441\\u043a\\u0438\\u0439\"],\"marker\":{\"color\":\"#D55E00\"},\"mode\":\"lines\",\"name\":\"4_\\u043a\\u0438\\u0442\\u0430\\u0439_\\u043a\\u0438\\u0442\\u0430\\u0439\\u0441\\u043a\\u0438\\u0439_\\u0441\\u0438_\\u0442\\u0430\\u0439\\u0432\\u0430\\u043d\\u044c\",\"x\":[\"2022-10-07T21:59:02.400000\",\"2022-10-13T14:24:00\",\"2022-10-19T04:48:00\",\"2022-10-24T19:12:00\",\"2022-10-30T09:36:00\",\"2022-11-05T00:00:00\",\"2022-11-10T14:24:00\",\"2022-11-16T04:48:00\",\"2022-11-21T19:12:00\",\"2022-11-27T09:36:00\",\"2022-12-03T00:00:00\",\"2022-12-08T14:24:00\",\"2022-12-14T04:48:00\",\"2022-12-19T19:12:00\",\"2022-12-25T09:36:00\"],\"y\":[1,10,20,18,16,21,18,2,4,12,3,5,4,24,17],\"type\":\"scatter\"},{\"hoverinfo\":\"text\",\"hovertext\":[\"<b>Topic 5</b><br>Words: time, \\u0441\\u0435\\u0440\\u0431, \\u0431\\u043e\\u043c\\u0431\\u0438\\u0442\\u044c, \\u043f\\u043e\\u0432\\u0438\\u043d\\u043e\\u0432\\u0435\\u043d\\u0438\\u0435, \\u043c\\u043e\\u043b\\u0434\\u0430\\u0432\\u0438\\u044f\",\"<b>Topic 5</b><br>Words: \\u043c\\u043e\\u043b\\u0434\\u0430\\u0432\\u0438\\u044f, \\u043c\\u043e\\u043b\\u0434\\u0430\\u0432\\u0430\\u043d\\u0438\\u043d, \\u0441\\u0430\\u043d\\u0434\\u0443, \\u043c\\u0430\\u0439\\u044f, \\u043f\\u043e\\u043b\\u0438\\u0442\\u0438\\u043a\",\"<b>Topic 5</b><br>Words: \\u0438\\u0442\\u0430\\u043b\\u0438\\u044f, \\u0441\\u0435\\u0440\\u0431\\u0438\\u044f, \\u043c\\u043e\\u043b\\u0434\\u0430\\u0432\\u0438\\u044f, \\u0432\\u0430\\u043a\\u0446\\u0438\\u043d\\u0430, \\u043a\\u043e\\u0441\\u043e\\u0432\\u043e\",\"<b>Topic 5</b><br>Words: \\u0441\\u0435\\u0440\\u0431\\u0438\\u044f, \\u043c\\u043e\\u043b\\u0434\\u0430\\u0432\\u0438\\u044f, \\u0441\\u0435\\u0440\\u0431\\u0441\\u043a\\u0438\\u0439, \\u0440\\u0443\\u043c\\u044b\\u043d\\u0438\\u044f, \\u0438\\u0442\\u0430\\u043b\\u0438\\u044f\",\"<b>Topic 5</b><br>Words: \\u0441\\u0435\\u0440\\u0431\\u0438\\u044f, \\u043c\\u043e\\u043b\\u0434\\u0430\\u0432\\u0438\\u044f, \\u0441\\u0430\\u043d\\u0434\\u0443, \\u0441\\u0435\\u0440\\u0431, \\u043c\\u043e\\u043b\\u0434\\u043e\\u0432\\u0430\\u043d\",\"<b>Topic 5</b><br>Words: \\u043c\\u043e\\u043b\\u0434\\u0430\\u0432\\u0438\\u044f, \\u0433\\u0440\\u043e\\u0441\\u0443, \\u0440\\u0430\\u0441\\u0441\\u0443\\u0436\\u0434\\u0430\\u0442\\u044c, \\u0437\\u0430\\u0434\\u0430\\u0447\\u0430, \\u043f\\u043e\\u0441\\u043e\\u043b\\u044c\\u0441\\u0442\\u0432\\u043e\",\"<b>Topic 5</b><br>Words: \\u043c\\u043e\\u043b\\u0434\\u0430\\u0432\\u0438\\u044f, \\u043f\\u0440\\u0438\\u0434\\u043d\\u0435\\u0441\\u0442\\u0440\\u043e\\u0432\\u044c\\u0435, \\u0440\\u0443\\u043a\\u043e\\u0432\\u043e\\u0434\\u0438\\u0442\\u0435\\u043b\\u044c, \\u043b\\u0435\\u0435\\u0432, \\u0440\\u0430\\u0431\\u043e\\u0442\\u043d\\u0438\\u043a\",\"<b>Topic 5</b><br>Words: \\u043f\\u0440\\u0438\\u0448\\u0442\\u0438\\u043d\\u0443, \\u0441\\u043e\\u043e\\u0431\\u0449\\u0435\\u0441\\u0442\\u0432\\u043e, \\u044d\\u043b\\u0435\\u043a\\u0442\\u0440\\u043e\\u044d\\u043d\\u0435\\u0440\\u0433\\u0438\\u044f, \\u043f\\u0440\\u0438\\u043d\\u0435\\u0441\\u043b\\u043e\\u0441\\u0438\\u0442\\u0443\\u0430\\u0446\\u0438\\u044f, ap\\u0103canal\",\"<b>Topic 5</b><br>Words: \\u0441\\u0435\\u0440\\u0431\\u0438\\u044f, \\u043a\\u043e\\u0441\\u043e\\u0432\\u043e, \\u043c\\u043e\\u043b\\u0434\\u0430\\u0432\\u0438\\u044f, \\u0440\\u0430\\u0437\\u0431\\u0438\\u0442\\u044c, \\u043f\\u043e\\u043f\\u0440\\u043e\\u0441\\u0438\\u0442\\u044c\",\"<b>Topic 5</b><br>Words: \\u043c\\u043e\\u043b\\u0434\\u0430\\u0432\\u0438\\u044f, \\u0441\\u0435\\u0440\\u0431\\u0438\\u044f, \\u0441\\u0430\\u043d\\u0434\\u0443, \\u044d\\u043b\\u0435\\u043a\\u0442\\u0440\\u0438\\u0447\\u0435\\u0441\\u0442\\u0432\\u043e, \\u044d\\u043b\\u0435\\u043a\\u0442\\u0440\\u043e\\u044d\\u043d\\u0435\\u0440\\u0433\\u0438\\u044f\",\"<b>Topic 5</b><br>Words: \\u043c\\u043e\\u043b\\u0434\\u0430\\u0432\\u0438\\u044f, \\u0441\\u0435\\u0440\\u0431, \\u0430\\u043b\\u0431\\u0430\\u043d\\u0441\\u043a\\u0438\\u0439, \\u043a\\u043e\\u0441\\u043e\\u0432, \\u0432\\u0442\\u043e\\u0440\\u0433\\u043d\\u0443\\u0442\\u044c\\u0441\\u044f\",\"<b>Topic 5</b><br>Words: \\u043a\\u043e\\u0441\\u043e\\u0432\\u043e, \\u0441\\u0435\\u0440\\u0431\\u0438\\u044f, \\u0441\\u0435\\u0440\\u0431, \\u043c\\u043e\\u043b\\u0434\\u0430\\u0432\\u0438\\u044f, \\u0441\\u0435\\u0440\\u0431\\u0441\\u043a\\u0438\\u0439\",\"<b>Topic 5</b><br>Words: \\u043a\\u043e\\u0441\\u043e\\u0432\\u043e, \\u0441\\u0435\\u0440\\u0431, \\u0441\\u0435\\u0440\\u0431\\u0438\\u044f, kfor, \\u0441\\u0435\\u0440\\u0431\\u0441\\u043a\\u0438\\u0439\",\"<b>Topic 5</b><br>Words: \\u043c\\u043e\\u043b\\u0434\\u0430\\u0432\\u0438\\u044f, \\u043c\\u043e\\u043b\\u0434\\u0430\\u0432\\u0441\\u043a\\u0438\\u0439, \\u0440\\u0443\\u043c\\u044b\\u043d\\u0438\\u044f, \\u0441\\u0435\\u0440\\u0431\\u0438\\u044f, \\u0440\\u0443\\u043c\\u044b\\u043d\\u0441\\u043a\\u0438\\u0439\",\"<b>Topic 5</b><br>Words: \\u0441\\u0435\\u0440\\u0431\\u0438\\u044f, \\u043a\\u043e\\u0441\\u043e\\u0432\\u043e, \\u0441\\u0435\\u0440\\u0431, \\u0431\\u0430\\u0440\\u0440\\u0438\\u043a\\u0430\\u0434\\u0430, \\u043c\\u043e\\u043b\\u0434\\u0430\\u0432\\u0438\\u044f\"],\"marker\":{\"color\":\"#0072B2\"},\"mode\":\"lines\",\"name\":\"5_\\u043c\\u043e\\u043b\\u0434\\u0430\\u0432\\u0438\\u044f_\\u0441\\u0435\\u0440\\u0431\\u0438\\u044f_\\u043a\\u043e\\u0441\\u043e\\u0432\\u043e_\\u0441\\u0435\\u0440\\u0431\",\"x\":[\"2022-10-07T21:59:02.400000\",\"2022-10-13T14:24:00\",\"2022-10-19T04:48:00\",\"2022-10-24T19:12:00\",\"2022-10-30T09:36:00\",\"2022-11-05T00:00:00\",\"2022-11-10T14:24:00\",\"2022-11-16T04:48:00\",\"2022-11-21T19:12:00\",\"2022-11-27T09:36:00\",\"2022-12-03T00:00:00\",\"2022-12-08T14:24:00\",\"2022-12-14T04:48:00\",\"2022-12-19T19:12:00\",\"2022-12-25T09:36:00\"],\"y\":[3,5,7,8,6,3,4,2,6,12,2,34,7,13,23],\"type\":\"scatter\"},{\"hoverinfo\":\"text\",\"hovertext\":[\"<b>Topic 6</b><br>Words: \\u0441\\u0430\\u0434, \\u0435\\u0432\\u0440\\u043e\\u0441\\u043e\\u044e\\u0437, \\u0435\\u0441, \\u044d\\u0448\\u0442\\u043e\\u043d, \\u0434\\u0436\\u0443\\u043d\\u0433\\u043b\\u0438\",\"<b>Topic 6</b><br>Words: \\u0435\\u0432\\u0440\\u043e\\u0441\\u043e\\u044e\\u0437, \\u0435\\u0432\\u0440\\u043e\\u043f\\u0435\\u0439\\u0441\\u043a\\u0438\\u0439, \\u0435\\u0441, \\u0444\\u043e\\u043d\\u0434, \\u044d\\u0441\\u0442\\u043e\\u043d\\u0438\\u044f\",\"<b>Topic 6</b><br>Words: \\u0435\\u0432\\u0440\\u043e\\u043f\\u0430, \\u0435\\u0432\\u0440\\u043e\\u043f\\u0435\\u0439\\u0441\\u043a\\u0438\\u0439, \\u0441\\u0430\\u0434, \\u0447\\u0430\\u0441\\u0442\\u043d\\u044b\\u0439, \\u0435\\u0432\\u0440\\u043e\\u0441\\u043e\\u044e\\u0437\",\"<b>Topic 6</b><br>Words: \\u0442\\u0435\\u0440\\u0440\\u043e\\u0440\\u0438\\u0441\\u0442\\u0438\\u0447\\u0435\\u0441\\u043a\\u0438\\u0439, \\u0435\\u0432\\u0440\\u043e\\u043f\\u0430, \\u043f\\u0442\\u0438\\u0447\\u043a\\u0430, \\u0432\\u0430\\u0441\\u0441\\u0430\\u043b, \\u0440\\u0435\\u0437\\u043e\\u043b\\u044e\\u0446\\u0438\\u044f\",\"<b>Topic 6</b><br>Words: \\u0435\\u0441, \\u0441\\u0443\\u043c\\u043c\\u0430, \\u0435\\u0432\\u0440\\u043e\\u043f\\u0430, \\u0440\\u043e\\u0441\\u0441\\u0438\\u044f, \\u0447\\u0435\\u0445\\u0438\\u044f\",\"<b>Topic 6</b><br>Words: \\u0435\\u0432\\u0440\\u043e, \\u0435\\u0432\\u0440\\u043e\\u0441\\u043e\\u044e\\u0437, \\u0435\\u0432\\u0440\\u043e\\u043a\\u043e\\u043c\\u0438\\u0441\\u0441\\u0438\\u044f, \\u0435\\u0432\\u0440\\u043e\\u043f\\u0435\\u0439\\u0441\\u043a\\u0438\\u0439, \\u0447\\u0435\\u043b\\u0438\\u043a\",\"<b>Topic 6</b><br>Words: \\u043f\\u043e\\u0442\\u0435\\u043c\\u043a\\u0438, \\u0447\\u0435\\u0445\\u0438\\u044f, \\u0434\\u0443\\u0448\\u0430, \\u043f\\u0430\\u0440\\u043b\\u0430\\u043c\\u0435\\u043d\\u0442, \\u0433\\u0443\\u0441\\u0442\\u044b\\u0435\\u043b\\u0430\\u0432\\u0440\\u043e\\u0432\",\"<b>Topic 6</b><br>Words: \\u0435\\u0432\\u0440\\u043e\\u043f\\u0430\\u0440\\u043b\\u0430\\u043c\\u0435\\u043d\\u0442, \\u0434\\u0435\\u043b\\u044c\\u0444\\u0438\\u043d, \\u0431\\u043e\\u0440\\u0440\\u0435\\u043b\\u044c, \\u0435\\u0432\\u0440\\u043e\\u043f\\u0435\\u0439\\u0441\\u043a\\u0438\\u0439, \\u0438\\u0435\\u0440\\u043e\\u043d\\u0438\\u043c\",\"<b>Topic 6</b><br>Words: \\u0435\\u0432\\u0440\\u043e\\u043f\\u0430\\u0440\\u043b\\u0430\\u043c\\u0435\\u043d\\u0442, \\u0441\\u043f\\u043e\\u043d\\u0441\\u043e\\u0440, \\u0442\\u0435\\u0440\\u0440\\u043e\\u0440\\u0438\\u0437\\u043c, \\u0440\\u0435\\u0437\\u043e\\u043b\\u044e\\u0446\\u0438\\u044f, \\u0433\\u043e\\u0441\\u0443\\u0434\\u0430\\u0440\\u0441\\u0442\\u0432\\u043e\",\"<b>Topic 6</b><br>Words: \\u0435\\u0432\\u0440\\u043e\\u043f\\u0430\\u0440\\u043b\\u0430\\u043c\\u0435\\u043d\\u0442, \\u0435\\u0432\\u0440\\u043e\\u043f\\u0435\\u0439\\u0441\\u043a\\u0438\\u0439, \\u0435\\u0432\\u0440\\u043e\\u043f\\u0430, \\u0440\\u0435\\u0437\\u043e\\u043b\\u044e\\u0446\\u0438\\u044f, \\u0441\\u0448\\u0430\",\"<b>Topic 6</b><br>Words: \\u0435\\u0441, \\u0444\\u0438\\u043d\\u0430\\u043d\\u0441\\u043e\\u0432\\u044b\\u0439, \\u0434\\u0436\\u0443\\u043d\\u0433\\u043b\\u0438, \\u0435\\u0432\\u0440\\u043e\\u043f\\u0430, \\u0435\\u0432\\u0440\\u043e\\u043f\\u0430\\u0440\\u043b\\u0430\\u043c\\u0435\\u043d\\u0442\",\"<b>Topic 6</b><br>Words: \\u0435\\u0432\\u0440\\u043e\\u043f\\u0430\\u0440\\u043b\\u0430\\u043c\\u0435\\u043d\\u0442, \\u043a\\u0430\\u0439\\u043b\\u0438, \\u0435\\u0432\\u0440\\u043e\\u043f\\u0430, \\u0435\\u0432\\u0440\\u043e\\u0441\\u043e\\u044e\\u0437, \\u043a\\u043e\\u0440\\u0440\\u0443\\u043f\\u0446\\u0438\\u044f\",\"<b>Topic 6</b><br>Words: \\u043a\\u0430\\u0439\\u043b\\u0438, \\u0435\\u0432\\u0440\\u043e\\u043f\\u0430\\u0440\\u043b\\u0430\\u043c\\u0435\\u043d\\u0442, \\u0435\\u0432\\u0440\\u043e\\u0441\\u043e\\u044e\\u0437, \\u0435\\u0432\\u0440\\u043e\\u043f\\u0435\\u0439\\u0441\\u043a\\u0438\\u0439, \\u0435\\u0432\\u0440\\u043e\\u043f\\u0430\",\"<b>Topic 6</b><br>Words: \\u0435\\u0432\\u0440\\u043e\\u043f\\u0435\\u0439\\u0441\\u043a\\u0438\\u0439, \\u0435\\u0441, \\u0435\\u0432\\u0440\\u043e\\u0441\\u043e\\u044e\\u0437, \\u0430\\u043c\\u0435\\u0440\\u0438\\u043a\\u0430\\u043d\\u0441\\u043a\\u0438\\u0439, \\u0441\\u0443\\u0431\\u0441\\u0438\\u0434\\u0438\\u044f\",\"<b>Topic 6</b><br>Words: \\u0435\\u0432\\u0440\\u043e\\u043f\\u0430\\u0440\\u043b\\u0430\\u043c\\u0435\\u043d\\u0442, \\u043c\\u0435\\u043d\\u044c\\u0448\\u0438\\u043d\\u0441\\u0442\\u0432\\u043e, \\u0435\\u0432\\u0440\\u043e\\u0441\\u043e\\u044e\\u0437, \\u043d\\u0430\\u0446\\u0438\\u043e\\u043d\\u0430\\u043b\\u044c\\u043d\\u044b\\u0439, \\u0431\\u0440\\u044e\\u0441\\u0441\\u0435\\u043b\\u044c\"],\"marker\":{\"color\":\"#CC79A7\"},\"mode\":\"lines\",\"name\":\"6_\\u0435\\u0432\\u0440\\u043e\\u043f\\u0430\\u0440\\u043b\\u0430\\u043c\\u0435\\u043d\\u0442_\\u0435\\u0432\\u0440\\u043e\\u043f\\u0430_\\u0435\\u0432\\u0440\\u043e\\u043f\\u0435\\u0439\\u0441\\u043a\\u0438\\u0439_\\u0435\\u0432\\u0440\\u043e\\u0441...\",\"x\":[\"2022-10-07T21:59:02.400000\",\"2022-10-13T14:24:00\",\"2022-10-19T04:48:00\",\"2022-10-24T19:12:00\",\"2022-10-30T09:36:00\",\"2022-11-05T00:00:00\",\"2022-11-10T14:24:00\",\"2022-11-16T04:48:00\",\"2022-11-21T19:12:00\",\"2022-11-27T09:36:00\",\"2022-12-03T00:00:00\",\"2022-12-08T14:24:00\",\"2022-12-14T04:48:00\",\"2022-12-19T19:12:00\",\"2022-12-25T09:36:00\"],\"y\":[4,9,7,7,4,8,2,3,9,7,5,6,7,3,4],\"type\":\"scatter\"},{\"hoverinfo\":\"text\",\"hovertext\":[\"<b>Topic 7</b><br>Words: \\u043f\\u0440\\u0430\\u0432\\u043e\\u0441\\u043b\\u0430\\u0432\\u043d\\u044b\\u0439, \\u043c\\u0438\\u0442\\u0440\\u043e\\u043f\\u043e\\u043b\\u0438\\u0442, \\u0443\\u043f\\u0446, \\u0430\\u0440\\u0445\\u0435\\u0442\\u0438\\u043f, \\u043f\\u0430\\u0442\\u0440\\u0438\\u0430\\u0440\\u0445\\u0430\\u0442\",\"<b>Topic 7</b><br>Words: \\u0443\\u043a\\u0440\\u0430\\u0438\\u043d\\u0435\\u0446, \\u043a\\u0440\\u0435\\u0441\\u043b\\u043e, \\u0431\\u043e\\u044f\\u0442\\u044c\\u0441\\u044f, \\u043f\\u0430\\u043f\\u0430, \\u0437\\u0435\\u043b\\u0435\\u043d\\u0441\\u043a\\u0438\\u0439\",\"<b>Topic 7</b><br>Words: \\u0440\\u0435\\u043d\\u043d\\u0435\\u0440, \\u043f\\u0430\\u0441\\u0442\\u043e\\u0440, \\u0440\\u0438\\u043a, \\u043f\\u0440\\u043e\\u0442\\u0435\\u0441\\u0442\\u0430\\u043d\\u0442\\u0441\\u043a\\u0438\\u0439, \\u043a\\u043b\\u044f\\u0442\\u0432\\u0430\",\"<b>Topic 7</b><br>Words: \\u043b\\u044e\\u0431\\u0438\\u0442\\u044c, \\u0441\\u0430\\u0442\\u0430\\u043d\\u0438\\u0437\\u043c, \\u0440\\u043e\\u0434\\u0438\\u043d\\u0430, \\u043e\\u0441\\u043a\\u043e\\u0440\\u0431\\u043b\\u044f\\u0442\\u044c, \\u043e\\u0434\\u043d\\u043e\\u043f\\u043e\\u043b\\u044b\\u0439\",\"<b>Topic 7</b><br>Words: \\u0440\\u0443\\u0441\\u0441\\u043a\\u0438\\u0439, \\u043f\\u0430\\u043f\\u0430, \\u0436\\u0435\\u0441\\u0442\\u043e\\u043a\\u043e\\u0441\\u0442\\u044c, \\u043e\\u043a\\u0441\\u0430\\u043d\\u0430, \\u0440\\u0438\\u043c\\u0441\\u043a\\u0438\\u0439\",\"<b>Topic 7</b><br>Words: \\u043f\\u0440\\u0430\\u0432\\u043e\\u0441\\u043b\\u0430\\u0432\\u043d\\u044b\\u0439, \\u043d\\u0435\\u043d\\u0430\\u0432\\u0438\\u0434\\u0435\\u0442\\u044c, \\u043b\\u044e\\u0434\\u0435\\u0439\\u043f\\u043e\\u0434\\u043f\\u0438\\u0448\\u0438\\u0442\\u0435\\u0441\\u044c, \\u0430\\u043b\\u0435\\u0441\\u0442\\u043e\\u0432\\u0438\\u0447, \\u043f\\u0440\\u0438\\u0437\\u043d\\u0430\\u0451\\u0442\\u0435\",\"<b>Topic 7</b><br>Words: \\u043b\\u0438\\u0441\\u0442\\u043e\\u0432\\u043a\\u0430, \\u043f\\u0440\\u0438\\u0437\\u044b\\u0432\\u0430\\u0442\\u044c\\u0441\\u044f, \\u0433\\u0435\\u0431\\u0431\\u0435\\u043b\\u044c\\u0441\\u0430tmervvoenkor, \\u0442\\u0438\\u0440\\u0430\\u0436\\u0430\\u043c\\u0438\\u0432, \\u0438\\u043e\\u043d\\u0430\\u0444\\u0430\\u043d\\u0430\",\"<b>Topic 7</b><br>Words: \\u043f\\u0440\\u0430\\u0432\\u043e\\u0441\\u043b\\u0430\\u0432\\u043d\\u044b\\u0439, \\u0445\\u0440\\u0438\\u0441\\u0442\\u0438\\u0430\\u043d\\u0441\\u043a\\u0438\\u0439, \\u0446\\u0435\\u0440\\u043a\\u043e\\u0432\\u044c, \\u0440\\u0435\\u043b\\u0438\\u0433\\u0438\\u043e\\u0437\\u043d\\u044b\\u0439, \\u043a\\u0430\\u043d\\u043e\\u043d\\u0438\\u0447\\u0435\\u0441\\u043a\\u0438\\u0439\",\"<b>Topic 7</b><br>Words: \\u043f\\u0430\\u043f\\u0430, \\u043f\\u0440\\u0430\\u0432\\u043e\\u0441\\u043b\\u0430\\u0432\\u043d\\u044b\\u0439, \\u0440\\u0438\\u043c\\u0441\\u043a\\u0438\\u0439, \\u0446\\u0435\\u0440\\u043a\\u043e\\u0432\\u044c, \\u0443\\u043f\\u0446\",\"<b>Topic 7</b><br>Words: \\u043f\\u0430\\u043f\\u0430, \\u0443\\u043f\\u0446, \\u0440\\u0438\\u043c\\u0441\\u043a\\u0438\\u0439, \\u0446\\u0435\\u0440\\u043a\\u043e\\u0432\\u044c, \\u0441\\u0443\\u0435\\u0442\\u0430\",\"<b>Topic 7</b><br>Words: \\u0446\\u0435\\u0440\\u043a\\u043e\\u0432\\u044c, \\u043f\\u0440\\u0430\\u0432\\u043e\\u0441\\u043b\\u0430\\u0432\\u043d\\u044b\\u0439, \\u0443\\u043f\\u0446, \\u0445\\u0440\\u0430\\u043c, \\u043a\\u0430\\u043d\\u043e\\u043d\\u0438\\u0447\\u0435\\u0441\\u043a\\u0438\\u0439\",\"<b>Topic 7</b><br>Words: \\u0440\\u0438\\u043c\\u0441\\u043a\\u0438\\u0439, \\u0443\\u0431\\u0438\\u0432\\u0430\\u0442\\u044c, \\u043f\\u0430\\u043f\\u0430, \\u0446\\u0435\\u0440\\u043a\\u043e\\u0432\\u044c, \\u043a\\u0430\\u0442\\u043e\\u043b\\u0438\\u0447\\u0435\\u0441\\u043a\\u0438\\u0439\",\"<b>Topic 7</b><br>Words: \\u0446\\u0435\\u0440\\u043a\\u043e\\u0432\\u044c, \\u043f\\u0440\\u0430\\u0432\\u043e\\u0441\\u043b\\u0430\\u0432\\u043d\\u044b\\u0439, \\u0443\\u043f\\u0446, \\u043a\\u0430\\u0442\\u043e\\u043b\\u0438\\u0447\\u0435\\u0441\\u043a\\u0438\\u0439, \\u0441\\u0431\\u0443\",\"<b>Topic 7</b><br>Words: \\u0446\\u0435\\u0440\\u043a\\u043e\\u0432\\u044c, \\u043b\\u0430\\u0432\\u0440\\u0430, \\u043f\\u0440\\u0430\\u0432\\u043e\\u0441\\u043b\\u0430\\u0432\\u043d\\u044b\\u0439, \\u0440\\u0435\\u043b\\u0438\\u0433\\u0438\\u043e\\u0437\\u043d\\u044b\\u0439, \\u0445\\u0440\\u0430\\u043c\"],\"marker\":{\"color\":\"#E69F00\"},\"mode\":\"lines\",\"name\":\"7_\\u043f\\u0440\\u0430\\u0432\\u043e\\u0441\\u043b\\u0430\\u0432\\u043d\\u044b\\u0439_\\u0446\\u0435\\u0440\\u043a\\u043e\\u0432\\u044c_\\u043f\\u0430\\u043f\\u0430_\\u0443\\u043f\\u0446\",\"x\":[\"2022-10-07T21:59:02.400000\",\"2022-10-13T14:24:00\",\"2022-10-19T04:48:00\",\"2022-10-24T19:12:00\",\"2022-11-05T00:00:00\",\"2022-11-10T14:24:00\",\"2022-11-16T04:48:00\",\"2022-11-21T19:12:00\",\"2022-11-27T09:36:00\",\"2022-12-03T00:00:00\",\"2022-12-08T14:24:00\",\"2022-12-14T04:48:00\",\"2022-12-19T19:12:00\",\"2022-12-25T09:36:00\"],\"y\":[4,2,1,4,3,1,1,7,24,6,11,6,6,7],\"type\":\"scatter\"},{\"hoverinfo\":\"text\",\"hovertext\":[\"<b>Topic 8</b><br>Words: \\u043b\\u0430\\u0439\\u0444, \\u043f\\u043e\\u0433\\u043e\\u0434\\u0430, \\u0437\\u0438\\u043c\\u0430, \\u043e\\u0441\\u0435\\u043d\\u044c, \\u043b\\u0435\\u0433\\u0433\\u0438\\u043d\\u0441\\u0430\\u043c\\u0438\",\"<b>Topic 8</b><br>Words: \\u0434\\u043e\\u0436\\u0434\\u043b\\u0438\\u0432\\u044b\\u0439, \\u043b\\u0430\\u0439\\u0444, \\u043f\\u043e\\u0433\\u043e\\u0434\\u0430, \\u0442\\u0435\\u043f\\u043b\\u043e, \\u0437\\u0438\\u043c\\u0430\",\"<b>Topic 8</b><br>Words: \\u0437\\u0438\\u043c\\u0430, \\u043b\\u0430\\u0439\\u0444, \\u043f\\u043e\\u0433\\u043e\\u0434\\u0430, \\u043c\\u043e\\u0440\\u043e\\u0437\\u044b\\u0438, \\u043d\\u0435\\u0431\\u0435\\u0441\\u0430\\u0439\",\"<b>Topic 8</b><br>Words: \\u0430\\u043d\\u043e\\u043c\\u0430\\u043b\\u044c\\u043d\\u044b\\u0439, \\u043b\\u0430\\u0439\\u0444, \\u043f\\u043e\\u0445\\u043e\\u043b\\u043e\\u0434\\u0430\\u043d\\u0438\\u0435, \\u043f\\u043e\\u0433\\u043e\\u0434\\u0430, \\u0441\\u043c\\u0435\\u043d\\u0438\\u0442\\u044c\\u0441\\u044f\",\"<b>Topic 8</b><br>Words: \\u043b\\u0430\\u0439\\u0444, \\u043f\\u043e\\u0433\\u043e\\u0434\\u0430, \\u0441\\u043d\\u0435\\u0433, \\u043c\\u0435\\u0442\\u0435\\u043e\\u0443\\u0441\\u043b\\u043e\\u0432\\u0438\\u044f, \\u0433\\u043e\\u043b\\u043e\\u043b\\u0435\\u0434\\u0438\\u0446\\u0430\",\"<b>Topic 8</b><br>Words: \\u043b\\u0430\\u0439\\u0444, \\u043f\\u043e\\u0433\\u043e\\u0434\\u0430, \\u0437\\u0438\\u043c\\u0430, \\u043e\\u0441\\u0430\\u0434\\u043e\\u043a, \\u0442\\u0451\\u043f\\u043b\\u044b\\u0439\",\"<b>Topic 8</b><br>Words: \\u043c\\u0435\\u0442\\u0435\\u043e\\u0440\\u043e\\u043b\\u043e\\u0433\\u0438\\u0447\\u0435\\u0441\\u043a\\u0438\\u0439, \\u043b\\u0430\\u0439\\u0444, \\u0441\\u043d\\u0435\\u0433\\u043e\\u043f\\u0430\\u0434, \\u043d\\u0430\\u0434\\u0432\\u0438\\u0433\\u0430\\u0442\\u044c\\u0441\\u044f, \\u043f\\u043e\\u0433\\u043e\\u0434\\u0430\",\"<b>Topic 8</b><br>Words: \\u043a\\u0430\\u0442\\u043e\\u043a, \\u043b\\u0435\\u0434\\u043e\\u0432\\u044b\\u0439, \\u043b\\u0430\\u0439\\u0444, \\u0435\\u0441\\u0442\\u0435\\u0441\\u0442\\u0432\\u0435\\u043d\\u043d\\u044b\\u0439, \\u043f\\u043e\\u0433\\u043e\\u0434\\u0430\",\"<b>Topic 8</b><br>Words: \\u043f\\u043e\\u0433\\u043e\\u0434\\u0430, \\u043b\\u0430\\u0439\\u0444, \\u043c\\u043e\\u0440\\u043e\\u0437\\u044b, \\u043d\\u0430\\u0445\\u043e\\u0434\\u0438\\u0442\\u0441\\u044f\\u0432\\u0430\\u0436\\u043d\\u043e, \\u0437\\u0430\\u0442\\u0430\\u043f\\u043b\\u0438\\u0432\\u0430\\u0442\\u044c\",\"<b>Topic 8</b><br>Words: \\u043b\\u0430\\u0439\\u0444, \\u043f\\u043e\\u0433\\u043e\\u0434\\u0430, \\u0437\\u0438\\u043c\\u0430, \\u043f\\u0440\\u043e\\u0433\\u043d\\u043e\\u0437, \\u043e\\u0434\\u0435\\u0436\\u0434\\u0430\",\"<b>Topic 8</b><br>Words: \\u043b\\u0430\\u0439\\u0444, \\u043f\\u043e\\u0433\\u043e\\u0434\\u0430, \\u043e\\u0441\\u0430\\u0434\\u043e\\u043a, \\u043c\\u043c, \\u043b\\u0435\\u0434\\u044f\\u043d\\u043e\\u0439\",\"<b>Topic 8</b><br>Words: \\u043f\\u043e\\u0433\\u043e\\u0434\\u0430, \\u043b\\u0430\\u0439\\u0444, \\u043b\\u0435\\u0434\\u044f\\u043d\\u043e\\u0439, \\u0442\\u0435\\u043c\\u043f\\u0435\\u0440\\u0430\\u0442\\u0443\\u0440\\u0430, \\u0442\\u0440\\u043e\\u043f\\u0438\\u0447\\u0435\\u0441\\u043a\\u0438\\u0439\",\"<b>Topic 8</b><br>Words: \\u0441\\u043d\\u0435\\u0433\\u043e\\u043f\\u0430\\u0434\\u043b\\u044b, \\u043b\\u0430\\u0439\\u0444, \\u043f\\u043e\\u0432\\u0442\\u043e\\u0440\\u0438\\u0442\\u044c\\u0441\\u044f, \\u0441\\u0443\\u0431\\u0431\\u043e\\u0442\\u0430, \\u043f\\u043e\\u0433\\u043e\\u0434\\u0430\",\"<b>Topic 8</b><br>Words: \\u043b\\u0430\\u0439\\u0444, \\u043b\\u0435\\u0434\\u044f\\u043d\\u043e\\u0439, \\u043f\\u043e\\u0433\\u043e\\u0434\\u0430, \\u0434\\u043e\\u0436\\u0434\\u044c, \\u043c\\u043e\\u0440\\u043e\\u0437\",\"<b>Topic 8</b><br>Words: \\u043f\\u043e\\u0433\\u043e\\u0434\\u0430, \\u043b\\u0430\\u0439\\u0444, \\u043e\\u0441\\u0430\\u0434\\u043e\\u043a, \\u0433\\u0440\\u0430\\u0434\\u0443\\u0441, \\u0442\\u0435\\u043c\\u043f\\u0435\\u0440\\u0430\\u0442\\u0443\\u0440\\u0430\"],\"marker\":{\"color\":\"#56B4E9\"},\"mode\":\"lines\",\"name\":\"8_\\u043b\\u0430\\u0439\\u0444_\\u043f\\u043e\\u0433\\u043e\\u0434\\u0430_\\u0437\\u0438\\u043c\\u0430_\\u043b\\u0435\\u0434\\u044f\\u043d\\u043e\\u0439\",\"x\":[\"2022-10-07T21:59:02.400000\",\"2022-10-13T14:24:00\",\"2022-10-19T04:48:00\",\"2022-10-24T19:12:00\",\"2022-10-30T09:36:00\",\"2022-11-05T00:00:00\",\"2022-11-10T14:24:00\",\"2022-11-16T04:48:00\",\"2022-11-21T19:12:00\",\"2022-11-27T09:36:00\",\"2022-12-03T00:00:00\",\"2022-12-08T14:24:00\",\"2022-12-14T04:48:00\",\"2022-12-19T19:12:00\",\"2022-12-25T09:36:00\"],\"y\":[6,1,3,1,3,6,1,2,2,2,3,6,1,11,11],\"type\":\"scatter\"},{\"hoverinfo\":\"text\",\"hovertext\":[\"<b>Topic 9</b><br>Words: \\u0438\\u0441\\u0441\\u043b\\u0435\\u0434\\u043e\\u0432\\u0430\\u043d\\u0438\\u0435, \\u0432\\u0438\\u0440\\u0443\\u0441, \\u043f\\u0430\\u043d\\u0434\\u0435\\u043c\\u0438\\u044f, \\u043b\\u0430\\u0431\\u043e\\u0440\\u0430\\u0442\\u043e\\u0440\\u0438\\u044f, \\u0448\\u0442\\u0430\\u043c\\u043c\",\"<b>Topic 9</b><br>Words: \\u0447\\u0435\\u043b\\u043e\\u0432\\u0435\\u043a\\u043e\\u043e\\u043d, \\u0432\\u0438\\u0440\\u0443\\u0441\\u043e\\u0442, \\u043a\\u043e\\u0440\\u043e\\u043d\\u0430\\u0432\\u0438\\u0440\\u0443\\u0441\\u0430\\u0441\\u0448\\u0430, covid\\u043f\\u043e\\u0434, \\u0438\\u0441\\u043a\\u0443\\u0441\\u0441\\u0442\\u0432\\u0435\\u043d\\u043d\\u043e\\u0443\\u0447\\u0451\\u043d\\u044b\\u0435\",\"<b>Topic 9</b><br>Words: \\u0432\\u0438\\u0440\\u0443\\u0441\\u043e\\u043b\\u043e\\u0433, \\u044d\\u043a\\u0441\\u043f\\u0435\\u0440\\u0442, \\u043f\\u0435\\u0440\\u0435\\u043a\\u0432\\u0430\\u043b\\u0438\\u0444\\u0438\\u0446\\u0438\\u0440\\u043e\\u0432\\u0430\\u0442\\u044c\\u0441\\u044f, \\u043a\\u043e\\u0440\\u043e\\u043d\\u0430\\u0432\\u0438\\u0440\\u0443\\u0441, \\u044d\\u043a\\u0441\\u0442\\u0440\\u0435\\u043d\\u043d\\u043e\",\"<b>Topic 9</b><br>Words: \\u0441\\u0440\\u0430\\u0432\\u043d\\u0435\\u043d\\u0438\\u0435, \\u043d\\u043e\\u044f\\u0431\\u0440\\u044c, \\u043b\\u0435\\u0442\\u0430\\u043b\\u044c\\u043d\\u044b\\u0439, \\u0432\\u044b\\u0437\\u0434\\u043e\\u0440\\u043e\\u0432\\u043b\\u0435\\u043d\\u0438\\u0435, \\u0432\\u044b\\u043f\\u0438\\u0441\\u0430\\u0442\\u044c\",\"<b>Topic 9</b><br>Words: \\u043a\\u043e\\u0440\\u043e\\u043d\\u0430\\u0432\\u0438\\u0440\\u0443\\u0441, \\u0438\\u0441\\u0441\\u043b\\u0435\\u0434\\u043e\\u0432\\u0430\\u043d\\u0438\\u0435\\u043c\\u043f\\u0440\\u043e\\u043c\\u0435\\u0436\\u0443\\u0442\\u043e\\u0447\\u043d\\u044b\\u0439, \\u0442\\u0435\\u0441\\u0442\\u0438\\u0440\\u043e\\u0432\\u0430\\u043b\\u0438\\u043c\\u0438\\u043d\\u043e\\u0431\\u043e\\u0440\\u043e\\u043d\\u044b, \\u043f\\u0430\\u043d\\u0434\\u0435\\u043c\\u0438\\u044f, \\u0441\\u0435\\u043d\\u0430\\u0442\",\"<b>Topic 9</b><br>Words: \\u043f\\u0440\\u043e\\u0442\\u0438\\u0432\\u043e\\u0432\\u0438\\u0440\\u0443\\u0441\\u043d\\u044b\\u0439, \\u043a\\u0435\\u0440\\u0430\\u0442\\u0438\\u0442\\u0435, \\u043a\\u043e\\u043d\\u044a\\u044e\\u043d\\u043a\\u0442\\u0438\\u0432\\u0438\\u0442, \\u0438\\u043d\\u0442\\u0435\\u0440\\u0444\\u0435\\u0440\\u043e\\u043d\\u0430, \\u0434\\u043e\\u043a\\u043b\\u0438\\u043d\\u0438\\u0447\\u0435\\u0441\\u043a\\u0438\\u0439\",\"<b>Topic 9</b><br>Words: \\u0433\\u0440\\u0438\\u043f\\u043f, \\u0432\\u0438\\u0440\\u0443\\u0441, \\u0437\\u0430\\u0431\\u043e\\u043b\\u0435\\u0442\\u044c, \\u0441\\u0432\\u0438\\u043d\\u043e\\u0439, \\u0442\\u0430\\u043c\\u0438\\u0444\\u043b\\u044e\",\"<b>Topic 9</b><br>Words: \\u0433\\u0440\\u0438\\u043f\\u043f, \\u0434\\u0435\\u0437\\u0438\\u043d\\u0444\\u0435\\u043a\\u0446\\u0438\\u043e\\u043d\\u043d\\u044b\\u0439, \\u043e\\u0440\\u0433\\u0430\\u043d\\u0438\\u0437\\u0430\\u0446\\u0438\\u0439\\u043e\\u0431\\u0435\\u0441\\u043f\\u0435\\u0447\\u0438\\u0442\\u044c, \\u043a\\u0440\\u0430\\u0442\\u043d\\u043e\\u0441\\u0442\\u044c, \\u0440\\u0435\\u043a\\u043e\\u0440\\u0434\\u043f\\u0443\\u0442\\u0438\\u043d\",\"<b>Topic 9</b><br>Words: \\u0433\\u0440\\u0438\\u043f\\u043f, \\u0432\\u0438\\u0440\\u0443\\u0441, \\u0437\\u0430\\u0431\\u043e\\u043b\\u0435\\u0432\\u0430\\u0435\\u043c\\u043e\\u0441\\u0442\\u044c, \\u043e\\u0440\\u0432\\u0438, \\u0440\\u043e\\u0441\\u043f\\u043e\\u0442\\u0440\\u0435\\u0431\\u043d\\u0430\\u0434\\u0437\\u043e\\u0440\",\"<b>Topic 9</b><br>Words: \\u043a\\u043e\\u0440\\u043e\\u043d\\u0430\\u0432\\u0438\\u0440\\u0443\\u0441, \\u0433\\u0440\\u0438\\u043f\\u043f, \\u0438\\u043d\\u0444\\u0435\\u043a\\u0446\\u0438\\u044f, \\u043c\\u0435\\u0434\\u0443\\u0447\\u0440\\u0435\\u0436\\u0434\\u0435\\u043d\\u0438\\u0435, \\u0440\\u0430\\u0441\\u043f\\u0440\\u043e\\u0441\\u0442\\u0440\\u0430\\u043d\\u0435\\u043d\\u0438\\u0435\"],\"marker\":{\"color\":\"#009E73\"},\"mode\":\"lines\",\"name\":\"9_\\u0433\\u0440\\u0438\\u043f\\u043f_\\u0432\\u0438\\u0440\\u0443\\u0441_\\u043a\\u043e\\u0440\\u043e\\u043d\\u0430\\u0432\\u0438\\u0440\\u0443\\u0441_\\u0437\\u0430\\u0431\\u043e\\u043b\\u0435\\u0442\\u044c\",\"x\":[\"2022-10-13T14:24:00\",\"2022-10-24T19:12:00\",\"2022-10-30T09:36:00\",\"2022-11-05T00:00:00\",\"2022-11-21T19:12:00\",\"2022-12-03T00:00:00\",\"2022-12-08T14:24:00\",\"2022-12-14T04:48:00\",\"2022-12-19T19:12:00\",\"2022-12-25T09:36:00\"],\"y\":[1,1,1,1,2,1,6,2,2,2],\"type\":\"scatter\"},{\"hoverinfo\":\"text\",\"hovertext\":[\"<b>Topic 10</b><br>Words: \\u043f\\u0430\\u0441\\u043f\\u043e\\u0440\\u0442\\u0430\\u043c\\u0438\\u0441\\u043c\\u0438, \\u0431\\u0435\\u0437\\u0432\\u0438\\u0437\\u043e\\u0432\\u044b\\u0439, \\u0441\\u043b\\u0443\\u0436\\u0435\\u0431\\u043d\\u044b\\u0439, \\u043f\\u0440\\u0438\\u043e\\u0441\\u0442\\u0430\\u043d\\u043e\\u0432\\u0438\\u0442\\u044c, \\u0432\\u044a\\u0435\\u0437\\u0434\",\"<b>Topic 10</b><br>Words: \\u043f\\u0430\\u0441\\u043f\\u043e\\u0440\\u0442, \\u0433\\u0440\\u0430\\u0436\\u0434\\u0430\\u043d\\u0441\\u0442\\u0432\\u043e, \\u0437\\u0430\\u044f\\u0432\\u043b\\u0435\\u043d\\u0438\\u0435, \\u0440\\u043e\\u0441\\u0441\\u0438\\u0439\\u0441\\u043a\\u0438\\u0439, \\u043e\\u0442\\u043c\\u0435\\u0442\\u043a\\u0430\",\"<b>Topic 10</b><br>Words: \\u043f\\u0430\\u0441\\u043f\\u043e\\u0440\\u0442, \\u043f\\u043e\\u043b\\u0443\\u0447\\u0438\\u0442\\u044c\\u044d\\u0442\\u043e\\u0442, \\u0443\\u043f\\u0440\\u043e\\u0441\\u0442\\u0438\\u0442\\u044c, \\u0441\\u043e\\u043b\\u043e\\u0432\\u044c\\u0435\\u0432, \\u043f\\u043e\\u0434\\u0430\\u0442\\u044c\",\"<b>Topic 10</b><br>Words: \\u0438\\u0441\\u0445\\u043e\\u0434, \\u043f\\u0430\\u0441\\u043f\\u043e\\u0440\\u0442, \\u0438\\u0432\\u0440\\u0438\\u0442\\u0435, \\u044d\\u043c\\u0438\\u0433\\u0440\\u0430\\u043d\\u0442, \\u0444\\u0438\\u0437\\u0438\\u0447\\u0435\\u0441\\u043a\\u0438\\u0439\",\"<b>Topic 10</b><br>Words: \\u0433\\u0440\\u0430\\u0436\\u0434\\u0430\\u043d\\u0441\\u0442\\u0432\\u043e, \\u0442\\u0438\\u043d\\u044c\\u043a\\u043e\\u0432, \\u0434\\u043e\\u0436\\u0434\\u0430\\u0442\\u044c\\u0441\\u044f, \\u043f\\u0430\\u0441\\u043f\\u043e\\u0440\\u0442, \\u0440\\u043e\\u0441\\u0441\\u0438\\u0439\\u0441\\u043a\\u0438\\u0439\",\"<b>Topic 10</b><br>Words: \\u0444\\u0435\\u0434\\u0435\\u0440\\u0430\\u0446\\u0438\\u044f, \\u0433\\u0440\\u0430\\u0436\\u0434\\u0430\\u043d\\u0441\\u0442\\u0432\\u043e, \\u0440\\u043e\\u0441\\u0441\\u0438\\u0439\\u0441\\u043a\\u0438\\u0439, \\u0441\\u043e\\u0432\\u0435\\u0440\\u0448\\u0435\\u043d\\u0438\\u0435, \\u0441\\u043e\\u0437\\u0434\\u0430\\u0432\\u0430\\u0442\\u044c\",\"<b>Topic 10</b><br>Words: \\u0433\\u0440\\u0430\\u0436\\u0434\\u0430\\u043d\\u0441\\u0442\\u0432\\u043e, \\u0441\\u043e\\u043e\\u0442\\u0435\\u0447\\u0435\\u0441\\u0442\\u0432\\u0435\\u043d\\u043d\\u0438\\u043a, \\u0431\\u0435\\u043b\\u0430\\u0440\\u0443\\u0441\\u0438\\u043c\\u0432\\u0434, \\u043a\\u0430\\u0437\\u0430\\u043a\\u043e\\u0432\\u0430\\u043f\\u043e\\u0434\\u043f\\u0438\\u0441\\u0430\\u0442\\u044c\\u0441\\u044f, \\u0440\\u043e\\u0441\\u0441\\u0438\\u0439\\u0441\\u043a\\u0438\\u0439\",\"<b>Topic 10</b><br>Words: \\u043f\\u0430\\u0441\\u043f\\u043e\\u0440\\u0442, \\u0441\\u043d\\u043e\\u0443\\u0434\\u0435\\u043d, \\u044d\\u0434\\u0432\\u0430\\u0440\\u0434, \\u043c\\u0438\\u043d\\u044e\\u0441\\u0442, \\u043f\\u0440\\u0438\\u0441\\u044f\\u0433\\u0430\",\"<b>Topic 10</b><br>Words: \\u044e\\u0440\\u043b\\u0438\\u0446\\u0430, \\u043f\\u0440\\u0435\\u0434\\u0443\\u0441\\u043c\\u0430\\u0442\\u0440\\u0438\\u0432\\u0430\\u0442\\u044c, \\u043e\\u0431\\u044a\\u044f\\u0432\\u043b\\u0435\\u043d\\u0438\\u0435, \\u0441\\u0435\\u0440\\u0432\\u0438\\u0441, \\u0432\\u043b\\u0430\\u0434\\u0435\\u043b\\u0435\\u0446\",\"<b>Topic 10</b><br>Words: \\u043f\\u0430\\u0441\\u043f\\u043e\\u0440\\u0442, \\u0433\\u0440\\u0430\\u0436\\u0434\\u0430\\u043d\\u0441\\u0442\\u0432\\u043e, \\u0443\\u043a\\u0440\\u0430\\u0438\\u043d\\u044b\\u0434\\u043e\\u043a\\u0443\\u043c\\u0435\\u043d\\u0442, \\u0437\\u0430\\u044f\\u0432\\u043b\\u0435\\u043d\\u0438\\u0435, \\u043f\\u0443\\u0442\\u0438\\u043d\\u0430tmervvoenkor\"],\"marker\":{\"color\":\"#F0E442\"},\"mode\":\"lines\",\"name\":\"10_\\u043f\\u0430\\u0441\\u043f\\u043e\\u0440\\u0442_\\u0433\\u0440\\u0430\\u0436\\u0434\\u0430\\u043d\\u0441\\u0442\\u0432\\u043e_\\u0440\\u043e\\u0441\\u0441\\u0438\\u0439\\u0441\\u043a\\u0438\\u0439_\\u0444\\u0435\\u0434\\u0435\\u0440\\u0430...\",\"x\":[\"2022-10-07T21:59:02.400000\",\"2022-10-13T14:24:00\",\"2022-10-19T04:48:00\",\"2022-10-24T19:12:00\",\"2022-10-30T09:36:00\",\"2022-11-10T14:24:00\",\"2022-11-21T19:12:00\",\"2022-11-27T09:36:00\",\"2022-12-19T19:12:00\",\"2022-12-25T09:36:00\"],\"y\":[1,2,1,1,4,1,1,2,1,2],\"type\":\"scatter\"},{\"hoverinfo\":\"text\",\"hovertext\":[\"<b>Topic 11</b><br>Words: \\u043a\\u043e\\u0440\\u0435\\u044f, \\u044e\\u0436\\u043d\\u044b\\u0439, \\u0437\\u0430\\u043f\\u0443\\u0441\\u043a, \\u0443\\u0447\\u0435\\u043d\\u0438\\u0435, \\u0430\\u0443\\u0433\",\"<b>Topic 11</b><br>Words: \\u043a\\u043e\\u0440\\u0435\\u044f, \\u044e\\u0436\\u043d\\u044b\\u0439, \\u0438\\u0441\\u043f\\u044b\\u0442\\u0430\\u043d\\u0438\\u0435\\u0437\\u0430\\u043c\\u0433\\u043b\\u0430\\u0432\\u044b, \\u043a\\u043d\\u0434\\u0440, \\u0441\\u0435\\u0434\\u044c\\u043c\\u043e\\u0439\",\"<b>Topic 11</b><br>Words: \\u043a\\u043e\\u0440\\u0435\\u044f, \\u0441\\u0430\\u043c\\u043e\\u043b\\u0435\\u0442\\u043e\\u0432\\u0440\\u0451\\u043d\\u0445\\u0430\\u043f, \\u0441\\u0435\\u0432\\u0435\\u0440\\u043e\\u043a\\u043e\\u0440\\u0435\\u0439\\u0441\\u043a\\u043e\\u0433\\u043e, \\u0441\\u0435\\u0432\\u0435\\u0440\\u043e\\u043a\\u043e\\u0440\\u0435\\u0439\\u0441\\u043a\\u0438\\u0445, \\u043f\\u0440\\u0438\\u0432\\u0435\\u0434\\u0435\\u043d\\u0438\\u0435\",\"<b>Topic 11</b><br>Words: \\u0441\\u0435\\u0432\\u0435\\u0440\\u043e\\u043a\\u043e\\u0440\\u0435\\u0439\\u0441\\u043a\\u0438\\u0435, \\u043c\\u0431\\u0440, \\u0438\\u0441\\u043f\\u044b\\u0442\\u0430\\u043d\\u0438\\u0435, \\u0432\\u0438\\u0434\\u043d\\u044b\\u0439, \\u043f\\u0443\\u0441\\u043a\",\"<b>Topic 11</b><br>Words: \\u043a\\u043e\\u0440\\u0435\\u044f, hwasong, \\u0441\\u0448\\u0430hwasong, \\u043e\\u0442\\u0440\\u044b\\u0432, york\",\"<b>Topic 11</b><br>Words: \\u043a\\u043e\\u0440\\u0435\\u044f, \\u043a\\u043d\\u0434\\u0440, \\u0438\\u0441\\u043f\\u044b\\u0442\\u0430\\u0442\\u044c, \\u0438\\u0441\\u043f\\u044b\\u0442\\u0430\\u043d\\u0438\\u0435, \\u043d\\u043e\\u0432\\u044b\\u0439\",\"<b>Topic 11</b><br>Words: \\u043a\\u043e\\u0440\\u0435\\u044f, \\u044e\\u0436\\u043d\\u044b\\u0439, \\u043a\\u043d\\u0434\\u0440, \\u0440\\u0430\\u0437\\u0431\\u0438\\u0442\\u044c\\u0441\\u044f, \\u044e\\u0436\\u043d\\u043e\\u043a\\u043e\\u0440\\u0435\\u0439\\u0441\\u043a\\u0438\\u0439\"],\"marker\":{\"color\":\"#D55E00\"},\"mode\":\"lines\",\"name\":\"11_\\u043a\\u043e\\u0440\\u0435\\u044f_\\u044e\\u0436\\u043d\\u044b\\u0439_\\u043a\\u043d\\u0434\\u0440_\\u0438\\u0441\\u0442\\u0440\\u0435\\u0431\\u0438\\u0442\\u0435\\u043b\\u044c\",\"x\":[\"2022-10-07T21:59:02.400000\",\"2022-10-24T19:12:00\",\"2022-10-30T09:36:00\",\"2022-11-05T00:00:00\",\"2022-12-08T14:24:00\",\"2022-12-14T04:48:00\",\"2022-12-25T09:36:00\"],\"y\":[1,1,2,1,1,1,6],\"type\":\"scatter\"},{\"hoverinfo\":\"text\",\"hovertext\":[\"<b>Topic 12</b><br>Words: \\u043c\\u0435\\u0434\\u0432\\u0435\\u0434\\u0435\\u0432, \\u0440\\u043e\\u0437\\u044b\\u0441\\u043a, \\u0442\\u0435\\u0440\\u0440\\u043e\\u0440\\u0438\\u0441\\u0442, \\u043f\\u0440\\u0435\\u0441\\u0442\\u0443\\u043f\\u043b\\u0435\\u043d\\u0438\\u0435, \\u043e\\u0431\\u044a\\u044f\\u0432\\u0438\\u0442\\u044c\",\"<b>Topic 12</b><br>Words: \\u043c\\u0435\\u0434\\u0432\\u0435\\u0434\\u0435\\u0432, \\u043f\\u0440\\u0435\\u0434\\u043f\\u0440\\u0438\\u044f\\u0442\\u0438\\u0435, \\u043f\\u0440\\u043e\\u0438\\u0437\\u0432\\u043e\\u0434\\u0441\\u0442\\u0432\\u043e, \\u0431\\u043f\\u043b\\u0430, \\u043c\\u0435\\u0434\\u0432\\u0435\\u0434\\u044c\",\"<b>Topic 12</b><br>Words: \\u043c\\u0435\\u0434\\u0432\\u0435\\u0434\\u0435\\u0432, \\u0441\\u0432\\u043e\\u0438\\u0441\\u0442\\u043e\\u0447\\u043d\\u0438\\u043a, \\u0438\\u043b\\u043e\\u043d\\u0443, \\u043c\\u0435\\u0434\\u0432\\u0435\\u0436\\u0438\\u0439, \\u043c\\u0430\\u0441\\u043a\\u0430\",\"<b>Topic 12</b><br>Words: \\u043c\\u0435\\u0434\\u0432\\u0435\\u0434\\u044c, \\u043f\\u0440\\u043e\\u0435\\u043a\\u0446\\u0438\\u044f, \\u0441\\u0443\\u0434\\u043d\\u044b\\u0439, \\u0441\\u0442\\u0440\\u0435\\u043b\\u043a\\u0430, \\u043c\\u0435\\u0434\\u0432\\u0435\\u0434\\u0435\\u0432\",\"<b>Topic 12</b><br>Words: \\u043c\\u0435\\u0434\\u0432\\u0435\\u0434\\u044c, \\u0430\\u0432\\u0435, \\u0434\\u0436\\u043e\\u043a\\u0435\\u0440, \\u0437\\u0430\\u043b\\u0443\\u0436\\u043d\\u043e\\u0433\\u043e, \\u0432\\u0437\\u043b\\u043e\\u043c\\u0430\\u0442\\u044c\",\"<b>Topic 12</b><br>Words: \\u043c\\u0435\\u0434\\u0432\\u0435\\u0434\\u0435\\u0432, \\u0441\\u0434\\u0435\\u0440\\u0436\\u0430\\u043d\\u043d\\u043e, \\u0437\\u0430\\u043c\\u043f\\u0440\\u0435\\u0434, \\u0432\\u044b\\u0441\\u043a\\u0430\\u0437\\u0430\\u0442\\u044c\\u0441\\u044f, \\u0441\\u043e\\u0432\\u0431\\u0435\\u0437\",\"<b>Topic 12</b><br>Words: \\u043c\\u0435\\u0434\\u0432\\u0435\\u0434\\u0447\\u0443\\u043a, \\u043c\\u0435\\u0434\\u0432\\u0435\\u0434\\u0435\\u0432, \\u043c\\u0430\\u0440\\u0442, \\u044f\\u043b\\u0442\\u0435\\u0432\\u043e\\u043f\\u0440\\u043e\\u0441, \\u0437\\u0430\\u0432\\u0438\\u0441\\u0430\\u0442\\u044c\",\"<b>Topic 12</b><br>Words: \\u043c\\u0435\\u0434\\u0432\\u0435\\u0434\\u0435\\u0432, \\u0444\\u0438\\u0437\\u0438\\u0447\\u0435\\u0441\\u043a\\u0438\\u0439, \\u043d\\u0430\\u0440\\u0430\\u0449\\u0438\\u0432\\u0430\\u0442\\u044c, \\u043f\\u0440\\u0438\\u043d\\u0446\\u0438\\u043f, \\u043f\\u0440\\u043e\\u0438\\u0437\\u0432\\u043e\\u0434\\u0441\\u0442\\u0432\\u043e\",\"<b>Topic 12</b><br>Words: \\u043c\\u0435\\u0434\\u0432\\u0435\\u0434\\u0435\\u0432, \\u043c\\u0435\\u0434\\u0432\\u0435\\u0434\\u044c, \\u0432\\u0441\\u0443\\u043e\\u0441\\u0442\\u043e\\u0440\\u043e\\u0436\\u043d\\u043e, \\u043a\\u0430\\u0434\\u0440, \\u0447\\u0435\\u0440\\u0432\\u043e\\u043d\\u043e\\u043f\\u043e\\u043f\\u043e\\u0432\\u043a\\u0438\"],\"marker\":{\"color\":\"#0072B2\"},\"mode\":\"lines\",\"name\":\"12_\\u043c\\u0435\\u0434\\u0432\\u0435\\u0434\\u0435\\u0432_\\u043c\\u0435\\u0434\\u0432\\u0435\\u0434\\u044c_\\u043c\\u0435\\u0434\\u0432\\u0435\\u0434\\u0447\\u0443\\u043a_\\u043f\\u0440\\u043e\\u0438\\u0437\\u0432\\u043e\\u0434\\u0441\\u0442...\",\"x\":[\"2022-10-07T21:59:02.400000\",\"2022-10-13T14:24:00\",\"2022-10-19T04:48:00\",\"2022-10-24T19:12:00\",\"2022-10-30T09:36:00\",\"2022-11-05T00:00:00\",\"2022-11-21T19:12:00\",\"2022-12-08T14:24:00\",\"2022-12-25T09:36:00\"],\"y\":[2,1,2,1,1,1,2,1,2],\"type\":\"scatter\"}],                        {\"template\":{\"data\":{\"barpolar\":[{\"marker\":{\"line\":{\"color\":\"white\",\"width\":0.5},\"pattern\":{\"fillmode\":\"overlay\",\"size\":10,\"solidity\":0.2}},\"type\":\"barpolar\"}],\"bar\":[{\"error_x\":{\"color\":\"rgb(36,36,36)\"},\"error_y\":{\"color\":\"rgb(36,36,36)\"},\"marker\":{\"line\":{\"color\":\"white\",\"width\":0.5},\"pattern\":{\"fillmode\":\"overlay\",\"size\":10,\"solidity\":0.2}},\"type\":\"bar\"}],\"carpet\":[{\"aaxis\":{\"endlinecolor\":\"rgb(36,36,36)\",\"gridcolor\":\"white\",\"linecolor\":\"white\",\"minorgridcolor\":\"white\",\"startlinecolor\":\"rgb(36,36,36)\"},\"baxis\":{\"endlinecolor\":\"rgb(36,36,36)\",\"gridcolor\":\"white\",\"linecolor\":\"white\",\"minorgridcolor\":\"white\",\"startlinecolor\":\"rgb(36,36,36)\"},\"type\":\"carpet\"}],\"choropleth\":[{\"colorbar\":{\"outlinewidth\":1,\"tickcolor\":\"rgb(36,36,36)\",\"ticks\":\"outside\"},\"type\":\"choropleth\"}],\"contourcarpet\":[{\"colorbar\":{\"outlinewidth\":1,\"tickcolor\":\"rgb(36,36,36)\",\"ticks\":\"outside\"},\"type\":\"contourcarpet\"}],\"contour\":[{\"colorbar\":{\"outlinewidth\":1,\"tickcolor\":\"rgb(36,36,36)\",\"ticks\":\"outside\"},\"colorscale\":[[0.0,\"#440154\"],[0.1111111111111111,\"#482878\"],[0.2222222222222222,\"#3e4989\"],[0.3333333333333333,\"#31688e\"],[0.4444444444444444,\"#26828e\"],[0.5555555555555556,\"#1f9e89\"],[0.6666666666666666,\"#35b779\"],[0.7777777777777778,\"#6ece58\"],[0.8888888888888888,\"#b5de2b\"],[1.0,\"#fde725\"]],\"type\":\"contour\"}],\"heatmapgl\":[{\"colorbar\":{\"outlinewidth\":1,\"tickcolor\":\"rgb(36,36,36)\",\"ticks\":\"outside\"},\"colorscale\":[[0.0,\"#440154\"],[0.1111111111111111,\"#482878\"],[0.2222222222222222,\"#3e4989\"],[0.3333333333333333,\"#31688e\"],[0.4444444444444444,\"#26828e\"],[0.5555555555555556,\"#1f9e89\"],[0.6666666666666666,\"#35b779\"],[0.7777777777777778,\"#6ece58\"],[0.8888888888888888,\"#b5de2b\"],[1.0,\"#fde725\"]],\"type\":\"heatmapgl\"}],\"heatmap\":[{\"colorbar\":{\"outlinewidth\":1,\"tickcolor\":\"rgb(36,36,36)\",\"ticks\":\"outside\"},\"colorscale\":[[0.0,\"#440154\"],[0.1111111111111111,\"#482878\"],[0.2222222222222222,\"#3e4989\"],[0.3333333333333333,\"#31688e\"],[0.4444444444444444,\"#26828e\"],[0.5555555555555556,\"#1f9e89\"],[0.6666666666666666,\"#35b779\"],[0.7777777777777778,\"#6ece58\"],[0.8888888888888888,\"#b5de2b\"],[1.0,\"#fde725\"]],\"type\":\"heatmap\"}],\"histogram2dcontour\":[{\"colorbar\":{\"outlinewidth\":1,\"tickcolor\":\"rgb(36,36,36)\",\"ticks\":\"outside\"},\"colorscale\":[[0.0,\"#440154\"],[0.1111111111111111,\"#482878\"],[0.2222222222222222,\"#3e4989\"],[0.3333333333333333,\"#31688e\"],[0.4444444444444444,\"#26828e\"],[0.5555555555555556,\"#1f9e89\"],[0.6666666666666666,\"#35b779\"],[0.7777777777777778,\"#6ece58\"],[0.8888888888888888,\"#b5de2b\"],[1.0,\"#fde725\"]],\"type\":\"histogram2dcontour\"}],\"histogram2d\":[{\"colorbar\":{\"outlinewidth\":1,\"tickcolor\":\"rgb(36,36,36)\",\"ticks\":\"outside\"},\"colorscale\":[[0.0,\"#440154\"],[0.1111111111111111,\"#482878\"],[0.2222222222222222,\"#3e4989\"],[0.3333333333333333,\"#31688e\"],[0.4444444444444444,\"#26828e\"],[0.5555555555555556,\"#1f9e89\"],[0.6666666666666666,\"#35b779\"],[0.7777777777777778,\"#6ece58\"],[0.8888888888888888,\"#b5de2b\"],[1.0,\"#fde725\"]],\"type\":\"histogram2d\"}],\"histogram\":[{\"marker\":{\"line\":{\"color\":\"white\",\"width\":0.6}},\"type\":\"histogram\"}],\"mesh3d\":[{\"colorbar\":{\"outlinewidth\":1,\"tickcolor\":\"rgb(36,36,36)\",\"ticks\":\"outside\"},\"type\":\"mesh3d\"}],\"parcoords\":[{\"line\":{\"colorbar\":{\"outlinewidth\":1,\"tickcolor\":\"rgb(36,36,36)\",\"ticks\":\"outside\"}},\"type\":\"parcoords\"}],\"pie\":[{\"automargin\":true,\"type\":\"pie\"}],\"scatter3d\":[{\"line\":{\"colorbar\":{\"outlinewidth\":1,\"tickcolor\":\"rgb(36,36,36)\",\"ticks\":\"outside\"}},\"marker\":{\"colorbar\":{\"outlinewidth\":1,\"tickcolor\":\"rgb(36,36,36)\",\"ticks\":\"outside\"}},\"type\":\"scatter3d\"}],\"scattercarpet\":[{\"marker\":{\"colorbar\":{\"outlinewidth\":1,\"tickcolor\":\"rgb(36,36,36)\",\"ticks\":\"outside\"}},\"type\":\"scattercarpet\"}],\"scattergeo\":[{\"marker\":{\"colorbar\":{\"outlinewidth\":1,\"tickcolor\":\"rgb(36,36,36)\",\"ticks\":\"outside\"}},\"type\":\"scattergeo\"}],\"scattergl\":[{\"marker\":{\"colorbar\":{\"outlinewidth\":1,\"tickcolor\":\"rgb(36,36,36)\",\"ticks\":\"outside\"}},\"type\":\"scattergl\"}],\"scattermapbox\":[{\"marker\":{\"colorbar\":{\"outlinewidth\":1,\"tickcolor\":\"rgb(36,36,36)\",\"ticks\":\"outside\"}},\"type\":\"scattermapbox\"}],\"scatterpolargl\":[{\"marker\":{\"colorbar\":{\"outlinewidth\":1,\"tickcolor\":\"rgb(36,36,36)\",\"ticks\":\"outside\"}},\"type\":\"scatterpolargl\"}],\"scatterpolar\":[{\"marker\":{\"colorbar\":{\"outlinewidth\":1,\"tickcolor\":\"rgb(36,36,36)\",\"ticks\":\"outside\"}},\"type\":\"scatterpolar\"}],\"scatter\":[{\"fillpattern\":{\"fillmode\":\"overlay\",\"size\":10,\"solidity\":0.2},\"type\":\"scatter\"}],\"scatterternary\":[{\"marker\":{\"colorbar\":{\"outlinewidth\":1,\"tickcolor\":\"rgb(36,36,36)\",\"ticks\":\"outside\"}},\"type\":\"scatterternary\"}],\"surface\":[{\"colorbar\":{\"outlinewidth\":1,\"tickcolor\":\"rgb(36,36,36)\",\"ticks\":\"outside\"},\"colorscale\":[[0.0,\"#440154\"],[0.1111111111111111,\"#482878\"],[0.2222222222222222,\"#3e4989\"],[0.3333333333333333,\"#31688e\"],[0.4444444444444444,\"#26828e\"],[0.5555555555555556,\"#1f9e89\"],[0.6666666666666666,\"#35b779\"],[0.7777777777777778,\"#6ece58\"],[0.8888888888888888,\"#b5de2b\"],[1.0,\"#fde725\"]],\"type\":\"surface\"}],\"table\":[{\"cells\":{\"fill\":{\"color\":\"rgb(237,237,237)\"},\"line\":{\"color\":\"white\"}},\"header\":{\"fill\":{\"color\":\"rgb(217,217,217)\"},\"line\":{\"color\":\"white\"}},\"type\":\"table\"}]},\"layout\":{\"annotationdefaults\":{\"arrowhead\":0,\"arrowwidth\":1},\"autotypenumbers\":\"strict\",\"coloraxis\":{\"colorbar\":{\"outlinewidth\":1,\"tickcolor\":\"rgb(36,36,36)\",\"ticks\":\"outside\"}},\"colorscale\":{\"diverging\":[[0.0,\"rgb(103,0,31)\"],[0.1,\"rgb(178,24,43)\"],[0.2,\"rgb(214,96,77)\"],[0.3,\"rgb(244,165,130)\"],[0.4,\"rgb(253,219,199)\"],[0.5,\"rgb(247,247,247)\"],[0.6,\"rgb(209,229,240)\"],[0.7,\"rgb(146,197,222)\"],[0.8,\"rgb(67,147,195)\"],[0.9,\"rgb(33,102,172)\"],[1.0,\"rgb(5,48,97)\"]],\"sequential\":[[0.0,\"#440154\"],[0.1111111111111111,\"#482878\"],[0.2222222222222222,\"#3e4989\"],[0.3333333333333333,\"#31688e\"],[0.4444444444444444,\"#26828e\"],[0.5555555555555556,\"#1f9e89\"],[0.6666666666666666,\"#35b779\"],[0.7777777777777778,\"#6ece58\"],[0.8888888888888888,\"#b5de2b\"],[1.0,\"#fde725\"]],\"sequentialminus\":[[0.0,\"#440154\"],[0.1111111111111111,\"#482878\"],[0.2222222222222222,\"#3e4989\"],[0.3333333333333333,\"#31688e\"],[0.4444444444444444,\"#26828e\"],[0.5555555555555556,\"#1f9e89\"],[0.6666666666666666,\"#35b779\"],[0.7777777777777778,\"#6ece58\"],[0.8888888888888888,\"#b5de2b\"],[1.0,\"#fde725\"]]},\"colorway\":[\"#1F77B4\",\"#FF7F0E\",\"#2CA02C\",\"#D62728\",\"#9467BD\",\"#8C564B\",\"#E377C2\",\"#7F7F7F\",\"#BCBD22\",\"#17BECF\"],\"font\":{\"color\":\"rgb(36,36,36)\"},\"geo\":{\"bgcolor\":\"white\",\"lakecolor\":\"white\",\"landcolor\":\"white\",\"showlakes\":true,\"showland\":true,\"subunitcolor\":\"white\"},\"hoverlabel\":{\"align\":\"left\"},\"hovermode\":\"closest\",\"mapbox\":{\"style\":\"light\"},\"paper_bgcolor\":\"white\",\"plot_bgcolor\":\"white\",\"polar\":{\"angularaxis\":{\"gridcolor\":\"rgb(232,232,232)\",\"linecolor\":\"rgb(36,36,36)\",\"showgrid\":false,\"showline\":true,\"ticks\":\"outside\"},\"bgcolor\":\"white\",\"radialaxis\":{\"gridcolor\":\"rgb(232,232,232)\",\"linecolor\":\"rgb(36,36,36)\",\"showgrid\":false,\"showline\":true,\"ticks\":\"outside\"}},\"scene\":{\"xaxis\":{\"backgroundcolor\":\"white\",\"gridcolor\":\"rgb(232,232,232)\",\"gridwidth\":2,\"linecolor\":\"rgb(36,36,36)\",\"showbackground\":true,\"showgrid\":false,\"showline\":true,\"ticks\":\"outside\",\"zeroline\":false,\"zerolinecolor\":\"rgb(36,36,36)\"},\"yaxis\":{\"backgroundcolor\":\"white\",\"gridcolor\":\"rgb(232,232,232)\",\"gridwidth\":2,\"linecolor\":\"rgb(36,36,36)\",\"showbackground\":true,\"showgrid\":false,\"showline\":true,\"ticks\":\"outside\",\"zeroline\":false,\"zerolinecolor\":\"rgb(36,36,36)\"},\"zaxis\":{\"backgroundcolor\":\"white\",\"gridcolor\":\"rgb(232,232,232)\",\"gridwidth\":2,\"linecolor\":\"rgb(36,36,36)\",\"showbackground\":true,\"showgrid\":false,\"showline\":true,\"ticks\":\"outside\",\"zeroline\":false,\"zerolinecolor\":\"rgb(36,36,36)\"}},\"shapedefaults\":{\"fillcolor\":\"black\",\"line\":{\"width\":0},\"opacity\":0.3},\"ternary\":{\"aaxis\":{\"gridcolor\":\"rgb(232,232,232)\",\"linecolor\":\"rgb(36,36,36)\",\"showgrid\":false,\"showline\":true,\"ticks\":\"outside\"},\"baxis\":{\"gridcolor\":\"rgb(232,232,232)\",\"linecolor\":\"rgb(36,36,36)\",\"showgrid\":false,\"showline\":true,\"ticks\":\"outside\"},\"bgcolor\":\"white\",\"caxis\":{\"gridcolor\":\"rgb(232,232,232)\",\"linecolor\":\"rgb(36,36,36)\",\"showgrid\":false,\"showline\":true,\"ticks\":\"outside\"}},\"title\":{\"x\":0.05},\"xaxis\":{\"automargin\":true,\"gridcolor\":\"rgb(232,232,232)\",\"linecolor\":\"rgb(36,36,36)\",\"showgrid\":false,\"showline\":true,\"ticks\":\"outside\",\"title\":{\"standoff\":15},\"zeroline\":false,\"zerolinecolor\":\"rgb(36,36,36)\"},\"yaxis\":{\"automargin\":true,\"gridcolor\":\"rgb(232,232,232)\",\"linecolor\":\"rgb(36,36,36)\",\"showgrid\":false,\"showline\":true,\"ticks\":\"outside\",\"title\":{\"standoff\":15},\"zeroline\":false,\"zerolinecolor\":\"rgb(36,36,36)\"}}},\"xaxis\":{\"showgrid\":true},\"yaxis\":{\"showgrid\":true,\"title\":{\"text\":\"Frequency\"}},\"title\":{\"font\":{\"size\":22,\"color\":\"Black\"},\"text\":\"<b>Topics over Time</b>\",\"y\":0.95,\"x\":0.4,\"xanchor\":\"center\",\"yanchor\":\"top\"},\"hoverlabel\":{\"font\":{\"size\":16,\"family\":\"Rockwell\"},\"bgcolor\":\"white\"},\"width\":1250,\"height\":450,\"legend\":{\"title\":{\"text\":\"<b>Global Topic Representation\"}}},                        {\"responsive\": true}                    ).then(function(){\n",
       "                            \n",
       "var gd = document.getElementById('ac6972ca-8385-4ffd-a508-e4f685c889f9');\n",
       "var x = new MutationObserver(function (mutations, observer) {{\n",
       "        var display = window.getComputedStyle(gd).display;\n",
       "        if (!display || display === 'none') {{\n",
       "            console.log([gd, 'removed!']);\n",
       "            Plotly.purge(gd);\n",
       "            observer.disconnect();\n",
       "        }}\n",
       "}});\n",
       "\n",
       "// Listen for the removal of the full notebook cells\n",
       "var notebookContainer = gd.closest('#notebook-container');\n",
       "if (notebookContainer) {{\n",
       "    x.observe(notebookContainer, {childList: true});\n",
       "}}\n",
       "\n",
       "// Listen for the clearing of the current output cell\n",
       "var outputEl = gd.closest('.output');\n",
       "if (outputEl) {{\n",
       "    x.observe(outputEl, {childList: true});\n",
       "}}\n",
       "\n",
       "                        })                };                });            </script>        </div>"
      ]
     },
     "metadata": {},
     "output_type": "display_data"
    }
   ],
   "source": [
    "topics_over_time = topic_model.topics_over_time(russia_esc[\"processed_message\"], \n",
    "                                                russia_esc[\"post_date\"], \n",
    "                                                global_tuning=True,\n",
    "                                                evolution_tuning=True,\n",
    "                                                nr_bins=15)\n",
    "\n",
    "topic_model.visualize_topics_over_time(topics_over_time, top_n_topics=13)"
   ]
  }
 ],
 "metadata": {
  "kernelspec": {
   "display_name": "Python 3 (ipykernel)",
   "language": "python",
   "name": "python3"
  },
  "language_info": {
   "codemirror_mode": {
    "name": "ipython",
    "version": 3
   },
   "file_extension": ".py",
   "mimetype": "text/x-python",
   "name": "python",
   "nbconvert_exporter": "python",
   "pygments_lexer": "ipython3",
   "version": "3.9.13"
  }
 },
 "nbformat": 4,
 "nbformat_minor": 5
}
